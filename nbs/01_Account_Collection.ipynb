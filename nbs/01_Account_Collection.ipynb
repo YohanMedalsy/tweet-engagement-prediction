{
 "cells": [
  {
   "cell_type": "markdown",
   "metadata": {},
   "source": [
    "# Step 1: Assembling accounts for analysis\n",
    "\n",
    "One result of my masters thesis was that a large corpus of tweets is required to train complex deep neural networks for the task of tweet engagement prediction.\n",
    "Consequently, more accounts need to be considered for examination, as the time span should not be further expanded.\n",
    "\n",
    "The following steps will be undertaken in this notebook:\n",
    "1. Setup the API connection\n",
    "2. Get all existing users\n",
    "3. Add further tech accounts\n",
    "4. Add further journalism accounts\n",
    "5. Add further celebrity accounts\n",
    "\n",
    "## Setup API connection"
   ]
  },
  {
   "cell_type": "code",
   "execution_count": 1,
   "metadata": {},
   "outputs": [],
   "source": [
    "%load_ext autoreload\n",
    "%autoreload 2\n",
    "\n",
    "%matplotlib inline"
   ]
  },
  {
   "cell_type": "code",
   "execution_count": 2,
   "metadata": {},
   "outputs": [],
   "source": [
    "from tep.accountCollector import AccountCollector"
   ]
  },
  {
   "cell_type": "code",
   "execution_count": 3,
   "metadata": {},
   "outputs": [
    {
     "name": "stdout",
     "output_type": "stream",
     "text": [
      "{\"created_at\": \"Thu May 01 12:37:22 +0000 2014\", \"description\": \"Student of Information Systems @TUDarmstadt , co-founder of a small web agency. Interested in Machine Learning\", \"favourites_count\": 393, \"followers_count\": 57, \"friends_count\": 221, \"id\": 2472450259, \"id_str\": \"2472450259\", \"lang\": \"en\", \"listed_count\": 7, \"location\": \"Darmstadt, Deutschland\", \"name\": \"Felix Peters\", \"profile_background_color\": \"C0DEED\", \"profile_background_image_url\": \"http://abs.twimg.com/images/themes/theme1/bg.png\", \"profile_background_image_url_https\": \"https://abs.twimg.com/images/themes/theme1/bg.png\", \"profile_image_url\": \"http://pbs.twimg.com/profile_images/600953861629734913/7y_RkdW4_normal.jpg\", \"profile_image_url_https\": \"https://pbs.twimg.com/profile_images/600953861629734913/7y_RkdW4_normal.jpg\", \"profile_link_color\": \"224F82\", \"profile_sidebar_border_color\": \"C0DEED\", \"profile_sidebar_fill_color\": \"DDEEF6\", \"profile_text_color\": \"333333\", \"profile_use_background_image\": true, \"screen_name\": \"_fpeters\", \"status\": {\"created_at\": \"Sat May 26 15:47:34 +0000 2018\", \"id\": 1000403077093085192, \"id_str\": \"1000403077093085192\", \"lang\": \"en\", \"quoted_status_id\": 1000166112615714816, \"quoted_status_id_str\": \"1000166112615714816\", \"retweet_count\": 52, \"retweeted\": true, \"retweeted_status\": {\"created_at\": \"Sat May 26 11:38:56 +0000 2018\", \"favorite_count\": 81, \"id\": 1000340506189139968, \"id_str\": \"1000340506189139968\", \"lang\": \"en\", \"quoted_status_id\": 1000166112615714816, \"quoted_status_id_str\": \"1000166112615714816\", \"retweet_count\": 52, \"retweeted\": true, \"source\": \"<a href=\\\"http://twitter.com/download/iphone\\\" rel=\\\"nofollow\\\">Twitter for iPhone</a>\", \"text\": \"\\u201cThey went from a load time of more than 45 seconds to 3 seconds, from 124 JavaScript files to 0, and from a total\\u2026 https://t.co/PsmSKdMqXt\", \"truncated\": true}, \"source\": \"<a href=\\\"http://twitter.com/download/android\\\" rel=\\\"nofollow\\\">Twitter for Android</a>\", \"text\": \"RT @aallan: \\u201cThey went from a load time of more than 45 seconds to 3 seconds, from 124 JavaScript files to 0, and from a total of more than\\u2026\"}, \"statuses_count\": 424, \"url\": \"https://t.co/KAhh0Hxkzm\"}\n"
     ]
    }
   ],
   "source": [
    "ac = AccountCollector()"
   ]
  },
  {
   "cell_type": "markdown",
   "metadata": {},
   "source": [
    "## Get existing accounts"
   ]
  },
  {
   "cell_type": "code",
   "execution_count": 4,
   "metadata": {},
   "outputs": [
    {
     "data": {
      "text/plain": [
       "[List(ID=922818913909518338, FullName='@_fpeters/us-politicians', Slug=us-politicians, User=_fpeters),\n",
       " List(ID=922802414054461440, FullName='@_fpeters/celebrities', Slug=celebrities, User=_fpeters),\n",
       " List(ID=914828785647841280, FullName='@_fpeters/fortune-500', Slug=fortune-500, User=_fpeters)]"
      ]
     },
     "execution_count": 4,
     "metadata": {},
     "output_type": "execute_result"
    }
   ],
   "source": [
    "# retrieve all Twitter list for this account\n",
    "all_lists = ac.get_all_lists()\n",
    "all_lists"
   ]
  },
  {
   "cell_type": "code",
   "execution_count": 5,
   "metadata": {},
   "outputs": [
    {
     "data": {
      "text/plain": [
       "772"
      ]
     },
     "execution_count": 5,
     "metadata": {},
     "output_type": "execute_result"
    }
   ],
   "source": [
    "# get all users from these lists\n",
    "all_users = []\n",
    "for l in all_lists:\n",
    "    all_users += ac.get_users_from_list(l.id)\n",
    "len(all_users)"
   ]
  }
 ],
 "metadata": {
  "kernelspec": {
   "display_name": "Python 3",
   "language": "python",
   "name": "python3"
  },
  "language_info": {
   "codemirror_mode": {
    "name": "ipython",
    "version": 3
   },
   "file_extension": ".py",
   "mimetype": "text/x-python",
   "name": "python",
   "nbconvert_exporter": "python",
   "pygments_lexer": "ipython3",
   "version": "3.6.3"
  }
 },
 "nbformat": 4,
 "nbformat_minor": 2
}
