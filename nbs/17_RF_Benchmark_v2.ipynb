{
 "cells": [
  {
   "cell_type": "markdown",
   "metadata": {},
   "source": [
    "# Train Random Forest model"
   ]
  },
  {
   "cell_type": "code",
   "execution_count": 1,
   "metadata": {},
   "outputs": [],
   "source": [
    "%load_ext autoreload\n",
    "%autoreload 2\n",
    "\n",
    "%matplotlib inline"
   ]
  },
  {
   "cell_type": "markdown",
   "metadata": {},
   "source": [
    "## Setup"
   ]
  },
  {
   "cell_type": "code",
   "execution_count": 2,
   "metadata": {},
   "outputs": [
    {
     "data": {
      "text/plain": [
       "(1293005, 24)"
      ]
     },
     "execution_count": 2,
     "metadata": {},
     "output_type": "execute_result"
    }
   ],
   "source": [
    "from tep.utils import load_array\n",
    "X = load_array('data/meta_features_v3.bc')\n",
    "X.shape"
   ]
  },
  {
   "cell_type": "code",
   "execution_count": 3,
   "metadata": {},
   "outputs": [
    {
     "data": {
      "text/plain": [
       "(1293005,)"
      ]
     },
     "execution_count": 3,
     "metadata": {},
     "output_type": "execute_result"
    }
   ],
   "source": [
    "y = load_array('data/log_labels_v3.bc')\n",
    "y.shape"
   ]
  },
  {
   "cell_type": "code",
   "execution_count": 4,
   "metadata": {},
   "outputs": [],
   "source": [
    "import numpy as np"
   ]
  },
  {
   "cell_type": "code",
   "execution_count": 5,
   "metadata": {},
   "outputs": [
    {
     "data": {
      "text/plain": [
       "array([[0., 1., 1., ..., 0., 0., 1.],\n",
       "       [0., 0., 2., ..., 0., 0., 1.],\n",
       "       [0., 0., 2., ..., 0., 0., 1.],\n",
       "       ...,\n",
       "       [1., 3., 0., ..., 0., 0., 0.],\n",
       "       [1., 3., 0., ..., 0., 0., 0.],\n",
       "       [1., 0., 0., ..., 5., 0., 0.]])"
      ]
     },
     "execution_count": 5,
     "metadata": {},
     "output_type": "execute_result"
    }
   ],
   "source": [
    "np.nan_to_num(X, copy=False)"
   ]
  },
  {
   "cell_type": "code",
   "execution_count": 6,
   "metadata": {},
   "outputs": [
    {
     "name": "stdout",
     "output_type": "stream",
     "text": [
      "(1283005, 24)\n",
      "(10000, 24)\n",
      "(1283005,)\n",
      "(10000,)\n"
     ]
    }
   ],
   "source": [
    "X_train = X[:-10000]\n",
    "y_train = y[:-10000]\n",
    "X_valid = X[-10000:]\n",
    "y_valid = y[-10000:]\n",
    "print(X_train.shape)\n",
    "print(X_valid.shape)\n",
    "print(y_train.shape)\n",
    "print(y_valid.shape)"
   ]
  },
  {
   "cell_type": "code",
   "execution_count": 7,
   "metadata": {},
   "outputs": [
    {
     "data": {
      "text/plain": [
       "array(['urls', 'hashtags', 'mentions', 'length', 'sentiment', 'followers',\n",
       "       'friends', 'follower_friend_ratio', 'verified', 'listings',\n",
       "       'tweets', 'tweet_freq', 'favorites', 'favorite_freq',\n",
       "       'account_age', 'month', 'day', 'weekday', 'hour', 'minute',\n",
       "       'quote', 'quoted_popularity', 'quoted_sentiment', 'reply'],\n",
       "      dtype='<U31')"
      ]
     },
     "execution_count": 7,
     "metadata": {},
     "output_type": "execute_result"
    }
   ],
   "source": [
    "import pandas as pd\n",
    "from tep.featureGenerator import FeatureGenerator\n",
    "fg = FeatureGenerator()\n",
    "columns = fg.structured_feature_map()[1]\n",
    "columns"
   ]
  },
  {
   "cell_type": "code",
   "execution_count": 8,
   "metadata": {},
   "outputs": [
    {
     "data": {
      "text/html": [
       "<div>\n",
       "<style>\n",
       "    .dataframe thead tr:only-child th {\n",
       "        text-align: right;\n",
       "    }\n",
       "\n",
       "    .dataframe thead th {\n",
       "        text-align: left;\n",
       "    }\n",
       "\n",
       "    .dataframe tbody tr th {\n",
       "        vertical-align: top;\n",
       "    }\n",
       "</style>\n",
       "<table border=\"1\" class=\"dataframe\">\n",
       "  <thead>\n",
       "    <tr style=\"text-align: right;\">\n",
       "      <th></th>\n",
       "      <th>urls</th>\n",
       "      <th>hashtags</th>\n",
       "      <th>mentions</th>\n",
       "      <th>length</th>\n",
       "      <th>sentiment</th>\n",
       "      <th>followers</th>\n",
       "      <th>friends</th>\n",
       "      <th>follower_friend_ratio</th>\n",
       "      <th>verified</th>\n",
       "      <th>listings</th>\n",
       "      <th>...</th>\n",
       "      <th>account_age</th>\n",
       "      <th>month</th>\n",
       "      <th>day</th>\n",
       "      <th>weekday</th>\n",
       "      <th>hour</th>\n",
       "      <th>minute</th>\n",
       "      <th>quote</th>\n",
       "      <th>quoted_popularity</th>\n",
       "      <th>quoted_sentiment</th>\n",
       "      <th>reply</th>\n",
       "    </tr>\n",
       "  </thead>\n",
       "  <tbody>\n",
       "    <tr>\n",
       "      <th>0</th>\n",
       "      <td>0.0</td>\n",
       "      <td>1.0</td>\n",
       "      <td>1.0</td>\n",
       "      <td>103.0</td>\n",
       "      <td>0.312500</td>\n",
       "      <td>443717.0</td>\n",
       "      <td>781.0</td>\n",
       "      <td>568.139565</td>\n",
       "      <td>1.0</td>\n",
       "      <td>2751.0</td>\n",
       "      <td>...</td>\n",
       "      <td>3963.0</td>\n",
       "      <td>9.0</td>\n",
       "      <td>1.0</td>\n",
       "      <td>3.0</td>\n",
       "      <td>9.0</td>\n",
       "      <td>9.0</td>\n",
       "      <td>0.0</td>\n",
       "      <td>0.0</td>\n",
       "      <td>0.0</td>\n",
       "      <td>1.0</td>\n",
       "    </tr>\n",
       "    <tr>\n",
       "      <th>1</th>\n",
       "      <td>0.0</td>\n",
       "      <td>0.0</td>\n",
       "      <td>2.0</td>\n",
       "      <td>37.0</td>\n",
       "      <td>0.000000</td>\n",
       "      <td>79503.0</td>\n",
       "      <td>2136.0</td>\n",
       "      <td>37.220506</td>\n",
       "      <td>1.0</td>\n",
       "      <td>1020.0</td>\n",
       "      <td>...</td>\n",
       "      <td>3648.0</td>\n",
       "      <td>11.0</td>\n",
       "      <td>13.0</td>\n",
       "      <td>0.0</td>\n",
       "      <td>23.0</td>\n",
       "      <td>49.0</td>\n",
       "      <td>0.0</td>\n",
       "      <td>0.0</td>\n",
       "      <td>0.0</td>\n",
       "      <td>1.0</td>\n",
       "    </tr>\n",
       "    <tr>\n",
       "      <th>2</th>\n",
       "      <td>0.0</td>\n",
       "      <td>0.0</td>\n",
       "      <td>2.0</td>\n",
       "      <td>119.0</td>\n",
       "      <td>0.610000</td>\n",
       "      <td>1524959.0</td>\n",
       "      <td>1353.0</td>\n",
       "      <td>1127.094605</td>\n",
       "      <td>1.0</td>\n",
       "      <td>14295.0</td>\n",
       "      <td>...</td>\n",
       "      <td>4429.0</td>\n",
       "      <td>11.0</td>\n",
       "      <td>28.0</td>\n",
       "      <td>1.0</td>\n",
       "      <td>20.0</td>\n",
       "      <td>5.0</td>\n",
       "      <td>0.0</td>\n",
       "      <td>0.0</td>\n",
       "      <td>0.0</td>\n",
       "      <td>1.0</td>\n",
       "    </tr>\n",
       "    <tr>\n",
       "      <th>3</th>\n",
       "      <td>1.0</td>\n",
       "      <td>0.0</td>\n",
       "      <td>1.0</td>\n",
       "      <td>139.0</td>\n",
       "      <td>-0.500000</td>\n",
       "      <td>600213.0</td>\n",
       "      <td>7984.0</td>\n",
       "      <td>75.176979</td>\n",
       "      <td>1.0</td>\n",
       "      <td>4723.0</td>\n",
       "      <td>...</td>\n",
       "      <td>3753.0</td>\n",
       "      <td>2.0</td>\n",
       "      <td>23.0</td>\n",
       "      <td>4.0</td>\n",
       "      <td>18.0</td>\n",
       "      <td>11.0</td>\n",
       "      <td>0.0</td>\n",
       "      <td>0.0</td>\n",
       "      <td>0.0</td>\n",
       "      <td>1.0</td>\n",
       "    </tr>\n",
       "    <tr>\n",
       "      <th>4</th>\n",
       "      <td>1.0</td>\n",
       "      <td>1.0</td>\n",
       "      <td>0.0</td>\n",
       "      <td>132.0</td>\n",
       "      <td>0.112121</td>\n",
       "      <td>144853.0</td>\n",
       "      <td>937.0</td>\n",
       "      <td>154.592316</td>\n",
       "      <td>1.0</td>\n",
       "      <td>3463.0</td>\n",
       "      <td>...</td>\n",
       "      <td>3522.0</td>\n",
       "      <td>7.0</td>\n",
       "      <td>6.0</td>\n",
       "      <td>3.0</td>\n",
       "      <td>11.0</td>\n",
       "      <td>26.0</td>\n",
       "      <td>0.0</td>\n",
       "      <td>0.0</td>\n",
       "      <td>0.0</td>\n",
       "      <td>0.0</td>\n",
       "    </tr>\n",
       "  </tbody>\n",
       "</table>\n",
       "<p>5 rows × 24 columns</p>\n",
       "</div>"
      ],
      "text/plain": [
       "   urls  hashtags  mentions  length  sentiment  followers  friends  \\\n",
       "0   0.0       1.0       1.0   103.0   0.312500   443717.0    781.0   \n",
       "1   0.0       0.0       2.0    37.0   0.000000    79503.0   2136.0   \n",
       "2   0.0       0.0       2.0   119.0   0.610000  1524959.0   1353.0   \n",
       "3   1.0       0.0       1.0   139.0  -0.500000   600213.0   7984.0   \n",
       "4   1.0       1.0       0.0   132.0   0.112121   144853.0    937.0   \n",
       "\n",
       "   follower_friend_ratio  verified  listings  ...    account_age  month   day  \\\n",
       "0             568.139565       1.0    2751.0  ...         3963.0    9.0   1.0   \n",
       "1              37.220506       1.0    1020.0  ...         3648.0   11.0  13.0   \n",
       "2            1127.094605       1.0   14295.0  ...         4429.0   11.0  28.0   \n",
       "3              75.176979       1.0    4723.0  ...         3753.0    2.0  23.0   \n",
       "4             154.592316       1.0    3463.0  ...         3522.0    7.0   6.0   \n",
       "\n",
       "   weekday  hour  minute  quote  quoted_popularity  quoted_sentiment  reply  \n",
       "0      3.0   9.0     9.0    0.0                0.0               0.0    1.0  \n",
       "1      0.0  23.0    49.0    0.0                0.0               0.0    1.0  \n",
       "2      1.0  20.0     5.0    0.0                0.0               0.0    1.0  \n",
       "3      4.0  18.0    11.0    0.0                0.0               0.0    1.0  \n",
       "4      3.0  11.0    26.0    0.0                0.0               0.0    0.0  \n",
       "\n",
       "[5 rows x 24 columns]"
      ]
     },
     "execution_count": 8,
     "metadata": {},
     "output_type": "execute_result"
    }
   ],
   "source": [
    "df = pd.DataFrame(data=X, columns=columns)\n",
    "df.head()"
   ]
  },
  {
   "cell_type": "code",
   "execution_count": 9,
   "metadata": {},
   "outputs": [
    {
     "data": {
      "text/plain": [
       "urls                     0\n",
       "hashtags                 0\n",
       "mentions                 0\n",
       "length                   0\n",
       "sentiment                0\n",
       "followers                0\n",
       "friends                  0\n",
       "follower_friend_ratio    0\n",
       "verified                 0\n",
       "listings                 0\n",
       "tweets                   0\n",
       "tweet_freq               0\n",
       "favorites                0\n",
       "favorite_freq            0\n",
       "account_age              0\n",
       "month                    0\n",
       "day                      0\n",
       "weekday                  0\n",
       "hour                     0\n",
       "minute                   0\n",
       "quote                    0\n",
       "quoted_popularity        0\n",
       "quoted_sentiment         0\n",
       "reply                    0\n",
       "dtype: int64"
      ]
     },
     "execution_count": 9,
     "metadata": {},
     "output_type": "execute_result"
    }
   ],
   "source": [
    "df.isnull().sum()"
   ]
  },
  {
   "cell_type": "markdown",
   "metadata": {},
   "source": [
    "## Define metrics"
   ]
  },
  {
   "cell_type": "code",
   "execution_count": 14,
   "metadata": {},
   "outputs": [],
   "source": [
    "import math\n",
    "def rmse(x,y): return math.sqrt(((x-y)**2).mean())\n",
    "\n",
    "def print_score(m, ret_scores=False):\n",
    "    res = [rmse(m.predict(X_train), y_train), rmse(m.predict(X_valid), y_valid),\n",
    "                m.score(X_train, y_train), m.score(X_valid, y_valid)]\n",
    "    if hasattr(m, 'oob_score_'): res.append(m.oob_score_)\n",
    "    print(res)\n",
    "    if ret_scores: return res"
   ]
  },
  {
   "cell_type": "markdown",
   "metadata": {},
   "source": [
    "## Train benchmark"
   ]
  },
  {
   "cell_type": "code",
   "execution_count": 11,
   "metadata": {},
   "outputs": [
    {
     "name": "stderr",
     "output_type": "stream",
     "text": [
      "/home/paperspace/anaconda3/lib/python3.6/site-packages/sklearn/ensemble/forest.py:724: UserWarning: Some inputs do not have OOB scores. This probably means too few trees were used to compute any reliable oob estimates.\n",
      "  warn(\"Some inputs do not have OOB scores. \"\n"
     ]
    },
    {
     "name": "stdout",
     "output_type": "stream",
     "text": [
      "[0.6732642146135293, 0.8343643673603437, 0.9009733940704928, 0.8466501400357503, 0.8169242288243781]\n"
     ]
    }
   ],
   "source": [
    "from sklearn.ensemble import RandomForestRegressor\n",
    "m = RandomForestRegressor(n_estimators=10, n_jobs=-1, min_samples_leaf=8, oob_score=True)\n",
    "m.fit(X_train, y_train)\n",
    "print_score(m)"
   ]
  },
  {
   "cell_type": "markdown",
   "metadata": {},
   "source": [
    "## Define configurations\n",
    "\n",
    "We vary RF training along three dimensions:\n",
    "* Number of estimators: 20, 40, 80 estimators\n",
    "* Minimum number of samples per leaf: 8, 16, 32 samples\n",
    "* Max number of features: all, 0.4, 0.7"
   ]
  },
  {
   "cell_type": "code",
   "execution_count": 19,
   "metadata": {},
   "outputs": [],
   "source": [
    "configurations = [\n",
    "    {\"n_estimators\": 20, \"min_samples_leaf\": 8, \"max_features\": \"auto\"},\n",
    "    {\"n_estimators\": 20, \"min_samples_leaf\": 8, \"max_features\": 0.4},\n",
    "    {\"n_estimators\": 20, \"min_samples_leaf\": 8, \"max_features\": 0.7},\n",
    "    {\"n_estimators\": 20, \"min_samples_leaf\": 16, \"max_features\": \"auto\"},\n",
    "    {\"n_estimators\": 20, \"min_samples_leaf\": 16, \"max_features\": 0.4},\n",
    "    {\"n_estimators\": 20, \"min_samples_leaf\": 16, \"max_features\": 0.7},\n",
    "    {\"n_estimators\": 20, \"min_samples_leaf\": 32, \"max_features\": \"auto\"},\n",
    "    {\"n_estimators\": 20, \"min_samples_leaf\": 32, \"max_features\": 0.4},\n",
    "    {\"n_estimators\": 20, \"min_samples_leaf\": 32, \"max_features\": 0.7},\n",
    "    {\"n_estimators\": 40, \"min_samples_leaf\": 8, \"max_features\": \"auto\"},\n",
    "    {\"n_estimators\": 40, \"min_samples_leaf\": 8, \"max_features\": 0.4},\n",
    "    {\"n_estimators\": 40, \"min_samples_leaf\": 8, \"max_features\": 0.7},\n",
    "    {\"n_estimators\": 40, \"min_samples_leaf\": 16, \"max_features\": \"auto\"},\n",
    "    {\"n_estimators\": 40, \"min_samples_leaf\": 16, \"max_features\": 0.4},\n",
    "    {\"n_estimators\": 40, \"min_samples_leaf\": 16, \"max_features\": 0.7},\n",
    "    {\"n_estimators\": 40, \"min_samples_leaf\": 32, \"max_features\": \"auto\"},\n",
    "    {\"n_estimators\": 40, \"min_samples_leaf\": 32, \"max_features\": 0.4},\n",
    "    {\"n_estimators\": 40, \"min_samples_leaf\": 32, \"max_features\": 0.7},\n",
    "    {\"n_estimators\": 80, \"min_samples_leaf\": 8, \"max_features\": \"auto\"},\n",
    "    {\"n_estimators\": 80, \"min_samples_leaf\": 8, \"max_features\": 0.4},\n",
    "    {\"n_estimators\": 80, \"min_samples_leaf\": 8, \"max_features\": 0.7},\n",
    "    {\"n_estimators\": 80, \"min_samples_leaf\": 16, \"max_features\": \"auto\"},\n",
    "    {\"n_estimators\": 80, \"min_samples_leaf\": 16, \"max_features\": 0.4},\n",
    "    {\"n_estimators\": 80, \"min_samples_leaf\": 16, \"max_features\": 0.7},\n",
    "    {\"n_estimators\": 80, \"min_samples_leaf\": 32, \"max_features\": \"auto\"},\n",
    "    {\"n_estimators\": 80, \"min_samples_leaf\": 32, \"max_features\": 0.4},\n",
    "    {\"n_estimators\": 80, \"min_samples_leaf\": 32, \"max_features\": 0.7},\n",
    "]"
   ]
  },
  {
   "cell_type": "code",
   "execution_count": 20,
   "metadata": {},
   "outputs": [
    {
     "name": "stdout",
     "output_type": "stream",
     "text": [
      "{'n_estimators': 20, 'min_samples_leaf': 8, 'max_features': 'auto'}\n"
     ]
    },
    {
     "name": "stderr",
     "output_type": "stream",
     "text": [
      "/home/paperspace/anaconda3/lib/python3.6/site-packages/sklearn/ensemble/forest.py:724: UserWarning: Some inputs do not have OOB scores. This probably means too few trees were used to compute any reliable oob estimates.\n",
      "  warn(\"Some inputs do not have OOB scores. \"\n"
     ]
    },
    {
     "name": "stdout",
     "output_type": "stream",
     "text": [
      "[0.6644953729789213, 0.8289956564477136, 0.9035361139055367, 0.8486172478577517, 0.8432041236316468]\n",
      "{'n_estimators': 20, 'min_samples_leaf': 8, 'max_features': 0.4}\n"
     ]
    },
    {
     "name": "stderr",
     "output_type": "stream",
     "text": [
      "/home/paperspace/anaconda3/lib/python3.6/site-packages/sklearn/ensemble/forest.py:724: UserWarning: Some inputs do not have OOB scores. This probably means too few trees were used to compute any reliable oob estimates.\n",
      "  warn(\"Some inputs do not have OOB scores. \"\n"
     ]
    },
    {
     "name": "stdout",
     "output_type": "stream",
     "text": [
      "[0.6988899017237078, 0.8246181788533794, 0.8932916604476471, 0.8502117676540385, 0.8450427354976453]\n",
      "{'n_estimators': 20, 'min_samples_leaf': 8, 'max_features': 0.7}\n"
     ]
    },
    {
     "name": "stderr",
     "output_type": "stream",
     "text": [
      "/home/paperspace/anaconda3/lib/python3.6/site-packages/sklearn/ensemble/forest.py:724: UserWarning: Some inputs do not have OOB scores. This probably means too few trees were used to compute any reliable oob estimates.\n",
      "  warn(\"Some inputs do not have OOB scores. \"\n"
     ]
    },
    {
     "name": "stdout",
     "output_type": "stream",
     "text": [
      "[0.6754629229374203, 0.8212605650449298, 0.9003255469275495, 0.851429075623028, 0.8447850790279372]\n",
      "{'n_estimators': 20, 'min_samples_leaf': 16, 'max_features': 'auto'}\n"
     ]
    },
    {
     "name": "stderr",
     "output_type": "stream",
     "text": [
      "/home/paperspace/anaconda3/lib/python3.6/site-packages/sklearn/ensemble/forest.py:724: UserWarning: Some inputs do not have OOB scores. This probably means too few trees were used to compute any reliable oob estimates.\n",
      "  warn(\"Some inputs do not have OOB scores. \"\n"
     ]
    },
    {
     "name": "stdout",
     "output_type": "stream",
     "text": [
      "[0.7440982700035548, 0.83011866344908, 0.8790400994931913, 0.8482068258297765, 0.8438385814212778]\n",
      "{'n_estimators': 20, 'min_samples_leaf': 16, 'max_features': 0.4}\n"
     ]
    },
    {
     "name": "stderr",
     "output_type": "stream",
     "text": [
      "/home/paperspace/anaconda3/lib/python3.6/site-packages/sklearn/ensemble/forest.py:724: UserWarning: Some inputs do not have OOB scores. This probably means too few trees were used to compute any reliable oob estimates.\n",
      "  warn(\"Some inputs do not have OOB scores. \"\n"
     ]
    },
    {
     "name": "stdout",
     "output_type": "stream",
     "text": [
      "[0.7651122838378301, 0.8280647556937328, 0.8721115921966548, 0.848957040218177, 0.8444486897442407]\n",
      "{'n_estimators': 20, 'min_samples_leaf': 16, 'max_features': 0.7}\n"
     ]
    },
    {
     "name": "stderr",
     "output_type": "stream",
     "text": [
      "/home/paperspace/anaconda3/lib/python3.6/site-packages/sklearn/ensemble/forest.py:724: UserWarning: Some inputs do not have OOB scores. This probably means too few trees were used to compute any reliable oob estimates.\n",
      "  warn(\"Some inputs do not have OOB scores. \"\n"
     ]
    },
    {
     "name": "stdout",
     "output_type": "stream",
     "text": [
      "[0.7493958231293695, 0.8241622651568133, 0.8773116381890312, 0.8503773512666336, 0.8449470948547959]\n",
      "{'n_estimators': 20, 'min_samples_leaf': 32, 'max_features': 'auto'}\n"
     ]
    },
    {
     "name": "stderr",
     "output_type": "stream",
     "text": [
      "/home/paperspace/anaconda3/lib/python3.6/site-packages/sklearn/ensemble/forest.py:724: UserWarning: Some inputs do not have OOB scores. This probably means too few trees were used to compute any reliable oob estimates.\n",
      "  warn(\"Some inputs do not have OOB scores. \"\n"
     ]
    },
    {
     "name": "stdout",
     "output_type": "stream",
     "text": [
      "[0.7963266685048559, 0.837352795350232, 0.8614637742127192, 0.8455496718723237, 0.8419650989433641]\n",
      "{'n_estimators': 20, 'min_samples_leaf': 32, 'max_features': 0.4}\n"
     ]
    },
    {
     "name": "stderr",
     "output_type": "stream",
     "text": [
      "/home/paperspace/anaconda3/lib/python3.6/site-packages/sklearn/ensemble/forest.py:724: UserWarning: Some inputs do not have OOB scores. This probably means too few trees were used to compute any reliable oob estimates.\n",
      "  warn(\"Some inputs do not have OOB scores. \"\n"
     ]
    },
    {
     "name": "stdout",
     "output_type": "stream",
     "text": [
      "[0.8092195619487844, 0.8377285364289625, 0.8569415297058095, 0.8454110293461983, 0.8413690588359064]\n",
      "{'n_estimators': 20, 'min_samples_leaf': 32, 'max_features': 0.7}\n"
     ]
    },
    {
     "name": "stderr",
     "output_type": "stream",
     "text": [
      "/home/paperspace/anaconda3/lib/python3.6/site-packages/sklearn/ensemble/forest.py:724: UserWarning: Some inputs do not have OOB scores. This probably means too few trees were used to compute any reliable oob estimates.\n",
      "  warn(\"Some inputs do not have OOB scores. \"\n"
     ]
    },
    {
     "name": "stdout",
     "output_type": "stream",
     "text": [
      "[0.7979572489163573, 0.8325500183347296, 0.8608958521805952, 0.8473163421655923, 0.8428330433785984]\n",
      "{'n_estimators': 40, 'min_samples_leaf': 8, 'max_features': 'auto'}\n",
      "[0.6606339498997391, 0.823431114951085, 0.9046539715048811, 0.8506427070339878, 0.8479019159351454]\n",
      "{'n_estimators': 40, 'min_samples_leaf': 8, 'max_features': 0.4}\n",
      "[0.6952800676078044, 0.8197053913711642, 0.8943911315016161, 0.8519912232134204, 0.8493311770456898]\n",
      "{'n_estimators': 40, 'min_samples_leaf': 8, 'max_features': 0.7}\n",
      "[0.6711274185382097, 0.8176748330866098, 0.9016009749588446, 0.8527236039067001, 0.8494946882121621]\n",
      "{'n_estimators': 40, 'min_samples_leaf': 16, 'max_features': 'auto'}\n",
      "[0.7411644528911357, 0.827075781175803, 0.879992056094845, 0.8493176121056777, 0.8468678996106658]\n",
      "{'n_estimators': 40, 'min_samples_leaf': 16, 'max_features': 0.4}\n",
      "[0.7627009737138717, 0.8257726731914513, 0.8729164222315046, 0.849792056509205, 0.8471800423483218]\n",
      "{'n_estimators': 40, 'min_samples_leaf': 16, 'max_features': 0.7}\n",
      "[0.7466935300510389, 0.8216902442051339, 0.878194862088848, 0.8512735719192305, 0.8480883597812583]\n",
      "{'n_estimators': 40, 'min_samples_leaf': 32, 'max_features': 'auto'}\n",
      "[0.7947239866936748, 0.8354556971104874, 0.8620208472594655, 0.846248721376556, 0.8438740792508923]\n",
      "{'n_estimators': 40, 'min_samples_leaf': 32, 'max_features': 0.4}\n",
      "[0.8079494545313052, 0.8356081209275315, 0.8573902510166171, 0.8461926142851484, 0.8433001435652303]\n",
      "{'n_estimators': 40, 'min_samples_leaf': 32, 'max_features': 0.7}\n",
      "[0.7964167467981966, 0.8318993850153585, 0.8614324307626513, 0.8475548918158673, 0.8449055289652075]\n",
      "{'n_estimators': 80, 'min_samples_leaf': 8, 'max_features': 'auto'}\n",
      "[0.658372149922325, 0.8221489518854491, 0.9053057226916723, 0.851107472838163, 0.8500865271477938]\n",
      "{'n_estimators': 80, 'min_samples_leaf': 8, 'max_features': 0.4}\n",
      "[0.693540319354711, 0.8199105576579245, 0.8949189849017881, 0.8519171229044392, 0.8511535448487049]\n",
      "{'n_estimators': 80, 'min_samples_leaf': 8, 'max_features': 0.7}\n",
      "[0.6687830750094297, 0.8185058863885407, 0.902287217869671, 0.8524240796242653, 0.8516685167702498]\n",
      "{'n_estimators': 80, 'min_samples_leaf': 16, 'max_features': 'auto'}\n",
      "[0.7400465387211247, 0.8254654879136207, 0.8803538041612999, 0.8499037896485085, 0.8481078443400203]\n",
      "{'n_estimators': 80, 'min_samples_leaf': 16, 'max_features': 0.4}\n",
      "[0.7618547359591701, 0.8250362180125625, 0.8731982712504429, 0.8500598592430805, 0.8482937376333639]\n",
      "{'n_estimators': 80, 'min_samples_leaf': 16, 'max_features': 0.7}\n",
      "[0.7453901080654532, 0.8213268114595634, 0.878619734999117, 0.8514051059149025, 0.8492900638266656]\n",
      "{'n_estimators': 80, 'min_samples_leaf': 32, 'max_features': 'auto'}\n",
      "[0.7939673441269005, 0.834458522906436, 0.8622834571791821, 0.8466155279284804, 0.8446481312846615]\n",
      "{'n_estimators': 80, 'min_samples_leaf': 32, 'max_features': 0.4}\n",
      "[0.8071922645043171, 0.8355724691023062, 0.8576574263448322, 0.8462057386120128, 0.8440763116965264]\n",
      "{'n_estimators': 80, 'min_samples_leaf': 32, 'max_features': 0.7}\n",
      "[0.7957773419035609, 0.8304832739358906, 0.861654839986717, 0.8480734532406323, 0.8457335242679997]\n"
     ]
    }
   ],
   "source": [
    "for config in configurations:\n",
    "    print(config)\n",
    "    m = RandomForestRegressor(n_estimators=config[\"n_estimators\"], \n",
    "                              n_jobs=-1, \n",
    "                              min_samples_leaf=config[\"min_samples_leaf\"],\n",
    "                              max_features=config[\"max_features\"],\n",
    "                              oob_score=True)\n",
    "    m.fit(X_train, y_train)\n",
    "    scores = print_score(m, ret_scores=True)\n",
    "    config[\"train_loss\"] = scores[0]\n",
    "    config[\"val_loss\"] = scores[1]\n",
    "    config[\"train_r2\"] = scores[2]\n",
    "    config[\"val_r2\"] = scores[3]"
   ]
  },
  {
   "cell_type": "code",
   "execution_count": 21,
   "metadata": {},
   "outputs": [
    {
     "data": {
      "text/plain": [
       "[{'n_estimators': 20,\n",
       "  'min_samples_leaf': 8,\n",
       "  'max_features': 'auto',\n",
       "  'train_loss': 0.6644953729789213,\n",
       "  'val_loss': 0.8289956564477136,\n",
       "  'train_r2': 0.9035361139055367,\n",
       "  'val_r2': 0.8486172478577517},\n",
       " {'n_estimators': 20,\n",
       "  'min_samples_leaf': 8,\n",
       "  'max_features': 0.4,\n",
       "  'train_loss': 0.6988899017237078,\n",
       "  'val_loss': 0.8246181788533794,\n",
       "  'train_r2': 0.8932916604476471,\n",
       "  'val_r2': 0.8502117676540385},\n",
       " {'n_estimators': 20,\n",
       "  'min_samples_leaf': 8,\n",
       "  'max_features': 0.7,\n",
       "  'train_loss': 0.6754629229374203,\n",
       "  'val_loss': 0.8212605650449298,\n",
       "  'train_r2': 0.9003255469275495,\n",
       "  'val_r2': 0.851429075623028},\n",
       " {'n_estimators': 20,\n",
       "  'min_samples_leaf': 16,\n",
       "  'max_features': 'auto',\n",
       "  'train_loss': 0.7440982700035548,\n",
       "  'val_loss': 0.83011866344908,\n",
       "  'train_r2': 0.8790400994931913,\n",
       "  'val_r2': 0.8482068258297765},\n",
       " {'n_estimators': 20,\n",
       "  'min_samples_leaf': 16,\n",
       "  'max_features': 0.4,\n",
       "  'train_loss': 0.7651122838378301,\n",
       "  'val_loss': 0.8280647556937328,\n",
       "  'train_r2': 0.8721115921966548,\n",
       "  'val_r2': 0.848957040218177},\n",
       " {'n_estimators': 20,\n",
       "  'min_samples_leaf': 16,\n",
       "  'max_features': 0.7,\n",
       "  'train_loss': 0.7493958231293695,\n",
       "  'val_loss': 0.8241622651568133,\n",
       "  'train_r2': 0.8773116381890312,\n",
       "  'val_r2': 0.8503773512666336},\n",
       " {'n_estimators': 20,\n",
       "  'min_samples_leaf': 32,\n",
       "  'max_features': 'auto',\n",
       "  'train_loss': 0.7963266685048559,\n",
       "  'val_loss': 0.837352795350232,\n",
       "  'train_r2': 0.8614637742127192,\n",
       "  'val_r2': 0.8455496718723237},\n",
       " {'n_estimators': 20,\n",
       "  'min_samples_leaf': 32,\n",
       "  'max_features': 0.4,\n",
       "  'train_loss': 0.8092195619487844,\n",
       "  'val_loss': 0.8377285364289625,\n",
       "  'train_r2': 0.8569415297058095,\n",
       "  'val_r2': 0.8454110293461983},\n",
       " {'n_estimators': 20,\n",
       "  'min_samples_leaf': 32,\n",
       "  'max_features': 0.7,\n",
       "  'train_loss': 0.7979572489163573,\n",
       "  'val_loss': 0.8325500183347296,\n",
       "  'train_r2': 0.8608958521805952,\n",
       "  'val_r2': 0.8473163421655923},\n",
       " {'n_estimators': 40,\n",
       "  'min_samples_leaf': 8,\n",
       "  'max_features': 'auto',\n",
       "  'train_loss': 0.6606339498997391,\n",
       "  'val_loss': 0.823431114951085,\n",
       "  'train_r2': 0.9046539715048811,\n",
       "  'val_r2': 0.8506427070339878},\n",
       " {'n_estimators': 40,\n",
       "  'min_samples_leaf': 8,\n",
       "  'max_features': 0.4,\n",
       "  'train_loss': 0.6952800676078044,\n",
       "  'val_loss': 0.8197053913711642,\n",
       "  'train_r2': 0.8943911315016161,\n",
       "  'val_r2': 0.8519912232134204},\n",
       " {'n_estimators': 40,\n",
       "  'min_samples_leaf': 8,\n",
       "  'max_features': 0.7,\n",
       "  'train_loss': 0.6711274185382097,\n",
       "  'val_loss': 0.8176748330866098,\n",
       "  'train_r2': 0.9016009749588446,\n",
       "  'val_r2': 0.8527236039067001},\n",
       " {'n_estimators': 40,\n",
       "  'min_samples_leaf': 16,\n",
       "  'max_features': 'auto',\n",
       "  'train_loss': 0.7411644528911357,\n",
       "  'val_loss': 0.827075781175803,\n",
       "  'train_r2': 0.879992056094845,\n",
       "  'val_r2': 0.8493176121056777},\n",
       " {'n_estimators': 40,\n",
       "  'min_samples_leaf': 16,\n",
       "  'max_features': 0.4,\n",
       "  'train_loss': 0.7627009737138717,\n",
       "  'val_loss': 0.8257726731914513,\n",
       "  'train_r2': 0.8729164222315046,\n",
       "  'val_r2': 0.849792056509205},\n",
       " {'n_estimators': 40,\n",
       "  'min_samples_leaf': 16,\n",
       "  'max_features': 0.7,\n",
       "  'train_loss': 0.7466935300510389,\n",
       "  'val_loss': 0.8216902442051339,\n",
       "  'train_r2': 0.878194862088848,\n",
       "  'val_r2': 0.8512735719192305},\n",
       " {'n_estimators': 40,\n",
       "  'min_samples_leaf': 32,\n",
       "  'max_features': 'auto',\n",
       "  'train_loss': 0.7947239866936748,\n",
       "  'val_loss': 0.8354556971104874,\n",
       "  'train_r2': 0.8620208472594655,\n",
       "  'val_r2': 0.846248721376556},\n",
       " {'n_estimators': 40,\n",
       "  'min_samples_leaf': 32,\n",
       "  'max_features': 0.4,\n",
       "  'train_loss': 0.8079494545313052,\n",
       "  'val_loss': 0.8356081209275315,\n",
       "  'train_r2': 0.8573902510166171,\n",
       "  'val_r2': 0.8461926142851484},\n",
       " {'n_estimators': 40,\n",
       "  'min_samples_leaf': 32,\n",
       "  'max_features': 0.7,\n",
       "  'train_loss': 0.7964167467981966,\n",
       "  'val_loss': 0.8318993850153585,\n",
       "  'train_r2': 0.8614324307626513,\n",
       "  'val_r2': 0.8475548918158673},\n",
       " {'n_estimators': 80,\n",
       "  'min_samples_leaf': 8,\n",
       "  'max_features': 'auto',\n",
       "  'train_loss': 0.658372149922325,\n",
       "  'val_loss': 0.8221489518854491,\n",
       "  'train_r2': 0.9053057226916723,\n",
       "  'val_r2': 0.851107472838163},\n",
       " {'n_estimators': 80,\n",
       "  'min_samples_leaf': 8,\n",
       "  'max_features': 0.4,\n",
       "  'train_loss': 0.693540319354711,\n",
       "  'val_loss': 0.8199105576579245,\n",
       "  'train_r2': 0.8949189849017881,\n",
       "  'val_r2': 0.8519171229044392},\n",
       " {'n_estimators': 80,\n",
       "  'min_samples_leaf': 8,\n",
       "  'max_features': 0.7,\n",
       "  'train_loss': 0.6687830750094297,\n",
       "  'val_loss': 0.8185058863885407,\n",
       "  'train_r2': 0.902287217869671,\n",
       "  'val_r2': 0.8524240796242653},\n",
       " {'n_estimators': 80,\n",
       "  'min_samples_leaf': 16,\n",
       "  'max_features': 'auto',\n",
       "  'train_loss': 0.7400465387211247,\n",
       "  'val_loss': 0.8254654879136207,\n",
       "  'train_r2': 0.8803538041612999,\n",
       "  'val_r2': 0.8499037896485085},\n",
       " {'n_estimators': 80,\n",
       "  'min_samples_leaf': 16,\n",
       "  'max_features': 0.4,\n",
       "  'train_loss': 0.7618547359591701,\n",
       "  'val_loss': 0.8250362180125625,\n",
       "  'train_r2': 0.8731982712504429,\n",
       "  'val_r2': 0.8500598592430805},\n",
       " {'n_estimators': 80,\n",
       "  'min_samples_leaf': 16,\n",
       "  'max_features': 0.7,\n",
       "  'train_loss': 0.7453901080654532,\n",
       "  'val_loss': 0.8213268114595634,\n",
       "  'train_r2': 0.878619734999117,\n",
       "  'val_r2': 0.8514051059149025},\n",
       " {'n_estimators': 80,\n",
       "  'min_samples_leaf': 32,\n",
       "  'max_features': 'auto',\n",
       "  'train_loss': 0.7939673441269005,\n",
       "  'val_loss': 0.834458522906436,\n",
       "  'train_r2': 0.8622834571791821,\n",
       "  'val_r2': 0.8466155279284804},\n",
       " {'n_estimators': 80,\n",
       "  'min_samples_leaf': 32,\n",
       "  'max_features': 0.4,\n",
       "  'train_loss': 0.8071922645043171,\n",
       "  'val_loss': 0.8355724691023062,\n",
       "  'train_r2': 0.8576574263448322,\n",
       "  'val_r2': 0.8462057386120128},\n",
       " {'n_estimators': 80,\n",
       "  'min_samples_leaf': 32,\n",
       "  'max_features': 0.7,\n",
       "  'train_loss': 0.7957773419035609,\n",
       "  'val_loss': 0.8304832739358906,\n",
       "  'train_r2': 0.861654839986717,\n",
       "  'val_r2': 0.8480734532406323}]"
      ]
     },
     "execution_count": 21,
     "metadata": {},
     "output_type": "execute_result"
    }
   ],
   "source": [
    "configurations"
   ]
  },
  {
   "cell_type": "code",
   "execution_count": 26,
   "metadata": {},
   "outputs": [],
   "source": [
    "import json\n",
    "with open(\"models/rf_v1.txt\", 'w') as f:\n",
    "    for c in configurations:\n",
    "        json.dump(c, f, sort_keys=True)\n",
    "        f.write(\"\\n\")"
   ]
  },
  {
   "cell_type": "code",
   "execution_count": null,
   "metadata": {},
   "outputs": [],
   "source": []
  }
 ],
 "metadata": {
  "kernelspec": {
   "display_name": "Python 3",
   "language": "python",
   "name": "python3"
  },
  "language_info": {
   "codemirror_mode": {
    "name": "ipython",
    "version": 3
   },
   "file_extension": ".py",
   "mimetype": "text/x-python",
   "name": "python",
   "nbconvert_exporter": "python",
   "pygments_lexer": "ipython3",
   "version": "3.6.3"
  }
 },
 "nbformat": 4,
 "nbformat_minor": 2
}
