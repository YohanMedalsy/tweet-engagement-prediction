{
 "cells": [
  {
   "cell_type": "markdown",
   "metadata": {},
   "source": [
    "## Setup"
   ]
  },
  {
   "cell_type": "code",
   "execution_count": 1,
   "metadata": {
    "collapsed": true
   },
   "outputs": [],
   "source": [
    "%load_ext autoreload\n",
    "%autoreload 2\n",
    "\n",
    "%matplotlib inline"
   ]
  },
  {
   "cell_type": "code",
   "execution_count": 2,
   "metadata": {
    "collapsed": true
   },
   "outputs": [],
   "source": [
    "from tep.dataLoader import DataLoader\n",
    "dl = DataLoader()"
   ]
  },
  {
   "cell_type": "code",
   "execution_count": 3,
   "metadata": {},
   "outputs": [
    {
     "name": "stdout",
     "output_type": "stream",
     "text": [
      "284701\n",
      "100\n"
     ]
    }
   ],
   "source": [
    "# load tweets from file\n",
    "tweets = dl.load_from_file(filename=\"data/tweets_1.json\", ignore_retweets=True)\n",
    "print(len(tweets))\n",
    "sample = tweets[:100]\n",
    "print(len(sample))"
   ]
  },
  {
   "cell_type": "code",
   "execution_count": 4,
   "metadata": {
    "collapsed": true
   },
   "outputs": [],
   "source": [
    "from tep.dataPreprocessor import DataPreprocessor\n",
    "dp = DataPreprocessor()"
   ]
  },
  {
   "cell_type": "code",
   "execution_count": 5,
   "metadata": {},
   "outputs": [
    {
     "data": {
      "text/plain": [
       "array([[  1.00000000e+00,   0.00000000e+00,   0.00000000e+00,\n",
       "          1.23000000e+02,   4.20144900e+06,   3.47000000e+03,\n",
       "          1.00000000e+00,   2.74760000e+04,   2.36120000e+04,\n",
       "          5.19744662e+00,   2.11650000e+04,   4.65881576e+00,\n",
       "          4.54300000e+03,   1.80000000e+01,   1.00000000e+00],\n",
       "       [  0.00000000e+00,   0.00000000e+00,   1.00000000e+00,\n",
       "          4.10000000e+01,   4.20144900e+06,   3.47000000e+03,\n",
       "          1.00000000e+00,   2.74760000e+04,   2.36120000e+04,\n",
       "          5.19744662e+00,   2.11650000e+04,   4.65881576e+00,\n",
       "          4.54300000e+03,   1.00000000e+00,   0.00000000e+00],\n",
       "       [  0.00000000e+00,   0.00000000e+00,   1.00000000e+00,\n",
       "          3.10000000e+01,   4.20144900e+06,   3.47000000e+03,\n",
       "          1.00000000e+00,   2.74760000e+04,   2.36120000e+04,\n",
       "          5.19744662e+00,   2.11650000e+04,   4.65881576e+00,\n",
       "          4.54300000e+03,   2.10000000e+01,   0.00000000e+00],\n",
       "       [  1.00000000e+00,   0.00000000e+00,   2.00000000e+00,\n",
       "          9.80000000e+01,   4.20144900e+06,   3.47000000e+03,\n",
       "          1.00000000e+00,   2.74760000e+04,   2.36120000e+04,\n",
       "          5.19744662e+00,   2.11650000e+04,   4.65881576e+00,\n",
       "          4.54300000e+03,   1.60000000e+01,   1.00000000e+00],\n",
       "       [  0.00000000e+00,   0.00000000e+00,   1.00000000e+00,\n",
       "          1.90000000e+01,   4.20144900e+06,   3.47000000e+03,\n",
       "          1.00000000e+00,   2.74760000e+04,   2.36120000e+04,\n",
       "          5.19744662e+00,   2.11650000e+04,   4.65881576e+00,\n",
       "          4.54300000e+03,   2.00000000e+00,   0.00000000e+00]])"
      ]
     },
     "execution_count": 5,
     "metadata": {},
     "output_type": "execute_result"
    }
   ],
   "source": [
    "feats = dp.extract_additional_features(sample)\n",
    "feats[:5]"
   ]
  },
  {
   "cell_type": "code",
   "execution_count": 6,
   "metadata": {
    "collapsed": true
   },
   "outputs": [],
   "source": [
    "tweet = sample[0]"
   ]
  },
  {
   "cell_type": "code",
   "execution_count": 7,
   "metadata": {},
   "outputs": [
    {
     "name": "stdout",
     "output_type": "stream",
     "text": [
      "{\"created_at\": \"Thu Mar 29 18:46:09 +0000 2018\", \"favorite_count\": 637, \"hashtags\": [], \"id\": 979429522687762432, \"id_str\": \"979429522687762432\", \"lang\": \"en\", \"place\": {\"attributes\": {}, \"bounding_box\": {\"coordinates\": [[[-122.514926, 37.708075], [-122.357031, 37.708075], [-122.357031, 37.833238], [-122.514926, 37.833238]]], \"type\": \"Polygon\"}, \"contained_within\": [], \"country\": \"United States\", \"country_code\": \"US\", \"full_name\": \"San Francisco, CA\", \"id\": \"5a110d312052166f\", \"name\": \"San Francisco\", \"place_type\": \"city\", \"url\": \"https://api.twitter.com/1.1/geo/id/5a110d312052166f.json\"}, \"quoted_status\": {\"created_at\": \"Thu Mar 29 17:56:22 +0000 2018\", \"favorite_count\": 622, \"id\": 979416992623939584, \"id_str\": \"979416992623939584\", \"lang\": \"en\", \"retweet_count\": 248, \"source\": \"<a href=\\\"http://twitter.com\\\" rel=\\\"nofollow\\\">Twitter for  iPhone</a>\", \"text\": \"\\ud83d\\ude80\\ud83d\\udce3 Really excited to launch Timestamps, an easy way to point people to the part within a live video that matters mo\\u2026 https://t.co/XUhYZ8Eehe\", \"truncated\": true, \"user\": {\"created_at\": \"Sun May 25 08:06:34 +0000 2008\", \"description\": \"GM of Video @Twitter & Co-Founder of @Periscopeco. Stanford CS '10.\", \"favourites_count\": 12918, \"followers_count\": 28397, \"friends_count\": 2146, \"geo_enabled\": true, \"id\": 14897303, \"id_str\": \"14897303\", \"lang\": \"en\", \"listed_count\": 690, \"location\": \"San Francisco\", \"name\": \"Kayvon Beykpour\", \"profile_background_color\": \"000000\", \"profile_background_image_url\": \"http://abs.twimg.com/images/themes/theme9/bg.gif\", \"profile_background_image_url_https\": \"https://abs.twimg.com/images/themes/theme9/bg.gif\", \"profile_banner_url\": \"https://pbs.twimg.com/profile_banners/14897303/1480485887\", \"profile_image_url\": \"http://pbs.twimg.com/profile_images/803841812087631873/obMF3Mb5_normal.jpg\", \"profile_image_url_https\": \"https://pbs.twimg.com/profile_images/803841812087631873/obMF3Mb5_normal.jpg\", \"profile_link_color\": \"4A913C\", \"profile_sidebar_border_color\": \"000000\", \"profile_sidebar_fill_color\": \"000000\", \"profile_text_color\": \"000000\", \"screen_name\": \"kayvz\", \"statuses_count\": 4784, \"time_zone\": \"Pacific Time (US & Canada)\", \"url\": \"https://t.co/rKqvr9OhJ0\", \"utc_offset\": -25200}}, \"quoted_status_id\": 979416992623939584, \"quoted_status_id_str\": \"979416992623939584\", \"retweet_count\": 171, \"source\": \"<a href=\\\"http://twitter.com/download/iphone\\\" rel=\\\"nofollow\\\">Twitter for iPhone</a>\", \"text\": \"Something we\\u2019ve been wanting for a while: choose where live video should start playing and tweet it https://t.co/0KstH8TcPZ\", \"urls\": [{\"expanded_url\": \"https://twitter.com/kayvz/status/979416992623939584\", \"url\": \"https://t.co/0KstH8TcPZ\"}], \"user\": {\"created_at\": \"Tue Mar 21 20:50:14 +0000 2006\", \"favourites_count\": 21165, \"followers_count\": 4201449, \"following\": true, \"friends_count\": 3470, \"geo_enabled\": true, \"id\": 12, \"id_str\": \"12\", \"lang\": \"en\", \"listed_count\": 27476, \"name\": \"jack\", \"profile_background_color\": \"EBEBEB\", \"profile_background_image_url\": \"http://abs.twimg.com/images/themes/theme7/bg.gif\", \"profile_background_image_url_https\": \"https://abs.twimg.com/images/themes/theme7/bg.gif\", \"profile_banner_url\": \"https://pbs.twimg.com/profile_banners/12/1483046077\", \"profile_image_url\": \"http://pbs.twimg.com/profile_images/839863609345794048/mkpdB9Tf_normal.jpg\", \"profile_image_url_https\": \"https://pbs.twimg.com/profile_images/839863609345794048/mkpdB9Tf_normal.jpg\", \"profile_link_color\": \"990000\", \"profile_sidebar_border_color\": \"DFDFDF\", \"profile_sidebar_fill_color\": \"F3F3F3\", \"profile_text_color\": \"333333\", \"profile_use_background_image\": true, \"screen_name\": \"jack\", \"statuses_count\": 23612, \"time_zone\": \"Pacific Time (US & Canada)\", \"utc_offset\": -25200, \"verified\": true}, \"user_mentions\": []}\n"
     ]
    }
   ],
   "source": [
    "print(tweet)"
   ]
  },
  {
   "cell_type": "markdown",
   "metadata": {},
   "source": [
    "## Date features"
   ]
  },
  {
   "cell_type": "code",
   "execution_count": 8,
   "metadata": {
    "collapsed": true
   },
   "outputs": [],
   "source": [
    "from dateutil.parser import parse"
   ]
  },
  {
   "cell_type": "code",
   "execution_count": 9,
   "metadata": {
    "collapsed": true
   },
   "outputs": [],
   "source": [
    "date = parse(tweet.created_at)"
   ]
  },
  {
   "cell_type": "code",
   "execution_count": 10,
   "metadata": {},
   "outputs": [
    {
     "data": {
      "text/plain": [
       "18"
      ]
     },
     "execution_count": 10,
     "metadata": {},
     "output_type": "execute_result"
    }
   ],
   "source": [
    "date.hour"
   ]
  },
  {
   "cell_type": "code",
   "execution_count": 11,
   "metadata": {},
   "outputs": [
    {
     "data": {
      "text/plain": [
       "29"
      ]
     },
     "execution_count": 11,
     "metadata": {},
     "output_type": "execute_result"
    }
   ],
   "source": [
    "date.day"
   ]
  },
  {
   "cell_type": "code",
   "execution_count": 12,
   "metadata": {},
   "outputs": [
    {
     "data": {
      "text/plain": [
       "3"
      ]
     },
     "execution_count": 12,
     "metadata": {},
     "output_type": "execute_result"
    }
   ],
   "source": [
    "date.month"
   ]
  },
  {
   "cell_type": "code",
   "execution_count": 13,
   "metadata": {},
   "outputs": [
    {
     "data": {
      "text/plain": [
       "3"
      ]
     },
     "execution_count": 13,
     "metadata": {},
     "output_type": "execute_result"
    }
   ],
   "source": [
    "date.weekday()"
   ]
  },
  {
   "cell_type": "code",
   "execution_count": 14,
   "metadata": {},
   "outputs": [],
   "source": [
    "from datetime import timedelta\n",
    "\n",
    "local_date = date + timedelta(seconds=tweet.user.utc_offset)"
   ]
  },
  {
   "cell_type": "code",
   "execution_count": 15,
   "metadata": {},
   "outputs": [
    {
     "data": {
      "text/plain": [
       "11"
      ]
     },
     "execution_count": 15,
     "metadata": {},
     "output_type": "execute_result"
    }
   ],
   "source": [
    "local_date.hour"
   ]
  },
  {
   "cell_type": "markdown",
   "metadata": {},
   "source": [
    "## Contextual features"
   ]
  },
  {
   "cell_type": "code",
   "execution_count": 20,
   "metadata": {},
   "outputs": [
    {
     "data": {
      "text/plain": [
       "True"
      ]
     },
     "execution_count": 20,
     "metadata": {},
     "output_type": "execute_result"
    }
   ],
   "source": [
    "tweet.in_reply_to_status_id == None"
   ]
  },
  {
   "cell_type": "code",
   "execution_count": 24,
   "metadata": {},
   "outputs": [
    {
     "data": {
      "text/plain": [
       "'en'"
      ]
     },
     "execution_count": 24,
     "metadata": {},
     "output_type": "execute_result"
    }
   ],
   "source": [
    "tweet.lang"
   ]
  },
  {
   "cell_type": "code",
   "execution_count": 42,
   "metadata": {},
   "outputs": [
    {
     "name": "stdout",
     "output_type": "stream",
     "text": [
      "27748\n"
     ]
    }
   ],
   "source": [
    "count = 0\n",
    "examples = []\n",
    "for t in tweets:\n",
    "    if t.quoted_status != None:\n",
    "        count +=1\n",
    "        examples.append(t)\n",
    "print(count)"
   ]
  },
  {
   "cell_type": "code",
   "execution_count": 43,
   "metadata": {
    "scrolled": false
   },
   "outputs": [
    {
     "name": "stdout",
     "output_type": "stream",
     "text": [
      "{\"created_at\": \"Thu Mar 29 18:46:09 +0000 2018\", \"favorite_count\": 637, \"hashtags\": [], \"id\": 979429522687762432, \"id_str\": \"979429522687762432\", \"lang\": \"en\", \"place\": {\"attributes\": {}, \"bounding_box\": {\"coordinates\": [[[-122.514926, 37.708075], [-122.357031, 37.708075], [-122.357031, 37.833238], [-122.514926, 37.833238]]], \"type\": \"Polygon\"}, \"contained_within\": [], \"country\": \"United States\", \"country_code\": \"US\", \"full_name\": \"San Francisco, CA\", \"id\": \"5a110d312052166f\", \"name\": \"San Francisco\", \"place_type\": \"city\", \"url\": \"https://api.twitter.com/1.1/geo/id/5a110d312052166f.json\"}, \"quoted_status\": {\"created_at\": \"Thu Mar 29 17:56:22 +0000 2018\", \"favorite_count\": 622, \"id\": 979416992623939584, \"id_str\": \"979416992623939584\", \"lang\": \"en\", \"retweet_count\": 248, \"source\": \"<a href=\\\"http://twitter.com\\\" rel=\\\"nofollow\\\">Twitter for  iPhone</a>\", \"text\": \"\\ud83d\\ude80\\ud83d\\udce3 Really excited to launch Timestamps, an easy way to point people to the part within a live video that matters mo\\u2026 https://t.co/XUhYZ8Eehe\", \"truncated\": true, \"user\": {\"created_at\": \"Sun May 25 08:06:34 +0000 2008\", \"description\": \"GM of Video @Twitter & Co-Founder of @Periscopeco. Stanford CS '10.\", \"favourites_count\": 12918, \"followers_count\": 28397, \"friends_count\": 2146, \"geo_enabled\": true, \"id\": 14897303, \"id_str\": \"14897303\", \"lang\": \"en\", \"listed_count\": 690, \"location\": \"San Francisco\", \"name\": \"Kayvon Beykpour\", \"profile_background_color\": \"000000\", \"profile_background_image_url\": \"http://abs.twimg.com/images/themes/theme9/bg.gif\", \"profile_background_image_url_https\": \"https://abs.twimg.com/images/themes/theme9/bg.gif\", \"profile_banner_url\": \"https://pbs.twimg.com/profile_banners/14897303/1480485887\", \"profile_image_url\": \"http://pbs.twimg.com/profile_images/803841812087631873/obMF3Mb5_normal.jpg\", \"profile_image_url_https\": \"https://pbs.twimg.com/profile_images/803841812087631873/obMF3Mb5_normal.jpg\", \"profile_link_color\": \"4A913C\", \"profile_sidebar_border_color\": \"000000\", \"profile_sidebar_fill_color\": \"000000\", \"profile_text_color\": \"000000\", \"screen_name\": \"kayvz\", \"statuses_count\": 4784, \"time_zone\": \"Pacific Time (US & Canada)\", \"url\": \"https://t.co/rKqvr9OhJ0\", \"utc_offset\": -25200}}, \"quoted_status_id\": 979416992623939584, \"quoted_status_id_str\": \"979416992623939584\", \"retweet_count\": 171, \"source\": \"<a href=\\\"http://twitter.com/download/iphone\\\" rel=\\\"nofollow\\\">Twitter for iPhone</a>\", \"text\": \"Something we\\u2019ve been wanting for a while: choose where live video should start playing and tweet it https://t.co/0KstH8TcPZ\", \"urls\": [{\"expanded_url\": \"https://twitter.com/kayvz/status/979416992623939584\", \"url\": \"https://t.co/0KstH8TcPZ\"}], \"user\": {\"created_at\": \"Tue Mar 21 20:50:14 +0000 2006\", \"favourites_count\": 21165, \"followers_count\": 4201449, \"following\": true, \"friends_count\": 3470, \"geo_enabled\": true, \"id\": 12, \"id_str\": \"12\", \"lang\": \"en\", \"listed_count\": 27476, \"name\": \"jack\", \"profile_background_color\": \"EBEBEB\", \"profile_background_image_url\": \"http://abs.twimg.com/images/themes/theme7/bg.gif\", \"profile_background_image_url_https\": \"https://abs.twimg.com/images/themes/theme7/bg.gif\", \"profile_banner_url\": \"https://pbs.twimg.com/profile_banners/12/1483046077\", \"profile_image_url\": \"http://pbs.twimg.com/profile_images/839863609345794048/mkpdB9Tf_normal.jpg\", \"profile_image_url_https\": \"https://pbs.twimg.com/profile_images/839863609345794048/mkpdB9Tf_normal.jpg\", \"profile_link_color\": \"990000\", \"profile_sidebar_border_color\": \"DFDFDF\", \"profile_sidebar_fill_color\": \"F3F3F3\", \"profile_text_color\": \"333333\", \"profile_use_background_image\": true, \"screen_name\": \"jack\", \"statuses_count\": 23612, \"time_zone\": \"Pacific Time (US & Canada)\", \"utc_offset\": -25200, \"verified\": true}, \"user_mentions\": []}\n"
     ]
    }
   ],
   "source": [
    "print(examples[0])"
   ]
  },
  {
   "cell_type": "markdown",
   "metadata": {},
   "source": [
    "Language does not seem to be a reliable feature."
   ]
  },
  {
   "cell_type": "markdown",
   "metadata": {},
   "source": [
    "## Content features"
   ]
  },
  {
   "cell_type": "code",
   "execution_count": 44,
   "metadata": {},
   "outputs": [],
   "source": [
    "from textblob import TextBlob"
   ]
  },
  {
   "cell_type": "code",
   "execution_count": 45,
   "metadata": {},
   "outputs": [
    {
     "data": {
      "text/plain": [
       "'Something we’ve been wanting for a while: choose where live video should start playing and tweet it https://t.co/0KstH8TcPZ'"
      ]
     },
     "execution_count": 45,
     "metadata": {},
     "output_type": "execute_result"
    }
   ],
   "source": [
    "tweet.text"
   ]
  },
  {
   "cell_type": "code",
   "execution_count": 47,
   "metadata": {},
   "outputs": [
    {
     "data": {
      "text/plain": [
       "Sentiment(polarity=0.13636363636363635, subjectivity=0.5)"
      ]
     },
     "execution_count": 47,
     "metadata": {},
     "output_type": "execute_result"
    }
   ],
   "source": [
    "TextBlob(tweet.text).sentiment"
   ]
  },
  {
   "cell_type": "code",
   "execution_count": 49,
   "metadata": {},
   "outputs": [
    {
     "data": {
      "text/plain": [
       "'🚀📣 Really excited to launch Timestamps, an easy way to point people to the part within a live video that matters mo… https://t.co/XUhYZ8Eehe'"
      ]
     },
     "execution_count": 49,
     "metadata": {},
     "output_type": "execute_result"
    }
   ],
   "source": [
    "examples[0].quoted_status.text"
   ]
  },
  {
   "cell_type": "code",
   "execution_count": 50,
   "metadata": {},
   "outputs": [
    {
     "data": {
      "text/plain": [
       "Sentiment(polarity=0.3148989898989899, subjectivity=0.6944444444444445)"
      ]
     },
     "execution_count": 50,
     "metadata": {},
     "output_type": "execute_result"
    }
   ],
   "source": [
    "TextBlob(examples[0].quoted_status.text).sentiment"
   ]
  },
  {
   "cell_type": "code",
   "execution_count": 51,
   "metadata": {},
   "outputs": [
    {
     "data": {
      "text/plain": [
       "0.3148989898989899"
      ]
     },
     "execution_count": 51,
     "metadata": {},
     "output_type": "execute_result"
    }
   ],
   "source": [
    "sentiment, _ = TextBlob(examples[0].quoted_status.text).sentiment\n",
    "sentiment"
   ]
  },
  {
   "cell_type": "code",
   "execution_count": null,
   "metadata": {
    "collapsed": true
   },
   "outputs": [],
   "source": []
  }
 ],
 "metadata": {
  "kernelspec": {
   "display_name": "Python 3",
   "language": "python",
   "name": "python3"
  },
  "language_info": {
   "codemirror_mode": {
    "name": "ipython",
    "version": 3
   },
   "file_extension": ".py",
   "mimetype": "text/x-python",
   "name": "python",
   "nbconvert_exporter": "python",
   "pygments_lexer": "ipython3",
   "version": "3.6.3"
  }
 },
 "nbformat": 4,
 "nbformat_minor": 2
}
