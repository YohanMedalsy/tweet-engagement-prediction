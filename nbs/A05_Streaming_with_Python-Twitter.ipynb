{
 "cells": [
  {
   "cell_type": "code",
   "execution_count": 1,
   "metadata": {
    "collapsed": true
   },
   "outputs": [],
   "source": [
    "import os\n",
    "from dotenv import load_dotenv, find_dotenv"
   ]
  },
  {
   "cell_type": "code",
   "execution_count": 2,
   "metadata": {
    "collapsed": true
   },
   "outputs": [],
   "source": [
    "load_dotenv(find_dotenv())\n",
    "CONSUMER_KEY = os.getenv(\"TWITTER_CONSUMER_KEY\")\n",
    "CONSUMER_SECRET = os.getenv(\"TWITTER_CONSUMER_SECRET\")\n",
    "ACCESS_TOKEN_KEY = os.getenv(\"TWITTER_ACCESS_TOKEN_KEY\")\n",
    "ACCESS_TOKEN_SECRET = os.getenv(\"TWITTER_ACCESS_TOKEN_SECRET\")\n",
    "USER_IDS_PATH = \"data/user_ids.txt\""
   ]
  },
  {
   "cell_type": "code",
   "execution_count": 3,
   "metadata": {
    "collapsed": true
   },
   "outputs": [],
   "source": [
    "from twitter import Api"
   ]
  },
  {
   "cell_type": "code",
   "execution_count": 4,
   "metadata": {
    "collapsed": true
   },
   "outputs": [],
   "source": [
    "api = Api(CONSUMER_KEY,\n",
    "          CONSUMER_SECRET,\n",
    "          ACCESS_TOKEN_KEY,\n",
    "          ACCESS_TOKEN_SECRET)"
   ]
  },
  {
   "cell_type": "code",
   "execution_count": 5,
   "metadata": {
    "collapsed": true
   },
   "outputs": [],
   "source": [
    "tweets = api.GetUserTimeline()"
   ]
  },
  {
   "cell_type": "code",
   "execution_count": 6,
   "metadata": {},
   "outputs": [
    {
     "data": {
      "text/plain": [
       "[Status(ID=1044544639339040768, ScreenName=_fpeters, Created=Tue Sep 25 11:10:23 +0000 2018, Text='RT @startupsec_da: 🗯️Der StartUp &amp; Innovation Day rückt näher: am 22. Oktober trefft ihr zahlreiche #StartUps aus #RheinMain &amp; Initiativen…'),\n",
       " Status(ID=1043029729769533441, ScreenName=_fpeters, Created=Fri Sep 21 06:50:40 +0000 2018, Text='\"Forecasting at Uber: An Introduction\" https://t.co/fIgBxnWhSM'),\n",
       " Status(ID=1042068044955230209, ScreenName=_fpeters, Created=Tue Sep 18 15:09:17 +0000 2018, Text=\"RT @seanjtaylor: Incredible work on Bayesian Optimization by my colleagues on Facebook's Adaptive Experimentation team. This is the next ge…\"),\n",
       " Status(ID=1040225129253494784, ScreenName=_fpeters, Created=Thu Sep 13 13:06:11 +0000 2018, Text='Interesting read about deploying multimodal neural networks\\nhttps://t.co/1gk7LIm1oT'),\n",
       " Status(ID=1040224460392030213, ScreenName=_fpeters, Created=Thu Sep 13 13:03:32 +0000 2018, Text='Testing if retweets appear in the stream https://t.co/ab5mN5xcyi'),\n",
       " Status(ID=1040224257396097024, ScreenName=_fpeters, Created=Thu Sep 13 13:02:44 +0000 2018, Text='Testing a new Twitter library called tweepy for my retweet prediction project https://t.co/dkGtS8CLkA'),\n",
       " Status(ID=1037932670129463296, ScreenName=_fpeters, Created=Fri Sep 07 05:16:47 +0000 2018, Text=\"RT @thecheckdown: Catch didn't count but that footwork 😳  @juliojones_11 https://t.co/zpKBZCFH0h\"),\n",
       " Status(ID=1035762862780821505, ScreenName=_fpeters, Created=Sat Sep 01 05:34:44 +0000 2018, Text='RT @1FSVMainz05: UNSER TRAUM LEBT ... und wir kämpfen weiter! 💪 https://t.co/gMlz0B2pDi'),\n",
       " Status(ID=1035761842424033280, ScreenName=_fpeters, Created=Sat Sep 01 05:30:41 +0000 2018, Text='RT @1FSVMainz05: ... denn Toleranz und Weltoffenheit zählen zu unseren Werten – ohne Alternative! https://t.co/a295x9CN2B'),\n",
       " Status(ID=1035129602660806657, ScreenName=_fpeters, Created=Thu Aug 30 11:38:23 +0000 2018, Text='RT @StrictlyVC: Very Good Security makes data ‘unhackable’ with $8.5M from Andreessen https://t.co/emN7itjh2t'),\n",
       " Status(ID=1035074442437771264, ScreenName=_fpeters, Created=Thu Aug 30 07:59:12 +0000 2018, Text='Under the Hood of Uber’s Experimentation Platform https://t.co/xUVhWEkzQ2 via @ubereng'),\n",
       " Status(ID=1034458119865348096, ScreenName=_fpeters, Created=Tue Aug 28 15:10:09 +0000 2018, Text='https://t.co/GRVJ2SKgge'),\n",
       " Status(ID=1033257439586643968, ScreenName=_fpeters, Created=Sat Aug 25 07:39:05 +0000 2018, Text='RT @ThePracticalDev: Best Open Source Tools For Developers 🛠\\n\\n1. Screencat 🙀\\n2. Manta 💸\\n3. Brave Browser\\n4. Mark text 📝\\n5. IconGenerator 👾…'),\n",
       " Status(ID=1032141264765038592, ScreenName=_fpeters, Created=Wed Aug 22 05:43:48 +0000 2018, Text='RT @fchollet: Most AI problems have long tails -- like giraffes. Natural language question-answering, autonomous driving, fraud detection..…'),\n",
       " Status(ID=1031072848205565953, ScreenName=_fpeters, Created=Sun Aug 19 06:58:18 +0000 2018, Text='https://t.co/cpKnxh345i'),\n",
       " Status(ID=1031065466473771008, ScreenName=_fpeters, Created=Sun Aug 19 06:28:58 +0000 2018, Text='https://t.co/K4V9JsHcLH'),\n",
       " Status(ID=1030558206060318720, ScreenName=_fpeters, Created=Fri Aug 17 20:53:17 +0000 2018, Text='https://t.co/d5AfYUy5RG'),\n",
       " Status(ID=1026791604491886592, ScreenName=_fpeters, Created=Tue Aug 07 11:26:10 +0000 2018, Text='Building Automated Feature Rollouts on Robust Regression Analysis https://t.co/DwbWTQTtnD via @ubereng'),\n",
       " Status(ID=1023297149226954753, ScreenName=_fpeters, Created=Sat Jul 28 20:00:26 +0000 2018, Text='RT @swish41: Just had off season drug testing. Told the guy: Did you see me move last year?? If I was on something I need to change the pro…'),\n",
       " Status(ID=1020281481556611072, ScreenName=_fpeters, Created=Fri Jul 20 12:17:15 +0000 2018, Text='RT @DragonflyJonez: Melo is getting all $28M and has to decide between living in LA, Houston or Miami. What a fucking winner.')]"
      ]
     },
     "execution_count": 6,
     "metadata": {},
     "output_type": "execute_result"
    }
   ],
   "source": [
    "tweets"
   ]
  },
  {
   "cell_type": "code",
   "execution_count": 7,
   "metadata": {
    "collapsed": true
   },
   "outputs": [],
   "source": [
    "retweet = tweets[0]\n",
    "tweet = tweets[5]"
   ]
  },
  {
   "cell_type": "code",
   "execution_count": 39,
   "metadata": {},
   "outputs": [
    {
     "ename": "TypeError",
     "evalue": "'Status' object is not subscriptable",
     "output_type": "error",
     "traceback": [
      "\u001b[0;31m---------------------------------------------------------------------------\u001b[0m",
      "\u001b[0;31mTypeError\u001b[0m                                 Traceback (most recent call last)",
      "\u001b[0;32m<ipython-input-39-bff367071e00>\u001b[0m in \u001b[0;36m<module>\u001b[0;34m()\u001b[0m\n\u001b[0;32m----> 1\u001b[0;31m \u001b[0mretweet\u001b[0m\u001b[0;34m[\u001b[0m\u001b[0;34m'user'\u001b[0m\u001b[0;34m]\u001b[0m\u001b[0;34m.\u001b[0m\u001b[0m__dict__\u001b[0m\u001b[0;34m.\u001b[0m\u001b[0mkeys\u001b[0m\u001b[0;34m(\u001b[0m\u001b[0;34m)\u001b[0m\u001b[0;34m\u001b[0m\u001b[0m\n\u001b[0m",
      "\u001b[0;31mTypeError\u001b[0m: 'Status' object is not subscriptable"
     ]
    }
   ],
   "source": [
    "retweet['user'].__dict__.keys()"
   ]
  },
  {
   "cell_type": "code",
   "execution_count": 9,
   "metadata": {},
   "outputs": [
    {
     "data": {
      "text/plain": [
       "twitter.models.Status"
      ]
     },
     "execution_count": 9,
     "metadata": {},
     "output_type": "execute_result"
    }
   ],
   "source": [
    "type(retweet.retweeted_status)"
   ]
  },
  {
   "cell_type": "code",
   "execution_count": 10,
   "metadata": {},
   "outputs": [
    {
     "data": {
      "text/plain": [
       "twitter.models.Status"
      ]
     },
     "execution_count": 10,
     "metadata": {},
     "output_type": "execute_result"
    }
   ],
   "source": [
    "type(retweet)"
   ]
  },
  {
   "cell_type": "code",
   "execution_count": 11,
   "metadata": {},
   "outputs": [
    {
     "data": {
      "text/plain": [
       "str"
      ]
     },
     "execution_count": 11,
     "metadata": {},
     "output_type": "execute_result"
    }
   ],
   "source": [
    "type(retweet.created_at)"
   ]
  },
  {
   "cell_type": "code",
   "execution_count": 12,
   "metadata": {},
   "outputs": [
    {
     "data": {
      "text/plain": [
       "'Tue Sep 25 11:10:23 +0000 2018'"
      ]
     },
     "execution_count": 12,
     "metadata": {},
     "output_type": "execute_result"
    }
   ],
   "source": [
    "retweet.created_at"
   ]
  },
  {
   "cell_type": "code",
   "execution_count": 15,
   "metadata": {},
   "outputs": [
    {
     "data": {
      "text/plain": [
       "list"
      ]
     },
     "execution_count": 15,
     "metadata": {},
     "output_type": "execute_result"
    }
   ],
   "source": [
    "type(tweets[6].retweeted_status.media)"
   ]
  },
  {
   "cell_type": "code",
   "execution_count": 16,
   "metadata": {},
   "outputs": [
    {
     "data": {
      "text/plain": [
       "[Media(ID=1037898568823070720, Type=photo, DisplayURL='pic.twitter.com/zpKBZCFH0h')]"
      ]
     },
     "execution_count": 16,
     "metadata": {},
     "output_type": "execute_result"
    }
   ],
   "source": [
    "tweets[6].retweeted_status.media"
   ]
  },
  {
   "cell_type": "code",
   "execution_count": 17,
   "metadata": {},
   "outputs": [
    {
     "data": {
      "text/plain": [
       "1044138995226161152"
      ]
     },
     "execution_count": 17,
     "metadata": {},
     "output_type": "execute_result"
    }
   ],
   "source": [
    "retweet.quoted_status_id"
   ]
  },
  {
   "cell_type": "code",
   "execution_count": 18,
   "metadata": {},
   "outputs": [
    {
     "data": {
      "text/plain": [
       "Status(ID=1044150154083934208, ScreenName=startupsec_da, Created=Mon Sep 24 09:02:50 +0000 2018, Text='🗯️Der StartUp &amp; Innovation Day rückt näher: am 22. Oktober trefft ihr zahlreiche #StartUps aus #RheinMain &amp; Initiat… https://t.co/4PJZDVgPfS')"
      ]
     },
     "execution_count": 18,
     "metadata": {},
     "output_type": "execute_result"
    }
   ],
   "source": [
    "retweet.retweeted_status"
   ]
  },
  {
   "cell_type": "code",
   "execution_count": 19,
   "metadata": {},
   "outputs": [
    {
     "data": {
      "text/plain": [
       "'de'"
      ]
     },
     "execution_count": 19,
     "metadata": {},
     "output_type": "execute_result"
    }
   ],
   "source": [
    "retweet.lang"
   ]
  },
  {
   "cell_type": "code",
   "execution_count": 20,
   "metadata": {},
   "outputs": [
    {
     "data": {
      "text/plain": [
       "'en'"
      ]
     },
     "execution_count": 20,
     "metadata": {},
     "output_type": "execute_result"
    }
   ],
   "source": [
    "tweet.lang"
   ]
  },
  {
   "cell_type": "code",
   "execution_count": 21,
   "metadata": {
    "collapsed": true
   },
   "outputs": [],
   "source": [
    "tweet.user.utc_offset"
   ]
  },
  {
   "cell_type": "code",
   "execution_count": 22,
   "metadata": {
    "collapsed": true
   },
   "outputs": [],
   "source": [
    "retweet.user.utc_offset"
   ]
  },
  {
   "cell_type": "code",
   "execution_count": 23,
   "metadata": {},
   "outputs": [
    {
     "data": {
      "text/plain": [
       "[Hashtag(Text='StartUps'), Hashtag(Text='RheinMain')]"
      ]
     },
     "execution_count": 23,
     "metadata": {},
     "output_type": "execute_result"
    }
   ],
   "source": [
    "retweet.hashtags"
   ]
  },
  {
   "cell_type": "code",
   "execution_count": 24,
   "metadata": {},
   "outputs": [
    {
     "data": {
      "text/plain": [
       "[Hashtag(Text='StartUps'), Hashtag(Text='RheinMain')]"
      ]
     },
     "execution_count": 24,
     "metadata": {},
     "output_type": "execute_result"
    }
   ],
   "source": [
    "retweet.retweeted_status.hashtags"
   ]
  },
  {
   "cell_type": "code",
   "execution_count": 29,
   "metadata": {
    "collapsed": true
   },
   "outputs": [],
   "source": [
    "quote = tweets[4]"
   ]
  },
  {
   "cell_type": "code",
   "execution_count": 31,
   "metadata": {},
   "outputs": [
    {
     "data": {
      "text/plain": [
       "Status(ID=1040224257396097024, ScreenName=_fpeters, Created=Thu Sep 13 13:02:44 +0000 2018, Text='Testing a new Twitter library called tweepy for my retweet prediction project https://t.co/dkGtS8CLkA')"
      ]
     },
     "execution_count": 31,
     "metadata": {},
     "output_type": "execute_result"
    }
   ],
   "source": [
    "quote.quoted_status"
   ]
  },
  {
   "cell_type": "code",
   "execution_count": 32,
   "metadata": {},
   "outputs": [
    {
     "data": {
      "text/plain": [
       "[URL(URL=https://t.co/ab5mN5xcyi, ExpandedURL=https://twitter.com/_fpeters/status/1040224257396097024)]"
      ]
     },
     "execution_count": 32,
     "metadata": {},
     "output_type": "execute_result"
    }
   ],
   "source": [
    "quote.urls"
   ]
  },
  {
   "cell_type": "code",
   "execution_count": 33,
   "metadata": {},
   "outputs": [
    {
     "data": {
      "text/plain": [
       "[URL(URL=https://t.co/dkGtS8CLkA, ExpandedURL=https://github.com/tweepy/tweepy)]"
      ]
     },
     "execution_count": 33,
     "metadata": {},
     "output_type": "execute_result"
    }
   ],
   "source": [
    "quote.quoted_status.urls"
   ]
  },
  {
   "cell_type": "code",
   "execution_count": 35,
   "metadata": {},
   "outputs": [
    {
     "name": "stdout",
     "output_type": "stream",
     "text": [
      "False\n"
     ]
    }
   ],
   "source": [
    "if tweet.quoted_status:\n",
    "    print(True)\n",
    "else:\n",
    "    print(False)"
   ]
  },
  {
   "cell_type": "code",
   "execution_count": 36,
   "metadata": {},
   "outputs": [
    {
     "data": {
      "text/plain": [
       "True"
      ]
     },
     "execution_count": 36,
     "metadata": {},
     "output_type": "execute_result"
    }
   ],
   "source": [
    "hasattr(tweet, 'quoted_status')"
   ]
  },
  {
   "cell_type": "code",
   "execution_count": 38,
   "metadata": {},
   "outputs": [
    {
     "ename": "AttributeError",
     "evalue": "'NoneType' object has no attribute 'user'",
     "output_type": "error",
     "traceback": [
      "\u001b[0;31m---------------------------------------------------------------------------\u001b[0m",
      "\u001b[0;31mAttributeError\u001b[0m                            Traceback (most recent call last)",
      "\u001b[0;32m<ipython-input-38-a9cc53f44113>\u001b[0m in \u001b[0;36m<module>\u001b[0;34m()\u001b[0m\n\u001b[0;32m----> 1\u001b[0;31m \u001b[0mtweet\u001b[0m\u001b[0;34m.\u001b[0m\u001b[0mquoted_status\u001b[0m\u001b[0;34m.\u001b[0m\u001b[0muser\u001b[0m\u001b[0;34m.\u001b[0m\u001b[0mid\u001b[0m\u001b[0;34m\u001b[0m\u001b[0m\n\u001b[0m",
      "\u001b[0;31mAttributeError\u001b[0m: 'NoneType' object has no attribute 'user'"
     ]
    }
   ],
   "source": [
    "tweet.quoted_status.user.id"
   ]
  },
  {
   "cell_type": "code",
   "execution_count": 41,
   "metadata": {},
   "outputs": [
    {
     "data": {
      "text/plain": [
       "dict_keys(['param_defaults', 'contributors_enabled', 'created_at', 'default_profile', 'default_profile_image', 'description', 'email', 'favourites_count', 'followers_count', 'following', 'friends_count', 'geo_enabled', 'id', 'id_str', 'lang', 'listed_count', 'location', 'name', 'notifications', 'profile_background_color', 'profile_background_image_url', 'profile_background_image_url_https', 'profile_background_tile', 'profile_banner_url', 'profile_image_url', 'profile_image_url_https', 'profile_link_color', 'profile_sidebar_border_color', 'profile_sidebar_fill_color', 'profile_text_color', 'profile_use_background_image', 'protected', 'screen_name', 'status', 'statuses_count', 'time_zone', 'url', 'utc_offset', 'verified', 'withheld_in_countries', 'withheld_scope', '_json'])"
      ]
     },
     "execution_count": 41,
     "metadata": {},
     "output_type": "execute_result"
    }
   ],
   "source": [
    "tweet.user.__dict__.keys()"
   ]
  },
  {
   "cell_type": "code",
   "execution_count": 42,
   "metadata": {},
   "outputs": [
    {
     "data": {
      "text/plain": [
       "False"
      ]
     },
     "execution_count": 42,
     "metadata": {},
     "output_type": "execute_result"
    }
   ],
   "source": [
    "tweet.user.verified"
   ]
  },
  {
   "cell_type": "code",
   "execution_count": null,
   "metadata": {
    "collapsed": true
   },
   "outputs": [],
   "source": []
  }
 ],
 "metadata": {
  "kernelspec": {
   "display_name": "Python 3",
   "language": "python",
   "name": "python3"
  },
  "language_info": {
   "codemirror_mode": {
    "name": "ipython",
    "version": 3
   },
   "file_extension": ".py",
   "mimetype": "text/x-python",
   "name": "python",
   "nbconvert_exporter": "python",
   "pygments_lexer": "ipython3",
   "version": "3.6.3"
  }
 },
 "nbformat": 4,
 "nbformat_minor": 2
}
