{
 "cells": [
  {
   "cell_type": "code",
   "execution_count": 1,
   "metadata": {
    "collapsed": true
   },
   "outputs": [],
   "source": [
    "import os\n",
    "from dotenv import load_dotenv, find_dotenv"
   ]
  },
  {
   "cell_type": "code",
   "execution_count": 2,
   "metadata": {
    "collapsed": true
   },
   "outputs": [],
   "source": [
    "load_dotenv(find_dotenv())\n",
    "CONSUMER_KEY = os.getenv(\"TWITTER_CONSUMER_KEY\")\n",
    "CONSUMER_SECRET = os.getenv(\"TWITTER_CONSUMER_SECRET\")\n",
    "ACCESS_TOKEN_KEY = os.getenv(\"TWITTER_ACCESS_TOKEN_KEY\")\n",
    "ACCESS_TOKEN_SECRET = os.getenv(\"TWITTER_ACCESS_TOKEN_SECRET\")\n",
    "USER_IDS_PATH = \"data/user_ids.txt\""
   ]
  },
  {
   "cell_type": "code",
   "execution_count": 3,
   "metadata": {
    "collapsed": true
   },
   "outputs": [],
   "source": [
    "from twitter import Api"
   ]
  },
  {
   "cell_type": "code",
   "execution_count": 4,
   "metadata": {
    "collapsed": true
   },
   "outputs": [],
   "source": [
    "api = Api(CONSUMER_KEY,\n",
    "          CONSUMER_SECRET,\n",
    "          ACCESS_TOKEN_KEY,\n",
    "          ACCESS_TOKEN_SECRET)"
   ]
  },
  {
   "cell_type": "code",
   "execution_count": 5,
   "metadata": {
    "collapsed": true
   },
   "outputs": [],
   "source": [
    "tweets = api.GetHomeTimeline(count=100)"
   ]
  },
  {
   "cell_type": "code",
   "execution_count": 10,
   "metadata": {},
   "outputs": [
    {
     "name": "stdout",
     "output_type": "stream",
     "text": [
      "Hannover, Germany\n",
      "Brooklyn, NY\n",
      "\n",
      "Buenos Aires, AR\n",
      "Dublin\n",
      "California, USA\n",
      "Hannover, Germany\n",
      "Berlin\n",
      "NYC\n",
      "Mainz, Germany\n",
      "San Francisco Bay Area\n",
      "New York\n",
      "London\n",
      "San Francisco\n",
      "Pittsburgh, PA\n",
      "Pittsburgh, PA\n",
      "NYC\n",
      "Manchester, UK\n",
      "Austin, tx\n",
      "San Francisco, CA\n",
      "Berlin\n",
      "NYC\n",
      "Bonn\n",
      "FrankfurtRheinMain\n",
      "SEEKING SALVATION\n",
      "NYC\n",
      "\n",
      "Manchester, UK\n",
      "NYC\n",
      "FrankfurtRheinMain\n",
      "Berlin\n",
      "Singapore, Singapore\n",
      "Hannover, Germany\n",
      "San Francisco\n",
      "Seattle, WA \n",
      "ÜT: 40.76136,-73.980129\n",
      "Seattle, WA \n",
      "Seattle, WA \n",
      "Seattle, WA \n",
      "NYC, San Diego\n",
      "New York\n",
      "Berlin\n",
      "Hannover, Germany\n",
      "\n",
      "San Francisco\n",
      "San Francisco\n",
      "Darmstadt Frankfurt, Germany\n",
      "Darmstadt Frankfurt, Germany\n",
      "Darmstadt Frankfurt, Germany\n",
      "Darmstadt Frankfurt, Germany\n",
      "San Francisco\n",
      "NY/SF\n",
      "Brooklyn, NY\n",
      "Hannover, Germany\n",
      "Berlin\n",
      "Berlin\n",
      "\n",
      "Berlin, Germany\n",
      "London\n",
      "Philadelphia, PA\n",
      "Hannover, Germany\n",
      "Berlin\n",
      "London\n",
      "Berlin\n",
      "Hannover, Germany\n",
      "\n",
      "NY/SF\n",
      "San Francisco, CA\n",
      "Berlin\n",
      "\n",
      "Berlin\n",
      "London\n",
      "Dublin\n",
      "Dublin\n",
      "Brooklyn, NY\n",
      "Berlin\n",
      "Brooklyn, NY\n",
      "Berlin\n",
      "Manchester, UK\n",
      "Berlin\n",
      "San Francisco Bay Area\n",
      "\n",
      "Berlin\n",
      "San Francisco Bay Area\n",
      "Department of Australia\n",
      "\n",
      "ÜT: 37.795917,-122.39966\n",
      "Boston\n",
      "Berlin\n",
      "Berlin\n",
      "London\n",
      "Manchester, UK\n",
      "\n",
      "Hannover, Germany\n",
      "\n",
      "\n",
      "Berlin\n",
      "Berlin\n",
      "Berlin\n",
      "Israel\n"
     ]
    }
   ],
   "source": [
    "for t in tweets:\n",
    "    print(t.user.location)"
   ]
  },
  {
   "cell_type": "code",
   "execution_count": null,
   "metadata": {
    "collapsed": true
   },
   "outputs": [],
   "source": []
  }
 ],
 "metadata": {
  "kernelspec": {
   "display_name": "Python 3",
   "language": "python",
   "name": "python3"
  },
  "language_info": {
   "codemirror_mode": {
    "name": "ipython",
    "version": 3
   },
   "file_extension": ".py",
   "mimetype": "text/x-python",
   "name": "python",
   "nbconvert_exporter": "python",
   "pygments_lexer": "ipython3",
   "version": "3.6.3"
  }
 },
 "nbformat": 4,
 "nbformat_minor": 2
}
