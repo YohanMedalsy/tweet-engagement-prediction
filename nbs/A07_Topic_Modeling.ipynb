{
 "cells": [
  {
   "cell_type": "markdown",
   "metadata": {},
   "source": [
    "# Topic Modeling of tweets"
   ]
  },
  {
   "cell_type": "markdown",
   "metadata": {},
   "source": [
    "## Setup"
   ]
  },
  {
   "cell_type": "code",
   "execution_count": 1,
   "metadata": {
    "collapsed": true
   },
   "outputs": [],
   "source": [
    "from tep.accountCollector import AccountCollector"
   ]
  },
  {
   "cell_type": "code",
   "execution_count": 2,
   "metadata": {},
   "outputs": [
    {
     "name": "stdout",
     "output_type": "stream",
     "text": [
      "{\"created_at\": \"Thu May 01 12:37:22 +0000 2014\", \"description\": \"PhD Student @TUDarmstadt, doing research on Artificial Intelligence and Machine Learning. Supporting IT security startups @startupsec_da\", \"favourites_count\": 401, \"followers_count\": 58, \"friends_count\": 235, \"id\": 2472450259, \"id_str\": \"2472450259\", \"lang\": \"en\", \"listed_count\": 6, \"location\": \"Darmstadt, Germany\", \"name\": \"Felix Peters\", \"profile_background_color\": \"C0DEED\", \"profile_background_image_url\": \"http://abs.twimg.com/images/themes/theme1/bg.png\", \"profile_background_image_url_https\": \"https://abs.twimg.com/images/themes/theme1/bg.png\", \"profile_image_url\": \"http://pbs.twimg.com/profile_images/600953861629734913/7y_RkdW4_normal.jpg\", \"profile_image_url_https\": \"https://pbs.twimg.com/profile_images/600953861629734913/7y_RkdW4_normal.jpg\", \"profile_link_color\": \"224F82\", \"profile_sidebar_border_color\": \"C0DEED\", \"profile_sidebar_fill_color\": \"DDEEF6\", \"profile_text_color\": \"333333\", \"profile_use_background_image\": true, \"screen_name\": \"_fpeters\", \"status\": {\"created_at\": \"Fri Nov 09 07:19:16 +0000 2018\", \"id\": 1060793931481387008, \"id_str\": \"1060793931481387008\", \"lang\": \"und\", \"source\": \"<a href=\\\"http://twitter.com/download/android\\\" rel=\\\"nofollow\\\">Twitter for Android</a>\", \"text\": \"https://t.co/ZGHc9maEPB\"}, \"statuses_count\": 467, \"url\": \"https://t.co/KAhh0Hxkzm\"}\n"
     ]
    }
   ],
   "source": [
    "api = AccountCollector().api"
   ]
  },
  {
   "cell_type": "markdown",
   "metadata": {},
   "source": [
    "## Get user categories"
   ]
  },
  {
   "cell_type": "code",
   "execution_count": 3,
   "metadata": {
    "collapsed": true
   },
   "outputs": [],
   "source": [
    "categories = api.GetUserSuggestionCategories()"
   ]
  },
  {
   "cell_type": "code",
   "execution_count": 4,
   "metadata": {},
   "outputs": [
    {
     "name": "stdout",
     "output_type": "stream",
     "text": [
      "13\n",
      "<class 'twitter.models.Category'>\n"
     ]
    }
   ],
   "source": [
    "print(len(categories))\n",
    "print(type(categories[0]))"
   ]
  },
  {
   "cell_type": "code",
   "execution_count": 5,
   "metadata": {},
   "outputs": [
    {
     "data": {
      "text/plain": [
       "[Category(Name='Sports', Slug=sports, Size=16),\n",
       " Category(Name='Television', Slug=television, Size=13),\n",
       " Category(Name='Music', Slug=music, Size=15),\n",
       " Category(Name='Fashion', Slug=fashion, Size=15),\n",
       " Category(Name='Entertainment', Slug=entertainment, Size=14),\n",
       " Category(Name='Books', Slug=books, Size=12),\n",
       " Category(Name='Gaming', Slug=gaming, Size=15),\n",
       " Category(Name='Family', Slug=family, Size=9),\n",
       " Category(Name='Food & Drink', Slug=food-drink, Size=17),\n",
       " Category(Name='Funny', Slug=funny, Size=15),\n",
       " Category(Name='Business', Slug=business, Size=10),\n",
       " Category(Name='Government', Slug=government, Size=14),\n",
       " Category(Name='News', Slug=news, Size=18)]"
      ]
     },
     "execution_count": 5,
     "metadata": {},
     "output_type": "execute_result"
    }
   ],
   "source": [
    "categories"
   ]
  },
  {
   "cell_type": "markdown",
   "metadata": {},
   "source": [
    "## Get users for categories"
   ]
  },
  {
   "cell_type": "code",
   "execution_count": 8,
   "metadata": {},
   "outputs": [
    {
     "name": "stdout",
     "output_type": "stream",
     "text": [
      "Got 16 users for category Sports\n",
      "Got 13 users for category Television\n",
      "Got 15 users for category Music\n",
      "Got 15 users for category Fashion\n",
      "Got 14 users for category Entertainment\n",
      "Got 12 users for category Books\n",
      "Got 15 users for category Gaming\n",
      "Got 8 users for category Family\n",
      "Got 17 users for category Food & Drink\n",
      "Got 15 users for category Funny\n",
      "Got 10 users for category Business\n",
      "Got 14 users for category Government\n",
      "Got 18 users for category News\n"
     ]
    }
   ],
   "source": [
    "user_dict = {}\n",
    "for cat in categories:\n",
    "    users = api.GetUserSuggestion(category=cat)\n",
    "    print(\"Got {} users for category {}\".format(len(users), cat.name))\n",
    "    user_ids = [u.id for u in users]\n",
    "    user_dict[cat.slug] = user_ids"
   ]
  },
  {
   "cell_type": "markdown",
   "metadata": {},
   "source": [
    "## Get user tweets"
   ]
  },
  {
   "cell_type": "code",
   "execution_count": 11,
   "metadata": {},
   "outputs": [
    {
     "name": "stdout",
     "output_type": "stream",
     "text": [
      "Got 200 tweets for user 300392950\n",
      "Got 199 tweets for user 23083404\n",
      "Got 200 tweets for user 52422878\n",
      "Got 200 tweets for user 21254264\n",
      "Got 200 tweets for user 6446742\n",
      "Got 200 tweets for user 265483421\n",
      "Got 200 tweets for user 42562446\n",
      "Got 199 tweets for user 107146095\n",
      "Got 200 tweets for user 1059194370\n",
      "Got 198 tweets for user 98809456\n",
      "Got 199 tweets for user 145107843\n",
      "Got 200 tweets for user 2181233851\n",
      "Got 198 tweets for user 783763632\n",
      "Got 200 tweets for user 170759111\n",
      "Got 200 tweets for user 131948686\n",
      "Got 200 tweets for user 22449367\n",
      "Got 200 tweets for user 586198217\n",
      "Got 200 tweets for user 6480682\n",
      "Got 200 tweets for user 23544596\n",
      "Got 200 tweets for user 28785486\n",
      "Got 200 tweets for user 31080039\n",
      "Got 200 tweets for user 26585095\n",
      "Got 198 tweets for user 205302299\n",
      "Got 93 tweets for user 3353566654\n",
      "Got 200 tweets for user 3303293865\n",
      "Got 197 tweets for user 197598287\n",
      "Got 200 tweets for user 55117855\n",
      "Got 200 tweets for user 46296304\n",
      "Got 200 tweets for user 25460615\n",
      "Got 200 tweets for user 21447363\n",
      "Got 200 tweets for user 14230524\n",
      "Got 99 tweets for user 17919972\n",
      "Got 200 tweets for user 27260086\n",
      "Got 200 tweets for user 23375688\n",
      "Got 199 tweets for user 268414482\n",
      "Got 200 tweets for user 21111883\n",
      "Got 200 tweets for user 169686021\n",
      "Got 200 tweets for user 17074714\n",
      "Got 200 tweets for user 17019152\n",
      "Got 200 tweets for user 176566242\n",
      "Got 191 tweets for user 20322929\n",
      "Got 200 tweets for user 14920785\n",
      "Got 200 tweets for user 2246341620\n",
      "Got 200 tweets for user 379408088\n",
      "Got 200 tweets for user 326359913\n",
      "Got 200 tweets for user 16193578\n",
      "Got 200 tweets for user 136361303\n",
      "Got 200 tweets for user 109702885\n",
      "Got 200 tweets for user 47459700\n",
      "Got 200 tweets for user 53153263\n",
      "Got 200 tweets for user 262359713\n",
      "Got 200 tweets for user 178111058\n",
      "Got 199 tweets for user 141052723\n",
      "Got 200 tweets for user 15279429\n",
      "Got 200 tweets for user 76256268\n",
      "Got 200 tweets for user 59624844\n",
      "Got 200 tweets for user 72598780\n",
      "Got 200 tweets for user 19546942\n",
      "Got 200 tweets for user 183734502\n",
      "Got 200 tweets for user 90420314\n",
      "Got 200 tweets for user 15846407\n",
      "Got 200 tweets for user 436266454\n",
      "Got 200 tweets for user 23151437\n",
      "Got 200 tweets for user 25365536\n",
      "Got 199 tweets for user 48410093\n",
      "Got 199 tweets for user 71876190\n",
      "Got 199 tweets for user 27457788\n",
      "Got 200 tweets for user 20196258\n",
      "Got 200 tweets for user 25589776\n",
      "Got 200 tweets for user 16312576\n",
      "Got 200 tweets for user 20108560\n",
      "Got 200 tweets for user 1198406491\n",
      "Got 200 tweets for user 17602896\n",
      "Got 200 tweets for user 427475002\n",
      "Got 200 tweets for user 14677919\n",
      "Got 200 tweets for user 1434251\n",
      "Got 200 tweets for user 19927627\n",
      "Got 200 tweets for user 54730258\n",
      "Got 200 tweets for user 17544803\n",
      "Got 198 tweets for user 62513246\n",
      "Got 199 tweets for user 17790667\n",
      "Got 200 tweets for user 24886025\n",
      "Got 198 tweets for user 83876527\n",
      "Got 200 tweets for user 86613184\n",
      "Got 200 tweets for user 59157393\n",
      "Got 200 tweets for user 24742040\n",
      "Got 200 tweets for user 10671602\n",
      "Got 200 tweets for user 5162861\n",
      "Got 200 tweets for user 63485337\n",
      "Got 200 tweets for user 117652722\n",
      "Got 200 tweets for user 24585498\n",
      "Got 200 tweets for user 64488804\n",
      "Got 200 tweets for user 175624200\n",
      "Got 200 tweets for user 19738805\n",
      "Got 200 tweets for user 56768257\n",
      "Got 118 tweets for user 48485771\n",
      "Got 200 tweets for user 21378183\n",
      "Got 200 tweets for user 8369072\n",
      "Got 200 tweets for user 7861312\n",
      "Got 200 tweets for user 3359851\n",
      "Got 200 tweets for user 43192807\n",
      "Got 200 tweets for user 29730065\n",
      "Got 200 tweets for user 36782022\n",
      "Got 200 tweets for user 17308994\n",
      "Got 200 tweets for user 86330674\n",
      "Got 200 tweets for user 16730355\n",
      "Got 200 tweets for user 17088779\n",
      "Got 200 tweets for user 15220473\n",
      "Got 200 tweets for user 30278532\n",
      "Got 200 tweets for user 293850289\n",
      "Got 200 tweets for user 22843068\n",
      "Got 200 tweets for user 15846527\n",
      "Got 200 tweets for user 19519252\n",
      "Got 200 tweets for user 73206956\n",
      "Got 200 tweets for user 22156181\n",
      "Got 200 tweets for user 4020532937\n",
      "Got 200 tweets for user 2919257502\n",
      "Got 200 tweets for user 567591046\n",
      "Got 200 tweets for user 556388851\n",
      "Got 197 tweets for user 322285980\n",
      "Got 200 tweets for user 271398203\n",
      "Got 200 tweets for user 164122774\n",
      "Got 200 tweets for user 86328927\n",
      "Got 200 tweets for user 36980342\n",
      "Got 200 tweets for user 14119916\n",
      "Got 200 tweets for user 90420314\n",
      "Got 197 tweets for user 19562228\n",
      "Got 200 tweets for user 6480682\n",
      "Got 200 tweets for user 15485441\n",
      "Got 200 tweets for user 14075928\n",
      "Got 200 tweets for user 15693493\n",
      "Got 200 tweets for user 18948541\n",
      "Got 200 tweets for user 23544596\n",
      "Got 200 tweets for user 115485051\n",
      "Got 200 tweets for user 25521487\n",
      "Got 200 tweets for user 30364057\n",
      "Got 200 tweets for user 44039298\n",
      "Got 200 tweets for user 336116660\n",
      "Got 200 tweets for user 21506437\n",
      "Got 200 tweets for user 144130505\n",
      "Got 200 tweets for user 91478624\n",
      "Got 199 tweets for user 16228398\n",
      "Got 200 tweets for user 8161232\n",
      "Got 200 tweets for user 624413\n",
      "Got 200 tweets for user 25073877\n",
      "Got 200 tweets for user 621523\n",
      "Got 200 tweets for user 20402945\n",
      "Got 200 tweets for user 16581604\n",
      "Got 200 tweets for user 21323268\n",
      "Got 200 tweets for user 19407053\n",
      "Got 200 tweets for user 30313925\n",
      "Got 200 tweets for user 939091\n",
      "Got 200 tweets for user 17629860\n",
      "Got 200 tweets for user 14159148\n",
      "Got 200 tweets for user 222953824\n",
      "Got 200 tweets for user 9624742\n",
      "Got 200 tweets for user 15764644\n",
      "Got 200 tweets for user 36042554\n",
      "Got 200 tweets for user 73181712\n",
      "Got 200 tweets for user 1330457336\n",
      "Got 200 tweets for user 7713202\n",
      "Got 200 tweets for user 1339835893\n",
      "Got 200 tweets for user 1536791610\n",
      "Got 200 tweets for user 113047940\n",
      "Got 200 tweets for user 759251\n",
      "Got 200 tweets for user 807095\n",
      "Got 200 tweets for user 1367531\n",
      "Got 200 tweets for user 28785486\n",
      "Got 200 tweets for user 7744592\n",
      "Got 198 tweets for user 15224867\n",
      "Got 200 tweets for user 51241574\n",
      "Got 200 tweets for user 16129920\n",
      "Got 200 tweets for user 14293310\n",
      "Got 200 tweets for user 2467791\n",
      "Got 200 tweets for user 372575989\n",
      "Got 200 tweets for user 34713362\n",
      "Got 200 tweets for user 21982720\n",
      "Got 200 tweets for user 69181624\n",
      "Got 200 tweets for user 18812301\n",
      "Got 200 tweets for user 22685200\n",
      "Got 199 tweets for user 33514869\n",
      "Got 200 tweets for user 20182089\n",
      "Final dataset size: 35269\n"
     ]
    }
   ],
   "source": [
    "tweet_dict = {}\n",
    "for cat in user_dict:\n",
    "    users = user_dict[cat]\n",
    "    for u in users:\n",
    "        tweets = api.GetUserTimeline(user_id=u, count=200)\n",
    "        print(\"Got {} tweets for user {}\".format(len(tweets), u))\n",
    "        for t in tweets:\n",
    "            tweet = {\n",
    "                'id': t.id,\n",
    "                'text': t.text,\n",
    "                'topic': cat,\n",
    "            }\n",
    "            tweet_dict[str(t.id)] = tweet\n",
    "print(\"Final dataset size: {}\".format(len(tweet_dict)))"
   ]
  },
  {
   "cell_type": "markdown",
   "metadata": {},
   "source": [
    "## Save tweets to file"
   ]
  },
  {
   "cell_type": "code",
   "execution_count": 14,
   "metadata": {
    "collapsed": true
   },
   "outputs": [],
   "source": [
    "!mkdir -p data/topic/us-topics-181109"
   ]
  },
  {
   "cell_type": "code",
   "execution_count": 16,
   "metadata": {
    "collapsed": true
   },
   "outputs": [],
   "source": [
    "import json"
   ]
  },
  {
   "cell_type": "code",
   "execution_count": 17,
   "metadata": {
    "collapsed": true
   },
   "outputs": [],
   "source": [
    "with open('data/topic/us-topics-181109/train.json', 'w') as f:\n",
    "    json.dump(tweet_dict, f, indent=2, sort_keys=True)"
   ]
  },
  {
   "cell_type": "code",
   "execution_count": 19,
   "metadata": {},
   "outputs": [
    {
     "name": "stdout",
     "output_type": "stream",
     "text": [
      "total 14848\r\n",
      "-rw-r--r--  1 felix  staff   7.2M Nov  9 11:55 train.json\r\n"
     ]
    }
   ],
   "source": [
    "!ls -lh data/topic/us-topics-181109/"
   ]
  }
 ],
 "metadata": {
  "kernelspec": {
   "display_name": "Python 3",
   "language": "python",
   "name": "python3"
  },
  "language_info": {
   "codemirror_mode": {
    "name": "ipython",
    "version": 3
   },
   "file_extension": ".py",
   "mimetype": "text/x-python",
   "name": "python",
   "nbconvert_exporter": "python",
   "pygments_lexer": "ipython3",
   "version": "3.6.3"
  }
 },
 "nbformat": 4,
 "nbformat_minor": 2
}
