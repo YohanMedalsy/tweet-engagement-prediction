{
 "cells": [
  {
   "cell_type": "markdown",
   "metadata": {},
   "source": [
    "# Interpreting Random Forest model"
   ]
  },
  {
   "cell_type": "code",
   "execution_count": 1,
   "metadata": {},
   "outputs": [],
   "source": [
    "%load_ext autoreload\n",
    "%autoreload 2\n",
    "\n",
    "%matplotlib inline"
   ]
  },
  {
   "cell_type": "markdown",
   "metadata": {},
   "source": [
    "## Setup"
   ]
  },
  {
   "cell_type": "code",
   "execution_count": 2,
   "metadata": {},
   "outputs": [
    {
     "data": {
      "text/plain": [
       "(1293005, 24)"
      ]
     },
     "execution_count": 2,
     "metadata": {},
     "output_type": "execute_result"
    }
   ],
   "source": [
    "from tep.utils import load_array\n",
    "X = load_array('data/meta_features_v3.bc')\n",
    "X.shape"
   ]
  },
  {
   "cell_type": "code",
   "execution_count": 3,
   "metadata": {},
   "outputs": [
    {
     "data": {
      "text/plain": [
       "(1293005,)"
      ]
     },
     "execution_count": 3,
     "metadata": {},
     "output_type": "execute_result"
    }
   ],
   "source": [
    "y = load_array('data/log_labels_v3.bc')\n",
    "y.shape"
   ]
  },
  {
   "cell_type": "code",
   "execution_count": 4,
   "metadata": {},
   "outputs": [
    {
     "data": {
      "text/plain": [
       "array([[0., 1., 1., ..., 0., 0., 1.],\n",
       "       [0., 0., 2., ..., 0., 0., 1.],\n",
       "       [0., 0., 2., ..., 0., 0., 1.],\n",
       "       ...,\n",
       "       [1., 3., 0., ..., 0., 0., 0.],\n",
       "       [1., 3., 0., ..., 0., 0., 0.],\n",
       "       [1., 0., 0., ..., 5., 0., 0.]])"
      ]
     },
     "execution_count": 4,
     "metadata": {},
     "output_type": "execute_result"
    }
   ],
   "source": [
    "import numpy as np\n",
    "np.nan_to_num(X, copy=False)"
   ]
  },
  {
   "cell_type": "code",
   "execution_count": 5,
   "metadata": {},
   "outputs": [
    {
     "name": "stdout",
     "output_type": "stream",
     "text": [
      "(1283005, 24)\n",
      "(10000, 24)\n",
      "(1283005,)\n",
      "(10000,)\n"
     ]
    }
   ],
   "source": [
    "X_train = X[:-10000]\n",
    "y_train = y[:-10000]\n",
    "X_valid = X[-10000:]\n",
    "y_valid = y[-10000:]\n",
    "print(X_train.shape)\n",
    "print(X_valid.shape)\n",
    "print(y_train.shape)\n",
    "print(y_valid.shape)"
   ]
  },
  {
   "cell_type": "markdown",
   "metadata": {},
   "source": [
    "## Define metrics"
   ]
  },
  {
   "cell_type": "code",
   "execution_count": 6,
   "metadata": {},
   "outputs": [],
   "source": [
    "import math\n",
    "def rmse(x,y): return math.sqrt(((x-y)**2).mean())\n",
    "\n",
    "def print_score(m, ret_scores=False):\n",
    "    res = [rmse(m.predict(X_train), y_train), rmse(m.predict(X_valid), y_valid),\n",
    "                m.score(X_train, y_train), m.score(X_valid, y_valid)]\n",
    "    if hasattr(m, 'oob_score_'): res.append(m.oob_score_)\n",
    "    print(res)\n",
    "    if ret_scores: return res"
   ]
  },
  {
   "cell_type": "markdown",
   "metadata": {},
   "source": [
    "## Train model"
   ]
  },
  {
   "cell_type": "markdown",
   "metadata": {},
   "source": [
    "In the previous notebook we tested several configurations of the random forest. The best performing model contained **40 estimators** with **minimum of eight samples per leaf**, trained on **70% of all features**."
   ]
  },
  {
   "cell_type": "code",
   "execution_count": 8,
   "metadata": {},
   "outputs": [
    {
     "name": "stdout",
     "output_type": "stream",
     "text": [
      "[0.6707957466280481, 0.8175779715418852, 0.9016982087397064, 0.8527584944859646, 0.8495168526913917]\n"
     ]
    }
   ],
   "source": [
    "from sklearn.ensemble import RandomForestRegressor\n",
    "m = RandomForestRegressor(n_estimators=40, n_jobs=-1, min_samples_leaf=8, max_features=0.7, oob_score=True)\n",
    "m.fit(X_train, y_train)\n",
    "print_score(m)"
   ]
  },
  {
   "cell_type": "markdown",
   "metadata": {},
   "source": [
    "For comparison, we will train a random forest using non-transformed labels."
   ]
  },
  {
   "cell_type": "code",
   "execution_count": 25,
   "metadata": {},
   "outputs": [
    {
     "data": {
      "text/plain": [
       "(1293005,)"
      ]
     },
     "execution_count": 25,
     "metadata": {},
     "output_type": "execute_result"
    }
   ],
   "source": [
    "y_raw = load_array(\"data/raw_labels_v3.bc\")\n",
    "y_raw.shape"
   ]
  },
  {
   "cell_type": "code",
   "execution_count": 26,
   "metadata": {},
   "outputs": [
    {
     "name": "stdout",
     "output_type": "stream",
     "text": [
      "(1283005,)\n",
      "(10000,)\n"
     ]
    }
   ],
   "source": [
    "y_train = y_raw[:-10000]\n",
    "y_valid = y_raw[-10000:]\n",
    "print(y_train.shape)\n",
    "print(y_valid.shape)"
   ]
  },
  {
   "cell_type": "code",
   "execution_count": 27,
   "metadata": {},
   "outputs": [
    {
     "name": "stdout",
     "output_type": "stream",
     "text": [
      "[2995.3596392704617, 4364.868943091974, 0.5273509668970842, 0.39829022770789635, 0.3860061758245561]\n"
     ]
    }
   ],
   "source": [
    "m_raw = RandomForestRegressor(n_estimators=40, n_jobs=-1, min_samples_leaf=8, max_features=0.7, oob_score=True)\n",
    "m_raw.fit(X_train, y_train)\n",
    "print_score(m_raw)"
   ]
  },
  {
   "cell_type": "markdown",
   "metadata": {},
   "source": [
    "## Calculate feature importance"
   ]
  },
  {
   "cell_type": "code",
   "execution_count": 32,
   "metadata": {},
   "outputs": [],
   "source": [
    "import pandas as pd\n",
    "\n",
    "def rf_feat_importance(m, feat_map):\n",
    "    return pd.DataFrame({'cols':feat_map, 'imp':m.feature_importances_}\n",
    "                       ).sort_values('imp', ascending=False)"
   ]
  },
  {
   "cell_type": "code",
   "execution_count": 33,
   "metadata": {},
   "outputs": [],
   "source": [
    "from tep.featureGenerator import FeatureGenerator\n",
    "fg = FeatureGenerator()"
   ]
  },
  {
   "cell_type": "code",
   "execution_count": 34,
   "metadata": {},
   "outputs": [
    {
     "data": {
      "text/plain": [
       "array(['urls', 'hashtags', 'mentions', 'length', 'sentiment', 'followers',\n",
       "       'friends', 'follower_friend_ratio', 'verified', 'listings',\n",
       "       'tweets', 'tweet_freq', 'favorites', 'favorite_freq',\n",
       "       'account_age', 'month', 'day', 'weekday', 'hour', 'minute',\n",
       "       'quote', 'quoted_popularity', 'quoted_sentiment', 'reply'],\n",
       "      dtype='<U31')"
      ]
     },
     "execution_count": 34,
     "metadata": {},
     "output_type": "execute_result"
    }
   ],
   "source": [
    "_, feat_map = fg.structured_feature_map()\n",
    "feat_map"
   ]
  },
  {
   "cell_type": "code",
   "execution_count": 35,
   "metadata": {},
   "outputs": [
    {
     "data": {
      "text/html": [
       "<div>\n",
       "<style>\n",
       "    .dataframe thead tr:only-child th {\n",
       "        text-align: right;\n",
       "    }\n",
       "\n",
       "    .dataframe thead th {\n",
       "        text-align: left;\n",
       "    }\n",
       "\n",
       "    .dataframe tbody tr th {\n",
       "        vertical-align: top;\n",
       "    }\n",
       "</style>\n",
       "<table border=\"1\" class=\"dataframe\">\n",
       "  <thead>\n",
       "    <tr style=\"text-align: right;\">\n",
       "      <th></th>\n",
       "      <th>cols</th>\n",
       "      <th>imp</th>\n",
       "    </tr>\n",
       "  </thead>\n",
       "  <tbody>\n",
       "    <tr>\n",
       "      <th>5</th>\n",
       "      <td>followers</td>\n",
       "      <td>0.418107</td>\n",
       "    </tr>\n",
       "    <tr>\n",
       "      <th>23</th>\n",
       "      <td>reply</td>\n",
       "      <td>0.178038</td>\n",
       "    </tr>\n",
       "    <tr>\n",
       "      <th>9</th>\n",
       "      <td>listings</td>\n",
       "      <td>0.111371</td>\n",
       "    </tr>\n",
       "    <tr>\n",
       "      <th>7</th>\n",
       "      <td>follower_friend_ratio</td>\n",
       "      <td>0.040596</td>\n",
       "    </tr>\n",
       "    <tr>\n",
       "      <th>2</th>\n",
       "      <td>mentions</td>\n",
       "      <td>0.034990</td>\n",
       "    </tr>\n",
       "    <tr>\n",
       "      <th>10</th>\n",
       "      <td>tweets</td>\n",
       "      <td>0.029994</td>\n",
       "    </tr>\n",
       "    <tr>\n",
       "      <th>14</th>\n",
       "      <td>account_age</td>\n",
       "      <td>0.027194</td>\n",
       "    </tr>\n",
       "    <tr>\n",
       "      <th>12</th>\n",
       "      <td>favorites</td>\n",
       "      <td>0.022924</td>\n",
       "    </tr>\n",
       "    <tr>\n",
       "      <th>3</th>\n",
       "      <td>length</td>\n",
       "      <td>0.017954</td>\n",
       "    </tr>\n",
       "    <tr>\n",
       "      <th>11</th>\n",
       "      <td>tweet_freq</td>\n",
       "      <td>0.016650</td>\n",
       "    </tr>\n",
       "    <tr>\n",
       "      <th>13</th>\n",
       "      <td>favorite_freq</td>\n",
       "      <td>0.014102</td>\n",
       "    </tr>\n",
       "    <tr>\n",
       "      <th>6</th>\n",
       "      <td>friends</td>\n",
       "      <td>0.012038</td>\n",
       "    </tr>\n",
       "    <tr>\n",
       "      <th>15</th>\n",
       "      <td>month</td>\n",
       "      <td>0.011487</td>\n",
       "    </tr>\n",
       "    <tr>\n",
       "      <th>16</th>\n",
       "      <td>day</td>\n",
       "      <td>0.009983</td>\n",
       "    </tr>\n",
       "    <tr>\n",
       "      <th>19</th>\n",
       "      <td>minute</td>\n",
       "      <td>0.009786</td>\n",
       "    </tr>\n",
       "    <tr>\n",
       "      <th>18</th>\n",
       "      <td>hour</td>\n",
       "      <td>0.009271</td>\n",
       "    </tr>\n",
       "    <tr>\n",
       "      <th>21</th>\n",
       "      <td>quoted_popularity</td>\n",
       "      <td>0.008495</td>\n",
       "    </tr>\n",
       "    <tr>\n",
       "      <th>4</th>\n",
       "      <td>sentiment</td>\n",
       "      <td>0.007666</td>\n",
       "    </tr>\n",
       "    <tr>\n",
       "      <th>0</th>\n",
       "      <td>urls</td>\n",
       "      <td>0.006677</td>\n",
       "    </tr>\n",
       "    <tr>\n",
       "      <th>17</th>\n",
       "      <td>weekday</td>\n",
       "      <td>0.005778</td>\n",
       "    </tr>\n",
       "    <tr>\n",
       "      <th>1</th>\n",
       "      <td>hashtags</td>\n",
       "      <td>0.003508</td>\n",
       "    </tr>\n",
       "    <tr>\n",
       "      <th>20</th>\n",
       "      <td>quote</td>\n",
       "      <td>0.002200</td>\n",
       "    </tr>\n",
       "    <tr>\n",
       "      <th>22</th>\n",
       "      <td>quoted_sentiment</td>\n",
       "      <td>0.000734</td>\n",
       "    </tr>\n",
       "    <tr>\n",
       "      <th>8</th>\n",
       "      <td>verified</td>\n",
       "      <td>0.000456</td>\n",
       "    </tr>\n",
       "  </tbody>\n",
       "</table>\n",
       "</div>"
      ],
      "text/plain": [
       "                     cols       imp\n",
       "5               followers  0.418107\n",
       "23                  reply  0.178038\n",
       "9                listings  0.111371\n",
       "7   follower_friend_ratio  0.040596\n",
       "2                mentions  0.034990\n",
       "10                 tweets  0.029994\n",
       "14            account_age  0.027194\n",
       "12              favorites  0.022924\n",
       "3                  length  0.017954\n",
       "11             tweet_freq  0.016650\n",
       "13          favorite_freq  0.014102\n",
       "6                 friends  0.012038\n",
       "15                  month  0.011487\n",
       "16                    day  0.009983\n",
       "19                 minute  0.009786\n",
       "18                   hour  0.009271\n",
       "21      quoted_popularity  0.008495\n",
       "4               sentiment  0.007666\n",
       "0                    urls  0.006677\n",
       "17                weekday  0.005778\n",
       "1                hashtags  0.003508\n",
       "20                  quote  0.002200\n",
       "22       quoted_sentiment  0.000734\n",
       "8                verified  0.000456"
      ]
     },
     "execution_count": 35,
     "metadata": {},
     "output_type": "execute_result"
    }
   ],
   "source": [
    "rf_feat_importance(m, feat_map)"
   ]
  },
  {
   "cell_type": "code",
   "execution_count": 36,
   "metadata": {},
   "outputs": [
    {
     "data": {
      "text/html": [
       "<div>\n",
       "<style>\n",
       "    .dataframe thead tr:only-child th {\n",
       "        text-align: right;\n",
       "    }\n",
       "\n",
       "    .dataframe thead th {\n",
       "        text-align: left;\n",
       "    }\n",
       "\n",
       "    .dataframe tbody tr th {\n",
       "        vertical-align: top;\n",
       "    }\n",
       "</style>\n",
       "<table border=\"1\" class=\"dataframe\">\n",
       "  <thead>\n",
       "    <tr style=\"text-align: right;\">\n",
       "      <th></th>\n",
       "      <th>cols</th>\n",
       "      <th>imp</th>\n",
       "    </tr>\n",
       "  </thead>\n",
       "  <tbody>\n",
       "    <tr>\n",
       "      <th>9</th>\n",
       "      <td>listings</td>\n",
       "      <td>2.062409e-01</td>\n",
       "    </tr>\n",
       "    <tr>\n",
       "      <th>5</th>\n",
       "      <td>followers</td>\n",
       "      <td>1.398202e-01</td>\n",
       "    </tr>\n",
       "    <tr>\n",
       "      <th>18</th>\n",
       "      <td>hour</td>\n",
       "      <td>6.760689e-02</td>\n",
       "    </tr>\n",
       "    <tr>\n",
       "      <th>15</th>\n",
       "      <td>month</td>\n",
       "      <td>6.465752e-02</td>\n",
       "    </tr>\n",
       "    <tr>\n",
       "      <th>3</th>\n",
       "      <td>length</td>\n",
       "      <td>5.562783e-02</td>\n",
       "    </tr>\n",
       "    <tr>\n",
       "      <th>14</th>\n",
       "      <td>account_age</td>\n",
       "      <td>5.491744e-02</td>\n",
       "    </tr>\n",
       "    <tr>\n",
       "      <th>4</th>\n",
       "      <td>sentiment</td>\n",
       "      <td>4.266874e-02</td>\n",
       "    </tr>\n",
       "    <tr>\n",
       "      <th>6</th>\n",
       "      <td>friends</td>\n",
       "      <td>3.901104e-02</td>\n",
       "    </tr>\n",
       "    <tr>\n",
       "      <th>23</th>\n",
       "      <td>reply</td>\n",
       "      <td>3.383992e-02</td>\n",
       "    </tr>\n",
       "    <tr>\n",
       "      <th>19</th>\n",
       "      <td>minute</td>\n",
       "      <td>3.274124e-02</td>\n",
       "    </tr>\n",
       "    <tr>\n",
       "      <th>13</th>\n",
       "      <td>favorite_freq</td>\n",
       "      <td>3.220581e-02</td>\n",
       "    </tr>\n",
       "    <tr>\n",
       "      <th>7</th>\n",
       "      <td>follower_friend_ratio</td>\n",
       "      <td>3.189570e-02</td>\n",
       "    </tr>\n",
       "    <tr>\n",
       "      <th>16</th>\n",
       "      <td>day</td>\n",
       "      <td>3.101600e-02</td>\n",
       "    </tr>\n",
       "    <tr>\n",
       "      <th>0</th>\n",
       "      <td>urls</td>\n",
       "      <td>2.552087e-02</td>\n",
       "    </tr>\n",
       "    <tr>\n",
       "      <th>12</th>\n",
       "      <td>favorites</td>\n",
       "      <td>2.395825e-02</td>\n",
       "    </tr>\n",
       "    <tr>\n",
       "      <th>10</th>\n",
       "      <td>tweets</td>\n",
       "      <td>2.385201e-02</td>\n",
       "    </tr>\n",
       "    <tr>\n",
       "      <th>17</th>\n",
       "      <td>weekday</td>\n",
       "      <td>2.210534e-02</td>\n",
       "    </tr>\n",
       "    <tr>\n",
       "      <th>2</th>\n",
       "      <td>mentions</td>\n",
       "      <td>2.202406e-02</td>\n",
       "    </tr>\n",
       "    <tr>\n",
       "      <th>11</th>\n",
       "      <td>tweet_freq</td>\n",
       "      <td>1.862099e-02</td>\n",
       "    </tr>\n",
       "    <tr>\n",
       "      <th>21</th>\n",
       "      <td>quoted_popularity</td>\n",
       "      <td>1.648028e-02</td>\n",
       "    </tr>\n",
       "    <tr>\n",
       "      <th>1</th>\n",
       "      <td>hashtags</td>\n",
       "      <td>1.269495e-02</td>\n",
       "    </tr>\n",
       "    <tr>\n",
       "      <th>20</th>\n",
       "      <td>quote</td>\n",
       "      <td>1.427862e-03</td>\n",
       "    </tr>\n",
       "    <tr>\n",
       "      <th>22</th>\n",
       "      <td>quoted_sentiment</td>\n",
       "      <td>1.065962e-03</td>\n",
       "    </tr>\n",
       "    <tr>\n",
       "      <th>8</th>\n",
       "      <td>verified</td>\n",
       "      <td>1.871805e-07</td>\n",
       "    </tr>\n",
       "  </tbody>\n",
       "</table>\n",
       "</div>"
      ],
      "text/plain": [
       "                     cols           imp\n",
       "9                listings  2.062409e-01\n",
       "5               followers  1.398202e-01\n",
       "18                   hour  6.760689e-02\n",
       "15                  month  6.465752e-02\n",
       "3                  length  5.562783e-02\n",
       "14            account_age  5.491744e-02\n",
       "4               sentiment  4.266874e-02\n",
       "6                 friends  3.901104e-02\n",
       "23                  reply  3.383992e-02\n",
       "19                 minute  3.274124e-02\n",
       "13          favorite_freq  3.220581e-02\n",
       "7   follower_friend_ratio  3.189570e-02\n",
       "16                    day  3.101600e-02\n",
       "0                    urls  2.552087e-02\n",
       "12              favorites  2.395825e-02\n",
       "10                 tweets  2.385201e-02\n",
       "17                weekday  2.210534e-02\n",
       "2                mentions  2.202406e-02\n",
       "11             tweet_freq  1.862099e-02\n",
       "21      quoted_popularity  1.648028e-02\n",
       "1                hashtags  1.269495e-02\n",
       "20                  quote  1.427862e-03\n",
       "22       quoted_sentiment  1.065962e-03\n",
       "8                verified  1.871805e-07"
      ]
     },
     "execution_count": 36,
     "metadata": {},
     "output_type": "execute_result"
    }
   ],
   "source": [
    "rf_feat_importance(m_raw, feat_map)"
   ]
  },
  {
   "cell_type": "markdown",
   "metadata": {},
   "source": [
    "## Apply treeinterpreter"
   ]
  },
  {
   "cell_type": "code",
   "execution_count": 37,
   "metadata": {},
   "outputs": [
    {
     "data": {
      "text/html": [
       "<div>\n",
       "<style>\n",
       "    .dataframe thead tr:only-child th {\n",
       "        text-align: right;\n",
       "    }\n",
       "\n",
       "    .dataframe thead th {\n",
       "        text-align: left;\n",
       "    }\n",
       "\n",
       "    .dataframe tbody tr th {\n",
       "        vertical-align: top;\n",
       "    }\n",
       "</style>\n",
       "<table border=\"1\" class=\"dataframe\">\n",
       "  <thead>\n",
       "    <tr style=\"text-align: right;\">\n",
       "      <th></th>\n",
       "      <th>urls</th>\n",
       "      <th>hashtags</th>\n",
       "      <th>mentions</th>\n",
       "      <th>length</th>\n",
       "      <th>sentiment</th>\n",
       "      <th>followers</th>\n",
       "      <th>friends</th>\n",
       "      <th>follower_friend_ratio</th>\n",
       "      <th>verified</th>\n",
       "      <th>listings</th>\n",
       "      <th>...</th>\n",
       "      <th>account_age</th>\n",
       "      <th>month</th>\n",
       "      <th>day</th>\n",
       "      <th>weekday</th>\n",
       "      <th>hour</th>\n",
       "      <th>minute</th>\n",
       "      <th>quote</th>\n",
       "      <th>quoted_popularity</th>\n",
       "      <th>quoted_sentiment</th>\n",
       "      <th>reply</th>\n",
       "    </tr>\n",
       "  </thead>\n",
       "  <tbody>\n",
       "    <tr>\n",
       "      <th>0</th>\n",
       "      <td>0.0</td>\n",
       "      <td>1.0</td>\n",
       "      <td>1.0</td>\n",
       "      <td>103.0</td>\n",
       "      <td>0.312500</td>\n",
       "      <td>443717.0</td>\n",
       "      <td>781.0</td>\n",
       "      <td>568.139565</td>\n",
       "      <td>1.0</td>\n",
       "      <td>2751.0</td>\n",
       "      <td>...</td>\n",
       "      <td>3963.0</td>\n",
       "      <td>9.0</td>\n",
       "      <td>1.0</td>\n",
       "      <td>3.0</td>\n",
       "      <td>9.0</td>\n",
       "      <td>9.0</td>\n",
       "      <td>0.0</td>\n",
       "      <td>0.0</td>\n",
       "      <td>0.0</td>\n",
       "      <td>1.0</td>\n",
       "    </tr>\n",
       "    <tr>\n",
       "      <th>1</th>\n",
       "      <td>0.0</td>\n",
       "      <td>0.0</td>\n",
       "      <td>2.0</td>\n",
       "      <td>37.0</td>\n",
       "      <td>0.000000</td>\n",
       "      <td>79503.0</td>\n",
       "      <td>2136.0</td>\n",
       "      <td>37.220506</td>\n",
       "      <td>1.0</td>\n",
       "      <td>1020.0</td>\n",
       "      <td>...</td>\n",
       "      <td>3648.0</td>\n",
       "      <td>11.0</td>\n",
       "      <td>13.0</td>\n",
       "      <td>0.0</td>\n",
       "      <td>23.0</td>\n",
       "      <td>49.0</td>\n",
       "      <td>0.0</td>\n",
       "      <td>0.0</td>\n",
       "      <td>0.0</td>\n",
       "      <td>1.0</td>\n",
       "    </tr>\n",
       "    <tr>\n",
       "      <th>2</th>\n",
       "      <td>0.0</td>\n",
       "      <td>0.0</td>\n",
       "      <td>2.0</td>\n",
       "      <td>119.0</td>\n",
       "      <td>0.610000</td>\n",
       "      <td>1524959.0</td>\n",
       "      <td>1353.0</td>\n",
       "      <td>1127.094605</td>\n",
       "      <td>1.0</td>\n",
       "      <td>14295.0</td>\n",
       "      <td>...</td>\n",
       "      <td>4429.0</td>\n",
       "      <td>11.0</td>\n",
       "      <td>28.0</td>\n",
       "      <td>1.0</td>\n",
       "      <td>20.0</td>\n",
       "      <td>5.0</td>\n",
       "      <td>0.0</td>\n",
       "      <td>0.0</td>\n",
       "      <td>0.0</td>\n",
       "      <td>1.0</td>\n",
       "    </tr>\n",
       "    <tr>\n",
       "      <th>3</th>\n",
       "      <td>1.0</td>\n",
       "      <td>0.0</td>\n",
       "      <td>1.0</td>\n",
       "      <td>139.0</td>\n",
       "      <td>-0.500000</td>\n",
       "      <td>600213.0</td>\n",
       "      <td>7984.0</td>\n",
       "      <td>75.176979</td>\n",
       "      <td>1.0</td>\n",
       "      <td>4723.0</td>\n",
       "      <td>...</td>\n",
       "      <td>3753.0</td>\n",
       "      <td>2.0</td>\n",
       "      <td>23.0</td>\n",
       "      <td>4.0</td>\n",
       "      <td>18.0</td>\n",
       "      <td>11.0</td>\n",
       "      <td>0.0</td>\n",
       "      <td>0.0</td>\n",
       "      <td>0.0</td>\n",
       "      <td>1.0</td>\n",
       "    </tr>\n",
       "    <tr>\n",
       "      <th>4</th>\n",
       "      <td>1.0</td>\n",
       "      <td>1.0</td>\n",
       "      <td>0.0</td>\n",
       "      <td>132.0</td>\n",
       "      <td>0.112121</td>\n",
       "      <td>144853.0</td>\n",
       "      <td>937.0</td>\n",
       "      <td>154.592316</td>\n",
       "      <td>1.0</td>\n",
       "      <td>3463.0</td>\n",
       "      <td>...</td>\n",
       "      <td>3522.0</td>\n",
       "      <td>7.0</td>\n",
       "      <td>6.0</td>\n",
       "      <td>3.0</td>\n",
       "      <td>11.0</td>\n",
       "      <td>26.0</td>\n",
       "      <td>0.0</td>\n",
       "      <td>0.0</td>\n",
       "      <td>0.0</td>\n",
       "      <td>0.0</td>\n",
       "    </tr>\n",
       "  </tbody>\n",
       "</table>\n",
       "<p>5 rows × 24 columns</p>\n",
       "</div>"
      ],
      "text/plain": [
       "   urls  hashtags  mentions  length  sentiment  followers  friends  \\\n",
       "0   0.0       1.0       1.0   103.0   0.312500   443717.0    781.0   \n",
       "1   0.0       0.0       2.0    37.0   0.000000    79503.0   2136.0   \n",
       "2   0.0       0.0       2.0   119.0   0.610000  1524959.0   1353.0   \n",
       "3   1.0       0.0       1.0   139.0  -0.500000   600213.0   7984.0   \n",
       "4   1.0       1.0       0.0   132.0   0.112121   144853.0    937.0   \n",
       "\n",
       "   follower_friend_ratio  verified  listings  ...    account_age  month   day  \\\n",
       "0             568.139565       1.0    2751.0  ...         3963.0    9.0   1.0   \n",
       "1              37.220506       1.0    1020.0  ...         3648.0   11.0  13.0   \n",
       "2            1127.094605       1.0   14295.0  ...         4429.0   11.0  28.0   \n",
       "3              75.176979       1.0    4723.0  ...         3753.0    2.0  23.0   \n",
       "4             154.592316       1.0    3463.0  ...         3522.0    7.0   6.0   \n",
       "\n",
       "   weekday  hour  minute  quote  quoted_popularity  quoted_sentiment  reply  \n",
       "0      3.0   9.0     9.0    0.0                0.0               0.0    1.0  \n",
       "1      0.0  23.0    49.0    0.0                0.0               0.0    1.0  \n",
       "2      1.0  20.0     5.0    0.0                0.0               0.0    1.0  \n",
       "3      4.0  18.0    11.0    0.0                0.0               0.0    1.0  \n",
       "4      3.0  11.0    26.0    0.0                0.0               0.0    0.0  \n",
       "\n",
       "[5 rows x 24 columns]"
      ]
     },
     "execution_count": 37,
     "metadata": {},
     "output_type": "execute_result"
    }
   ],
   "source": [
    "df_trn = pd.DataFrame(data=X, columns=feat_map)\n",
    "df_trn.head()"
   ]
  },
  {
   "cell_type": "code",
   "execution_count": 43,
   "metadata": {},
   "outputs": [],
   "source": [
    "def split_vals(a,n_val): return a[:-n_val], a[-n_val:]"
   ]
  },
  {
   "cell_type": "code",
   "execution_count": 45,
   "metadata": {},
   "outputs": [],
   "source": [
    "def get_sample(df,n):\n",
    "    idxs = sorted(np.random.permutation(len(df))[:n])\n",
    "    return df.iloc[idxs].copy()"
   ]
  },
  {
   "cell_type": "code",
   "execution_count": 47,
   "metadata": {},
   "outputs": [
    {
     "data": {
      "text/plain": [
       "(1293005,)"
      ]
     },
     "execution_count": 47,
     "metadata": {},
     "output_type": "execute_result"
    }
   ],
   "source": [
    "y = load_array('data/log_labels_v3.bc')\n",
    "y.shape"
   ]
  },
  {
   "cell_type": "code",
   "execution_count": 48,
   "metadata": {},
   "outputs": [
    {
     "name": "stdout",
     "output_type": "stream",
     "text": [
      "(1283005,)\n",
      "(10000,)\n"
     ]
    }
   ],
   "source": [
    "y_train, y_valid = split_vals(y, 10000)\n",
    "print(y_train.shape)\n",
    "print(y_valid.shape)"
   ]
  },
  {
   "cell_type": "code",
   "execution_count": 61,
   "metadata": {},
   "outputs": [
    {
     "data": {
      "text/plain": [
       "(1283005, 24)"
      ]
     },
     "execution_count": 61,
     "metadata": {},
     "output_type": "execute_result"
    }
   ],
   "source": [
    "X_train, X_valid = split_vals(df_trn, 10000); X_train.shape"
   ]
  },
  {
   "cell_type": "code",
   "execution_count": 71,
   "metadata": {},
   "outputs": [],
   "source": [
    "from treeinterpreter import treeinterpreter as ti\n",
    "prediction, bias, contributions = ti.predict(m, X_valid[1:2])"
   ]
  },
  {
   "cell_type": "code",
   "execution_count": 72,
   "metadata": {},
   "outputs": [
    {
     "name": "stdout",
     "output_type": "stream",
     "text": [
      "3.121405459058773\n",
      "1.8236454637542998\n",
      "[-0.03816489 -0.03568983 -0.25982926  0.02382268  0.13959304 -0.42374356\n",
      "  0.00413381  0.05350015  0.00297669 -0.31881984  0.4490997   0.38680565\n",
      "  0.00845929  0.          0.78703153  0.01121192  0.12410323 -0.11099369\n",
      "  0.06698308  0.10046898 -0.00085226 -0.07473995  0.00661019  0.39579331]\n"
     ]
    }
   ],
   "source": [
    "print(prediction[0])\n",
    "print(bias[0])\n",
    "print(contributions[0])"
   ]
  },
  {
   "cell_type": "code",
   "execution_count": 73,
   "metadata": {},
   "outputs": [],
   "source": [
    "idxs = np.argsort(contributions[0])"
   ]
  },
  {
   "cell_type": "code",
   "execution_count": 74,
   "metadata": {},
   "outputs": [
    {
     "data": {
      "text/plain": [
       "[('followers', 27193.0, -0.4237435603821543),\n",
       " ('listings', 642.0, -0.3188198355181118),\n",
       " ('mentions', 2.0, -0.2598292585046424),\n",
       " ('weekday', 3.0, -0.1109936914092661),\n",
       " ('quoted_popularity', 0.0, -0.07473995146083852),\n",
       " ('urls', 1.0, -0.03816488937751009),\n",
       " ('hashtags', 0.0, -0.03568982997297095),\n",
       " ('quote', 0.0, -0.0008522585378449077),\n",
       " ('favorite_freq', 1.4424635332252835, 0.0),\n",
       " ('verified', 1.0, 0.0029766878459554836),\n",
       " ('friends', 647.0, 0.004133808191799082),\n",
       " ('quoted_sentiment', 0.0, 0.006610193143970067),\n",
       " ('favorites', 890.0, 0.008459289233740364),\n",
       " ('month', 3.0, 0.011211923012183555),\n",
       " ('length', 140.0, 0.02382268056274154),\n",
       " ('follower_friend_ratio', 42.02936630602782, 0.053500154377050316),\n",
       " ('hour', 11.0, 0.06698307627387265),\n",
       " ('minute', 22.0, 0.1004689835981247),\n",
       " ('day', 2.0, 0.12410322998088832),\n",
       " ('sentiment', 0.0, 0.13959304358179886),\n",
       " ('tweet_freq', 4.8525121555915725, 0.3868056548405163),\n",
       " ('reply', 0.0, 0.3957933132292604),\n",
       " ('tweets', 2994.0, 0.4490997039884014),\n",
       " ('account_age', 617.0, 0.7870315286075092)]"
      ]
     },
     "execution_count": 74,
     "metadata": {},
     "output_type": "execute_result"
    }
   ],
   "source": [
    "[o for o in zip(df_trn.columns[idxs], df_trn.iloc[-9999][idxs], contributions[0][idxs])]"
   ]
  },
  {
   "cell_type": "markdown",
   "metadata": {},
   "source": [
    "## Partial dependence plots"
   ]
  },
  {
   "cell_type": "code",
   "execution_count": null,
   "metadata": {},
   "outputs": [],
   "source": []
  }
 ],
 "metadata": {
  "kernelspec": {
   "display_name": "Python 3",
   "language": "python",
   "name": "python3"
  },
  "language_info": {
   "codemirror_mode": {
    "name": "ipython",
    "version": 3
   },
   "file_extension": ".py",
   "mimetype": "text/x-python",
   "name": "python",
   "nbconvert_exporter": "python",
   "pygments_lexer": "ipython3",
   "version": "3.6.3"
  }
 },
 "nbformat": 4,
 "nbformat_minor": 2
}
