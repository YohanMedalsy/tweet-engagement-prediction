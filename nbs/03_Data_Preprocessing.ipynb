{
 "cells": [
  {
   "cell_type": "markdown",
   "metadata": {},
   "source": [
    "# Step 3: Data Preprocessing\n",
    "\n",
    "The following steps need to be completed in order to prepare the data for model development:\n",
    "1. Load data from file\n",
    "2. Randomize tweet order\n",
    "3. Extract and save tweet content\n",
    "4. Extract and save structured features\n",
    "5. Extract and save labels\n",
    "6. Prepare word embeddings\n",
    "\n",
    "## Load data from file"
   ]
  },
  {
   "cell_type": "code",
   "execution_count": 1,
   "metadata": {
    "collapsed": true
   },
   "outputs": [],
   "source": [
    "%load_ext autoreload\n",
    "%autoreload 2\n",
    "\n",
    "%matplotlib inline"
   ]
  },
  {
   "cell_type": "code",
   "execution_count": 2,
   "metadata": {
    "collapsed": true
   },
   "outputs": [],
   "source": [
    "from tep.dataLoader import DataLoader\n",
    "dl = DataLoader()"
   ]
  },
  {
   "cell_type": "code",
   "execution_count": 3,
   "metadata": {},
   "outputs": [
    {
     "data": {
      "text/plain": [
       "284701"
      ]
     },
     "execution_count": 3,
     "metadata": {},
     "output_type": "execute_result"
    }
   ],
   "source": [
    "# load tweets from file\n",
    "tweets = dl.load_from_file(filename=\"data/tweets_1.json\", ignore_retweets=True)\n",
    "len(tweets)"
   ]
  },
  {
   "cell_type": "code",
   "execution_count": 4,
   "metadata": {},
   "outputs": [
    {
     "data": {
      "text/plain": [
       "565486"
      ]
     },
     "execution_count": 4,
     "metadata": {},
     "output_type": "execute_result"
    }
   ],
   "source": [
    "tweets += dl.load_from_file(filename=\"data/tweets_2.json\", ignore_retweets=True)\n",
    "len(tweets)"
   ]
  },
  {
   "cell_type": "code",
   "execution_count": 5,
   "metadata": {},
   "outputs": [
    {
     "data": {
      "text/plain": [
       "781721"
      ]
     },
     "execution_count": 5,
     "metadata": {},
     "output_type": "execute_result"
    }
   ],
   "source": [
    "tweets += dl.load_from_file(filename=\"data/tweets_3.json\", ignore_retweets=True)\n",
    "len(tweets)"
   ]
  },
  {
   "cell_type": "code",
   "execution_count": 6,
   "metadata": {},
   "outputs": [
    {
     "data": {
      "text/plain": [
       "1031077"
      ]
     },
     "execution_count": 6,
     "metadata": {},
     "output_type": "execute_result"
    }
   ],
   "source": [
    "tweets += dl.load_from_file(filename=\"data/tweets_4.json\", ignore_retweets=True)\n",
    "len(tweets)"
   ]
  },
  {
   "cell_type": "code",
   "execution_count": 7,
   "metadata": {},
   "outputs": [
    {
     "data": {
      "text/plain": [
       "1293005"
      ]
     },
     "execution_count": 7,
     "metadata": {},
     "output_type": "execute_result"
    }
   ],
   "source": [
    "tweets += dl.load_from_file(filename=\"data/tweets_5.json\", ignore_retweets=True)\n",
    "len(tweets)"
   ]
  },
  {
   "cell_type": "code",
   "execution_count": 8,
   "metadata": {},
   "outputs": [
    {
     "data": {
      "text/plain": [
       "[Status(ID=979429522687762432, ScreenName=jack, Created=Thu Mar 29 18:46:09 +0000 2018, Text='Something we’ve been wanting for a while: choose where live video should start playing and tweet it https://t.co/0KstH8TcPZ'),\n",
       " Status(ID=979169950169317381, ScreenName=jack, Created=Thu Mar 29 01:34:42 +0000 2018, Text='@freialobo I’d never decline your meeting'),\n",
       " Status(ID=979100832535736320, ScreenName=jack, Created=Wed Mar 28 21:00:03 +0000 2018, Text='@tperzyk Thank you so much Tim!'),\n",
       " Status(ID=979026218027597824, ScreenName=jack, Created=Wed Mar 28 16:03:34 +0000 2018, Text='Full discussion with Maryam @TopekaKSam and @ShakaSenghor now available 👇🏼 https://t.co/gfbkmpJeja'),\n",
       " Status(ID=978818682062225408, ScreenName=jack, Created=Wed Mar 28 02:18:54 +0000 2018, Text='@chrissyteigen ✋🏼🤚🏼')]"
      ]
     },
     "execution_count": 8,
     "metadata": {},
     "output_type": "execute_result"
    }
   ],
   "source": [
    "tweets[:5]"
   ]
  },
  {
   "cell_type": "markdown",
   "metadata": {},
   "source": [
    "## Randomize tweet order"
   ]
  },
  {
   "cell_type": "code",
   "execution_count": 9,
   "metadata": {},
   "outputs": [
    {
     "data": {
      "text/plain": [
       "[Status(ID=871825684414566400, ScreenName=tobykeith, Created=Mon Jun 05 20:26:55 +0000 2017, Text=\"When she says she doesn't date guys who drive pickups. https://t.co/pzzaJJacyy\"),\n",
       " Status(ID=830086028782354432, ScreenName=AmTrustInsured, Created=Fri Feb 10 16:08:26 +0000 2017, Text='Are you a wood products manufacturer? Call your agent to learn loss prevention tips to help lower lumber premiums:… https://t.co/xWhlA2Q9lU'),\n",
       " Status(ID=883337723515465728, ScreenName=AEPnews, Created=Fri Jul 07 14:51:39 +0000 2017, Text='#JOB: We are #hiring an Instrument Technician in Pittsburg, TX. | https://t.co/bdVrd9oioH'),\n",
       " Status(ID=733010516348653569, ScreenName=jpmorgan, Created=Wed May 18 19:05:00 +0000 2016, Text='We welcome Peter Meath to $JPM as our new head of life sciences in the commercial banking business. https://t.co/rfFTFBZCjr'),\n",
       " Status(ID=872902594976518144, ScreenName=MotoSolutions, Created=Thu Jun 08 19:46:11 +0000 2017, Text='@hemilp9 We wish we could help you, but the device you described is not ours. Visit https://t.co/p6e9Dkj8vQ for help from @Moto_Support')]"
      ]
     },
     "execution_count": 9,
     "metadata": {},
     "output_type": "execute_result"
    }
   ],
   "source": [
    "# randomize tweet order\n",
    "import random\n",
    "random.shuffle(tweets)\n",
    "tweets[:5]"
   ]
  },
  {
   "cell_type": "markdown",
   "metadata": {},
   "source": [
    "## Extract and save tweet content"
   ]
  },
  {
   "cell_type": "code",
   "execution_count": 10,
   "metadata": {
    "collapsed": true
   },
   "outputs": [],
   "source": [
    "from tep.dataPreprocessor import DataPreprocessor\n",
    "dp = DataPreprocessor()"
   ]
  },
  {
   "cell_type": "code",
   "execution_count": 11,
   "metadata": {},
   "outputs": [
    {
     "data": {
      "text/plain": [
       "[\"when she says she doesn't date guys who drive pickups . <url>\",\n",
       " 'are you a wood products manufacturer ? call your agent to learn loss prevention tips to help lower lumber premiums:… <url>',\n",
       " '<hashtag> job <allcaps>: <allcaps> we are <hashtag> hiring an instrument technician in pittsburg, tx <allcaps> . | <url>',\n",
       " 'we welcome peter meath to $jpm <allcaps> as our new head of life sciences in the commercial banking business . <url>',\n",
       " '<user> we wish we could help you, but the device you described is not ours . visit <url> for help from <user>']"
      ]
     },
     "execution_count": 11,
     "metadata": {},
     "output_type": "execute_result"
    }
   ],
   "source": [
    "# test extracting content\n",
    "texts = dp.extract_content(tweets)\n",
    "texts[:5]"
   ]
  },
  {
   "cell_type": "code",
   "execution_count": 12,
   "metadata": {
    "collapsed": true
   },
   "outputs": [],
   "source": [
    "# save tweet texts to file\n",
    "from tep.utils import save_as_text\n",
    "save_as_text(texts, \"data/tweet_texts.txt\")"
   ]
  },
  {
   "cell_type": "markdown",
   "metadata": {},
   "source": [
    "## Extract and save structured (auxiliary) features"
   ]
  },
  {
   "cell_type": "code",
   "execution_count": 13,
   "metadata": {},
   "outputs": [
    {
     "data": {
      "text/plain": [
       "array([[  0.00000000e+00,   0.00000000e+00,   0.00000000e+00,\n",
       "          7.80000000e+01,   1.28217000e+06,   4.02900000e+03,\n",
       "          1.00000000e+00,   3.13200000e+03,   1.36230000e+04,\n",
       "          4.04964328e+00,   4.13400000e+03,   1.22889417e+00,\n",
       "          3.36400000e+03,   2.00000000e+01,   0.00000000e+00],\n",
       "       [  1.00000000e+00,   0.00000000e+00,   0.00000000e+00,\n",
       "          1.39000000e+02,   2.56700000e+03,   2.93100000e+03,\n",
       "          0.00000000e+00,   4.60000000e+01,   2.31800000e+03,\n",
       "          1.11549567e+00,   2.01000000e+02,   9.67276227e-02,\n",
       "          2.07800000e+03,   1.60000000e+01,   0.00000000e+00],\n",
       "       [  1.00000000e+00,   2.00000000e+00,   0.00000000e+00,\n",
       "          8.90000000e+01,   1.45800000e+04,   2.44700000e+03,\n",
       "          1.00000000e+00,   3.80000000e+02,   7.33300000e+03,\n",
       "          2.22077529e+00,   1.38500000e+03,   4.19442762e-01,\n",
       "          3.30200000e+03,   1.40000000e+01,   0.00000000e+00],\n",
       "       [  1.00000000e+00,   0.00000000e+00,   0.00000000e+00,\n",
       "          1.23000000e+02,   4.15819000e+05,   5.00000000e+01,\n",
       "          1.00000000e+00,   2.38200000e+03,   5.77500000e+03,\n",
       "          2.97067901e+00,   2.50000000e+02,   1.28600823e-01,\n",
       "          1.94400000e+03,   1.90000000e+01,   0.00000000e+00],\n",
       "       [  1.00000000e+00,   0.00000000e+00,   2.00000000e+00,\n",
       "          1.35000000e+02,   2.12850000e+04,   2.56800000e+03,\n",
       "          1.00000000e+00,   4.35000000e+02,   1.25130000e+04,\n",
       "          4.45778411e+00,   9.23900000e+03,   3.29141432e+00,\n",
       "          2.80700000e+03,   1.90000000e+01,   0.00000000e+00]])"
      ]
     },
     "execution_count": 13,
     "metadata": {},
     "output_type": "execute_result"
    }
   ],
   "source": [
    "# extract auxiliary features\n",
    "feats = dp.extract_additional_features(tweets)\n",
    "feats[:5]"
   ]
  },
  {
   "cell_type": "code",
   "execution_count": 14,
   "metadata": {},
   "outputs": [
    {
     "data": {
      "text/plain": [
       "(1293005, 15)"
      ]
     },
     "execution_count": 14,
     "metadata": {},
     "output_type": "execute_result"
    }
   ],
   "source": [
    "feats.shape"
   ]
  },
  {
   "cell_type": "code",
   "execution_count": 15,
   "metadata": {
    "collapsed": true
   },
   "outputs": [],
   "source": [
    "# save aux features to file\n",
    "from tep.utils import save_array\n",
    "save_array(feats, \"data/auxiliary_features.bc\")"
   ]
  },
  {
   "cell_type": "code",
   "execution_count": 16,
   "metadata": {},
   "outputs": [
    {
     "data": {
      "text/plain": [
       "array([[  0.00000000e+00,   0.00000000e+00,   0.00000000e+00,\n",
       "          7.80000000e+01,   1.28217000e+06,   4.02900000e+03,\n",
       "          1.00000000e+00,   3.13200000e+03,   1.36230000e+04,\n",
       "          4.04964328e+00,   4.13400000e+03,   1.22889417e+00,\n",
       "          3.36400000e+03,   2.00000000e+01,   0.00000000e+00]])"
      ]
     },
     "execution_count": 16,
     "metadata": {},
     "output_type": "execute_result"
    }
   ],
   "source": [
    "# test loading the data\n",
    "from tep.utils import load_array\n",
    "feats = load_array(\"data/auxiliary_features.bc\")\n",
    "feats[:1]"
   ]
  },
  {
   "cell_type": "markdown",
   "metadata": {},
   "source": [
    "## Extract and save labels\n",
    "\n",
    "### Labels for regression task"
   ]
  },
  {
   "cell_type": "code",
   "execution_count": 17,
   "metadata": {},
   "outputs": [
    {
     "data": {
      "text/plain": [
       "array([120,   0,   3,   5,   0])"
      ]
     },
     "execution_count": 17,
     "metadata": {},
     "output_type": "execute_result"
    }
   ],
   "source": [
    "# extract regression labels\n",
    "counts = dp.extract_labels(tweets)\n",
    "counts[:5]"
   ]
  },
  {
   "cell_type": "code",
   "execution_count": 18,
   "metadata": {},
   "outputs": [
    {
     "data": {
      "text/plain": [
       "(1293005,)"
      ]
     },
     "execution_count": 18,
     "metadata": {},
     "output_type": "execute_result"
    }
   ],
   "source": [
    "counts.shape"
   ]
  },
  {
   "cell_type": "code",
   "execution_count": 19,
   "metadata": {
    "collapsed": true
   },
   "outputs": [],
   "source": [
    "# save regression labels to file\n",
    "save_array(counts, \"data/regression_labels.bc\")"
   ]
  },
  {
   "cell_type": "markdown",
   "metadata": {},
   "source": [
    "### Labels for classification task"
   ]
  },
  {
   "cell_type": "code",
   "execution_count": 21,
   "metadata": {},
   "outputs": [
    {
     "data": {
      "text/plain": [
       "[0, 9, 99, 999]"
      ]
     },
     "execution_count": 21,
     "metadata": {},
     "output_type": "execute_result"
    }
   ],
   "source": [
    "# get class configuration\n",
    "from tep.config import Config\n",
    "config = Config()\n",
    "buckets = config.CLASSES\n",
    "buckets"
   ]
  },
  {
   "cell_type": "code",
   "execution_count": 23,
   "metadata": {},
   "outputs": [
    {
     "data": {
      "text/plain": [
       "array([ 3.,  0.,  1.,  1.,  0.])"
      ]
     },
     "execution_count": 23,
     "metadata": {},
     "output_type": "execute_result"
    }
   ],
   "source": [
    "# extract classification labels\n",
    "classes = dp.extract_labels(tweets, classes=buckets)\n",
    "classes[:5]"
   ]
  },
  {
   "cell_type": "code",
   "execution_count": 24,
   "metadata": {},
   "outputs": [
    {
     "data": {
      "text/plain": [
       "(1293005,)"
      ]
     },
     "execution_count": 24,
     "metadata": {},
     "output_type": "execute_result"
    }
   ],
   "source": [
    "classes.shape"
   ]
  },
  {
   "cell_type": "code",
   "execution_count": 25,
   "metadata": {
    "collapsed": true
   },
   "outputs": [],
   "source": [
    "save_array(classes, \"data/classification_labels.bc\")"
   ]
  },
  {
   "cell_type": "code",
   "execution_count": 28,
   "metadata": {
    "collapsed": true
   },
   "outputs": [],
   "source": [
    "# free up memory\n",
    "tweets = None"
   ]
  },
  {
   "cell_type": "markdown",
   "metadata": {},
   "source": [
    "## Prepare word embeddings\n",
    "\n",
    "### Create word index"
   ]
  },
  {
   "cell_type": "code",
   "execution_count": 29,
   "metadata": {
    "collapsed": true
   },
   "outputs": [],
   "source": [
    "# prepare word embedding\n",
    "from tep.embeddingGenerator import EmbeddingGenerator\n",
    "eg = EmbeddingGenerator()"
   ]
  },
  {
   "cell_type": "code",
   "execution_count": 30,
   "metadata": {
    "collapsed": true
   },
   "outputs": [],
   "source": [
    "word_index = eg.generate_word_index(texts)"
   ]
  },
  {
   "cell_type": "code",
   "execution_count": 31,
   "metadata": {},
   "outputs": [
    {
     "data": {
      "text/plain": [
       "{'<url>': 1,\n",
       " '.': 2,\n",
       " '<user>': 3,\n",
       " 'the': 4,\n",
       " 'to': 5,\n",
       " '<hashtag>': 6,\n",
       " '<allcaps>': 7,\n",
       " 'a': 8,\n",
       " 'for': 9,\n",
       " '!': 10,\n",
       " 'of': 11,\n",
       " 'in': 12,\n",
       " 'and': 13,\n",
       " 'you': 14,\n",
       " 'is': 15,\n",
       " '<number>': 16,\n",
       " 'on': 17,\n",
       " 'we': 18,\n",
       " 'your': 19,\n",
       " 'this': 20,\n",
       " 'with': 21,\n",
       " 'our': 22,\n",
       " '?': 23,\n",
       " 'at': 24,\n",
       " '&amp;': 25,\n",
       " 'i': 26,\n",
       " 'are': 27,\n",
       " 'that': 28,\n",
       " 'it': 29,\n",
       " 'be': 30,\n",
       " 'us': 31,\n",
       " 'can': 32,\n",
       " 'have': 33,\n",
       " 'from': 34,\n",
       " '/': 35,\n",
       " 'more': 36,\n",
       " 'about': 37,\n",
       " 'will': 38,\n",
       " 'by': 39,\n",
       " 'my': 40,\n",
       " 'how': 41,\n",
       " 'out': 42,\n",
       " 'so': 43,\n",
       " 'thanks': 44,\n",
       " 'please': 45,\n",
       " 'as': 46,\n",
       " 'new': 47,\n",
       " 'not': 48,\n",
       " 'what': 49,\n",
       " 'help': 50,\n",
       " '<repeat>': 51,\n",
       " 'if': 52,\n",
       " 'an': 53,\n",
       " 'all': 54,\n",
       " '-': 55,\n",
       " 'like': 56,\n",
       " 'was': 57,\n",
       " 'thank': 58,\n",
       " 'great': 59,\n",
       " 'see': 60,\n",
       " 'but': 61,\n",
       " 'up': 62,\n",
       " 'trump': 63,\n",
       " 'dm': 64,\n",
       " 'w': 65,\n",
       " 'get': 66,\n",
       " 'day': 67,\n",
       " 'do': 68,\n",
       " 'has': 69,\n",
       " \"we're\": 70,\n",
       " 'one': 71,\n",
       " 'just': 72,\n",
       " 'today': 73,\n",
       " 'now': 74,\n",
       " 'time': 75,\n",
       " 'who': 76,\n",
       " 'sorry': 77,\n",
       " 'team': 78,\n",
       " 'their': 79,\n",
       " 'or': 80,\n",
       " 'learn': 81,\n",
       " 'they': 82,\n",
       " 'know': 83,\n",
       " 'his': 84,\n",
       " 'no': 85,\n",
       " 'good': 86,\n",
       " 'me': 87,\n",
       " 'hear': 88,\n",
       " 'make': 89,\n",
       " 'via': 90,\n",
       " 'would': 91,\n",
       " 'he': 92,\n",
       " 'when': 93,\n",
       " 'happy': 94,\n",
       " \"it's\": 95,\n",
       " 'here': 96,\n",
       " '.<user>': 97,\n",
       " '.…': 98,\n",
       " 'into': 99,\n",
       " 'hi': 100,\n",
       " 'work': 101,\n",
       " 'there': 102,\n",
       " '<allcaps>:': 103,\n",
       " 'love': 104,\n",
       " 'need': 105,\n",
       " 'look': 106,\n",
       " 'people': 107,\n",
       " 'u': 108,\n",
       " '.\"': 109,\n",
       " 's': 110,\n",
       " 'some': 111,\n",
       " 'c': 112,\n",
       " 'these': 113,\n",
       " 'been': 114,\n",
       " 'check': 115,\n",
       " 'back': 116,\n",
       " 'could': 117,\n",
       " 'than': 118,\n",
       " 'take': 119,\n",
       " 'best': 120,\n",
       " 'go': 121,\n",
       " 'why': 122,\n",
       " 'first': 123,\n",
       " '<user>,': 124,\n",
       " 'health': 125,\n",
       " 'find': 126,\n",
       " 'want': 127,\n",
       " 'read': 128,\n",
       " 'send': 129,\n",
       " 'should': 130,\n",
       " 'support': 131,\n",
       " 'care': 132,\n",
       " 'contact': 133,\n",
       " 'right': 134,\n",
       " 'year': 135,\n",
       " 'proud': 136,\n",
       " 'way': 137,\n",
       " 'last': 138,\n",
       " 'live': 139,\n",
       " 'next': 140,\n",
       " 'bill': 141,\n",
       " 'any': 142,\n",
       " 'over': 143,\n",
       " 'watch': 144,\n",
       " 'after': 145,\n",
       " '<allcaps>,': 146,\n",
       " \"i'm\": 147,\n",
       " \"don't\": 148,\n",
       " 'says': 149,\n",
       " 'week': 150,\n",
       " '<number>%': 151,\n",
       " 't': 152,\n",
       " 'think': 153,\n",
       " 'tax': 154,\n",
       " \"you're\": 155,\n",
       " 'senate': 156,\n",
       " 'had': 157,\n",
       " 'let': 158,\n",
       " 'e': 159,\n",
       " 'only': 160,\n",
       " '$<number>': 161,\n",
       " 'may': 162,\n",
       " 'them': 163,\n",
       " 'email': 164,\n",
       " 'most': 165,\n",
       " 'join': 166,\n",
       " 'we’re': 167,\n",
       " 'keep': 168,\n",
       " 'president': 169,\n",
       " 'her': 170,\n",
       " 'call': 171,\n",
       " 'very': 172,\n",
       " 'news': 173,\n",
       " 'still': 174,\n",
       " 'p': 175,\n",
       " 'working': 176,\n",
       " 'going': 177,\n",
       " 'world': 178,\n",
       " 'big': 179,\n",
       " 'n': 180,\n",
       " 'did': 181,\n",
       " 'here:': 182,\n",
       " 'service': 183,\n",
       " 'm': 184,\n",
       " 'house': 185,\n",
       " 'were': 186,\n",
       " 'it’s': 187,\n",
       " 'info': 188,\n",
       " 'd': 189,\n",
       " 'which': 190,\n",
       " 'follow': 191,\n",
       " 'much': 192,\n",
       " 'better': 193,\n",
       " 'off': 194,\n",
       " 'many': 195,\n",
       " 'experience': 196,\n",
       " 'data': 197,\n",
       " 'share': 198,\n",
       " 'sure': 199,\n",
       " 'every': 200,\n",
       " 'its': 201,\n",
       " 'show': 202,\n",
       " 'too': 203,\n",
       " 'family': 204,\n",
       " 'being': 205,\n",
       " 'r': 206,\n",
       " 'those': 207,\n",
       " 'business': 208,\n",
       " 'state': 209,\n",
       " 'got': 210,\n",
       " 'address': 211,\n",
       " 'years': 212,\n",
       " 'glad': 213,\n",
       " 'use': 214,\n",
       " 'home': 215,\n",
       " 'number': 216,\n",
       " 'looking': 217,\n",
       " 'national': 218,\n",
       " 'hope': 219,\n",
       " 'future': 220,\n",
       " 'where': 221,\n",
       " 'life': 222,\n",
       " 'sharing': 223,\n",
       " 'details': 224,\n",
       " \"we'll\": 225,\n",
       " 'tech': 226,\n",
       " \"<user>'s\": 227,\n",
       " \"that's\": 228,\n",
       " 'tonight': 229,\n",
       " 'information': 230,\n",
       " 'must': 231,\n",
       " 'visit': 232,\n",
       " 'made': 233,\n",
       " '<user>:': 234,\n",
       " 'store': 235,\n",
       " 'women': 236,\n",
       " 'stop': 237,\n",
       " 'h': 238,\n",
       " '<number>th': 239,\n",
       " 'congrats': 240,\n",
       " '–': 241,\n",
       " 'ready': 242,\n",
       " 'say': 243,\n",
       " 'o': 244,\n",
       " 'through': 245,\n",
       " 'am': 246,\n",
       " 'g': 247,\n",
       " 'never': 248,\n",
       " 'also': 249,\n",
       " 'part': 250,\n",
       " 'always': 251,\n",
       " 'free': 252,\n",
       " 'story': 253,\n",
       " '.s': 254,\n",
       " 'top': 255,\n",
       " 'come': 256,\n",
       " '.com': 257,\n",
       " 'gop': 258,\n",
       " 'job': 259,\n",
       " 'before': 260,\n",
       " 'other': 261,\n",
       " 'give': 262,\n",
       " 'down': 263,\n",
       " 'power': 264,\n",
       " 'start': 265,\n",
       " 'talk': 266,\n",
       " 'b': 267,\n",
       " 'report': 268,\n",
       " 'message': 269,\n",
       " 'full': 270,\n",
       " 'important': 271,\n",
       " 'does': 272,\n",
       " 'really': 273,\n",
       " 'american': 274,\n",
       " \"we'd\": 275,\n",
       " 'forward': 276,\n",
       " 'number>': 277,\n",
       " 'latest': 278,\n",
       " 'ceo': 279,\n",
       " 'morning': 280,\n",
       " 'even': 281,\n",
       " 'making': 282,\n",
       " 'him': 283,\n",
       " 'provide': 284,\n",
       " 'community': 285,\n",
       " 'energy': 286,\n",
       " 'two': 287,\n",
       " \"here's\": 288,\n",
       " 'win': 289,\n",
       " 'meet': 290,\n",
       " 'vote': 291,\n",
       " 'things': 292,\n",
       " 'white': 293,\n",
       " 'during': 294,\n",
       " '.”': 295,\n",
       " 'assist': 296,\n",
       " 'global': 297,\n",
       " 'plan': 298,\n",
       " '--': 299,\n",
       " 'act': 300,\n",
       " 'man': 301,\n",
       " 'getting': 302,\n",
       " 'tomorrow': 303,\n",
       " 'she': 304,\n",
       " \"can't\": 305,\n",
       " 'don’t': 306,\n",
       " 'night': 307,\n",
       " 'because': 308,\n",
       " 'local': 309,\n",
       " 'another': 310,\n",
       " 'coming': 311,\n",
       " 'well': 312,\n",
       " 'something': 313,\n",
       " 'stay': 314,\n",
       " 'against': 315,\n",
       " 'video': 316,\n",
       " 'said': 317,\n",
       " '<smile>': 318,\n",
       " 'game': 319,\n",
       " 'available': 320,\n",
       " '—': 321,\n",
       " 'l': 322,\n",
       " '!…': 323,\n",
       " 'issue': 324,\n",
       " 'open': 325,\n",
       " 'excited': 326,\n",
       " 'try': 327,\n",
       " 'change': 328,\n",
       " 'office': 329,\n",
       " 'around': 330,\n",
       " 'while': 331,\n",
       " 'welcome': 332,\n",
       " 'i’m': 333,\n",
       " 'tips': 334,\n",
       " 'f': 335,\n",
       " 'jobs': 336,\n",
       " 'discuss': 337,\n",
       " 'feel': 338,\n",
       " 'rt': 339,\n",
       " 'using': 340,\n",
       " 'everyone': 341,\n",
       " 'phone': 342,\n",
       " 'having': 343,\n",
       " 'order': 344,\n",
       " 'families': 345,\n",
       " 'employees': 346,\n",
       " 'own': 347,\n",
       " 'ever': 348,\n",
       " 'real': 349,\n",
       " 'apologize': 350,\n",
       " 'security': 351,\n",
       " 'students': 352,\n",
       " 'insurance': 353,\n",
       " 'americans': 354,\n",
       " 'fun': 355,\n",
       " 'again': 356,\n",
       " 'million': 357,\n",
       " 'protect': 358,\n",
       " 'days': 359,\n",
       " '<url>…': 360,\n",
       " 'country': 361,\n",
       " 'appreciate': 362,\n",
       " '<number>)': 363,\n",
       " 'long': 364,\n",
       " 'doing': 365,\n",
       " 'together': 366,\n",
       " 'save': 367,\n",
       " 'holiday': 368,\n",
       " 'media': 369,\n",
       " 'enjoy': 370,\n",
       " 'tweet': 371,\n",
       " 'public': 372,\n",
       " 'congress': 373,\n",
       " 'customer': 374,\n",
       " 'congratulations': 375,\n",
       " 'company': 376,\n",
       " 'wait': 377,\n",
       " 'hard': 378,\n",
       " 'program': 379,\n",
       " 'month': 380,\n",
       " 'school': 381,\n",
       " 'little': 382,\n",
       " 'digital': 383,\n",
       " 'event': 384,\n",
       " 'oh': 385,\n",
       " 'money': 386,\n",
       " 'fight': 387,\n",
       " 'end': 388,\n",
       " 'tune': 389,\n",
       " '<user>…': 390,\n",
       " 'safe': 391,\n",
       " 'technology': 392,\n",
       " 'access': 393,\n",
       " 'across': 394,\n",
       " 'city': 395,\n",
       " 'you,': 396,\n",
       " 'america': 397,\n",
       " 'booth': 398,\n",
       " 'amazing': 399,\n",
       " 'special': 400,\n",
       " 'helping': 401,\n",
       " 'tour': 402,\n",
       " 'honor': 403,\n",
       " 'few': 404,\n",
       " 'taking': 405,\n",
       " 'name': 406,\n",
       " 'continue': 407,\n",
       " 'meeting': 408,\n",
       " 'since': 409,\n",
       " 'de': 410,\n",
       " 'questions': 411,\n",
       " \"trump's\": 412,\n",
       " 'safety': 413,\n",
       " \"<allcaps>'s\": 414,\n",
       " 'able': 415,\n",
       " 'feedback': 416,\n",
       " 'more:': 417,\n",
       " 'thing': 418,\n",
       " 'hello': 419,\n",
       " 'tell': 420,\n",
       " 'financial': 421,\n",
       " 'makes': 422,\n",
       " 'pass': 423,\n",
       " 'kids': 424,\n",
       " 'healthcare': 425,\n",
       " 'looks': 426,\n",
       " 'then': 427,\n",
       " 't…': 428,\n",
       " 'further': 429,\n",
       " 'high': 430,\n",
       " '+': 431,\n",
       " \"we've\": 432,\n",
       " 'weekend': 433,\n",
       " 'companies': 434,\n",
       " 'ways': 435,\n",
       " 'soon': 436,\n",
       " 'put': 437,\n",
       " 'yes': 438,\n",
       " 'rules': 439,\n",
       " 'both': 440,\n",
       " 'talking': 441,\n",
       " 'thx': 442,\n",
       " 'location': 443,\n",
       " 'food': 444,\n",
       " 'industry': 445,\n",
       " 'lot': 446,\n",
       " 'online': 447,\n",
       " 'favorite': 448,\n",
       " 'reach': 449,\n",
       " 'strong': 450,\n",
       " 'beyond': 451,\n",
       " 'members': 452,\n",
       " 'season': 453,\n",
       " 'same': 454,\n",
       " 'system': 455,\n",
       " 'needs': 456,\n",
       " 'innovation': 457,\n",
       " 'hearing': 458,\n",
       " 'away': 459,\n",
       " 'market': 460,\n",
       " 'customers': 461,\n",
       " 'leaders': 462,\n",
       " 'under': 463,\n",
       " 'miss': 464,\n",
       " 'photo': 465,\n",
       " 'a…': 466,\n",
       " 'icymi': 467,\n",
       " 'account': 468,\n",
       " 'veterans': 469,\n",
       " 'list': 470,\n",
       " 'twitter': 471,\n",
       " 'chance': 472,\n",
       " 'bring': 473,\n",
       " 'hi,': 474,\n",
       " '(<number>': 475,\n",
       " '<number>pm': 476,\n",
       " 'small': 477,\n",
       " '@': 478,\n",
       " 'john': 479,\n",
       " 'center': 480,\n",
       " 'career': 481,\n",
       " 'improve': 482,\n",
       " 'pay': 483,\n",
       " 'issues': 484,\n",
       " '<allcaps>s': 485,\n",
       " 'link': 486,\n",
       " 'without': 487,\n",
       " '<user>’s': 488,\n",
       " 'social': 489,\n",
       " 'hey': 490,\n",
       " 'cancer': 491,\n",
       " 'facebook': 492,\n",
       " 'stand': 493,\n",
       " 'leadership': 494,\n",
       " 'reform': 495,\n",
       " 'impact': 496,\n",
       " 'someone': 497,\n",
       " 'research': 498,\n",
       " 'product': 499,\n",
       " 'republicans': 500,\n",
       " \"what's\": 501,\n",
       " 'campaign': 502,\n",
       " 'done': 503,\n",
       " 'key': 504,\n",
       " 'code': 505,\n",
       " 'run': 506,\n",
       " '<elong>': 507,\n",
       " 'place': 508,\n",
       " 'bad': 509,\n",
       " 'v': 510,\n",
       " 'including': 511,\n",
       " 'believe': 512,\n",
       " 'already': 513,\n",
       " 'law': 514,\n",
       " 'today,': 515,\n",
       " 'statement': 516,\n",
       " 'set': 517,\n",
       " 'create': 518,\n",
       " 'until': 519,\n",
       " 'yet': 520,\n",
       " 'policy': 521,\n",
       " '\"the': 522,\n",
       " 'ask': 523,\n",
       " 'la': 524,\n",
       " 'history': 525,\n",
       " 'celebrate': 526,\n",
       " 'awesome': 527,\n",
       " '<number><number>': 528,\n",
       " 'the…': 529,\n",
       " 'reaching': 530,\n",
       " 'such': 531,\n",
       " 'honored': 532,\n",
       " 'bipartisan': 533,\n",
       " 'here’s': 534,\n",
       " 'pls': 535,\n",
       " 'solutions': 536,\n",
       " 'sen': 537,\n",
       " \"let's\": 538,\n",
       " 'true': 539,\n",
       " '<number><number><number>': 540,\n",
       " 'north': 541,\n",
       " 'question': 542,\n",
       " 'you’re': 543,\n",
       " 'assistance': 544,\n",
       " 'lives': 545,\n",
       " 'along': 546,\n",
       " 'used': 547,\n",
       " 'kind': 548,\n",
       " 'deal': 549,\n",
       " 'might': 550,\n",
       " 'summer': 551,\n",
       " 'friday': 552,\n",
       " 'anything': 553,\n",
       " 'app': 554,\n",
       " 'united': 555,\n",
       " 'dr': 556,\n",
       " 'products': 557,\n",
       " 'official': 558,\n",
       " 'friends': 559,\n",
       " 'play': 560,\n",
       " 'budget': 561,\n",
       " 'means': 562,\n",
       " 'water': 563,\n",
       " 'joining': 564,\n",
       " 'communities': 565,\n",
       " 'to…': 566,\n",
       " 'mobile': 567,\n",
       " 'everything': 568,\n",
       " 'review': 569,\n",
       " 'that’s': 570,\n",
       " 'party': 571,\n",
       " 'less': 572,\n",
       " 'action': 573,\n",
       " 'book': 574,\n",
       " 'line': 575,\n",
       " 'conference': 576,\n",
       " 'answer': 577,\n",
       " 'named': 578,\n",
       " 'birthday': 579,\n",
       " 'between': 580,\n",
       " 'giving': 581,\n",
       " 'economy': 582,\n",
       " 'growth': 583,\n",
       " '<number>st': 584,\n",
       " 'nice': 585,\n",
       " \"i'll\": 586,\n",
       " 'award': 587,\n",
       " 'healthy': 588,\n",
       " 'smart': 589,\n",
       " \"he's\": 590,\n",
       " '\"i': 591,\n",
       " 'trying': 592,\n",
       " 'build': 593,\n",
       " 'dream': 594,\n",
       " \"there's\": 595,\n",
       " 'star': 596,\n",
       " 'remember': 597,\n",
       " 'red': 598,\n",
       " 'young': 599,\n",
       " 'military': 600,\n",
       " 'path': 601,\n",
       " 'speak': 602,\n",
       " 'enough': 603,\n",
       " 'choose': 604,\n",
       " \"doesn't\": 605,\n",
       " 'agree': 606,\n",
       " 'car': 607,\n",
       " \"didn't\": 608,\n",
       " 'times': 609,\n",
       " 'opportunity': 610,\n",
       " 'following': 611,\n",
       " 'efforts': 612,\n",
       " 'y': 613,\n",
       " 'lead': 614,\n",
       " '<allcaps>’s': 615,\n",
       " 'annual': 616,\n",
       " 'each': 617,\n",
       " 'perfect': 618,\n",
       " 'luck': 619,\n",
       " 'asked': 620,\n",
       " 'services': 621,\n",
       " '<allcaps><number>': 622,\n",
       " \"today's\": 623,\n",
       " 'post': 624,\n",
       " '|': 625,\n",
       " 'ai': 626,\n",
       " 'point': 627,\n",
       " 'visiting': 628,\n",
       " 'early': 629,\n",
       " 'group': 630,\n",
       " 'shares': 631,\n",
       " 'press': 632,\n",
       " 'et': 633,\n",
       " 'clinton': 634,\n",
       " 'listen': 635,\n",
       " 'direct': 636,\n",
       " 'friend': 637,\n",
       " 'funding': 638,\n",
       " 'comes': 639,\n",
       " 'understand': 640,\n",
       " 'staff': 641,\n",
       " 'election': 642,\n",
       " '<allcaps>…': 643,\n",
       " 'enjoyed': 644,\n",
       " 'republican': 645,\n",
       " 'actually': 646,\n",
       " 'russia': 647,\n",
       " 'behind': 648,\n",
       " 'helps': 649,\n",
       " 'case': 650,\n",
       " 'sign': 651,\n",
       " 'management': 652,\n",
       " 'black': 653,\n",
       " 'hiring': 654,\n",
       " 'joined': 655,\n",
       " 'risk': 656,\n",
       " 'gov': 657,\n",
       " \"i've\": 658,\n",
       " 's<number>': 659,\n",
       " 'air': 660,\n",
       " 'chief': 661,\n",
       " 'met': 662,\n",
       " 'director': 663,\n",
       " 'bringing': 664,\n",
       " 'states': 665,\n",
       " 'shows': 666,\n",
       " 'costs': 667,\n",
       " 'fan': 668,\n",
       " 'takes': 669,\n",
       " 'possible': 670,\n",
       " 'j': 671,\n",
       " 'trip': 672,\n",
       " 'obama': 673,\n",
       " 'federal': 674,\n",
       " 'economic': 675,\n",
       " 'old': 676,\n",
       " 'pm': 677,\n",
       " 'a<number>': 678,\n",
       " \"isn't\": 679,\n",
       " 'project': 680,\n",
       " 'step': 681,\n",
       " 'ensure': 682,\n",
       " 'former': 683,\n",
       " 'private': 684,\n",
       " 'three': 685,\n",
       " 'offer': 686,\n",
       " 'move': 687,\n",
       " 'nothing': 688,\n",
       " 'challenge': 689,\n",
       " 'mean': 690,\n",
       " 'government': 691,\n",
       " '<allcaps>)': 692,\n",
       " 'gets': 693,\n",
       " 'inconvenience': 694,\n",
       " 'different': 695,\n",
       " 'area': 696,\n",
       " 'benefits': 697,\n",
       " 'q<number>': 698,\n",
       " '<number>…': 699,\n",
       " 'drive': 700,\n",
       " 'wh': 701,\n",
       " 'seen': 702,\n",
       " 'can’t': 703,\n",
       " 'view': 704,\n",
       " '.m': 705,\n",
       " 'pretty': 706,\n",
       " \"i'd\": 707,\n",
       " 'head': 708,\n",
       " 'thought': 709,\n",
       " 'building': 710,\n",
       " 'speaking': 711,\n",
       " 'control': 712,\n",
       " 'heart': 713,\n",
       " 'once': 714,\n",
       " 'march': 715,\n",
       " 'driving': 716,\n",
       " 'hours': 717,\n",
       " 'running': 718,\n",
       " 'education': 719,\n",
       " 'ur': 720,\n",
       " 'become': 721,\n",
       " 'political': 722,\n",
       " 'day,': 723,\n",
       " 'we’ve': 724,\n",
       " 'cut': 725,\n",
       " 'steps': 726,\n",
       " 'told': 727,\n",
       " 'super': 728,\n",
       " 'nation': 729,\n",
       " 'critical': 730,\n",
       " 'shop': 731,\n",
       " 'patients': 732,\n",
       " 'claim': 733,\n",
       " 'beautiful': 734,\n",
       " 'dc': 735,\n",
       " 'left': 736,\n",
       " 'success': 737,\n",
       " 'concerns': 738,\n",
       " 'trailer': 739,\n",
       " 'io': 740,\n",
       " 'pad': 741,\n",
       " 'texas': 742,\n",
       " 'increase': 743,\n",
       " 'role': 744,\n",
       " 'idea': 745,\n",
       " 'called': 746,\n",
       " 'thoughts': 747,\n",
       " '<number>am': 748,\n",
       " 'children': 749,\n",
       " 'democrats': 750,\n",
       " 'celebrating': 751,\n",
       " 'moment': 752,\n",
       " 'c<number>': 753,\n",
       " 'yesterday': 754,\n",
       " 'partner': 755,\n",
       " 'found': 756,\n",
       " 'helped': 757,\n",
       " 'buy': 758,\n",
       " 'blog': 759,\n",
       " 'washington': 760,\n",
       " 'forget': 761,\n",
       " 'ago': 762,\n",
       " 'person': 763,\n",
       " 'floor': 764,\n",
       " 'easy': 765,\n",
       " 'process': 766,\n",
       " 'far': 767,\n",
       " 'college': 768,\n",
       " 'monday': 769,\n",
       " 'ahead': 770,\n",
       " 'recent': 771,\n",
       " 'trump’s': 772,\n",
       " 'words': 773,\n",
       " 'county': 774,\n",
       " 'cloud': 775,\n",
       " 'we’ll': 776,\n",
       " 'value': 777,\n",
       " 'infrastructure': 778,\n",
       " 'tv': 779,\n",
       " 'donald': 780,\n",
       " 'obamacare': 781,\n",
       " 'design': 782,\n",
       " '#': 783,\n",
       " 'calling': 784,\n",
       " 'started': 785,\n",
       " 'name,': 786,\n",
       " 'awareness': 787,\n",
       " 'cuts': 788,\n",
       " 'series': 789,\n",
       " 'music': 790,\n",
       " 'stories': 791,\n",
       " 'second': 792,\n",
       " 'cool': 793,\n",
       " 'opening': 794,\n",
       " 'heard': 795,\n",
       " 'focus': 796,\n",
       " 'businesses': 797,\n",
       " 'plans': 798,\n",
       " 'billion': 799,\n",
       " 'major': 800,\n",
       " 'interview': 801,\n",
       " 'took': 802,\n",
       " 'race': 803,\n",
       " 'lost': 804,\n",
       " 'sounds': 805,\n",
       " 'collection': 806,\n",
       " 'coverage': 807,\n",
       " 'supporting': 808,\n",
       " 'wish': 809,\n",
       " 'talks': 810,\n",
       " 'patient': 811,\n",
       " 'progress': 812,\n",
       " 'climate': 813,\n",
       " 'wants': 814,\n",
       " 'tbt': 815,\n",
       " 'serve': 816,\n",
       " 'problem': 817,\n",
       " 'close': 818,\n",
       " 'th…': 819,\n",
       " 'anyone': 820,\n",
       " 'x': 821,\n",
       " 'network': 822,\n",
       " 'member': 823,\n",
       " 'watching': 824,\n",
       " 'human': 825,\n",
       " 'results': 826,\n",
       " 'turn': 827,\n",
       " 'science': 828,\n",
       " 'hold': 829,\n",
       " 'mind': 830,\n",
       " 'investment': 831,\n",
       " 'minutes': 832,\n",
       " 'piece': 833,\n",
       " 'chat': 834,\n",
       " 'wrong': 835,\n",
       " 'wednesday': 836,\n",
       " 'record': 837,\n",
       " 'response': 838,\n",
       " 'past': 839,\n",
       " 'updates': 840,\n",
       " 'manufacturing': 841,\n",
       " 'road': 842,\n",
       " 'others': 843,\n",
       " 'here:…': 844,\n",
       " 'mark': 845,\n",
       " \"won't\": 846,\n",
       " 'retirement': 847,\n",
       " 'workers': 848,\n",
       " 'class': 849,\n",
       " 'matter': 850,\n",
       " 'final': 851,\n",
       " 'administration': 852,\n",
       " 'performance': 853,\n",
       " 'raise': 854,\n",
       " 'release': 855,\n",
       " 'st': 856,\n",
       " 'update': 857,\n",
       " 'whether': 858,\n",
       " 'fans': 859,\n",
       " 'hurricane': 860,\n",
       " 'clear': 861,\n",
       " 'men': 862,\n",
       " 'ford': 863,\n",
       " 'per': 864,\n",
       " 'receive': 865,\n",
       " 'committee': 866,\n",
       " 'date': 867,\n",
       " 'face': 868,\n",
       " 'info:': 869,\n",
       " 'goes': 870,\n",
       " 'force': 871,\n",
       " 'offers': 872,\n",
       " 'stem': 873,\n",
       " 'maybe': 874,\n",
       " 'happened': 875,\n",
       " 'sales': 876,\n",
       " 'saying': 877,\n",
       " 'internet': 878,\n",
       " 'i…': 879,\n",
       " 'leader': 880,\n",
       " 'starting': 881,\n",
       " 'yes,': 882,\n",
       " 'calls': 883,\n",
       " 'device': 884,\n",
       " 'opportunities': 885,\n",
       " 'passed': 886,\n",
       " 'joe': 887,\n",
       " 'came': 888,\n",
       " 'seeing': 889,\n",
       " 'colleagues': 890,\n",
       " 'almost': 891,\n",
       " 'gas': 892,\n",
       " 'more:…': 893,\n",
       " '<user>)': 894,\n",
       " 'fire': 895,\n",
       " 'south': 896,\n",
       " 'repeal': 897,\n",
       " 'david': 898,\n",
       " 'cost': 899,\n",
       " 'tells': 900,\n",
       " 'va': 901,\n",
       " 'net': 902,\n",
       " 'definitely': 903,\n",
       " 'reports': 904,\n",
       " 'fair': 905,\n",
       " 'stores': 906,\n",
       " 'attention': 907,\n",
       " 'o…': 908,\n",
       " 'nearly': 909,\n",
       " 'wow': 910,\n",
       " 'room': 911,\n",
       " 'outage': 912,\n",
       " 'inside': 913,\n",
       " 'sent': 914,\n",
       " 'clean': 915,\n",
       " 'credit': 916,\n",
       " 'development': 917,\n",
       " 'opioid': 918,\n",
       " 'ideas': 919,\n",
       " 'rep': 920,\n",
       " \"they're\": 921,\n",
       " 'legislation': 922,\n",
       " 'enter': 923,\n",
       " 'gun': 924,\n",
       " 'received': 925,\n",
       " 'rights': 926,\n",
       " 'card': 927,\n",
       " 'training': 928,\n",
       " 'blue': 929,\n",
       " \"you've\": 930,\n",
       " 'christmas': 931,\n",
       " 'millions': 932,\n",
       " 'winners': 933,\n",
       " \"you'll\": 934,\n",
       " 's…': 935,\n",
       " 'sunday': 936,\n",
       " 'seems': 937,\n",
       " 'huge': 938,\n",
       " 'commitment': 939,\n",
       " 'fighting': 940,\n",
       " 'uk': 941,\n",
       " 'guys': 942,\n",
       " 'leading': 943,\n",
       " 'gift': 944,\n",
       " 'secretary': 945,\n",
       " 'and…': 946,\n",
       " 'hit': 947,\n",
       " 'general': 948,\n",
       " 'website': 949,\n",
       " '<number>k': 950,\n",
       " 'paul': 951,\n",
       " 'quality': 952,\n",
       " 'it,': 953,\n",
       " '(<user>)': 954,\n",
       " 'launch': 955,\n",
       " 'space': 956,\n",
       " 'en': 957,\n",
       " 'court': 958,\n",
       " 'yourself': 959,\n",
       " 'interesting': 960,\n",
       " 'russian': 961,\n",
       " 'corporate': 962,\n",
       " 'discover': 963,\n",
       " 'comments': 964,\n",
       " 'w…': 965,\n",
       " 'decision': 966,\n",
       " 'personal': 967,\n",
       " 'least': 968,\n",
       " 'page': 969,\n",
       " 'thinking': 970,\n",
       " 'spoke': 971,\n",
       " 'living': 972,\n",
       " 'town': 973,\n",
       " 'york': 974,\n",
       " 'add': 975,\n",
       " 'wonderful': 976,\n",
       " 'entering': 977,\n",
       " 'register': 978,\n",
       " 'learning': 979,\n",
       " 'debate': 980,\n",
       " 'warner': 981,\n",
       " 'nyc': 982,\n",
       " 'four': 983,\n",
       " 'consider': 984,\n",
       " 'additional': 985,\n",
       " 'announce': 986,\n",
       " 'daca': 987,\n",
       " 'missed': 988,\n",
       " 'return': 989,\n",
       " 'test': 990,\n",
       " 'reduce': 991,\n",
       " 'what’s': 992,\n",
       " 'happening': 993,\n",
       " 'click': 994,\n",
       " 'awards': 995,\n",
       " 'fall': 996,\n",
       " 'loved': 997,\n",
       " 'international': 998,\n",
       " 'current': 999,\n",
       " 'today’s': 1000,\n",
       " ...}"
      ]
     },
     "execution_count": 31,
     "metadata": {},
     "output_type": "execute_result"
    }
   ],
   "source": [
    "word_index"
   ]
  },
  {
   "cell_type": "code",
   "execution_count": 32,
   "metadata": {},
   "outputs": [
    {
     "data": {
      "text/plain": [
       "387784"
      ]
     },
     "execution_count": 32,
     "metadata": {},
     "output_type": "execute_result"
    }
   ],
   "source": [
    "len(word_index)"
   ]
  },
  {
   "cell_type": "markdown",
   "metadata": {},
   "source": [
    "### Generate sequences"
   ]
  },
  {
   "cell_type": "code",
   "execution_count": 33,
   "metadata": {},
   "outputs": [
    {
     "name": "stdout",
     "output_type": "stream",
     "text": [
      "(1293005, 32)\n",
      "(1293005, 48)\n"
     ]
    }
   ],
   "source": [
    "seq_32 = eg.generate_sequences(texts=texts, maxlen=32)\n",
    "seq_48 = eg.generate_sequences(texts=texts, maxlen=48)\n",
    "print(seq_32.shape)\n",
    "print(seq_48.shape)"
   ]
  },
  {
   "cell_type": "code",
   "execution_count": 34,
   "metadata": {},
   "outputs": [
    {
     "data": {
      "text/plain": [
       "array([[    0,     0,     0,     0,     0,     0,     0,     0,     0,\n",
       "            0,     0,     0,     0,     0,     0,     0,     0,     0,\n",
       "            0,     0,    93,   304,   149,   304,   605,   867,   942,\n",
       "           76,   700, 35832,     2,     1],\n",
       "       [    0,     0,     0,     0,     0,     0,     0,     0,     0,\n",
       "            0,     0,    27,    14,     8,  5785,   557,  6539,    23,\n",
       "          171,    19,  1987,     5,    81,  1885,  2642,   334,     5,\n",
       "           50,  1423, 13486, 64039,     1],\n",
       "       [    0,     0,     0,     0,     0,     0,     0,     0,     0,\n",
       "            0,     0,     0,     0,     0,     6,   259,   103,     7,\n",
       "           18,    27,     6,   654,    53, 13230,  4243,    12, 37221,\n",
       "         2259,     7,     2,   625,     1]], dtype=int32)"
      ]
     },
     "execution_count": 34,
     "metadata": {},
     "output_type": "execute_result"
    }
   ],
   "source": [
    "seq_32[:3]"
   ]
  },
  {
   "cell_type": "code",
   "execution_count": 35,
   "metadata": {
    "collapsed": true
   },
   "outputs": [],
   "source": [
    "save_array(seq_32, \"data/sequences_len32.bc\")\n",
    "save_array(seq_48, \"data/sequences_len48.bc\")"
   ]
  },
  {
   "cell_type": "markdown",
   "metadata": {},
   "source": [
    "### Generate embedding matrices\n",
    "\n",
    "**Assumption:** Pretrained word vectors from [GloVe](https://nlp.stanford.edu/projects/glove/) are extracted into `glove` directory (download [here](http://nlp.stanford.edu/data/glove.twitter.27B.zip))."
   ]
  },
  {
   "cell_type": "code",
   "execution_count": 36,
   "metadata": {},
   "outputs": [
    {
     "name": "stdout",
     "output_type": "stream",
     "text": [
      "1193514\n",
      "(387785, 25)\n"
     ]
    }
   ],
   "source": [
    "# create 25-dimensional embedding\n",
    "emb_index = eg.load_pretrained_embedding(filename=\"glove/glove.twitter.27B.25d.txt\")\n",
    "print(len(emb_index))\n",
    "emb_matrix = eg.generate_embedding_matrix()\n",
    "print(emb_matrix.shape)\n",
    "save_array(array=emb_matrix, filename=\"data/embedding_matrix_25dim.bc\")"
   ]
  },
  {
   "cell_type": "code",
   "execution_count": 37,
   "metadata": {},
   "outputs": [
    {
     "name": "stdout",
     "output_type": "stream",
     "text": [
      "1193515\n",
      "(387785, 50)\n"
     ]
    }
   ],
   "source": [
    "# create 50-dimensional embedding\n",
    "emb_index = eg.load_pretrained_embedding(filename=\"glove/glove.twitter.27B.50d.txt\")\n",
    "print(len(emb_index))\n",
    "emb_matrix = eg.generate_embedding_matrix()\n",
    "print(emb_matrix.shape)\n",
    "save_array(array=emb_matrix, filename=\"data/embedding_matrix_50dim.bc\")"
   ]
  },
  {
   "cell_type": "code",
   "execution_count": 38,
   "metadata": {},
   "outputs": [
    {
     "name": "stdout",
     "output_type": "stream",
     "text": [
      "1193516\n",
      "(387785, 100)\n"
     ]
    }
   ],
   "source": [
    "# create 100-dimensional embedding\n",
    "emb_index = eg.load_pretrained_embedding(filename=\"glove/glove.twitter.27B.100d.txt\")\n",
    "print(len(emb_index))\n",
    "emb_matrix = eg.generate_embedding_matrix()\n",
    "print(emb_matrix.shape)\n",
    "save_array(array=emb_matrix, filename=\"data/embedding_matrix_100dim.bc\")"
   ]
  },
  {
   "cell_type": "code",
   "execution_count": 39,
   "metadata": {},
   "outputs": [
    {
     "name": "stdout",
     "output_type": "stream",
     "text": [
      "1193517\n",
      "(387785, 200)\n"
     ]
    }
   ],
   "source": [
    "# create 200-dimensional embedding\n",
    "emb_index = eg.load_pretrained_embedding(filename=\"glove/glove.twitter.27B.200d.txt\")\n",
    "print(len(emb_index))\n",
    "emb_matrix = eg.generate_embedding_matrix()\n",
    "print(emb_matrix.shape)\n",
    "save_array(array=emb_matrix, filename=\"data/embedding_matrix_200dim.bc\")"
   ]
  },
  {
   "cell_type": "code",
   "execution_count": null,
   "metadata": {
    "collapsed": true
   },
   "outputs": [],
   "source": []
  }
 ],
 "metadata": {
  "kernelspec": {
   "display_name": "Python 3",
   "language": "python",
   "name": "python3"
  },
  "language_info": {
   "codemirror_mode": {
    "name": "ipython",
    "version": 3
   },
   "file_extension": ".py",
   "mimetype": "text/x-python",
   "name": "python",
   "nbconvert_exporter": "python",
   "pygments_lexer": "ipython3",
   "version": "3.6.3"
  }
 },
 "nbformat": 4,
 "nbformat_minor": 2
}
