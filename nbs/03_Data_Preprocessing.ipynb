{
 "cells": [
  {
   "cell_type": "code",
   "execution_count": 1,
   "metadata": {
    "collapsed": true
   },
   "outputs": [],
   "source": [
    "%load_ext autoreload\n",
    "%autoreload 2\n",
    "\n",
    "%matplotlib inline"
   ]
  },
  {
   "cell_type": "code",
   "execution_count": 2,
   "metadata": {
    "collapsed": true
   },
   "outputs": [],
   "source": [
    "from tep.dataLoader import DataLoader\n",
    "dl = DataLoader()"
   ]
  },
  {
   "cell_type": "code",
   "execution_count": 3,
   "metadata": {},
   "outputs": [
    {
     "data": {
      "text/plain": [
       "100"
      ]
     },
     "execution_count": 3,
     "metadata": {},
     "output_type": "execute_result"
    }
   ],
   "source": [
    "tweets = dl.load_from_file(filename=\"data/tweets_1.json\", ignore_retweets=True, sample=100)\n",
    "len(tweets)"
   ]
  },
  {
   "cell_type": "code",
   "execution_count": 4,
   "metadata": {},
   "outputs": [
    {
     "data": {
      "text/plain": [
       "[Status(ID=911266369605296128, ScreenName=Raytheon, Created=Fri Sep 22 16:30:07 +0000 2017, Text=\"Switching into civilian life isn't always easy for service members. See how we're teaming with the USO to help:… https://t.co/nTZWrn1SuF\"),\n",
       " Status(ID=780860257325096960, ScreenName=TysonFoods, Created=Tue Sep 27 20:02:47 +0000 2016, Text='@abc13houston This product is only available in certain club stores. More info: https://t.co/znV1zcFcYK'),\n",
       " Status(ID=971031066654924801, ScreenName=patrickc, Created=Tue Mar 06 14:33:41 +0000 2018, Text='@danwwang And the top news app in India by a team in Beijing.'),\n",
       " Status(ID=810597095258329092, ScreenName=HormelFoods, Created=Sun Dec 18 21:26:22 +0000 2016, Text='On the 5th day of the holidays I shared with my family: 5 PB bites, 4 deli meats, 3 SPAM® cans, 2 turkey legs &amp; a ham glazed in maple honey'),\n",
       " Status(ID=949483149322432512, ScreenName=gaberivera, Created=Sat Jan 06 03:29:57 +0000 2018, Text='@mgsiegler Yeah, at the very least I should have moved the disclaimers to a followup tweet so the first one could have more troll power.')]"
      ]
     },
     "execution_count": 4,
     "metadata": {},
     "output_type": "execute_result"
    }
   ],
   "source": [
    "tweets[:5]"
   ]
  },
  {
   "cell_type": "code",
   "execution_count": 6,
   "metadata": {
    "collapsed": true
   },
   "outputs": [],
   "source": [
    "from tep.dataPreprocessor import DataPreprocessor\n",
    "dp = DataPreprocessor()"
   ]
  },
  {
   "cell_type": "code",
   "execution_count": 13,
   "metadata": {},
   "outputs": [
    {
     "data": {
      "text/plain": [
       "[\"switching into civilian life isn't always easy for service members . see how we're teaming with the uso <allcaps> to help:… <url>\",\n",
       " '<user> this product is only available in certain club stores . more info: <url>',\n",
       " '<user> and the top news app in india by a team in beijing .',\n",
       " 'on the <number>th day of the holidays i shared with my family: <number> pb <allcaps> bites, <number> deli meats, <number> spam <allcaps>® cans, <number> turkey legs &amp; a ham glazed in maple honey',\n",
       " '<user> yeah, at the very least i should have moved the disclaimers to a followup tweet so the first one could have more troll power .',\n",
       " 'happy birthday madam secretary and future president <user> . <url>',\n",
       " 'rt <allcaps> <user> ruckus helps power <user> smart homes: <url> <url>',\n",
       " 'the <user> ad going up tonight in <hashtag> k y<number> \"some say we can\\'t win  .  .  . we\\'ll see about that .\" <url>',\n",
       " 'congrats harry ! <url>',\n",
       " \"your furry best friend may not be the best security for your new home . here's a better way to keep out burglars . <url>\"]"
      ]
     },
     "execution_count": 13,
     "metadata": {},
     "output_type": "execute_result"
    }
   ],
   "source": [
    "# test extracting content\n",
    "texts = dp.extract_content(tweets)\n",
    "texts[:10]"
   ]
  },
  {
   "cell_type": "code",
   "execution_count": 25,
   "metadata": {},
   "outputs": [
    {
     "name": "stdout",
     "output_type": "stream",
     "text": [
      "{\"created_at\": \"Thu Mar 15 19:18:43 +0000 2018\", \"hashtags\": [{\"text\": \"KY06\"}], \"id\": 974364286687629313, \"id_str\": \"974364286687629313\", \"lang\": \"en\", \"source\": \"<a href=\\\"https://about.twitter.com/products/tweetdeck\\\" rel=\\\"nofollow\\\">TweetDeck</a>\", \"text\": \"The @AmyMcGrathKY ad going up tonight in #KY06: \\\"Some say we can't win . . . We'll see about that.\\\" https://t.co/wXeJnksmrU\", \"urls\": [{\"expanded_url\": \"https://www.youtube.com/watch?v=Cfo8x74ms64&feature=youtu.be\", \"url\": \"https://t.co/wXeJnksmrU\"}], \"user\": {\"created_at\": \"Tue Aug 19 05:42:52 +0000 2008\", \"description\": \"Senior Politics Writer @USNews & World Report dcatanese@usnews.com Founder#TheRun Music lover: Kanye West fanboi/EDM explorer Jersey boy. Insta: davecatanese\", \"favourites_count\": 287, \"followers_count\": 23254, \"friends_count\": 5011, \"geo_enabled\": true, \"id\": 15901113, \"id_str\": \"15901113\", \"lang\": \"en\", \"listed_count\": 1053, \"location\": \"Washington, DC\", \"name\": \"David Catanese\", \"profile_background_color\": \"9A9AE6\", \"profile_background_image_url\": \"http://abs.twimg.com/images/themes/theme1/bg.png\", \"profile_background_image_url_https\": \"https://abs.twimg.com/images/themes/theme1/bg.png\", \"profile_banner_url\": \"https://pbs.twimg.com/profile_banners/15901113/1527264393\", \"profile_image_url\": \"http://pbs.twimg.com/profile_images/893663246682607616/ZfPWpQyb_normal.jpg\", \"profile_image_url_https\": \"https://pbs.twimg.com/profile_images/893663246682607616/ZfPWpQyb_normal.jpg\", \"profile_link_color\": \"32C2C2\", \"profile_sidebar_border_color\": \"BDDCAD\", \"profile_sidebar_fill_color\": \"DDFFCC\", \"profile_text_color\": \"333333\", \"profile_use_background_image\": true, \"screen_name\": \"davecatanese\", \"statuses_count\": 45740, \"time_zone\": \"Eastern Time (US & Canada)\", \"url\": \"https://t.co/RQZ2M0Xh4d\", \"utc_offset\": -14400, \"verified\": true}, \"user_mentions\": [{\"id\": 2783231383, \"id_str\": \"2783231383\", \"name\": \"Amy McGrath\", \"screen_name\": \"AmyMcGrathKY\"}]}\n",
      "\n",
      "\n",
      "the <user> ad going up tonight in <hashtag> k y<number> \"some say we can't win  .  .  . we'll see about that .\" <url>\n",
      "\n",
      "\n",
      "[  1.00000000e+00   1.00000000e+00   1.00000000e+00   1.23000000e+02\n",
      "   2.32540000e+04   5.01100000e+03   1.00000000e+00   1.05300000e+03\n",
      "   4.57400000e+04   1.28087370e+01   2.87000000e+02   8.03696444e-02\n",
      "   3.57100000e+03   1.90000000e+01   0.00000000e+00]\n"
     ]
    }
   ],
   "source": [
    "# test extracting auxiliary features\n",
    "feats = dp.extract_additional_features(tweets)\n",
    "print(tweets[7])\n",
    "print(\"\\n\")\n",
    "print(texts[7])\n",
    "print(\"\\n\")\n",
    "print(feats[7])"
   ]
  },
  {
   "cell_type": "code",
   "execution_count": 27,
   "metadata": {},
   "outputs": [
    {
     "name": "stdout",
     "output_type": "stream",
     "text": [
      "{\"created_at\": \"Fri Sep 22 16:30:07 +0000 2017\", \"favorite_count\": 10, \"hashtags\": [], \"id\": 911266369605296128, \"id_str\": \"911266369605296128\", \"lang\": \"en\", \"retweet_count\": 5, \"source\": \"<a href=\\\"https://www.sprinklr.com\\\" rel=\\\"nofollow\\\">Sprinklr</a>\", \"text\": \"Switching into civilian life isn't always easy for service members. See how we're teaming with the USO to help:\\u2026 https://t.co/nTZWrn1SuF\", \"truncated\": true, \"urls\": [{\"expanded_url\": \"https://twitter.com/i/web/status/911266369605296128\", \"url\": \"https://t.co/nTZWrn1SuF\"}], \"user\": {\"created_at\": \"Wed Aug 27 21:32:47 +0000 2008\", \"description\": \"Raytheon is an international defense and cybersecurity company. Our issues: global security & support for our troops. Find your mission: @Raytheon_Jobs\", \"favourites_count\": 3739, \"followers_count\": 150484, \"friends_count\": 488, \"id\": 16017996, \"id_str\": \"16017996\", \"lang\": \"en\", \"listed_count\": 2336, \"location\": \"Massachusetts, USA\", \"name\": \"Raytheon\", \"profile_background_color\": \"8C8C8E\", \"profile_background_image_url\": \"http://abs.twimg.com/images/themes/theme1/bg.png\", \"profile_background_image_url_https\": \"https://abs.twimg.com/images/themes/theme1/bg.png\", \"profile_banner_url\": \"https://pbs.twimg.com/profile_banners/16017996/1498496355\", \"profile_image_url\": \"http://pbs.twimg.com/profile_images/879366789259558912/x3LW2lmK_normal.jpg\", \"profile_image_url_https\": \"https://pbs.twimg.com/profile_images/879366789259558912/x3LW2lmK_normal.jpg\", \"profile_link_color\": \"CE1126\", \"profile_sidebar_border_color\": \"FFFFFF\", \"profile_sidebar_fill_color\": \"E0DFDC\", \"profile_text_color\": \"4D464D\", \"profile_use_background_image\": true, \"screen_name\": \"Raytheon\", \"statuses_count\": 18076, \"time_zone\": \"Eastern Time (US & Canada)\", \"url\": \"https://t.co/G8wRSoIy2k\", \"utc_offset\": -14400, \"verified\": true}, \"user_mentions\": []}\n",
      "5\n"
     ]
    }
   ],
   "source": [
    "# extract regression labels\n",
    "counts = dp.extract_labels(tweets)\n",
    "print(tweets[0])\n",
    "print(counts[0])"
   ]
  },
  {
   "cell_type": "code",
   "execution_count": 30,
   "metadata": {},
   "outputs": [
    {
     "name": "stdout",
     "output_type": "stream",
     "text": [
      "[  5   1   3   2   0   4   1   0   0   1   4   1   0   1   6   3   3 427\n",
      "   0  21]\n",
      "[ 1.  1.  1.  1.  0.  1.  1.  0.  0.  1.  1.  1.  0.  1.  1.  1.  1.  3.\n",
      "  0.  2.]\n"
     ]
    }
   ],
   "source": [
    "# extract classification labels\n",
    "buckets = [0, 9, 99, 999]\n",
    "classes = dp.extract_labels(tweets, classes=buckets)\n",
    "print(counts[:20])\n",
    "print(classes[:20])"
   ]
  }
 ],
 "metadata": {
  "kernelspec": {
   "display_name": "Python 3",
   "language": "python",
   "name": "python3"
  },
  "language_info": {
   "codemirror_mode": {
    "name": "ipython",
    "version": 3
   },
   "file_extension": ".py",
   "mimetype": "text/x-python",
   "name": "python",
   "nbconvert_exporter": "python",
   "pygments_lexer": "ipython3",
   "version": "3.6.3"
  }
 },
 "nbformat": 4,
 "nbformat_minor": 2
}
