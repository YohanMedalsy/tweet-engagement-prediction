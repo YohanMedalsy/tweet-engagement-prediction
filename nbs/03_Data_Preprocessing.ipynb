{
 "cells": [
  {
   "cell_type": "code",
   "execution_count": 1,
   "metadata": {},
   "outputs": [],
   "source": [
    "%load_ext autoreload\n",
    "%autoreload 2\n",
    "\n",
    "%matplotlib inline"
   ]
  },
  {
   "cell_type": "code",
   "execution_count": 2,
   "metadata": {
    "collapsed": true
   },
   "outputs": [],
   "source": [
    "from tep.dataLoader import DataLoader\n",
    "dl = DataLoader()"
   ]
  },
  {
   "cell_type": "code",
   "execution_count": 3,
   "metadata": {},
   "outputs": [
    {
     "data": {
      "text/plain": [
       "284701"
      ]
     },
     "execution_count": 3,
     "metadata": {},
     "output_type": "execute_result"
    }
   ],
   "source": [
    "# load tweets from file\n",
    "tweets = dl.load_from_file(filename=\"data/tweets_1.json\", ignore_retweets=True)\n",
    "len(tweets)"
   ]
  },
  {
   "cell_type": "code",
   "execution_count": 4,
   "metadata": {},
   "outputs": [
    {
     "data": {
      "text/plain": [
       "565486"
      ]
     },
     "execution_count": 4,
     "metadata": {},
     "output_type": "execute_result"
    }
   ],
   "source": [
    "tweets += dl.load_from_file(filename=\"data/tweets_2.json\", ignore_retweets=True)\n",
    "len(tweets)"
   ]
  },
  {
   "cell_type": "code",
   "execution_count": 5,
   "metadata": {},
   "outputs": [
    {
     "data": {
      "text/plain": [
       "781721"
      ]
     },
     "execution_count": 5,
     "metadata": {},
     "output_type": "execute_result"
    }
   ],
   "source": [
    "tweets += dl.load_from_file(filename=\"data/tweets_3.json\", ignore_retweets=True)\n",
    "len(tweets)"
   ]
  },
  {
   "cell_type": "code",
   "execution_count": 6,
   "metadata": {},
   "outputs": [
    {
     "data": {
      "text/plain": [
       "1031077"
      ]
     },
     "execution_count": 6,
     "metadata": {},
     "output_type": "execute_result"
    }
   ],
   "source": [
    "tweets += dl.load_from_file(filename=\"data/tweets_4.json\", ignore_retweets=True)\n",
    "len(tweets)"
   ]
  },
  {
   "cell_type": "code",
   "execution_count": 7,
   "metadata": {},
   "outputs": [
    {
     "data": {
      "text/plain": [
       "1293005"
      ]
     },
     "execution_count": 7,
     "metadata": {},
     "output_type": "execute_result"
    }
   ],
   "source": [
    "tweets += dl.load_from_file(filename=\"data/tweets_5.json\", ignore_retweets=True)\n",
    "len(tweets)"
   ]
  },
  {
   "cell_type": "code",
   "execution_count": 8,
   "metadata": {},
   "outputs": [
    {
     "data": {
      "text/plain": [
       "[Status(ID=979429522687762432, ScreenName=jack, Created=Thu Mar 29 18:46:09 +0000 2018, Text='Something we’ve been wanting for a while: choose where live video should start playing and tweet it https://t.co/0KstH8TcPZ'),\n",
       " Status(ID=979169950169317381, ScreenName=jack, Created=Thu Mar 29 01:34:42 +0000 2018, Text='@freialobo I’d never decline your meeting'),\n",
       " Status(ID=979100832535736320, ScreenName=jack, Created=Wed Mar 28 21:00:03 +0000 2018, Text='@tperzyk Thank you so much Tim!'),\n",
       " Status(ID=979026218027597824, ScreenName=jack, Created=Wed Mar 28 16:03:34 +0000 2018, Text='Full discussion with Maryam @TopekaKSam and @ShakaSenghor now available 👇🏼 https://t.co/gfbkmpJeja'),\n",
       " Status(ID=978818682062225408, ScreenName=jack, Created=Wed Mar 28 02:18:54 +0000 2018, Text='@chrissyteigen ✋🏼🤚🏼')]"
      ]
     },
     "execution_count": 8,
     "metadata": {},
     "output_type": "execute_result"
    }
   ],
   "source": [
    "tweets[:5]"
   ]
  },
  {
   "cell_type": "code",
   "execution_count": 9,
   "metadata": {},
   "outputs": [
    {
     "data": {
      "text/plain": [
       "[Status(ID=871825684414566400, ScreenName=tobykeith, Created=Mon Jun 05 20:26:55 +0000 2017, Text=\"When she says she doesn't date guys who drive pickups. https://t.co/pzzaJJacyy\"),\n",
       " Status(ID=830086028782354432, ScreenName=AmTrustInsured, Created=Fri Feb 10 16:08:26 +0000 2017, Text='Are you a wood products manufacturer? Call your agent to learn loss prevention tips to help lower lumber premiums:… https://t.co/xWhlA2Q9lU'),\n",
       " Status(ID=883337723515465728, ScreenName=AEPnews, Created=Fri Jul 07 14:51:39 +0000 2017, Text='#JOB: We are #hiring an Instrument Technician in Pittsburg, TX. | https://t.co/bdVrd9oioH'),\n",
       " Status(ID=733010516348653569, ScreenName=jpmorgan, Created=Wed May 18 19:05:00 +0000 2016, Text='We welcome Peter Meath to $JPM as our new head of life sciences in the commercial banking business. https://t.co/rfFTFBZCjr'),\n",
       " Status(ID=872902594976518144, ScreenName=MotoSolutions, Created=Thu Jun 08 19:46:11 +0000 2017, Text='@hemilp9 We wish we could help you, but the device you described is not ours. Visit https://t.co/p6e9Dkj8vQ for help from @Moto_Support')]"
      ]
     },
     "execution_count": 9,
     "metadata": {},
     "output_type": "execute_result"
    }
   ],
   "source": [
    "# randomize tweet order\n",
    "import random\n",
    "random.shuffle(tweets)\n",
    "tweets[:5]"
   ]
  },
  {
   "cell_type": "code",
   "execution_count": 10,
   "metadata": {
    "collapsed": true
   },
   "outputs": [],
   "source": [
    "from tep.dataPreprocessor import DataPreprocessor\n",
    "dp = DataPreprocessor()"
   ]
  },
  {
   "cell_type": "code",
   "execution_count": 11,
   "metadata": {},
   "outputs": [
    {
     "data": {
      "text/plain": [
       "[\"when she says she doesn't date guys who drive pickups . <url>\",\n",
       " 'are you a wood products manufacturer ? call your agent to learn loss prevention tips to help lower lumber premiums:… <url>',\n",
       " '<hashtag> job <allcaps>: <allcaps> we are <hashtag> hiring an instrument technician in pittsburg, tx <allcaps> . | <url>',\n",
       " 'we welcome peter meath to $jpm <allcaps> as our new head of life sciences in the commercial banking business . <url>',\n",
       " '<user> we wish we could help you, but the device you described is not ours . visit <url> for help from <user>']"
      ]
     },
     "execution_count": 11,
     "metadata": {},
     "output_type": "execute_result"
    }
   ],
   "source": [
    "# test extracting content\n",
    "texts = dp.extract_content(tweets)\n",
    "texts[:5]"
   ]
  },
  {
   "cell_type": "code",
   "execution_count": 12,
   "metadata": {
    "collapsed": true
   },
   "outputs": [],
   "source": [
    "# save tweet texts to file\n",
    "from tep.utils import save_as_text\n",
    "save_as_text(texts, \"data/tweet_texts.txt\")"
   ]
  },
  {
   "cell_type": "code",
   "execution_count": 13,
   "metadata": {},
   "outputs": [
    {
     "data": {
      "text/plain": [
       "array([[  0.00000000e+00,   0.00000000e+00,   0.00000000e+00,\n",
       "          7.80000000e+01,   1.28217000e+06,   4.02900000e+03,\n",
       "          1.00000000e+00,   3.13200000e+03,   1.36230000e+04,\n",
       "          4.04964328e+00,   4.13400000e+03,   1.22889417e+00,\n",
       "          3.36400000e+03,   2.00000000e+01,   0.00000000e+00],\n",
       "       [  1.00000000e+00,   0.00000000e+00,   0.00000000e+00,\n",
       "          1.39000000e+02,   2.56700000e+03,   2.93100000e+03,\n",
       "          0.00000000e+00,   4.60000000e+01,   2.31800000e+03,\n",
       "          1.11549567e+00,   2.01000000e+02,   9.67276227e-02,\n",
       "          2.07800000e+03,   1.60000000e+01,   0.00000000e+00],\n",
       "       [  1.00000000e+00,   2.00000000e+00,   0.00000000e+00,\n",
       "          8.90000000e+01,   1.45800000e+04,   2.44700000e+03,\n",
       "          1.00000000e+00,   3.80000000e+02,   7.33300000e+03,\n",
       "          2.22077529e+00,   1.38500000e+03,   4.19442762e-01,\n",
       "          3.30200000e+03,   1.40000000e+01,   0.00000000e+00],\n",
       "       [  1.00000000e+00,   0.00000000e+00,   0.00000000e+00,\n",
       "          1.23000000e+02,   4.15819000e+05,   5.00000000e+01,\n",
       "          1.00000000e+00,   2.38200000e+03,   5.77500000e+03,\n",
       "          2.97067901e+00,   2.50000000e+02,   1.28600823e-01,\n",
       "          1.94400000e+03,   1.90000000e+01,   0.00000000e+00],\n",
       "       [  1.00000000e+00,   0.00000000e+00,   2.00000000e+00,\n",
       "          1.35000000e+02,   2.12850000e+04,   2.56800000e+03,\n",
       "          1.00000000e+00,   4.35000000e+02,   1.25130000e+04,\n",
       "          4.45778411e+00,   9.23900000e+03,   3.29141432e+00,\n",
       "          2.80700000e+03,   1.90000000e+01,   0.00000000e+00]])"
      ]
     },
     "execution_count": 13,
     "metadata": {},
     "output_type": "execute_result"
    }
   ],
   "source": [
    "# extract auxiliary features\n",
    "feats = dp.extract_additional_features(tweets)\n",
    "feats[:5]"
   ]
  },
  {
   "cell_type": "code",
   "execution_count": 14,
   "metadata": {},
   "outputs": [
    {
     "data": {
      "text/plain": [
       "(1293005, 15)"
      ]
     },
     "execution_count": 14,
     "metadata": {},
     "output_type": "execute_result"
    }
   ],
   "source": [
    "feats.shape"
   ]
  },
  {
   "cell_type": "code",
   "execution_count": 15,
   "metadata": {
    "collapsed": true
   },
   "outputs": [],
   "source": [
    "# save aux features to file\n",
    "from tep.utils import save_array\n",
    "save_array(feats, \"data/auxiliary_features.bc\")"
   ]
  },
  {
   "cell_type": "code",
   "execution_count": 16,
   "metadata": {},
   "outputs": [
    {
     "data": {
      "text/plain": [
       "array([[  0.00000000e+00,   0.00000000e+00,   0.00000000e+00,\n",
       "          7.80000000e+01,   1.28217000e+06,   4.02900000e+03,\n",
       "          1.00000000e+00,   3.13200000e+03,   1.36230000e+04,\n",
       "          4.04964328e+00,   4.13400000e+03,   1.22889417e+00,\n",
       "          3.36400000e+03,   2.00000000e+01,   0.00000000e+00]])"
      ]
     },
     "execution_count": 16,
     "metadata": {},
     "output_type": "execute_result"
    }
   ],
   "source": [
    "# test loading the data\n",
    "from tep.utils import load_array\n",
    "feats = load_array(\"data/auxiliary_features.bc\")\n",
    "feats[:1]"
   ]
  },
  {
   "cell_type": "code",
   "execution_count": 17,
   "metadata": {},
   "outputs": [
    {
     "data": {
      "text/plain": [
       "array([120,   0,   3,   5,   0])"
      ]
     },
     "execution_count": 17,
     "metadata": {},
     "output_type": "execute_result"
    }
   ],
   "source": [
    "# extract regression labels\n",
    "counts = dp.extract_labels(tweets)\n",
    "counts[:5]"
   ]
  },
  {
   "cell_type": "code",
   "execution_count": 18,
   "metadata": {},
   "outputs": [
    {
     "data": {
      "text/plain": [
       "(1293005,)"
      ]
     },
     "execution_count": 18,
     "metadata": {},
     "output_type": "execute_result"
    }
   ],
   "source": [
    "counts.shape"
   ]
  },
  {
   "cell_type": "code",
   "execution_count": 19,
   "metadata": {
    "collapsed": true
   },
   "outputs": [],
   "source": [
    "# save regression labels to file\n",
    "save_array(counts, \"data/regression_labels.bc\")"
   ]
  },
  {
   "cell_type": "code",
   "execution_count": 21,
   "metadata": {},
   "outputs": [
    {
     "data": {
      "text/plain": [
       "[0, 9, 99, 999]"
      ]
     },
     "execution_count": 21,
     "metadata": {},
     "output_type": "execute_result"
    }
   ],
   "source": [
    "# get class configuration\n",
    "from tep.config import Config\n",
    "config = Config()\n",
    "buckets = config.CLASSES\n",
    "buckets"
   ]
  },
  {
   "cell_type": "code",
   "execution_count": 23,
   "metadata": {},
   "outputs": [
    {
     "data": {
      "text/plain": [
       "array([ 3.,  0.,  1.,  1.,  0.])"
      ]
     },
     "execution_count": 23,
     "metadata": {},
     "output_type": "execute_result"
    }
   ],
   "source": [
    "# extract classification labels\n",
    "classes = dp.extract_labels(tweets, classes=buckets)\n",
    "classes[:5]"
   ]
  },
  {
   "cell_type": "code",
   "execution_count": 24,
   "metadata": {},
   "outputs": [
    {
     "data": {
      "text/plain": [
       "(1293005,)"
      ]
     },
     "execution_count": 24,
     "metadata": {},
     "output_type": "execute_result"
    }
   ],
   "source": [
    "classes.shape"
   ]
  },
  {
   "cell_type": "code",
   "execution_count": 25,
   "metadata": {
    "collapsed": true
   },
   "outputs": [],
   "source": [
    "save_array(classes, \"data/classification_labels.bc\")"
   ]
  },
  {
   "cell_type": "code",
   "execution_count": null,
   "metadata": {
    "collapsed": true
   },
   "outputs": [],
   "source": []
  }
 ],
 "metadata": {
  "kernelspec": {
   "display_name": "Python 3",
   "language": "python",
   "name": "python3"
  },
  "language_info": {
   "codemirror_mode": {
    "name": "ipython",
    "version": 3
   },
   "file_extension": ".py",
   "mimetype": "text/x-python",
   "name": "python",
   "nbconvert_exporter": "python",
   "pygments_lexer": "ipython3",
   "version": "3.6.3"
  }
 },
 "nbformat": 4,
 "nbformat_minor": 2
}
