{
 "cells": [
  {
   "cell_type": "markdown",
   "metadata": {},
   "source": [
    "# Building language model candidates"
   ]
  },
  {
   "cell_type": "markdown",
   "metadata": {},
   "source": [
    "Testing of different architectures will be done in a Python script. This notebook is mainly for building and initializing model candidates that can then be loaded from the script.\n",
    "\n",
    "## Load data"
   ]
  },
  {
   "cell_type": "code",
   "execution_count": 1,
   "metadata": {},
   "outputs": [],
   "source": [
    "%load_ext autoreload\n",
    "%autoreload 2\n",
    "\n",
    "%matplotlib inline"
   ]
  },
  {
   "cell_type": "code",
   "execution_count": 2,
   "metadata": {},
   "outputs": [
    {
     "name": "stdout",
     "output_type": "stream",
     "text": [
      "emb_mat.bc  inputs.bc  labels.bc  seqs.bc  word_index.json  word_labels.tsv\r\n"
     ]
    }
   ],
   "source": [
    "!ls data/lang_model/"
   ]
  },
  {
   "cell_type": "code",
   "execution_count": 3,
   "metadata": {},
   "outputs": [
    {
     "name": "stdout",
     "output_type": "stream",
     "text": [
      "mkdir: cannot create directory ‘models/lang_model’: File exists\r\n"
     ]
    }
   ],
   "source": [
    "!mkdir models/lang_model"
   ]
  },
  {
   "cell_type": "code",
   "execution_count": 4,
   "metadata": {},
   "outputs": [],
   "source": [
    "from tep.utils import load_array"
   ]
  },
  {
   "cell_type": "code",
   "execution_count": 5,
   "metadata": {},
   "outputs": [
    {
     "name": "stdout",
     "output_type": "stream",
     "text": [
      "(22664353, 31)\n",
      "(22664353,)\n",
      "(20001, 200)\n"
     ]
    }
   ],
   "source": [
    "inputs = load_array('data/lang_model/inputs.bc')\n",
    "print(inputs.shape)\n",
    "labels = load_array('data/lang_model/labels.bc')\n",
    "print(labels.shape)\n",
    "emb_mat = load_array('data/lang_model/emb_mat.bc')\n",
    "print(emb_mat.shape)"
   ]
  },
  {
   "cell_type": "markdown",
   "metadata": {},
   "source": [
    "## Baseline LSTM model"
   ]
  },
  {
   "cell_type": "code",
   "execution_count": 6,
   "metadata": {},
   "outputs": [
    {
     "name": "stderr",
     "output_type": "stream",
     "text": [
      "/home/paperspace/anaconda3/lib/python3.6/site-packages/h5py/__init__.py:36: FutureWarning: Conversion of the second argument of issubdtype from `float` to `np.floating` is deprecated. In future, it will be treated as `np.float64 == np.dtype(float).type`.\n",
      "  from ._conv import register_converters as _register_converters\n",
      "Using TensorFlow backend.\n"
     ]
    }
   ],
   "source": [
    "from keras.models import Sequential\n",
    "from keras.layers import Dense\n",
    "from keras.layers import LSTM\n",
    "from keras.layers import Embedding"
   ]
  },
  {
   "cell_type": "code",
   "execution_count": 7,
   "metadata": {},
   "outputs": [],
   "source": [
    "model = Sequential()\n",
    "model.add(Embedding(emb_mat.shape[0], emb_mat.shape[1], input_length=inputs.shape[1], weights=[emb_mat], name='embedding'))\n",
    "model.add(LSTM(64, name='lstm'))\n",
    "model.add(Dense(emb_mat.shape[0], activation='softmax', name='output'))\n",
    "model.compile(loss='categorical_crossentropy', optimizer='adam', metrics=['accuracy'])"
   ]
  },
  {
   "cell_type": "code",
   "execution_count": 8,
   "metadata": {},
   "outputs": [
    {
     "name": "stdout",
     "output_type": "stream",
     "text": [
      "_________________________________________________________________\n",
      "Layer (type)                 Output Shape              Param #   \n",
      "=================================================================\n",
      "embedding (Embedding)        (None, 31, 200)           4000200   \n",
      "_________________________________________________________________\n",
      "lstm (LSTM)                  (None, 64)                67840     \n",
      "_________________________________________________________________\n",
      "output (Dense)               (None, 20001)             1300065   \n",
      "=================================================================\n",
      "Total params: 5,368,105\n",
      "Trainable params: 5,368,105\n",
      "Non-trainable params: 0\n",
      "_________________________________________________________________\n"
     ]
    }
   ],
   "source": [
    "model.summary()"
   ]
  },
  {
   "cell_type": "code",
   "execution_count": 9,
   "metadata": {},
   "outputs": [],
   "source": [
    "from tep.modelUtils import save_architecture\n",
    "filename = 'models/lang_model/baseline_lstm'\n",
    "save_architecture(model, filename + '.json')\n",
    "model.save_weights(filename + '.hdf5')"
   ]
  },
  {
   "cell_type": "markdown",
   "metadata": {},
   "source": [
    "## Standard LSTM model"
   ]
  },
  {
   "cell_type": "code",
   "execution_count": 10,
   "metadata": {},
   "outputs": [],
   "source": [
    "model = Sequential()\n",
    "model.add(Embedding(emb_mat.shape[0], emb_mat.shape[1], input_length=inputs.shape[1], weights=[emb_mat], name='embedding'))\n",
    "model.add(LSTM(128, name='lstm'))\n",
    "model.add(Dense(emb_mat.shape[0], activation='softmax', name='output'))\n",
    "model.compile(loss='categorical_crossentropy', optimizer='adam', metrics=['accuracy'])"
   ]
  },
  {
   "cell_type": "code",
   "execution_count": 11,
   "metadata": {},
   "outputs": [
    {
     "name": "stdout",
     "output_type": "stream",
     "text": [
      "_________________________________________________________________\n",
      "Layer (type)                 Output Shape              Param #   \n",
      "=================================================================\n",
      "embedding (Embedding)        (None, 31, 200)           4000200   \n",
      "_________________________________________________________________\n",
      "lstm (LSTM)                  (None, 128)               168448    \n",
      "_________________________________________________________________\n",
      "output (Dense)               (None, 20001)             2580129   \n",
      "=================================================================\n",
      "Total params: 6,748,777\n",
      "Trainable params: 6,748,777\n",
      "Non-trainable params: 0\n",
      "_________________________________________________________________\n"
     ]
    }
   ],
   "source": [
    "model.summary()"
   ]
  },
  {
   "cell_type": "code",
   "execution_count": 12,
   "metadata": {},
   "outputs": [],
   "source": [
    "filename = 'models/lang_model/standard_lstm'\n",
    "save_architecture(model, filename + '.json')\n",
    "model.save_weights(filename + '.hdf5')"
   ]
  },
  {
   "cell_type": "markdown",
   "metadata": {},
   "source": [
    "## Standard LSTM with very low weight decay"
   ]
  },
  {
   "cell_type": "code",
   "execution_count": 13,
   "metadata": {},
   "outputs": [],
   "source": [
    "from keras.regularizers import l2\n",
    "model = Sequential()\n",
    "model.add(Embedding(emb_mat.shape[0], emb_mat.shape[1], input_length=inputs.shape[1], weights=[emb_mat], name='embedding'))\n",
    "model.add(LSTM(128, kernel_regularizer=l2(1e-10), recurrent_regularizer=l2(1e-10), bias_regularizer=l2(1e-10), name='lstm'))\n",
    "model.add(Dense(emb_mat.shape[0], activation='softmax', kernel_regularizer=l2(1e-10), bias_regularizer=l2(1e-10), name='output'))\n",
    "model.compile(loss='categorical_crossentropy', optimizer='adam', metrics=['accuracy'])"
   ]
  },
  {
   "cell_type": "code",
   "execution_count": 14,
   "metadata": {},
   "outputs": [
    {
     "name": "stdout",
     "output_type": "stream",
     "text": [
      "_________________________________________________________________\n",
      "Layer (type)                 Output Shape              Param #   \n",
      "=================================================================\n",
      "embedding (Embedding)        (None, 31, 200)           4000200   \n",
      "_________________________________________________________________\n",
      "lstm (LSTM)                  (None, 128)               168448    \n",
      "_________________________________________________________________\n",
      "output (Dense)               (None, 20001)             2580129   \n",
      "=================================================================\n",
      "Total params: 6,748,777\n",
      "Trainable params: 6,748,777\n",
      "Non-trainable params: 0\n",
      "_________________________________________________________________\n"
     ]
    }
   ],
   "source": [
    "model.summary()"
   ]
  },
  {
   "cell_type": "code",
   "execution_count": 15,
   "metadata": {},
   "outputs": [],
   "source": [
    "filename = 'models/lang_model/standard_lstm_wd'\n",
    "save_architecture(model, filename + '.json')\n",
    "model.save_weights(filename + '.hdf5')"
   ]
  },
  {
   "cell_type": "markdown",
   "metadata": {},
   "source": [
    "## Standard LSTM with standard dropout"
   ]
  },
  {
   "cell_type": "code",
   "execution_count": 16,
   "metadata": {},
   "outputs": [],
   "source": [
    "from keras.layers import Dropout"
   ]
  },
  {
   "cell_type": "code",
   "execution_count": 17,
   "metadata": {},
   "outputs": [],
   "source": [
    "model = Sequential()\n",
    "model.add(Embedding(emb_mat.shape[0], emb_mat.shape[1], input_length=inputs.shape[1], weights=[emb_mat], name='embedding'))\n",
    "model.add(Dropout(0.25, name='embedding_dropout'))\n",
    "model.add(LSTM(128, kernel_regularizer=l2(1e-4), recurrent_regularizer=l2(1e-4), bias_regularizer=l2(1e-4), name='lstm'))\n",
    "model.add(Dropout(0.25, name='output_dropout'))\n",
    "model.add(Dense(emb_mat.shape[0], activation='softmax', kernel_regularizer=l2(1e-4), bias_regularizer=l2(1e-4), name='output'))\n",
    "model.compile(loss='categorical_crossentropy', optimizer='adam', metrics=['accuracy'])"
   ]
  },
  {
   "cell_type": "code",
   "execution_count": 18,
   "metadata": {},
   "outputs": [
    {
     "name": "stdout",
     "output_type": "stream",
     "text": [
      "_________________________________________________________________\n",
      "Layer (type)                 Output Shape              Param #   \n",
      "=================================================================\n",
      "embedding (Embedding)        (None, 31, 200)           4000200   \n",
      "_________________________________________________________________\n",
      "embedding_dropout (Dropout)  (None, 31, 200)           0         \n",
      "_________________________________________________________________\n",
      "lstm (LSTM)                  (None, 128)               168448    \n",
      "_________________________________________________________________\n",
      "output_dropout (Dropout)     (None, 128)               0         \n",
      "_________________________________________________________________\n",
      "output (Dense)               (None, 20001)             2580129   \n",
      "=================================================================\n",
      "Total params: 6,748,777\n",
      "Trainable params: 6,748,777\n",
      "Non-trainable params: 0\n",
      "_________________________________________________________________\n"
     ]
    }
   ],
   "source": [
    "model.summary()"
   ]
  },
  {
   "cell_type": "code",
   "execution_count": 19,
   "metadata": {},
   "outputs": [],
   "source": [
    "filename = 'models/lang_model/standard_lstm_dropout'\n",
    "save_architecture(model, filename + '.json')\n",
    "model.save_weights(filename + '.hdf5')"
   ]
  },
  {
   "cell_type": "markdown",
   "metadata": {},
   "source": [
    "## Variational LSTM with standard dropout"
   ]
  },
  {
   "cell_type": "code",
   "execution_count": 20,
   "metadata": {},
   "outputs": [],
   "source": [
    "model = Sequential()\n",
    "model.add(Embedding(emb_mat.shape[0], emb_mat.shape[1], input_length=inputs.shape[1], weights=[emb_mat], name='embedding'))\n",
    "model.add(Dropout(0.25, name='embedding_dropout'))\n",
    "model.add(LSTM(128, kernel_regularizer=l2(1e-4), recurrent_regularizer=l2(1e-4), bias_regularizer=l2(1e-4), dropout=0.25, recurrent_dropout=0.25, name='lstm'))\n",
    "model.add(Dropout(0.25, name='output_dropout'))\n",
    "model.add(Dense(emb_mat.shape[0], activation='softmax', kernel_regularizer=l2(1e-4), bias_regularizer=l2(1e-4), name='output'))\n",
    "model.compile(loss='categorical_crossentropy', optimizer='adam', metrics=['accuracy'])"
   ]
  },
  {
   "cell_type": "code",
   "execution_count": 21,
   "metadata": {},
   "outputs": [
    {
     "name": "stdout",
     "output_type": "stream",
     "text": [
      "_________________________________________________________________\n",
      "Layer (type)                 Output Shape              Param #   \n",
      "=================================================================\n",
      "embedding (Embedding)        (None, 31, 200)           4000200   \n",
      "_________________________________________________________________\n",
      "embedding_dropout (Dropout)  (None, 31, 200)           0         \n",
      "_________________________________________________________________\n",
      "lstm (LSTM)                  (None, 128)               168448    \n",
      "_________________________________________________________________\n",
      "output_dropout (Dropout)     (None, 128)               0         \n",
      "_________________________________________________________________\n",
      "output (Dense)               (None, 20001)             2580129   \n",
      "=================================================================\n",
      "Total params: 6,748,777\n",
      "Trainable params: 6,748,777\n",
      "Non-trainable params: 0\n",
      "_________________________________________________________________\n"
     ]
    }
   ],
   "source": [
    "model.summary()"
   ]
  },
  {
   "cell_type": "code",
   "execution_count": 22,
   "metadata": {},
   "outputs": [],
   "source": [
    "filename = 'models/lang_model/variational_lstm_dropout'\n",
    "save_architecture(model, filename + '.json')\n",
    "model.save_weights(filename + '.hdf5')"
   ]
  },
  {
   "cell_type": "markdown",
   "metadata": {},
   "source": [
    "## Conclusion"
   ]
  },
  {
   "cell_type": "code",
   "execution_count": 23,
   "metadata": {},
   "outputs": [
    {
     "name": "stdout",
     "output_type": "stream",
     "text": [
      "baseline_lstm.hdf5\t    standard_lstm.json\r\n",
      "baseline_lstm.json\t    standard_lstm_wd.hdf5\r\n",
      "standard_lstm_dropout.hdf5  standard_lstm_wd.json\r\n",
      "standard_lstm_dropout.json  variational_lstm_dropout.hdf5\r\n",
      "standard_lstm.hdf5\t    variational_lstm_dropout.json\r\n"
     ]
    }
   ],
   "source": [
    "!ls models/lang_model/"
   ]
  },
  {
   "cell_type": "code",
   "execution_count": null,
   "metadata": {},
   "outputs": [],
   "source": []
  }
 ],
 "metadata": {
  "kernelspec": {
   "display_name": "Python 3",
   "language": "python",
   "name": "python3"
  },
  "language_info": {
   "codemirror_mode": {
    "name": "ipython",
    "version": 3
   },
   "file_extension": ".py",
   "mimetype": "text/x-python",
   "name": "python",
   "nbconvert_exporter": "python",
   "pygments_lexer": "ipython3",
   "version": "3.6.3"
  }
 },
 "nbformat": 4,
 "nbformat_minor": 2
}
