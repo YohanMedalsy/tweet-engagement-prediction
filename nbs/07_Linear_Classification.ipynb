{
 "cells": [
  {
   "cell_type": "markdown",
   "metadata": {},
   "source": [
    "# Step 7: Train linear classification model\n",
    "\n",
    "This model will serve as a benchmark for more complex classification models. The following steps will be covered in this notebook:\n",
    "1. Setup model and data\n",
    "2. Train model on data sample\n",
    "3. Train model on full data set\n",
    "\n",
    "## Setup model and data"
   ]
  },
  {
   "cell_type": "code",
   "execution_count": 1,
   "metadata": {},
   "outputs": [],
   "source": [
    "%load_ext autoreload\n",
    "%autoreload 2\n",
    "\n",
    "%matplotlib inline"
   ]
  },
  {
   "cell_type": "code",
   "execution_count": 2,
   "metadata": {},
   "outputs": [
    {
     "name": "stderr",
     "output_type": "stream",
     "text": [
      "/home/paperspace/anaconda3/lib/python3.6/site-packages/h5py/__init__.py:36: FutureWarning: Conversion of the second argument of issubdtype from `float` to `np.floating` is deprecated. In future, it will be treated as `np.float64 == np.dtype(float).type`.\n",
      "  from ._conv import register_converters as _register_converters\n",
      "Using TensorFlow backend.\n"
     ]
    }
   ],
   "source": [
    "import keras.backend as K\n",
    "K.clear_session()"
   ]
  },
  {
   "cell_type": "markdown",
   "metadata": {},
   "source": [
    "First, we have to load the data and infer input and output dimensions for the model."
   ]
  },
  {
   "cell_type": "code",
   "execution_count": 3,
   "metadata": {},
   "outputs": [
    {
     "data": {
      "text/plain": [
       "5"
      ]
     },
     "execution_count": 3,
     "metadata": {},
     "output_type": "execute_result"
    }
   ],
   "source": [
    "from tep.linearModel import classification_model\n",
    "from tep.config import Config\n",
    "config = Config()\n",
    "classes = config.CLASSES\n",
    "len(classes) + 1"
   ]
  },
  {
   "cell_type": "code",
   "execution_count": 4,
   "metadata": {},
   "outputs": [],
   "source": [
    "from tep.utils import load_array"
   ]
  },
  {
   "cell_type": "code",
   "execution_count": 5,
   "metadata": {},
   "outputs": [
    {
     "data": {
      "text/plain": [
       "(1293005, 15)"
      ]
     },
     "execution_count": 5,
     "metadata": {},
     "output_type": "execute_result"
    }
   ],
   "source": [
    "features = load_array(filename=\"data/auxiliary_features.bc\")\n",
    "features.shape"
   ]
  },
  {
   "cell_type": "code",
   "execution_count": 6,
   "metadata": {},
   "outputs": [
    {
     "data": {
      "text/plain": [
       "(1293005,)"
      ]
     },
     "execution_count": 6,
     "metadata": {},
     "output_type": "execute_result"
    }
   ],
   "source": [
    "labels = load_array(filename=\"data/classification_labels.bc\")\n",
    "labels.shape"
   ]
  },
  {
   "cell_type": "code",
   "execution_count": 7,
   "metadata": {},
   "outputs": [],
   "source": [
    "num_features = features.shape[1]\n",
    "num_classes = len(classes) + 1"
   ]
  },
  {
   "cell_type": "markdown",
   "metadata": {},
   "source": [
    "Now, we can create the model..."
   ]
  },
  {
   "cell_type": "code",
   "execution_count": 8,
   "metadata": {},
   "outputs": [],
   "source": [
    "model = classification_model(input_dim=num_features, output_dim=num_classes)"
   ]
  },
  {
   "cell_type": "code",
   "execution_count": 9,
   "metadata": {},
   "outputs": [
    {
     "name": "stdout",
     "output_type": "stream",
     "text": [
      "_________________________________________________________________\n",
      "Layer (type)                 Output Shape              Param #   \n",
      "=================================================================\n",
      "normalized_inputs (BatchNorm (None, 15)                60        \n",
      "_________________________________________________________________\n",
      "output (Dense)               (None, 5)                 80        \n",
      "=================================================================\n",
      "Total params: 140\n",
      "Trainable params: 110\n",
      "Non-trainable params: 30\n",
      "_________________________________________________________________\n"
     ]
    }
   ],
   "source": [
    "model.summary()"
   ]
  },
  {
   "cell_type": "markdown",
   "metadata": {},
   "source": [
    "In order to make results and models reproducible, we need to be able to save and load the model architecture from file. Configuration will be saved in json format."
   ]
  },
  {
   "cell_type": "code",
   "execution_count": 10,
   "metadata": {},
   "outputs": [],
   "source": [
    "from tep.modelUtils import save_architecture, load_architecture\n",
    "save_architecture(model, \"models/lin_class.json\")"
   ]
  },
  {
   "cell_type": "markdown",
   "metadata": {},
   "source": [
    "## Train model on data sample"
   ]
  },
  {
   "cell_type": "code",
   "execution_count": 11,
   "metadata": {},
   "outputs": [],
   "source": [
    "# set sample size\n",
    "train_size = 10000\n",
    "val_size = 1000"
   ]
  },
  {
   "cell_type": "code",
   "execution_count": 12,
   "metadata": {},
   "outputs": [],
   "source": [
    "# get useful callback functions\n",
    "from tep.trainUtils import get_callbacks"
   ]
  },
  {
   "cell_type": "code",
   "execution_count": 13,
   "metadata": {},
   "outputs": [],
   "source": [
    "model_name = \"lin_class\"\n",
    "log_dir = \"logs/\" + model_name"
   ]
  },
  {
   "cell_type": "code",
   "execution_count": 14,
   "metadata": {},
   "outputs": [
    {
     "name": "stdout",
     "output_type": "stream",
     "text": [
      "mkdir: cannot create directory ‘logs/lin_class’: File exists\r\n"
     ]
    }
   ],
   "source": [
    "!mkdir $log_dir"
   ]
  },
  {
   "cell_type": "code",
   "execution_count": 15,
   "metadata": {},
   "outputs": [
    {
     "name": "stdout",
     "output_type": "stream",
     "text": [
      "WARNING:tensorflow:From /home/paperspace/anaconda3/lib/python3.6/site-packages/tensorflow/contrib/learn/python/learn/datasets/base.py:198: retry (from tensorflow.contrib.learn.python.learn.datasets.base) is deprecated and will be removed in a future version.\n",
      "Instructions for updating:\n",
      "Use the retry module or similar alternatives.\n"
     ]
    }
   ],
   "source": [
    "callbacks = get_callbacks(model_name=model_name, log_dir=log_dir, verbose=1)"
   ]
  },
  {
   "cell_type": "code",
   "execution_count": 16,
   "metadata": {},
   "outputs": [],
   "source": [
    "# we have to one-hot encode the labels prior to training\n",
    "from tep.trainUtils import one_hot_encoding"
   ]
  },
  {
   "cell_type": "code",
   "execution_count": 17,
   "metadata": {},
   "outputs": [
    {
     "name": "stdout",
     "output_type": "stream",
     "text": [
      "[0. 1. 3. 0. 0.]\n",
      "[[1. 0. 0. 0. 0.]\n",
      " [0. 1. 0. 0. 0.]\n",
      " [0. 0. 0. 1. 0.]\n",
      " [1. 0. 0. 0. 0.]\n",
      " [1. 0. 0. 0. 0.]]\n"
     ]
    }
   ],
   "source": [
    "encoded_labels = one_hot_encoding(class_labels=labels, number_classes=num_classes)\n",
    "print(labels[:5])\n",
    "print(encoded_labels[:5])"
   ]
  },
  {
   "cell_type": "code",
   "execution_count": 18,
   "metadata": {},
   "outputs": [
    {
     "name": "stdout",
     "output_type": "stream",
     "text": [
      "Train on 10000 samples, validate on 1000 samples\n",
      "Epoch 1/100\n",
      " - 2s - loss: 1.8140 - acc: 0.2568 - val_loss: 1.6081 - val_acc: 0.3390\n",
      "\n",
      "Epoch 00001: val_loss improved from inf to 1.60811, saving model to models/lin_class.hdf5\n",
      "Epoch 2/100\n",
      " - 1s - loss: 1.4366 - acc: 0.3903 - val_loss: 1.3836 - val_acc: 0.4200\n",
      "\n",
      "Epoch 00002: val_loss improved from 1.60811 to 1.38359, saving model to models/lin_class.hdf5\n",
      "Epoch 3/100\n",
      " - 1s - loss: 1.2835 - acc: 0.4503 - val_loss: 1.2794 - val_acc: 0.4500\n",
      "\n",
      "Epoch 00003: val_loss improved from 1.38359 to 1.27942, saving model to models/lin_class.hdf5\n",
      "Epoch 4/100\n",
      " - 1s - loss: 1.2172 - acc: 0.4751 - val_loss: 1.2268 - val_acc: 0.4690\n",
      "\n",
      "Epoch 00004: val_loss improved from 1.27942 to 1.22676, saving model to models/lin_class.hdf5\n",
      "Epoch 5/100\n",
      " - 1s - loss: 1.1795 - acc: 0.4828 - val_loss: 1.1955 - val_acc: 0.4740\n",
      "\n",
      "Epoch 00005: val_loss improved from 1.22676 to 1.19547, saving model to models/lin_class.hdf5\n",
      "Epoch 6/100\n",
      " - 1s - loss: 1.1663 - acc: 0.4905 - val_loss: 1.1766 - val_acc: 0.4780\n",
      "\n",
      "Epoch 00006: val_loss improved from 1.19547 to 1.17662, saving model to models/lin_class.hdf5\n",
      "Epoch 7/100\n",
      " - 1s - loss: 1.1519 - acc: 0.4897 - val_loss: 1.1661 - val_acc: 0.4840\n",
      "\n",
      "Epoch 00007: val_loss improved from 1.17662 to 1.16609, saving model to models/lin_class.hdf5\n",
      "Epoch 8/100\n",
      " - 1s - loss: 1.1419 - acc: 0.4969 - val_loss: 1.1588 - val_acc: 0.4900\n",
      "\n",
      "Epoch 00008: val_loss improved from 1.16609 to 1.15878, saving model to models/lin_class.hdf5\n",
      "Epoch 9/100\n",
      " - 1s - loss: 1.1385 - acc: 0.5028 - val_loss: 1.1520 - val_acc: 0.4940\n",
      "\n",
      "Epoch 00009: val_loss improved from 1.15878 to 1.15205, saving model to models/lin_class.hdf5\n",
      "Epoch 10/100\n",
      " - 1s - loss: 1.1388 - acc: 0.4981 - val_loss: 1.1488 - val_acc: 0.4970\n",
      "\n",
      "Epoch 00010: val_loss improved from 1.15205 to 1.14884, saving model to models/lin_class.hdf5\n",
      "Epoch 11/100\n",
      " - 1s - loss: 1.1346 - acc: 0.5024 - val_loss: 1.1424 - val_acc: 0.4990\n",
      "\n",
      "Epoch 00011: val_loss improved from 1.14884 to 1.14245, saving model to models/lin_class.hdf5\n",
      "Epoch 12/100\n",
      " - 1s - loss: 1.1369 - acc: 0.5033 - val_loss: 1.1416 - val_acc: 0.5010\n",
      "\n",
      "Epoch 00012: val_loss improved from 1.14245 to 1.14160, saving model to models/lin_class.hdf5\n",
      "Epoch 13/100\n",
      " - 1s - loss: 1.1318 - acc: 0.5025 - val_loss: 1.1386 - val_acc: 0.4990\n",
      "\n",
      "Epoch 00013: val_loss improved from 1.14160 to 1.13860, saving model to models/lin_class.hdf5\n",
      "Epoch 14/100\n",
      " - 1s - loss: 1.1274 - acc: 0.5053 - val_loss: 1.1388 - val_acc: 0.5000\n",
      "\n",
      "Epoch 00014: val_loss did not improve\n",
      "Epoch 15/100\n",
      " - 1s - loss: 1.1253 - acc: 0.5032 - val_loss: 1.1387 - val_acc: 0.5020\n",
      "\n",
      "Epoch 00015: val_loss did not improve\n",
      "Epoch 16/100\n",
      " - 1s - loss: 1.1328 - acc: 0.5042 - val_loss: 1.1378 - val_acc: 0.5020\n",
      "\n",
      "Epoch 00016: val_loss improved from 1.13860 to 1.13782, saving model to models/lin_class.hdf5\n",
      "Epoch 17/100\n",
      " - 1s - loss: 1.1242 - acc: 0.5067 - val_loss: 1.1356 - val_acc: 0.5050\n",
      "\n",
      "Epoch 00017: val_loss improved from 1.13782 to 1.13564, saving model to models/lin_class.hdf5\n",
      "Epoch 18/100\n",
      " - 1s - loss: 1.1312 - acc: 0.5045 - val_loss: 1.1340 - val_acc: 0.5070\n",
      "\n",
      "Epoch 00018: val_loss improved from 1.13564 to 1.13396, saving model to models/lin_class.hdf5\n",
      "Epoch 19/100\n",
      " - 1s - loss: 1.1320 - acc: 0.5075 - val_loss: 1.1366 - val_acc: 0.5010\n",
      "\n",
      "Epoch 00019: val_loss did not improve\n",
      "Epoch 20/100\n",
      " - 1s - loss: 1.1286 - acc: 0.5034 - val_loss: 1.1356 - val_acc: 0.5030\n",
      "\n",
      "Epoch 00020: val_loss did not improve\n",
      "Epoch 21/100\n",
      " - 1s - loss: 1.1291 - acc: 0.5034 - val_loss: 1.1333 - val_acc: 0.5040\n",
      "\n",
      "Epoch 00021: val_loss improved from 1.13396 to 1.13330, saving model to models/lin_class.hdf5\n",
      "Epoch 22/100\n",
      " - 1s - loss: 1.1272 - acc: 0.5080 - val_loss: 1.1340 - val_acc: 0.5010\n",
      "\n",
      "Epoch 00022: val_loss did not improve\n",
      "Epoch 23/100\n",
      " - 1s - loss: 1.1273 - acc: 0.5077 - val_loss: 1.1357 - val_acc: 0.5030\n",
      "\n",
      "Epoch 00023: val_loss did not improve\n",
      "Epoch 24/100\n",
      " - 1s - loss: 1.1326 - acc: 0.5101 - val_loss: 1.1333 - val_acc: 0.5020\n",
      "\n",
      "Epoch 00024: val_loss improved from 1.13330 to 1.13328, saving model to models/lin_class.hdf5\n",
      "Epoch 25/100\n",
      " - 1s - loss: 1.1276 - acc: 0.5046 - val_loss: 1.1318 - val_acc: 0.5010\n",
      "\n",
      "Epoch 00025: val_loss improved from 1.13328 to 1.13176, saving model to models/lin_class.hdf5\n",
      "Epoch 26/100\n",
      " - 1s - loss: 1.1279 - acc: 0.5034 - val_loss: 1.1321 - val_acc: 0.5030\n",
      "\n",
      "Epoch 00026: val_loss did not improve\n",
      "Epoch 27/100\n",
      " - 1s - loss: 1.1271 - acc: 0.5038 - val_loss: 1.1344 - val_acc: 0.5020\n",
      "\n",
      "Epoch 00027: val_loss did not improve\n",
      "Epoch 28/100\n",
      " - 1s - loss: 1.1279 - acc: 0.5102 - val_loss: 1.1355 - val_acc: 0.5030\n",
      "\n",
      "Epoch 00028: val_loss did not improve\n",
      "Epoch 29/100\n",
      " - 1s - loss: 1.1240 - acc: 0.5080 - val_loss: 1.1333 - val_acc: 0.5070\n",
      "\n",
      "Epoch 00029: val_loss did not improve\n",
      "Epoch 30/100\n",
      " - 1s - loss: 1.1314 - acc: 0.5078 - val_loss: 1.1359 - val_acc: 0.5090\n",
      "\n",
      "Epoch 00030: val_loss did not improve\n",
      "Epoch 00030: early stopping\n"
     ]
    },
    {
     "data": {
      "text/plain": [
       "<keras.callbacks.History at 0x7f072e532ac8>"
      ]
     },
     "execution_count": 18,
     "metadata": {},
     "output_type": "execute_result"
    }
   ],
   "source": [
    "# now, we can train the model for the first time\n",
    "model.fit(features[:train_size], \n",
    "          encoded_labels[:train_size], \n",
    "          validation_data=(features[-val_size:], encoded_labels[-val_size:]), \n",
    "          batch_size=64, \n",
    "          epochs=100, \n",
    "          verbose=2,\n",
    "          shuffle=True,\n",
    "          callbacks=callbacks)"
   ]
  },
  {
   "cell_type": "code",
   "execution_count": 19,
   "metadata": {},
   "outputs": [
    {
     "data": {
      "text/plain": [
       "[<keras.callbacks.ModelCheckpoint at 0x7f0736863390>,\n",
       " <keras.callbacks.EarlyStopping at 0x7f0736863630>,\n",
       " <keras.callbacks.History at 0x7f07368637f0>,\n",
       " <keras.callbacks.TensorBoard at 0x7f0736863748>]"
      ]
     },
     "execution_count": 19,
     "metadata": {},
     "output_type": "execute_result"
    }
   ],
   "source": [
    "callbacks"
   ]
  },
  {
   "cell_type": "code",
   "execution_count": 20,
   "metadata": {},
   "outputs": [],
   "source": [
    "history = callbacks[2]"
   ]
  },
  {
   "cell_type": "code",
   "execution_count": 21,
   "metadata": {},
   "outputs": [
    {
     "data": {
      "image/png": "[encoded data removed]",
      "text/plain": [
       "<Figure size 432x288 with 1 Axes>"
      ]
     },
     "metadata": {},
     "output_type": "display_data"
    }
   ],
   "source": [
    "from tep.trainUtils import plot_loss\n",
    "plot_loss(history)"
   ]
  },
  {
   "cell_type": "code",
   "execution_count": 22,
   "metadata": {},
   "outputs": [
    {
     "data": {
      "text/plain": [
       "(1000, 5)"
      ]
     },
     "execution_count": 22,
     "metadata": {},
     "output_type": "execute_result"
    }
   ],
   "source": [
    "predictions = model.predict(features[-val_size:])\n",
    "predictions.shape"
   ]
  },
  {
   "cell_type": "code",
   "execution_count": 23,
   "metadata": {},
   "outputs": [
    {
     "data": {
      "text/plain": [
       "array([[0.37390307, 0.41004777, 0.1718581 , 0.03843983, 0.00575124],\n",
       "       [0.55224085, 0.27643642, 0.14209443, 0.02570981, 0.00351848],\n",
       "       [0.39751118, 0.27457613, 0.21559533, 0.06560856, 0.04670875],\n",
       "       [0.5888656 , 0.09530024, 0.1386706 , 0.11922229, 0.05794135],\n",
       "       [0.631163  , 0.29088047, 0.06659465, 0.00642754, 0.00493438],\n",
       "       [0.10363445, 0.4182413 , 0.32776585, 0.13566582, 0.01469251],\n",
       "       [0.14676432, 0.38387606, 0.32494655, 0.11678401, 0.02762914],\n",
       "       [0.5203026 , 0.09749289, 0.1726422 , 0.1372243 , 0.07233805],\n",
       "       [0.33630317, 0.30993435, 0.23057154, 0.10340493, 0.01978599],\n",
       "       [0.28767097, 0.42427057, 0.20871659, 0.06816708, 0.01117477]],\n",
       "      dtype=float32)"
      ]
     },
     "execution_count": 23,
     "metadata": {},
     "output_type": "execute_result"
    }
   ],
   "source": [
    "predictions[:10]"
   ]
  },
  {
   "cell_type": "code",
   "execution_count": 24,
   "metadata": {},
   "outputs": [
    {
     "data": {
      "text/plain": [
       "array([1., 0., 0., 0., 0., 1., 1., 0., 0., 1.])"
      ]
     },
     "execution_count": 24,
     "metadata": {},
     "output_type": "execute_result"
    }
   ],
   "source": [
    "from tep.trainUtils import one_hot_to_class\n",
    "predictions = one_hot_to_class(predictions)\n",
    "predictions[:10]"
   ]
  },
  {
   "cell_type": "code",
   "execution_count": 25,
   "metadata": {},
   "outputs": [
    {
     "data": {
      "image/png": "[encoded data removed]",
      "text/plain": [
       "<Figure size 864x432 with 2 Axes>"
      ]
     },
     "metadata": {},
     "output_type": "display_data"
    }
   ],
   "source": [
    "from tep.trainUtils import plot_cm\n",
    "import numpy as np\n",
    "import matplotlib\n",
    "matplotlib.rcParams['figure.figsize'] = (12.0, 6.0)\n",
    "actuals = labels[-val_size:]\n",
    "plot_cm(predictions, actuals, np.arange(1, 6), normalize=True)"
   ]
  },
  {
   "cell_type": "code",
   "execution_count": 27,
   "metadata": {},
   "outputs": [],
   "source": [
    "from tep.trainUtils import print_classification_metrics"
   ]
  },
  {
   "cell_type": "code",
   "execution_count": 28,
   "metadata": {},
   "outputs": [
    {
     "name": "stdout",
     "output_type": "stream",
     "text": [
      "loss: 1.1276248249053955, acc: 0.5046, val_loss: 1.1317618083953858, val_acc: 0.501\n"
     ]
    }
   ],
   "source": [
    "print_classification_metrics(history)"
   ]
  },
  {
   "cell_type": "code",
   "execution_count": null,
   "metadata": {},
   "outputs": [],
   "source": []
  }
 ],
 "metadata": {
  "kernelspec": {
   "display_name": "Python 3",
   "language": "python",
   "name": "python3"
  },
  "language_info": {
   "codemirror_mode": {
    "name": "ipython",
    "version": 3
   },
   "file_extension": ".py",
   "mimetype": "text/x-python",
   "name": "python",
   "nbconvert_exporter": "python",
   "pygments_lexer": "ipython3",
   "version": "3.6.3"
  }
 },
 "nbformat": 4,
 "nbformat_minor": 2
}
