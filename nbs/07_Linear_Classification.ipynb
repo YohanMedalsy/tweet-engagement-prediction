{
 "cells": [
  {
   "cell_type": "markdown",
   "metadata": {},
   "source": [
    "# Step 7: Train linear classification model\n",
    "\n",
    "This model will serve as a benchmark for more complex classification models. The following steps will be covered in this notebook:\n",
    "1. Prepare data\n",
    "2. Load and save model\n",
    "3. Setup logging\n",
    "4. Train model\n",
    "\n",
    "## Setup"
   ]
  },
  {
   "cell_type": "code",
   "execution_count": 1,
   "metadata": {
    "collapsed": true
   },
   "outputs": [],
   "source": [
    "%load_ext autoreload\n",
    "%autoreload 2\n",
    "\n",
    "%matplotlib inline"
   ]
  },
  {
   "cell_type": "code",
   "execution_count": 2,
   "metadata": {},
   "outputs": [
    {
     "name": "stderr",
     "output_type": "stream",
     "text": [
      "Using TensorFlow backend.\n"
     ]
    }
   ],
   "source": [
    "import keras.backend as K\n",
    "K.clear_session()"
   ]
  },
  {
   "cell_type": "code",
   "execution_count": 3,
   "metadata": {
    "collapsed": true
   },
   "outputs": [],
   "source": [
    "import matplotlib\n",
    "matplotlib.rcParams['figure.figsize'] = (12.0, 6.0)"
   ]
  },
  {
   "cell_type": "markdown",
   "metadata": {},
   "source": [
    "## Prepare data"
   ]
  },
  {
   "cell_type": "code",
   "execution_count": 4,
   "metadata": {},
   "outputs": [
    {
     "name": "stdout",
     "output_type": "stream",
     "text": [
      "5\n"
     ]
    }
   ],
   "source": [
    "from tep.config import Config\n",
    "config = Config()\n",
    "classes = config.CLASSES\n",
    "num_classes = len(classes) + 1\n",
    "print(num_classes)"
   ]
  },
  {
   "cell_type": "code",
   "execution_count": 5,
   "metadata": {},
   "outputs": [
    {
     "name": "stdout",
     "output_type": "stream",
     "text": [
      "(1293005, 15)\n",
      "(1293005,)\n"
     ]
    }
   ],
   "source": [
    "from tep.utils import load_array\n",
    "features = load_array(filename=\"data/auxiliary_features.bc\")\n",
    "labels = load_array(filename=\"data/classification_labels.bc\")\n",
    "print(features.shape)\n",
    "print(labels.shape)"
   ]
  },
  {
   "cell_type": "code",
   "execution_count": 6,
   "metadata": {},
   "outputs": [
    {
     "name": "stdout",
     "output_type": "stream",
     "text": [
      "(1293005, 5)\n"
     ]
    }
   ],
   "source": [
    "from tep.trainUtils import one_hot_encoding\n",
    "oh_labels = one_hot_encoding(class_labels=labels, number_classes=num_classes)\n",
    "print(oh_labels.shape)"
   ]
  },
  {
   "cell_type": "markdown",
   "metadata": {},
   "source": [
    "## Compile and save model"
   ]
  },
  {
   "cell_type": "code",
   "execution_count": 7,
   "metadata": {},
   "outputs": [
    {
     "name": "stdout",
     "output_type": "stream",
     "text": [
      "_________________________________________________________________\n",
      "Layer (type)                 Output Shape              Param #   \n",
      "=================================================================\n",
      "normalized_inputs (BatchNorm (None, 15)                60        \n",
      "_________________________________________________________________\n",
      "output (Dense)               (None, 5)                 80        \n",
      "=================================================================\n",
      "Total params: 140\n",
      "Trainable params: 110\n",
      "Non-trainable params: 30\n",
      "_________________________________________________________________\n"
     ]
    }
   ],
   "source": [
    "from tep.linearModel import classification_model\n",
    "model = classification_model(input_dim=features.shape[1], output_dim=num_classes)\n",
    "model.summary()"
   ]
  },
  {
   "cell_type": "code",
   "execution_count": 8,
   "metadata": {
    "collapsed": true
   },
   "outputs": [],
   "source": [
    "from tep.modelUtils import save_architecture, load_architecture\n",
    "model_name = \"lin_class\"\n",
    "model_path = \"models/\" + model_name\n",
    "save_architecture(model, model_path + \".json\")"
   ]
  },
  {
   "cell_type": "markdown",
   "metadata": {},
   "source": [
    "## Setup logging"
   ]
  },
  {
   "cell_type": "code",
   "execution_count": 9,
   "metadata": {
    "collapsed": true
   },
   "outputs": [],
   "source": [
    "!mkdir $model_path"
   ]
  },
  {
   "cell_type": "code",
   "execution_count": 10,
   "metadata": {},
   "outputs": [
    {
     "name": "stdout",
     "output_type": "stream",
     "text": [
      "rm: models/lin_class/*: No such file or directory\r\n"
     ]
    }
   ],
   "source": [
    "!rm $model_path/*"
   ]
  },
  {
   "cell_type": "code",
   "execution_count": 11,
   "metadata": {
    "collapsed": true
   },
   "outputs": [],
   "source": [
    "from tep.trainUtils import get_callbacks\n",
    "cbs = get_callbacks(model_name=model_name, log_dir=model_path, verbose=1)"
   ]
  },
  {
   "cell_type": "markdown",
   "metadata": {},
   "source": [
    "## Train model"
   ]
  },
  {
   "cell_type": "code",
   "execution_count": 12,
   "metadata": {
    "collapsed": true
   },
   "outputs": [],
   "source": [
    "# use settings for testing on sample\n",
    "train_size = 10000\n",
    "val_size = 1000\n",
    "batch_size = 64\n",
    "\n",
    "# use settings for running on full data\n",
    "#val_size = 10000\n",
    "#train_size = feats.shape[0] - val_size\n",
    "#batch_size = 512"
   ]
  },
  {
   "cell_type": "code",
   "execution_count": 13,
   "metadata": {},
   "outputs": [
    {
     "name": "stdout",
     "output_type": "stream",
     "text": [
      "Train on 10000 samples, validate on 1000 samples\n",
      "Epoch 1/100\n",
      "Epoch 00001: val_loss improved from inf to 1.58476, saving model to models/lin_class.hdf5\n",
      " - 1s - loss: 1.8610 - acc: 0.2544 - val_loss: 1.5848 - val_acc: 0.3670\n",
      "Epoch 2/100\n",
      "Epoch 00002: val_loss improved from 1.58476 to 1.39606, saving model to models/lin_class.hdf5\n",
      " - 1s - loss: 1.4807 - acc: 0.4189 - val_loss: 1.3961 - val_acc: 0.4450\n",
      "Epoch 3/100\n",
      "Epoch 00003: val_loss improved from 1.39606 to 1.29263, saving model to models/lin_class.hdf5\n",
      " - 1s - loss: 1.3265 - acc: 0.4693 - val_loss: 1.2926 - val_acc: 0.4700\n",
      "Epoch 4/100\n",
      "Epoch 00004: val_loss improved from 1.29263 to 1.22658, saving model to models/lin_class.hdf5\n",
      " - 1s - loss: 1.2506 - acc: 0.4812 - val_loss: 1.2266 - val_acc: 0.4740\n",
      "Epoch 5/100\n",
      "Epoch 00005: val_loss improved from 1.22658 to 1.18247, saving model to models/lin_class.hdf5\n",
      " - 1s - loss: 1.1949 - acc: 0.4887 - val_loss: 1.1825 - val_acc: 0.4790\n",
      "Epoch 6/100\n",
      "Epoch 00006: val_loss improved from 1.18247 to 1.15749, saving model to models/lin_class.hdf5\n",
      " - 1s - loss: 1.1605 - acc: 0.5021 - val_loss: 1.1575 - val_acc: 0.5030\n",
      "Epoch 7/100\n",
      "Epoch 00007: val_loss improved from 1.15749 to 1.13959, saving model to models/lin_class.hdf5\n",
      " - 1s - loss: 1.1417 - acc: 0.5076 - val_loss: 1.1396 - val_acc: 0.5090\n",
      "Epoch 8/100\n",
      "Epoch 00008: val_loss improved from 1.13959 to 1.12991, saving model to models/lin_class.hdf5\n",
      " - 1s - loss: 1.1288 - acc: 0.5133 - val_loss: 1.1299 - val_acc: 0.5080\n",
      "Epoch 9/100\n",
      "Epoch 00009: val_loss improved from 1.12991 to 1.12392, saving model to models/lin_class.hdf5\n",
      " - 1s - loss: 1.1273 - acc: 0.5106 - val_loss: 1.1239 - val_acc: 0.5080\n",
      "Epoch 10/100\n",
      "Epoch 00010: val_loss improved from 1.12392 to 1.11737, saving model to models/lin_class.hdf5\n",
      " - 1s - loss: 1.1186 - acc: 0.5189 - val_loss: 1.1174 - val_acc: 0.5100\n",
      "Epoch 11/100\n",
      "Epoch 00011: val_loss improved from 1.11737 to 1.11397, saving model to models/lin_class.hdf5\n",
      " - 1s - loss: 1.1212 - acc: 0.5108 - val_loss: 1.1140 - val_acc: 0.5110\n",
      "Epoch 12/100\n",
      "Epoch 00012: val_loss improved from 1.11397 to 1.11238, saving model to models/lin_class.hdf5\n",
      " - 1s - loss: 1.1116 - acc: 0.5164 - val_loss: 1.1124 - val_acc: 0.5100\n",
      "Epoch 13/100\n",
      "Epoch 00013: val_loss did not improve\n",
      " - 1s - loss: 1.1086 - acc: 0.5183 - val_loss: 1.1135 - val_acc: 0.5070\n",
      "Epoch 14/100\n",
      "Epoch 00014: val_loss improved from 1.11238 to 1.10758, saving model to models/lin_class.hdf5\n",
      " - 1s - loss: 1.1082 - acc: 0.5192 - val_loss: 1.1076 - val_acc: 0.5120\n",
      "Epoch 15/100\n",
      "Epoch 00015: val_loss improved from 1.10758 to 1.10528, saving model to models/lin_class.hdf5\n",
      " - 1s - loss: 1.1140 - acc: 0.5184 - val_loss: 1.1053 - val_acc: 0.5090\n",
      "Epoch 16/100\n",
      "Epoch 00016: val_loss did not improve\n",
      " - 1s - loss: 1.1076 - acc: 0.5222 - val_loss: 1.1081 - val_acc: 0.5060\n",
      "Epoch 17/100\n",
      "Epoch 00017: val_loss did not improve\n",
      " - 1s - loss: 1.1077 - acc: 0.5192 - val_loss: 1.1061 - val_acc: 0.5110\n",
      "Epoch 18/100\n",
      "Epoch 00018: val_loss did not improve\n",
      " - 1s - loss: 1.1084 - acc: 0.5220 - val_loss: 1.1066 - val_acc: 0.5160\n",
      "Epoch 19/100\n",
      "Epoch 00019: val_loss did not improve\n",
      " - 1s - loss: 1.1014 - acc: 0.5210 - val_loss: 1.1071 - val_acc: 0.5150\n",
      "Epoch 20/100\n",
      "Epoch 00020: val_loss improved from 1.10528 to 1.10379, saving model to models/lin_class.hdf5\n",
      " - 1s - loss: 1.1020 - acc: 0.5194 - val_loss: 1.1038 - val_acc: 0.5130\n",
      "Epoch 21/100\n",
      "Epoch 00021: val_loss did not improve\n",
      " - 1s - loss: 1.1047 - acc: 0.5257 - val_loss: 1.1062 - val_acc: 0.5140\n",
      "Epoch 22/100\n",
      "Epoch 00022: val_loss did not improve\n",
      " - 1s - loss: 1.1017 - acc: 0.5257 - val_loss: 1.1055 - val_acc: 0.5140\n",
      "Epoch 23/100\n",
      "Epoch 00023: val_loss did not improve\n",
      " - 1s - loss: 1.1030 - acc: 0.5222 - val_loss: 1.1041 - val_acc: 0.5100\n",
      "Epoch 24/100\n",
      "Epoch 00024: val_loss improved from 1.10379 to 1.10369, saving model to models/lin_class.hdf5\n",
      " - 1s - loss: 1.1022 - acc: 0.5252 - val_loss: 1.1037 - val_acc: 0.5140\n",
      "Epoch 25/100\n",
      "Epoch 00025: val_loss improved from 1.10369 to 1.10291, saving model to models/lin_class.hdf5\n",
      " - 1s - loss: 1.1056 - acc: 0.5237 - val_loss: 1.1029 - val_acc: 0.5150\n",
      "Epoch 26/100\n",
      "Epoch 00026: val_loss did not improve\n",
      " - 1s - loss: 1.1062 - acc: 0.5249 - val_loss: 1.1043 - val_acc: 0.5200\n",
      "Epoch 27/100\n",
      "Epoch 00027: val_loss did not improve\n",
      " - 1s - loss: 1.1032 - acc: 0.5221 - val_loss: 1.1051 - val_acc: 0.5200\n",
      "Epoch 28/100\n",
      "Epoch 00028: val_loss did not improve\n",
      " - 1s - loss: 1.1075 - acc: 0.5267 - val_loss: 1.1031 - val_acc: 0.5130\n",
      "Epoch 29/100\n",
      "Epoch 00029: val_loss did not improve\n",
      " - 1s - loss: 1.1049 - acc: 0.5216 - val_loss: 1.1032 - val_acc: 0.5180\n",
      "Epoch 30/100\n",
      "Epoch 00030: val_loss did not improve\n",
      " - 1s - loss: 1.1103 - acc: 0.5202 - val_loss: 1.1038 - val_acc: 0.5140\n",
      "Epoch 00030: early stopping\n"
     ]
    },
    {
     "data": {
      "text/plain": [
       "<keras.callbacks.History at 0x1c2c66ee48>"
      ]
     },
     "execution_count": 13,
     "metadata": {},
     "output_type": "execute_result"
    }
   ],
   "source": [
    "# now, we can train the model for the first time\n",
    "model.fit(features[:train_size], \n",
    "          oh_labels[:train_size], \n",
    "          validation_data=(features[-val_size:], oh_labels[-val_size:]), \n",
    "          batch_size=batch_size, \n",
    "          epochs=100, \n",
    "          verbose=2,\n",
    "          shuffle=True,\n",
    "          callbacks=cbs)"
   ]
  },
  {
   "cell_type": "code",
   "execution_count": 15,
   "metadata": {
    "scrolled": true
   },
   "outputs": [
    {
     "data": {
      "image/png": "[encoded data removed]",
      "text/plain": [
       "<matplotlib.figure.Figure at 0x1c2d2b2e10>"
      ]
     },
     "metadata": {},
     "output_type": "display_data"
    }
   ],
   "source": [
    "from tep.trainUtils import plot_loss\n",
    "history = cbs[2]\n",
    "plot_loss(history)"
   ]
  },
  {
   "cell_type": "code",
   "execution_count": 16,
   "metadata": {},
   "outputs": [
    {
     "name": "stdout",
     "output_type": "stream",
     "text": [
      "loss: 1.1055722579956055, acc: 0.5237, val_loss: 1.102905023574829, val_acc: 0.5150000004768371\n"
     ]
    }
   ],
   "source": [
    "from tep.trainUtils import print_classification_metrics\n",
    "print_classification_metrics(history)"
   ]
  },
  {
   "cell_type": "code",
   "execution_count": 17,
   "metadata": {},
   "outputs": [
    {
     "name": "stdout",
     "output_type": "stream",
     "text": [
      "(1000, 5)\n",
      "(1000,)\n"
     ]
    }
   ],
   "source": [
    "from tep.trainUtils import one_hot_to_class\n",
    "predictions = model.predict(features[-val_size:])\n",
    "print(predictions.shape)\n",
    "predictions = one_hot_to_class(predictions)\n",
    "print(predictions.shape)"
   ]
  },
  {
   "cell_type": "code",
   "execution_count": 18,
   "metadata": {},
   "outputs": [
    {
     "data": {
      "image/png": "[encoded data removed]",
      "text/plain": [
       "<matplotlib.figure.Figure at 0x1c2d045dd8>"
      ]
     },
     "metadata": {},
     "output_type": "display_data"
    }
   ],
   "source": [
    "from tep.trainUtils import plot_cm\n",
    "import numpy as np\n",
    "actuals = labels[-val_size:]\n",
    "plot_cm(predictions, actuals, np.arange(1, 6), normalize=True)"
   ]
  }
 ],
 "metadata": {
  "kernelspec": {
   "display_name": "Python 3",
   "language": "python",
   "name": "python3"
  },
  "language_info": {
   "codemirror_mode": {
    "name": "ipython",
    "version": 3
   },
   "file_extension": ".py",
   "mimetype": "text/x-python",
   "name": "python",
   "nbconvert_exporter": "python",
   "pygments_lexer": "ipython3",
   "version": "3.6.3"
  }
 },
 "nbformat": 4,
 "nbformat_minor": 2
}
