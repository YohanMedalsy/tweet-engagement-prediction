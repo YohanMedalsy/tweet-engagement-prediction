{
 "cells": [
  {
   "cell_type": "markdown",
   "metadata": {},
   "source": [
    "# Step 7: Train linear classification model\n",
    "\n",
    "This model will serve as a benchmark for more complex classification models. The following steps will be covered in this notebook:\n",
    "1. Setup model and data\n",
    "2. Train model on data sample\n",
    "3. Train model on full data set\n",
    "\n",
    "## Setup model and data"
   ]
  },
  {
   "cell_type": "code",
   "execution_count": 1,
   "metadata": {
    "collapsed": true
   },
   "outputs": [],
   "source": [
    "%load_ext autoreload\n",
    "%autoreload 2\n",
    "\n",
    "%matplotlib inline"
   ]
  },
  {
   "cell_type": "code",
   "execution_count": 2,
   "metadata": {},
   "outputs": [
    {
     "name": "stderr",
     "output_type": "stream",
     "text": [
      "Using TensorFlow backend.\n"
     ]
    }
   ],
   "source": [
    "import keras.backend as K\n",
    "K.clear_session()"
   ]
  },
  {
   "cell_type": "markdown",
   "metadata": {},
   "source": [
    "First, we have to load the data and infer input and output dimensions for the model."
   ]
  },
  {
   "cell_type": "code",
   "execution_count": 3,
   "metadata": {},
   "outputs": [
    {
     "data": {
      "text/plain": [
       "5"
      ]
     },
     "execution_count": 3,
     "metadata": {},
     "output_type": "execute_result"
    }
   ],
   "source": [
    "from tep.linearModel import classification_model\n",
    "from tep.config import Config\n",
    "config = Config()\n",
    "classes = config.CLASSES\n",
    "len(classes) + 1"
   ]
  },
  {
   "cell_type": "code",
   "execution_count": 4,
   "metadata": {
    "collapsed": true
   },
   "outputs": [],
   "source": [
    "from tep.utils import load_array"
   ]
  },
  {
   "cell_type": "code",
   "execution_count": 5,
   "metadata": {},
   "outputs": [
    {
     "data": {
      "text/plain": [
       "(1293005, 15)"
      ]
     },
     "execution_count": 5,
     "metadata": {},
     "output_type": "execute_result"
    }
   ],
   "source": [
    "features = load_array(filename=\"data/auxiliary_features.bc\")\n",
    "features.shape"
   ]
  },
  {
   "cell_type": "code",
   "execution_count": 6,
   "metadata": {},
   "outputs": [
    {
     "data": {
      "text/plain": [
       "(1293005,)"
      ]
     },
     "execution_count": 6,
     "metadata": {},
     "output_type": "execute_result"
    }
   ],
   "source": [
    "labels = load_array(filename=\"data/classification_labels.bc\")\n",
    "labels.shape"
   ]
  },
  {
   "cell_type": "code",
   "execution_count": 7,
   "metadata": {
    "collapsed": true
   },
   "outputs": [],
   "source": [
    "num_features = features.shape[1]\n",
    "num_classes = len(classes) + 1"
   ]
  },
  {
   "cell_type": "markdown",
   "metadata": {},
   "source": [
    "Now, we can create the model..."
   ]
  },
  {
   "cell_type": "code",
   "execution_count": 8,
   "metadata": {},
   "outputs": [],
   "source": [
    "model = classification_model(input_dim=num_features, output_dim=num_classes)"
   ]
  },
  {
   "cell_type": "code",
   "execution_count": 9,
   "metadata": {},
   "outputs": [
    {
     "name": "stdout",
     "output_type": "stream",
     "text": [
      "_________________________________________________________________\n",
      "Layer (type)                 Output Shape              Param #   \n",
      "=================================================================\n",
      "normalized_inputs (BatchNorm (None, 15)                60        \n",
      "_________________________________________________________________\n",
      "output (Dense)               (None, 5)                 80        \n",
      "=================================================================\n",
      "Total params: 140\n",
      "Trainable params: 110\n",
      "Non-trainable params: 30\n",
      "_________________________________________________________________\n"
     ]
    }
   ],
   "source": [
    "model.summary()"
   ]
  },
  {
   "cell_type": "markdown",
   "metadata": {},
   "source": [
    "In order to make results and models reproducible, we need to be able to save and load the model architecture from file. Configuration will be saved in json format."
   ]
  },
  {
   "cell_type": "code",
   "execution_count": 10,
   "metadata": {},
   "outputs": [],
   "source": [
    "from tep.modelUtils import save_architecture, load_architecture\n",
    "save_architecture(model, \"models/lin_class.json\")"
   ]
  },
  {
   "cell_type": "markdown",
   "metadata": {},
   "source": [
    "## Train model on data sample"
   ]
  },
  {
   "cell_type": "code",
   "execution_count": 11,
   "metadata": {
    "collapsed": true
   },
   "outputs": [],
   "source": [
    "# set sample size\n",
    "train_size = 10000\n",
    "val_size = 1000"
   ]
  },
  {
   "cell_type": "code",
   "execution_count": 12,
   "metadata": {
    "collapsed": true
   },
   "outputs": [],
   "source": [
    "# get useful callback functions\n",
    "from tep.trainUtils import get_callbacks"
   ]
  },
  {
   "cell_type": "code",
   "execution_count": 13,
   "metadata": {
    "collapsed": true
   },
   "outputs": [],
   "source": [
    "model_name = \"lin_class\"\n",
    "log_dir = \"logs/\" + model_name"
   ]
  },
  {
   "cell_type": "code",
   "execution_count": 14,
   "metadata": {},
   "outputs": [
    {
     "name": "stdout",
     "output_type": "stream",
     "text": [
      "mkdir: logs/lin_class: File exists\r\n"
     ]
    }
   ],
   "source": [
    "!mkdir $log_dir"
   ]
  },
  {
   "cell_type": "code",
   "execution_count": 15,
   "metadata": {},
   "outputs": [],
   "source": [
    "callbacks = get_callbacks(model_name=model_name, log_dir=log_dir, verbose=1)"
   ]
  },
  {
   "cell_type": "code",
   "execution_count": 16,
   "metadata": {
    "collapsed": true
   },
   "outputs": [],
   "source": [
    "# we have to one-hot encode the labels prior to training\n",
    "from tep.trainUtils import one_hot_encoding"
   ]
  },
  {
   "cell_type": "code",
   "execution_count": 17,
   "metadata": {},
   "outputs": [
    {
     "name": "stdout",
     "output_type": "stream",
     "text": [
      "[ 3.  0.  1.  1.  0.]\n",
      "[[ 0.  0.  0.  1.  0.]\n",
      " [ 1.  0.  0.  0.  0.]\n",
      " [ 0.  1.  0.  0.  0.]\n",
      " [ 0.  1.  0.  0.  0.]\n",
      " [ 1.  0.  0.  0.  0.]]\n"
     ]
    }
   ],
   "source": [
    "encoded_labels = one_hot_encoding(class_labels=labels, number_classes=num_classes)\n",
    "print(labels[:5])\n",
    "print(encoded_labels[:5])"
   ]
  },
  {
   "cell_type": "code",
   "execution_count": 18,
   "metadata": {},
   "outputs": [
    {
     "name": "stdout",
     "output_type": "stream",
     "text": [
      "Train on 10000 samples, validate on 1000 samples\n",
      "Epoch 1/100\n",
      "Epoch 00001: val_loss improved from inf to 1.54849, saving model to models/lin_class.hdf5\n",
      " - 1s - loss: 1.8188 - acc: 0.2594 - val_loss: 1.5485 - val_acc: 0.3500\n",
      "Epoch 2/100\n",
      "Epoch 00002: val_loss improved from 1.54849 to 1.33311, saving model to models/lin_class.hdf5\n",
      " - 1s - loss: 1.4394 - acc: 0.3940 - val_loss: 1.3331 - val_acc: 0.4520\n",
      "Epoch 3/100\n",
      "Epoch 00003: val_loss improved from 1.33311 to 1.25551, saving model to models/lin_class.hdf5\n",
      " - 1s - loss: 1.2956 - acc: 0.4662 - val_loss: 1.2555 - val_acc: 0.4830\n",
      "Epoch 4/100\n",
      "Epoch 00004: val_loss improved from 1.25551 to 1.21720, saving model to models/lin_class.hdf5\n",
      " - 1s - loss: 1.2305 - acc: 0.4910 - val_loss: 1.2172 - val_acc: 0.4910\n",
      "Epoch 5/100\n",
      "Epoch 00005: val_loss improved from 1.21720 to 1.19632, saving model to models/lin_class.hdf5\n",
      " - 1s - loss: 1.1999 - acc: 0.4921 - val_loss: 1.1963 - val_acc: 0.4930\n",
      "Epoch 6/100\n",
      "Epoch 00006: val_loss improved from 1.19632 to 1.18139, saving model to models/lin_class.hdf5\n",
      " - 1s - loss: 1.1715 - acc: 0.4979 - val_loss: 1.1814 - val_acc: 0.4900\n",
      "Epoch 7/100\n",
      "Epoch 00007: val_loss improved from 1.18139 to 1.16672, saving model to models/lin_class.hdf5\n",
      " - 1s - loss: 1.1628 - acc: 0.5000 - val_loss: 1.1667 - val_acc: 0.4930\n",
      "Epoch 8/100\n",
      "Epoch 00008: val_loss improved from 1.16672 to 1.15934, saving model to models/lin_class.hdf5\n",
      " - 1s - loss: 1.1450 - acc: 0.5082 - val_loss: 1.1593 - val_acc: 0.4930\n",
      "Epoch 9/100\n",
      "Epoch 00009: val_loss improved from 1.15934 to 1.14869, saving model to models/lin_class.hdf5\n",
      " - 1s - loss: 1.1434 - acc: 0.5102 - val_loss: 1.1487 - val_acc: 0.4950\n",
      "Epoch 10/100\n",
      "Epoch 00010: val_loss improved from 1.14869 to 1.14208, saving model to models/lin_class.hdf5\n",
      " - 1s - loss: 1.1360 - acc: 0.5084 - val_loss: 1.1421 - val_acc: 0.4960\n",
      "Epoch 11/100\n",
      "Epoch 00011: val_loss improved from 1.14208 to 1.13740, saving model to models/lin_class.hdf5\n",
      " - 1s - loss: 1.1349 - acc: 0.5080 - val_loss: 1.1374 - val_acc: 0.4990\n",
      "Epoch 12/100\n",
      "Epoch 00012: val_loss improved from 1.13740 to 1.13505, saving model to models/lin_class.hdf5\n",
      " - 1s - loss: 1.1290 - acc: 0.5140 - val_loss: 1.1350 - val_acc: 0.4960\n",
      "Epoch 13/100\n",
      "Epoch 00013: val_loss improved from 1.13505 to 1.12898, saving model to models/lin_class.hdf5\n",
      " - 1s - loss: 1.1226 - acc: 0.5132 - val_loss: 1.1290 - val_acc: 0.5030\n",
      "Epoch 14/100\n",
      "Epoch 00014: val_loss improved from 1.12898 to 1.12410, saving model to models/lin_class.hdf5\n",
      " - 1s - loss: 1.1204 - acc: 0.5139 - val_loss: 1.1241 - val_acc: 0.5000\n",
      "Epoch 15/100\n",
      "Epoch 00015: val_loss improved from 1.12410 to 1.11755, saving model to models/lin_class.hdf5\n",
      " - 1s - loss: 1.1164 - acc: 0.5171 - val_loss: 1.1175 - val_acc: 0.5050\n",
      "Epoch 16/100\n",
      "Epoch 00016: val_loss did not improve\n",
      " - 1s - loss: 1.1163 - acc: 0.5157 - val_loss: 1.1187 - val_acc: 0.5030\n",
      "Epoch 17/100\n",
      "Epoch 00017: val_loss improved from 1.11755 to 1.11530, saving model to models/lin_class.hdf5\n",
      " - 1s - loss: 1.1115 - acc: 0.5186 - val_loss: 1.1153 - val_acc: 0.5040\n",
      "Epoch 18/100\n",
      "Epoch 00018: val_loss did not improve\n",
      " - 1s - loss: 1.1107 - acc: 0.5164 - val_loss: 1.1176 - val_acc: 0.5030\n",
      "Epoch 19/100\n",
      "Epoch 00019: val_loss improved from 1.11530 to 1.11188, saving model to models/lin_class.hdf5\n",
      " - 1s - loss: 1.1105 - acc: 0.5183 - val_loss: 1.1119 - val_acc: 0.5090\n",
      "Epoch 20/100\n",
      "Epoch 00020: val_loss improved from 1.11188 to 1.10926, saving model to models/lin_class.hdf5\n",
      " - 1s - loss: 1.1105 - acc: 0.5193 - val_loss: 1.1093 - val_acc: 0.5070\n",
      "Epoch 21/100\n",
      "Epoch 00021: val_loss did not improve\n",
      " - 1s - loss: 1.1106 - acc: 0.5202 - val_loss: 1.1106 - val_acc: 0.5100\n",
      "Epoch 22/100\n",
      "Epoch 00022: val_loss improved from 1.10926 to 1.10881, saving model to models/lin_class.hdf5\n",
      " - 1s - loss: 1.1107 - acc: 0.5188 - val_loss: 1.1088 - val_acc: 0.5100\n",
      "Epoch 23/100\n",
      "Epoch 00023: val_loss did not improve\n",
      " - 1s - loss: 1.1045 - acc: 0.5236 - val_loss: 1.1090 - val_acc: 0.5110\n",
      "Epoch 24/100\n",
      "Epoch 00024: val_loss improved from 1.10881 to 1.10648, saving model to models/lin_class.hdf5\n",
      " - 1s - loss: 1.1095 - acc: 0.5224 - val_loss: 1.1065 - val_acc: 0.5080\n",
      "Epoch 25/100\n",
      "Epoch 00025: val_loss improved from 1.10648 to 1.10589, saving model to models/lin_class.hdf5\n",
      " - 1s - loss: 1.1111 - acc: 0.5194 - val_loss: 1.1059 - val_acc: 0.5090\n",
      "Epoch 26/100\n",
      "Epoch 00026: val_loss improved from 1.10589 to 1.10589, saving model to models/lin_class.hdf5\n",
      " - 1s - loss: 1.1017 - acc: 0.5232 - val_loss: 1.1059 - val_acc: 0.5040\n",
      "Epoch 27/100\n",
      "Epoch 00027: val_loss improved from 1.10589 to 1.10577, saving model to models/lin_class.hdf5\n",
      " - 1s - loss: 1.1079 - acc: 0.5222 - val_loss: 1.1058 - val_acc: 0.5060\n",
      "Epoch 28/100\n",
      "Epoch 00028: val_loss improved from 1.10577 to 1.10450, saving model to models/lin_class.hdf5\n",
      " - 1s - loss: 1.1077 - acc: 0.5217 - val_loss: 1.1045 - val_acc: 0.5080\n",
      "Epoch 29/100\n",
      "Epoch 00029: val_loss improved from 1.10450 to 1.10415, saving model to models/lin_class.hdf5\n",
      " - 1s - loss: 1.1011 - acc: 0.5247 - val_loss: 1.1042 - val_acc: 0.5090\n",
      "Epoch 30/100\n",
      "Epoch 00030: val_loss improved from 1.10415 to 1.10393, saving model to models/lin_class.hdf5\n",
      " - 1s - loss: 1.1048 - acc: 0.5260 - val_loss: 1.1039 - val_acc: 0.5070\n",
      "Epoch 31/100\n",
      "Epoch 00031: val_loss improved from 1.10393 to 1.10319, saving model to models/lin_class.hdf5\n",
      " - 1s - loss: 1.1044 - acc: 0.5217 - val_loss: 1.1032 - val_acc: 0.5100\n",
      "Epoch 32/100\n",
      "Epoch 00032: val_loss improved from 1.10319 to 1.10227, saving model to models/lin_class.hdf5\n",
      " - 1s - loss: 1.1055 - acc: 0.5245 - val_loss: 1.1023 - val_acc: 0.5140\n",
      "Epoch 33/100\n",
      "Epoch 00033: val_loss did not improve\n",
      " - 1s - loss: 1.1083 - acc: 0.5237 - val_loss: 1.1085 - val_acc: 0.5100\n",
      "Epoch 34/100\n",
      "Epoch 00034: val_loss did not improve\n",
      " - 1s - loss: 1.1046 - acc: 0.5226 - val_loss: 1.1023 - val_acc: 0.5070\n",
      "Epoch 35/100\n",
      "Epoch 00035: val_loss did not improve\n",
      " - 1s - loss: 1.1010 - acc: 0.5249 - val_loss: 1.1051 - val_acc: 0.5110\n",
      "Epoch 36/100\n",
      "Epoch 00036: val_loss did not improve\n",
      " - 1s - loss: 1.1041 - acc: 0.5219 - val_loss: 1.1044 - val_acc: 0.5170\n",
      "Epoch 37/100\n",
      "Epoch 00037: val_loss did not improve\n",
      " - 1s - loss: 1.1059 - acc: 0.5254 - val_loss: 1.1024 - val_acc: 0.5150\n",
      "Epoch 00037: early stopping\n"
     ]
    },
    {
     "data": {
      "text/plain": [
       "<keras.callbacks.History at 0x1c2df04e80>"
      ]
     },
     "execution_count": 18,
     "metadata": {},
     "output_type": "execute_result"
    }
   ],
   "source": [
    "# now, we can train the model for the first time\n",
    "model.fit(features[:train_size], \n",
    "          encoded_labels[:train_size], \n",
    "          validation_data=(features[-val_size:], encoded_labels[-val_size:]), \n",
    "          batch_size=64, \n",
    "          epochs=100, \n",
    "          verbose=2,\n",
    "          shuffle=True,\n",
    "          callbacks=callbacks)"
   ]
  },
  {
   "cell_type": "code",
   "execution_count": 19,
   "metadata": {},
   "outputs": [
    {
     "data": {
      "text/plain": [
       "[<keras.callbacks.ModelCheckpoint at 0x1c283f0940>,\n",
       " <keras.callbacks.EarlyStopping at 0x1c283f09e8>,\n",
       " <keras.callbacks.History at 0x1c283f0a58>,\n",
       " <keras.callbacks.TensorBoard at 0x1c283f0978>]"
      ]
     },
     "execution_count": 19,
     "metadata": {},
     "output_type": "execute_result"
    }
   ],
   "source": [
    "callbacks"
   ]
  },
  {
   "cell_type": "code",
   "execution_count": 20,
   "metadata": {},
   "outputs": [],
   "source": [
    "history = callbacks[2]"
   ]
  },
  {
   "cell_type": "code",
   "execution_count": 21,
   "metadata": {},
   "outputs": [
    {
     "data": {
      "image/png": "[encoded data removed]",
      "text/plain": [
       "<matplotlib.figure.Figure at 0x1c283f0b00>"
      ]
     },
     "metadata": {},
     "output_type": "display_data"
    }
   ],
   "source": [
    "from tep.trainUtils import plot_loss\n",
    "plot_loss(history)"
   ]
  },
  {
   "cell_type": "code",
   "execution_count": 22,
   "metadata": {},
   "outputs": [
    {
     "data": {
      "text/plain": [
       "(1000, 5)"
      ]
     },
     "execution_count": 22,
     "metadata": {},
     "output_type": "execute_result"
    }
   ],
   "source": [
    "predictions = model.predict(features[-val_size:])\n",
    "predictions.shape"
   ]
  },
  {
   "cell_type": "code",
   "execution_count": 23,
   "metadata": {},
   "outputs": [
    {
     "data": {
      "text/plain": [
       "array([[  2.75367975e-01,   4.30068135e-01,   2.33325407e-01,\n",
       "          5.31381145e-02,   8.10036156e-03],\n",
       "       [  6.20522976e-01,   2.44799063e-01,   1.00173250e-01,\n",
       "          2.54571289e-02,   9.04756505e-03],\n",
       "       [  9.22234297e-01,   5.19122519e-02,   2.50368267e-02,\n",
       "          3.63024068e-04,   4.53558110e-04],\n",
       "       [  7.25148261e-01,   2.10511327e-01,   5.21134324e-02,\n",
       "          9.37751681e-03,   2.84950342e-03],\n",
       "       [  4.50563133e-01,   3.69561166e-01,   1.70339912e-01,\n",
       "          7.05762766e-03,   2.47810548e-03],\n",
       "       [  1.29370600e-01,   5.00576735e-01,   2.74504811e-01,\n",
       "          8.64520743e-02,   9.09586344e-03],\n",
       "       [  4.94566590e-01,   3.41590106e-01,   1.56881303e-01,\n",
       "          5.70081174e-03,   1.26116269e-03],\n",
       "       [  4.87667054e-01,   2.79593229e-01,   1.68575287e-01,\n",
       "          4.68220823e-02,   1.73423216e-02],\n",
       "       [  3.19817632e-01,   4.43717778e-01,   1.64712355e-01,\n",
       "          6.11711591e-02,   1.05811032e-02],\n",
       "       [  2.48952940e-01,   3.04627031e-01,   2.44782448e-01,\n",
       "          1.50213912e-01,   5.14236242e-02]], dtype=float32)"
      ]
     },
     "execution_count": 23,
     "metadata": {},
     "output_type": "execute_result"
    }
   ],
   "source": [
    "predictions[:10]"
   ]
  },
  {
   "cell_type": "code",
   "execution_count": 24,
   "metadata": {},
   "outputs": [
    {
     "data": {
      "text/plain": [
       "array([ 1.,  0.,  0.,  0.,  0.,  1.,  0.,  0.,  1.,  1.])"
      ]
     },
     "execution_count": 24,
     "metadata": {},
     "output_type": "execute_result"
    }
   ],
   "source": [
    "from tep.trainUtils import one_hot_to_class\n",
    "predictions = one_hot_to_class(predictions)\n",
    "predictions[:10]"
   ]
  },
  {
   "cell_type": "code",
   "execution_count": 25,
   "metadata": {},
   "outputs": [
    {
     "data": {
      "image/png": "[encoded data removed]",
      "text/plain": [
       "<matplotlib.figure.Figure at 0x1c2eb9f748>"
      ]
     },
     "metadata": {},
     "output_type": "display_data"
    }
   ],
   "source": [
    "from tep.trainUtils import plot_cm\n",
    "import numpy as np\n",
    "import matplotlib\n",
    "matplotlib.rcParams['figure.figsize'] = (12.0, 6.0)\n",
    "actuals = labels[-val_size:]\n",
    "plot_cm(predictions, actuals, np.arange(1, 6), normalize=True)"
   ]
  },
  {
   "cell_type": "code",
   "execution_count": null,
   "metadata": {
    "collapsed": true
   },
   "outputs": [],
   "source": []
  }
 ],
 "metadata": {
  "kernelspec": {
   "display_name": "Python 3",
   "language": "python",
   "name": "python3"
  },
  "language_info": {
   "codemirror_mode": {
    "name": "ipython",
    "version": 3
   },
   "file_extension": ".py",
   "mimetype": "text/x-python",
   "name": "python",
   "nbconvert_exporter": "python",
   "pygments_lexer": "ipython3",
   "version": "3.6.3"
  }
 },
 "nbformat": 4,
 "nbformat_minor": 2
}
