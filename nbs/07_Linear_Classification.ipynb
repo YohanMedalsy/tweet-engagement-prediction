{
 "cells": [
  {
   "cell_type": "markdown",
   "metadata": {},
   "source": [
    "# Step 7: Train linear classification model\n",
    "\n",
    "This model will serve as a benchmark for more complex classification models. The following steps will be covered in this notebook:\n",
    "1. Prepare data\n",
    "2. Load and save model\n",
    "3. Setup logging\n",
    "4. Train model\n",
    "\n",
    "## Setup"
   ]
  },
  {
   "cell_type": "code",
   "execution_count": 1,
   "metadata": {
    "collapsed": true
   },
   "outputs": [],
   "source": [
    "%load_ext autoreload\n",
    "%autoreload 2\n",
    "\n",
    "%matplotlib inline"
   ]
  },
  {
   "cell_type": "code",
   "execution_count": 2,
   "metadata": {},
   "outputs": [
    {
     "name": "stderr",
     "output_type": "stream",
     "text": [
      "/home/paperspace/anaconda3/lib/python3.6/site-packages/h5py/__init__.py:36: FutureWarning: Conversion of the second argument of issubdtype from `float` to `np.floating` is deprecated. In future, it will be treated as `np.float64 == np.dtype(float).type`.\n",
      "  from ._conv import register_converters as _register_converters\n",
      "Using TensorFlow backend.\n"
     ]
    }
   ],
   "source": [
    "import keras.backend as K\n",
    "K.clear_session()"
   ]
  },
  {
   "cell_type": "code",
   "execution_count": 3,
   "metadata": {
    "collapsed": true
   },
   "outputs": [],
   "source": [
    "import matplotlib\n",
    "matplotlib.rcParams['figure.figsize'] = (12.0, 6.0)"
   ]
  },
  {
   "cell_type": "markdown",
   "metadata": {},
   "source": [
    "## Prepare data"
   ]
  },
  {
   "cell_type": "code",
   "execution_count": 4,
   "metadata": {},
   "outputs": [
    {
     "name": "stdout",
     "output_type": "stream",
     "text": [
      "5\n"
     ]
    }
   ],
   "source": [
    "from tep.config import Config\n",
    "config = Config()\n",
    "classes = config.CLASSES\n",
    "num_classes = len(classes) + 1\n",
    "print(num_classes)"
   ]
  },
  {
   "cell_type": "code",
   "execution_count": 5,
   "metadata": {},
   "outputs": [
    {
     "name": "stdout",
     "output_type": "stream",
     "text": [
      "(1293005, 15)\n",
      "(1293005,)\n"
     ]
    }
   ],
   "source": [
    "from tep.utils import load_array\n",
    "features = load_array(filename=\"data/auxiliary_features.bc\")\n",
    "labels = load_array(filename=\"data/classification_labels.bc\")\n",
    "print(features.shape)\n",
    "print(labels.shape)"
   ]
  },
  {
   "cell_type": "code",
   "execution_count": 6,
   "metadata": {},
   "outputs": [
    {
     "name": "stdout",
     "output_type": "stream",
     "text": [
      "(1293005, 5)\n"
     ]
    }
   ],
   "source": [
    "from tep.trainUtils import one_hot_encoding\n",
    "oh_labels = one_hot_encoding(class_labels=labels, number_classes=num_classes)\n",
    "print(oh_labels.shape)"
   ]
  },
  {
   "cell_type": "markdown",
   "metadata": {},
   "source": [
    "## Compile and save model"
   ]
  },
  {
   "cell_type": "code",
   "execution_count": 7,
   "metadata": {},
   "outputs": [
    {
     "name": "stdout",
     "output_type": "stream",
     "text": [
      "_________________________________________________________________\n",
      "Layer (type)                 Output Shape              Param #   \n",
      "=================================================================\n",
      "normalized_inputs (BatchNorm (None, 15)                60        \n",
      "_________________________________________________________________\n",
      "output (Dense)               (None, 5)                 80        \n",
      "=================================================================\n",
      "Total params: 140\n",
      "Trainable params: 110\n",
      "Non-trainable params: 30\n",
      "_________________________________________________________________\n"
     ]
    }
   ],
   "source": [
    "from tep.linearModel import classification_model\n",
    "model = classification_model(input_dim=features.shape[1], output_dim=num_classes)\n",
    "model.summary()"
   ]
  },
  {
   "cell_type": "code",
   "execution_count": 8,
   "metadata": {
    "collapsed": true
   },
   "outputs": [],
   "source": [
    "from tep.modelUtils import save_architecture\n",
    "model_name = \"lin_class\"\n",
    "model_path = \"models/\" + model_name\n",
    "save_architecture(model, model_path + \".json\")"
   ]
  },
  {
   "cell_type": "markdown",
   "metadata": {},
   "source": [
    "## Setup logging"
   ]
  },
  {
   "cell_type": "code",
   "execution_count": 9,
   "metadata": {},
   "outputs": [
    {
     "name": "stdout",
     "output_type": "stream",
     "text": [
      "mkdir: cannot create directory ‘models/lin_class’: File exists\r\n"
     ]
    }
   ],
   "source": [
    "!mkdir $model_path"
   ]
  },
  {
   "cell_type": "code",
   "execution_count": 10,
   "metadata": {
    "collapsed": true
   },
   "outputs": [],
   "source": [
    "!rm $model_path/*"
   ]
  },
  {
   "cell_type": "code",
   "execution_count": 11,
   "metadata": {},
   "outputs": [
    {
     "name": "stdout",
     "output_type": "stream",
     "text": [
      "WARNING:tensorflow:From /home/paperspace/anaconda3/lib/python3.6/site-packages/tensorflow/contrib/learn/python/learn/datasets/base.py:198: retry (from tensorflow.contrib.learn.python.learn.datasets.base) is deprecated and will be removed in a future version.\n",
      "Instructions for updating:\n",
      "Use the retry module or similar alternatives.\n"
     ]
    }
   ],
   "source": [
    "from tep.trainUtils import get_callbacks\n",
    "cbs = get_callbacks(model_name=model_name, log_dir=model_path, verbose=1)"
   ]
  },
  {
   "cell_type": "markdown",
   "metadata": {},
   "source": [
    "## Train model"
   ]
  },
  {
   "cell_type": "code",
   "execution_count": 12,
   "metadata": {
    "collapsed": true
   },
   "outputs": [],
   "source": [
    "# use settings for testing on sample\n",
    "#train_size = 10000\n",
    "#val_size = 1000\n",
    "#batch_size = 64\n",
    "\n",
    "# use settings for running on full data\n",
    "val_size = 10000\n",
    "train_size = features.shape[0] - val_size\n",
    "batch_size = 512"
   ]
  },
  {
   "cell_type": "code",
   "execution_count": 13,
   "metadata": {},
   "outputs": [
    {
     "name": "stdout",
     "output_type": "stream",
     "text": [
      "Train on 1283005 samples, validate on 10000 samples\n",
      "Epoch 1/100\n",
      " - 9s - loss: 1.1861 - acc: 0.4863 - val_loss: 1.0879 - val_acc: 0.5267\n",
      "\n",
      "Epoch 00001: val_loss improved from inf to 1.08788, saving model to models/lin_class.hdf5\n",
      "Epoch 2/100\n",
      " - 9s - loss: 1.1013 - acc: 0.5205 - val_loss: 1.0841 - val_acc: 0.5315\n",
      "\n",
      "Epoch 00002: val_loss improved from 1.08788 to 1.08413, saving model to models/lin_class.hdf5\n",
      "Epoch 3/100\n",
      " - 9s - loss: 1.1003 - acc: 0.5225 - val_loss: 1.0839 - val_acc: 0.5313\n",
      "\n",
      "Epoch 00003: val_loss improved from 1.08413 to 1.08391, saving model to models/lin_class.hdf5\n",
      "Epoch 4/100\n",
      " - 9s - loss: 1.1002 - acc: 0.5234 - val_loss: 1.0840 - val_acc: 0.5315\n",
      "\n",
      "Epoch 00004: val_loss did not improve\n",
      "Epoch 5/100\n",
      " - 9s - loss: 1.0996 - acc: 0.5240 - val_loss: 1.0828 - val_acc: 0.5347\n",
      "\n",
      "Epoch 00005: val_loss improved from 1.08391 to 1.08283, saving model to models/lin_class.hdf5\n",
      "Epoch 6/100\n",
      " - 9s - loss: 1.0993 - acc: 0.5240 - val_loss: 1.0826 - val_acc: 0.5351\n",
      "\n",
      "Epoch 00006: val_loss improved from 1.08283 to 1.08261, saving model to models/lin_class.hdf5\n",
      "Epoch 7/100\n",
      " - 9s - loss: 1.0994 - acc: 0.5247 - val_loss: 1.0835 - val_acc: 0.5322\n",
      "\n",
      "Epoch 00007: val_loss did not improve\n",
      "Epoch 8/100\n",
      " - 9s - loss: 1.0995 - acc: 0.5245 - val_loss: 1.0837 - val_acc: 0.5309\n",
      "\n",
      "Epoch 00008: val_loss did not improve\n",
      "Epoch 9/100\n",
      " - 9s - loss: 1.0991 - acc: 0.5244 - val_loss: 1.0823 - val_acc: 0.5338\n",
      "\n",
      "Epoch 00009: val_loss improved from 1.08261 to 1.08234, saving model to models/lin_class.hdf5\n",
      "Epoch 10/100\n",
      " - 9s - loss: 1.0990 - acc: 0.5247 - val_loss: 1.0826 - val_acc: 0.5336\n",
      "\n",
      "Epoch 00010: val_loss did not improve\n",
      "Epoch 11/100\n",
      " - 9s - loss: 1.0991 - acc: 0.5246 - val_loss: 1.0822 - val_acc: 0.5325\n",
      "\n",
      "Epoch 00011: val_loss improved from 1.08234 to 1.08216, saving model to models/lin_class.hdf5\n",
      "Epoch 12/100\n",
      " - 9s - loss: 1.0987 - acc: 0.5251 - val_loss: 1.0829 - val_acc: 0.5339\n",
      "\n",
      "Epoch 00012: val_loss did not improve\n",
      "Epoch 13/100\n",
      " - 9s - loss: 1.0989 - acc: 0.5248 - val_loss: 1.0828 - val_acc: 0.5337\n",
      "\n",
      "Epoch 00013: val_loss did not improve\n",
      "Epoch 14/100\n",
      " - 9s - loss: 1.0989 - acc: 0.5247 - val_loss: 1.0825 - val_acc: 0.5350\n",
      "\n",
      "Epoch 00014: val_loss did not improve\n",
      "Epoch 15/100\n",
      " - 9s - loss: 1.0986 - acc: 0.5250 - val_loss: 1.0832 - val_acc: 0.5318\n",
      "\n",
      "Epoch 00015: val_loss did not improve\n",
      "Epoch 16/100\n",
      " - 9s - loss: 1.0988 - acc: 0.5250 - val_loss: 1.0820 - val_acc: 0.5338\n",
      "\n",
      "Epoch 00016: val_loss improved from 1.08216 to 1.08203, saving model to models/lin_class.hdf5\n",
      "Epoch 17/100\n",
      " - 9s - loss: 1.0988 - acc: 0.5247 - val_loss: 1.0826 - val_acc: 0.5365\n",
      "\n",
      "Epoch 00017: val_loss did not improve\n",
      "Epoch 18/100\n",
      " - 9s - loss: 1.0986 - acc: 0.5250 - val_loss: 1.0826 - val_acc: 0.5319\n",
      "\n",
      "Epoch 00018: val_loss did not improve\n",
      "Epoch 19/100\n",
      " - 9s - loss: 1.0987 - acc: 0.5249 - val_loss: 1.0832 - val_acc: 0.5360\n",
      "\n",
      "Epoch 00019: val_loss did not improve\n",
      "Epoch 20/100\n",
      " - 9s - loss: 1.0990 - acc: 0.5249 - val_loss: 1.0821 - val_acc: 0.5360\n",
      "\n",
      "Epoch 00020: val_loss did not improve\n",
      "Epoch 21/100\n",
      " - 9s - loss: 1.0989 - acc: 0.5248 - val_loss: 1.0826 - val_acc: 0.5339\n",
      "\n",
      "Epoch 00021: val_loss did not improve\n",
      "Epoch 22/100\n",
      " - 9s - loss: 1.0988 - acc: 0.5245 - val_loss: 1.0821 - val_acc: 0.5367\n",
      "\n",
      "Epoch 00022: val_loss did not improve\n",
      "\n",
      "Epoch 00022: ReduceLROnPlateau reducing learning rate to 0.00020000000949949026.\n",
      "Epoch 23/100\n",
      " - 9s - loss: 1.0985 - acc: 0.5250 - val_loss: 1.0822 - val_acc: 0.5350\n",
      "\n",
      "Epoch 00023: val_loss did not improve\n",
      "Epoch 24/100\n",
      " - 9s - loss: 1.0983 - acc: 0.5250 - val_loss: 1.0825 - val_acc: 0.5349\n",
      "\n",
      "Epoch 00024: val_loss did not improve\n",
      "Epoch 25/100\n",
      " - 9s - loss: 1.0988 - acc: 0.5251 - val_loss: 1.0822 - val_acc: 0.5341\n",
      "\n",
      "Epoch 00025: val_loss did not improve\n",
      "Epoch 26/100\n",
      " - 9s - loss: 1.0982 - acc: 0.5247 - val_loss: 1.0824 - val_acc: 0.5345\n",
      "\n",
      "Epoch 00026: val_loss did not improve\n",
      "Epoch 00026: early stopping\n"
     ]
    },
    {
     "data": {
      "text/plain": [
       "<keras.callbacks.History at 0x7fdd786a5c88>"
      ]
     },
     "execution_count": 13,
     "metadata": {},
     "output_type": "execute_result"
    }
   ],
   "source": [
    "# now, we can train the model for the first time\n",
    "model.fit(features[:train_size], \n",
    "          oh_labels[:train_size], \n",
    "          validation_data=(features[-val_size:], oh_labels[-val_size:]), \n",
    "          batch_size=batch_size, \n",
    "          epochs=100, \n",
    "          verbose=2,\n",
    "          shuffle=True,\n",
    "          callbacks=cbs)"
   ]
  },
  {
   "cell_type": "code",
   "execution_count": 14,
   "metadata": {
    "scrolled": true
   },
   "outputs": [
    {
     "data": {
      "image/png": "[encoded data removed]",
      "text/plain": [
       "<Figure size 864x432 with 1 Axes>"
      ]
     },
     "metadata": {},
     "output_type": "display_data"
    }
   ],
   "source": [
    "from tep.trainUtils import plot_loss\n",
    "history = cbs[2]\n",
    "plot_loss(history)"
   ]
  },
  {
   "cell_type": "code",
   "execution_count": 15,
   "metadata": {},
   "outputs": [
    {
     "name": "stdout",
     "output_type": "stream",
     "text": [
      "loss: 1.0988216629412093, acc: 0.5250431603897316, val_loss: 1.082030640220642, val_acc: 0.5338000002384186\n"
     ]
    }
   ],
   "source": [
    "from tep.trainUtils import print_classification_metrics\n",
    "print_classification_metrics(history)"
   ]
  },
  {
   "cell_type": "code",
   "execution_count": 16,
   "metadata": {},
   "outputs": [
    {
     "name": "stdout",
     "output_type": "stream",
     "text": [
      "(10000, 5)\n",
      "(10000,)\n"
     ]
    }
   ],
   "source": [
    "from tep.trainUtils import one_hot_to_class\n",
    "predictions = model.predict(features[-val_size:])\n",
    "print(predictions.shape)\n",
    "predictions = one_hot_to_class(predictions)\n",
    "print(predictions.shape)"
   ]
  },
  {
   "cell_type": "code",
   "execution_count": 17,
   "metadata": {},
   "outputs": [
    {
     "data": {
      "image/png": "[encoded data removed]",
      "text/plain": [
       "<Figure size 864x432 with 2 Axes>"
      ]
     },
     "metadata": {},
     "output_type": "display_data"
    }
   ],
   "source": [
    "from tep.trainUtils import plot_cm\n",
    "import numpy as np\n",
    "actuals = labels[-val_size:]\n",
    "plot_cm(predictions, actuals, np.arange(1, 6), normalize=True)"
   ]
  }
 ],
 "metadata": {
  "kernelspec": {
   "display_name": "Python 3",
   "language": "python",
   "name": "python3"
  },
  "language_info": {
   "codemirror_mode": {
    "name": "ipython",
    "version": 3
   },
   "file_extension": ".py",
   "mimetype": "text/x-python",
   "name": "python",
   "nbconvert_exporter": "python",
   "pygments_lexer": "ipython3",
   "version": "3.6.3"
  }
 },
 "nbformat": 4,
 "nbformat_minor": 2
}
