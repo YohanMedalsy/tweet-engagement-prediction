{
 "cells": [
  {
   "cell_type": "markdown",
   "metadata": {},
   "source": [
    "# Step 7: Train linear classification model\n",
    "\n",
    "This model will serve as a benchmark for more complex classification models. The following steps will be covered in this notebook:\n",
    "1. Setup model and data\n",
    "2. Train model on data sample\n",
    "3. Train model on full data set\n",
    "\n",
    "## Setup model and data"
   ]
  },
  {
   "cell_type": "code",
   "execution_count": 1,
   "metadata": {
    "collapsed": true
   },
   "outputs": [],
   "source": [
    "%load_ext autoreload\n",
    "%autoreload 2\n",
    "\n",
    "%matplotlib inline"
   ]
  },
  {
   "cell_type": "markdown",
   "metadata": {},
   "source": [
    "First, we have to load the data and infer input and output dimensions for the model."
   ]
  },
  {
   "cell_type": "code",
   "execution_count": 2,
   "metadata": {},
   "outputs": [
    {
     "name": "stderr",
     "output_type": "stream",
     "text": [
      "Using TensorFlow backend.\n"
     ]
    },
    {
     "data": {
      "text/plain": [
       "5"
      ]
     },
     "execution_count": 2,
     "metadata": {},
     "output_type": "execute_result"
    }
   ],
   "source": [
    "from tep.linearModel import classification_model\n",
    "from tep.config import Config\n",
    "config = Config()\n",
    "classes = config.CLASSES\n",
    "len(classes) + 1"
   ]
  },
  {
   "cell_type": "code",
   "execution_count": 3,
   "metadata": {
    "collapsed": true
   },
   "outputs": [],
   "source": [
    "from tep.utils import load_array"
   ]
  },
  {
   "cell_type": "code",
   "execution_count": 4,
   "metadata": {},
   "outputs": [
    {
     "data": {
      "text/plain": [
       "(1293005, 15)"
      ]
     },
     "execution_count": 4,
     "metadata": {},
     "output_type": "execute_result"
    }
   ],
   "source": [
    "features = load_array(filename=\"data/auxiliary_features.bc\")\n",
    "features.shape"
   ]
  },
  {
   "cell_type": "code",
   "execution_count": 5,
   "metadata": {},
   "outputs": [
    {
     "data": {
      "text/plain": [
       "(1293005,)"
      ]
     },
     "execution_count": 5,
     "metadata": {},
     "output_type": "execute_result"
    }
   ],
   "source": [
    "labels = load_array(filename=\"data/classification_labels.bc\")\n",
    "labels.shape"
   ]
  },
  {
   "cell_type": "code",
   "execution_count": 6,
   "metadata": {
    "collapsed": true
   },
   "outputs": [],
   "source": [
    "num_features = features.shape[1]\n",
    "num_classes = len(classes) + 1"
   ]
  },
  {
   "cell_type": "markdown",
   "metadata": {},
   "source": [
    "Now, we can create the model..."
   ]
  },
  {
   "cell_type": "code",
   "execution_count": 7,
   "metadata": {},
   "outputs": [],
   "source": [
    "model = classification_model(input_dim=num_features, output_dim=num_classes)"
   ]
  },
  {
   "cell_type": "code",
   "execution_count": 8,
   "metadata": {},
   "outputs": [
    {
     "name": "stdout",
     "output_type": "stream",
     "text": [
      "_________________________________________________________________\n",
      "Layer (type)                 Output Shape              Param #   \n",
      "=================================================================\n",
      "batch_normalization_1 (Batch (None, 15)                60        \n",
      "_________________________________________________________________\n",
      "dense_1 (Dense)              (None, 5)                 80        \n",
      "=================================================================\n",
      "Total params: 140\n",
      "Trainable params: 110\n",
      "Non-trainable params: 30\n",
      "_________________________________________________________________\n"
     ]
    }
   ],
   "source": [
    "model.summary()"
   ]
  },
  {
   "cell_type": "markdown",
   "metadata": {},
   "source": [
    "In order to make results and models reproducible, we need to be able to save and load the model architecture from file. Configuration will be saved in json format."
   ]
  },
  {
   "cell_type": "code",
   "execution_count": 9,
   "metadata": {},
   "outputs": [],
   "source": [
    "from tep.modelUtils import save_architecture, load_architecture\n",
    "save_architecture(model, \"models/lin_class.json\")"
   ]
  },
  {
   "cell_type": "code",
   "execution_count": 10,
   "metadata": {},
   "outputs": [
    {
     "name": "stdout",
     "output_type": "stream",
     "text": [
      "_________________________________________________________________\n",
      "Layer (type)                 Output Shape              Param #   \n",
      "=================================================================\n",
      "batch_normalization_1 (Batch (None, 15)                60        \n",
      "_________________________________________________________________\n",
      "dense_1 (Dense)              (None, 5)                 80        \n",
      "=================================================================\n",
      "Total params: 140\n",
      "Trainable params: 110\n",
      "Non-trainable params: 30\n",
      "_________________________________________________________________\n"
     ]
    }
   ],
   "source": [
    "model = load_architecture(\"models/lin_class.json\")\n",
    "model.summary()"
   ]
  },
  {
   "cell_type": "markdown",
   "metadata": {},
   "source": [
    "## Train model on data sample"
   ]
  },
  {
   "cell_type": "code",
   "execution_count": 20,
   "metadata": {
    "collapsed": true
   },
   "outputs": [],
   "source": [
    "# set sample size\n",
    "train_size = 10000\n",
    "val_size = 1000"
   ]
  },
  {
   "cell_type": "code",
   "execution_count": 21,
   "metadata": {
    "collapsed": true
   },
   "outputs": [],
   "source": [
    "# get useful callback functions\n",
    "from tep.trainUtils import get_callbacks"
   ]
  },
  {
   "cell_type": "code",
   "execution_count": 22,
   "metadata": {
    "collapsed": true
   },
   "outputs": [],
   "source": [
    "callbacks = get_callbacks(model_name=\"lin_class\", patience=5, verbose=1)"
   ]
  },
  {
   "cell_type": "code",
   "execution_count": 23,
   "metadata": {
    "collapsed": true
   },
   "outputs": [],
   "source": [
    "# we have to one-hot encode the labels prior to training\n",
    "from tep.trainUtils import one_hot_encoding"
   ]
  },
  {
   "cell_type": "code",
   "execution_count": 24,
   "metadata": {},
   "outputs": [
    {
     "name": "stdout",
     "output_type": "stream",
     "text": [
      "[ 3.  0.  1.  1.  0.]\n",
      "[[ 0.  0.  0.  1.  0.]\n",
      " [ 1.  0.  0.  0.  0.]\n",
      " [ 0.  1.  0.  0.  0.]\n",
      " [ 0.  1.  0.  0.  0.]\n",
      " [ 1.  0.  0.  0.  0.]]\n"
     ]
    }
   ],
   "source": [
    "encoded_labels = one_hot_encoding(class_labels=labels, number_classes=num_classes)\n",
    "print(labels[:5])\n",
    "print(encoded_labels[:5])"
   ]
  },
  {
   "cell_type": "code",
   "execution_count": 25,
   "metadata": {
    "collapsed": true
   },
   "outputs": [],
   "source": [
    "model = classification_model(input_dim=num_features, output_dim=num_classes)"
   ]
  },
  {
   "cell_type": "code",
   "execution_count": 26,
   "metadata": {},
   "outputs": [
    {
     "name": "stdout",
     "output_type": "stream",
     "text": [
      "Train on 10000 samples, validate on 1000 samples\n",
      "Epoch 1/100\n",
      "Epoch 00001: val_loss improved from inf to 1.22960, saving model to models/lin_class.hdf5\n",
      " - 1s - loss: 1.4165 - acc: 0.4208 - val_loss: 1.2296 - val_acc: 0.4630\n",
      "Epoch 2/100\n",
      "Epoch 00002: val_loss improved from 1.22960 to 1.16398, saving model to models/lin_class.hdf5\n",
      " - 1s - loss: 1.1725 - acc: 0.4995 - val_loss: 1.1640 - val_acc: 0.4840\n",
      "Epoch 3/100\n",
      "Epoch 00003: val_loss improved from 1.16398 to 1.14657, saving model to models/lin_class.hdf5\n",
      " - 1s - loss: 1.1439 - acc: 0.5048 - val_loss: 1.1466 - val_acc: 0.4900\n",
      "Epoch 4/100\n",
      "Epoch 00004: val_loss improved from 1.14657 to 1.13739, saving model to models/lin_class.hdf5\n",
      " - 1s - loss: 1.1317 - acc: 0.5073 - val_loss: 1.1374 - val_acc: 0.4850\n",
      "Epoch 5/100\n",
      "Epoch 00005: val_loss improved from 1.13739 to 1.13048, saving model to models/lin_class.hdf5\n",
      " - 1s - loss: 1.1281 - acc: 0.5089 - val_loss: 1.1305 - val_acc: 0.4910\n",
      "Epoch 6/100\n",
      "Epoch 00006: val_loss improved from 1.13048 to 1.12509, saving model to models/lin_class.hdf5\n",
      " - 1s - loss: 1.1254 - acc: 0.5118 - val_loss: 1.1251 - val_acc: 0.4910\n",
      "Epoch 7/100\n",
      "Epoch 00007: val_loss improved from 1.12509 to 1.12184, saving model to models/lin_class.hdf5\n",
      " - 1s - loss: 1.1234 - acc: 0.5130 - val_loss: 1.1218 - val_acc: 0.4960\n",
      "Epoch 8/100\n",
      "Epoch 00008: val_loss improved from 1.12184 to 1.12133, saving model to models/lin_class.hdf5\n",
      " - 1s - loss: 1.1201 - acc: 0.5144 - val_loss: 1.1213 - val_acc: 0.4980\n",
      "Epoch 9/100\n",
      "Epoch 00009: val_loss improved from 1.12133 to 1.12056, saving model to models/lin_class.hdf5\n",
      " - 1s - loss: 1.1177 - acc: 0.5162 - val_loss: 1.1206 - val_acc: 0.5010\n",
      "Epoch 10/100\n",
      "Epoch 00010: val_loss improved from 1.12056 to 1.11711, saving model to models/lin_class.hdf5\n",
      " - 1s - loss: 1.1131 - acc: 0.5166 - val_loss: 1.1171 - val_acc: 0.5000\n",
      "Epoch 11/100\n",
      "Epoch 00011: val_loss improved from 1.11711 to 1.11487, saving model to models/lin_class.hdf5\n",
      " - 1s - loss: 1.1154 - acc: 0.5144 - val_loss: 1.1149 - val_acc: 0.4910\n",
      "Epoch 12/100\n",
      "Epoch 00012: val_loss improved from 1.11487 to 1.11362, saving model to models/lin_class.hdf5\n",
      " - 1s - loss: 1.1145 - acc: 0.5208 - val_loss: 1.1136 - val_acc: 0.5010\n",
      "Epoch 13/100\n",
      "Epoch 00013: val_loss did not improve\n",
      " - 1s - loss: 1.1116 - acc: 0.5221 - val_loss: 1.1140 - val_acc: 0.5020\n",
      "Epoch 14/100\n",
      "Epoch 00014: val_loss improved from 1.11362 to 1.11205, saving model to models/lin_class.hdf5\n",
      " - 1s - loss: 1.1137 - acc: 0.5157 - val_loss: 1.1121 - val_acc: 0.5010\n",
      "Epoch 15/100\n",
      "Epoch 00015: val_loss improved from 1.11205 to 1.11151, saving model to models/lin_class.hdf5\n",
      " - 1s - loss: 1.1106 - acc: 0.5195 - val_loss: 1.1115 - val_acc: 0.5010\n",
      "Epoch 16/100\n",
      "Epoch 00016: val_loss improved from 1.11151 to 1.10991, saving model to models/lin_class.hdf5\n",
      " - 1s - loss: 1.1064 - acc: 0.5211 - val_loss: 1.1099 - val_acc: 0.4990\n",
      "Epoch 17/100\n",
      "Epoch 00017: val_loss improved from 1.10991 to 1.10752, saving model to models/lin_class.hdf5\n",
      " - 1s - loss: 1.1076 - acc: 0.5236 - val_loss: 1.1075 - val_acc: 0.5010\n",
      "Epoch 18/100\n",
      "Epoch 00018: val_loss did not improve\n",
      " - 1s - loss: 1.1113 - acc: 0.5180 - val_loss: 1.1083 - val_acc: 0.5070\n",
      "Epoch 19/100\n",
      "Epoch 00019: val_loss did not improve\n",
      " - 1s - loss: 1.1091 - acc: 0.5191 - val_loss: 1.1076 - val_acc: 0.5090\n",
      "Epoch 20/100\n",
      "Epoch 00020: val_loss did not improve\n",
      " - 1s - loss: 1.1175 - acc: 0.5156 - val_loss: 1.1078 - val_acc: 0.5100\n",
      "Epoch 21/100\n",
      "Epoch 00021: val_loss improved from 1.10752 to 1.10656, saving model to models/lin_class.hdf5\n",
      " - 1s - loss: 1.1040 - acc: 0.5280 - val_loss: 1.1066 - val_acc: 0.5110\n",
      "Epoch 22/100\n",
      "Epoch 00022: val_loss improved from 1.10656 to 1.10632, saving model to models/lin_class.hdf5\n",
      " - 1s - loss: 1.1057 - acc: 0.5226 - val_loss: 1.1063 - val_acc: 0.5040\n",
      "Epoch 23/100\n",
      "Epoch 00023: val_loss did not improve\n",
      " - 1s - loss: 1.1047 - acc: 0.5250 - val_loss: 1.1067 - val_acc: 0.5070\n",
      "Epoch 24/100\n",
      "Epoch 00024: val_loss improved from 1.10632 to 1.10436, saving model to models/lin_class.hdf5\n",
      " - 1s - loss: 1.1094 - acc: 0.5191 - val_loss: 1.1044 - val_acc: 0.5040\n",
      "Epoch 25/100\n",
      "Epoch 00025: val_loss did not improve\n",
      " - 1s - loss: 1.1028 - acc: 0.5243 - val_loss: 1.1073 - val_acc: 0.5130\n",
      "Epoch 26/100\n",
      "Epoch 00026: val_loss did not improve\n",
      " - 1s - loss: 1.1089 - acc: 0.5205 - val_loss: 1.1072 - val_acc: 0.5110\n",
      "Epoch 27/100\n",
      "Epoch 00027: val_loss did not improve\n",
      " - 1s - loss: 1.1067 - acc: 0.5205 - val_loss: 1.1061 - val_acc: 0.5110\n",
      "Epoch 28/100\n",
      "Epoch 00028: val_loss did not improve\n",
      " - 1s - loss: 1.1032 - acc: 0.5218 - val_loss: 1.1050 - val_acc: 0.5120\n",
      "Epoch 29/100\n",
      "Epoch 00029: val_loss improved from 1.10436 to 1.10264, saving model to models/lin_class.hdf5\n",
      " - 1s - loss: 1.1062 - acc: 0.5214 - val_loss: 1.1026 - val_acc: 0.5100\n",
      "Epoch 30/100\n",
      "Epoch 00030: val_loss did not improve\n",
      " - 1s - loss: 1.1095 - acc: 0.5203 - val_loss: 1.1052 - val_acc: 0.5080\n",
      "Epoch 31/100\n",
      "Epoch 00031: val_loss did not improve\n",
      " - 1s - loss: 1.1057 - acc: 0.5226 - val_loss: 1.1041 - val_acc: 0.5100\n",
      "Epoch 32/100\n",
      "Epoch 00032: val_loss did not improve\n",
      " - 1s - loss: 1.1044 - acc: 0.5233 - val_loss: 1.1043 - val_acc: 0.5150\n",
      "Epoch 33/100\n",
      "Epoch 00033: val_loss did not improve\n",
      " - 1s - loss: 1.1074 - acc: 0.5208 - val_loss: 1.1053 - val_acc: 0.5090\n",
      "Epoch 34/100\n",
      "Epoch 00034: val_loss did not improve\n",
      " - 1s - loss: 1.1097 - acc: 0.5249 - val_loss: 1.1031 - val_acc: 0.5110\n",
      "Epoch 00034: early stopping\n"
     ]
    },
    {
     "data": {
      "text/plain": [
       "<keras.callbacks.History at 0x321b399e8>"
      ]
     },
     "execution_count": 26,
     "metadata": {},
     "output_type": "execute_result"
    }
   ],
   "source": [
    "# now, we can train the model for the first time\n",
    "model.fit(features[:train_size], \n",
    "          encoded_labels[:train_size], \n",
    "          validation_data=(features[-val_size:], encoded_labels[-val_size:]), \n",
    "          batch_size=64, \n",
    "          epochs=100, \n",
    "          verbose=2,\n",
    "          shuffle=True,\n",
    "          callbacks=callbacks)"
   ]
  },
  {
   "cell_type": "code",
   "execution_count": 27,
   "metadata": {},
   "outputs": [
    {
     "data": {
      "text/plain": [
       "[<keras.callbacks.ModelCheckpoint at 0x31b045e48>,\n",
       " <keras.callbacks.EarlyStopping at 0x31b0459e8>,\n",
       " <keras.callbacks.History at 0x31b045fd0>]"
      ]
     },
     "execution_count": 27,
     "metadata": {},
     "output_type": "execute_result"
    }
   ],
   "source": [
    "callbacks"
   ]
  },
  {
   "cell_type": "code",
   "execution_count": 30,
   "metadata": {},
   "outputs": [],
   "source": [
    "history = callbacks[2]"
   ]
  },
  {
   "cell_type": "code",
   "execution_count": 31,
   "metadata": {},
   "outputs": [
    {
     "data": {
      "image/png": "[encoded data removed]",
      "text/plain": [
       "<matplotlib.figure.Figure at 0x321c0f7f0>"
      ]
     },
     "metadata": {},
     "output_type": "display_data"
    }
   ],
   "source": [
    "from tep.trainUtils import plot_loss\n",
    "plot_loss(history)"
   ]
  },
  {
   "cell_type": "code",
   "execution_count": 32,
   "metadata": {},
   "outputs": [
    {
     "data": {
      "text/plain": [
       "(1000, 5)"
      ]
     },
     "execution_count": 32,
     "metadata": {},
     "output_type": "execute_result"
    }
   ],
   "source": [
    "predictions = model.predict(features[-val_size:])\n",
    "predictions.shape"
   ]
  },
  {
   "cell_type": "code",
   "execution_count": 33,
   "metadata": {},
   "outputs": [
    {
     "data": {
      "text/plain": [
       "array([[  2.67691195e-01,   4.31191444e-01,   2.40639150e-01,\n",
       "          5.18899709e-02,   8.58817156e-03],\n",
       "       [  6.15742266e-01,   2.50103265e-01,   1.01959527e-01,\n",
       "          2.36480646e-02,   8.54686741e-03],\n",
       "       [  9.08702791e-01,   5.29847816e-02,   3.75758596e-02,\n",
       "          3.78416589e-04,   3.58102378e-04],\n",
       "       [  7.16816723e-01,   2.15161651e-01,   5.55083118e-02,\n",
       "          9.22684465e-03,   3.28647695e-03],\n",
       "       [  4.45890754e-01,   3.94780099e-01,   1.48553133e-01,\n",
       "          6.90506352e-03,   3.87087115e-03],\n",
       "       [  1.25478253e-01,   4.96078730e-01,   2.78882354e-01,\n",
       "          8.95055979e-02,   1.00550586e-02],\n",
       "       [  4.65167493e-01,   3.62005830e-01,   1.66793302e-01,\n",
       "          5.08340122e-03,   9.50029469e-04],\n",
       "       [  4.72437501e-01,   3.01417679e-01,   1.70154676e-01,\n",
       "          4.20818776e-02,   1.39083359e-02],\n",
       "       [  3.18400502e-01,   4.42322820e-01,   1.66202039e-01,\n",
       "          6.11560307e-02,   1.19186565e-02],\n",
       "       [  2.39190981e-01,   2.99133062e-01,   2.46100858e-01,\n",
       "          1.53778046e-01,   6.17970265e-02]], dtype=float32)"
      ]
     },
     "execution_count": 33,
     "metadata": {},
     "output_type": "execute_result"
    }
   ],
   "source": [
    "predictions[:10]"
   ]
  },
  {
   "cell_type": "code",
   "execution_count": 34,
   "metadata": {},
   "outputs": [
    {
     "data": {
      "text/plain": [
       "array([ 1.,  0.,  0.,  0.,  0.,  1.,  0.,  0.,  1.,  1.])"
      ]
     },
     "execution_count": 34,
     "metadata": {},
     "output_type": "execute_result"
    }
   ],
   "source": [
    "from tep.trainUtils import one_hot_to_class\n",
    "predictions = one_hot_to_class(predictions)\n",
    "predictions[:10]"
   ]
  },
  {
   "cell_type": "code",
   "execution_count": 39,
   "metadata": {},
   "outputs": [
    {
     "data": {
      "image/png": "[encoded data removed]",
      "text/plain": [
       "<matplotlib.figure.Figure at 0x10216d6a0>"
      ]
     },
     "metadata": {},
     "output_type": "display_data"
    }
   ],
   "source": [
    "from tep.trainUtils import plot_cm\n",
    "import numpy as np\n",
    "import matplotlib\n",
    "matplotlib.rcParams['figure.figsize'] = (12.0, 6.0)\n",
    "actuals = labels[-val_size:]\n",
    "plot_cm(predictions, actuals, np.arange(1, 6), normalize=True)"
   ]
  }
 ],
 "metadata": {
  "kernelspec": {
   "display_name": "Python 3",
   "language": "python",
   "name": "python3"
  },
  "language_info": {
   "codemirror_mode": {
    "name": "ipython",
    "version": 3
   },
   "file_extension": ".py",
   "mimetype": "text/x-python",
   "name": "python",
   "nbconvert_exporter": "python",
   "pygments_lexer": "ipython3",
   "version": "3.6.3"
  }
 },
 "nbformat": 4,
 "nbformat_minor": 2
}
