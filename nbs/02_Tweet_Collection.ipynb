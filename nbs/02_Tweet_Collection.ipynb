{
 "cells": [
  {
   "cell_type": "code",
   "execution_count": 1,
   "metadata": {
    "collapsed": true
   },
   "outputs": [],
   "source": [
    "%load_ext autoreload\n",
    "%autoreload 2\n",
    "\n",
    "%matplotlib inline"
   ]
  },
  {
   "cell_type": "code",
   "execution_count": 7,
   "metadata": {},
   "outputs": [
    {
     "ename": "TypeError",
     "evalue": "__init__() should return None, not 'User'",
     "output_type": "error",
     "traceback": [
      "\u001b[0;31m---------------------------------------------------------------------------\u001b[0m",
      "\u001b[0;31mTypeError\u001b[0m                                 Traceback (most recent call last)",
      "\u001b[0;32m<ipython-input-7-8e1a8d37eba8>\u001b[0m in \u001b[0;36m<module>\u001b[0;34m()\u001b[0m\n\u001b[1;32m      1\u001b[0m \u001b[0;32mfrom\u001b[0m \u001b[0mtep\u001b[0m\u001b[0;34m.\u001b[0m\u001b[0mtweetCollector\u001b[0m \u001b[0;32mimport\u001b[0m \u001b[0mTweetCollector\u001b[0m\u001b[0;34m\u001b[0m\u001b[0m\n\u001b[0;32m----> 2\u001b[0;31m \u001b[0mtc\u001b[0m \u001b[0;34m=\u001b[0m \u001b[0mTweetCollector\u001b[0m\u001b[0;34m(\u001b[0m\u001b[0;34m)\u001b[0m\u001b[0;34m\u001b[0m\u001b[0m\n\u001b[0m",
      "\u001b[0;31mTypeError\u001b[0m: __init__() should return None, not 'User'"
     ]
    }
   ],
   "source": [
    "from tep.tweetCollector import TweetCollector\n",
    "tc = TweetCollector()"
   ]
  },
  {
   "cell_type": "code",
   "execution_count": 4,
   "metadata": {},
   "outputs": [
    {
     "name": "stdout",
     "output_type": "stream",
     "text": [
      "{\"created_at\": \"Thu May 01 12:37:22 +0000 2014\", \"description\": \"Student of Information Systems @TUDarmstadt , co-founder of a small web agency. Interested in Machine Learning\", \"favourites_count\": 393, \"followers_count\": 57, \"friends_count\": 221, \"id\": 2472450259, \"id_str\": \"2472450259\", \"lang\": \"en\", \"listed_count\": 7, \"location\": \"Darmstadt, Deutschland\", \"name\": \"Felix Peters\", \"profile_background_color\": \"C0DEED\", \"profile_background_image_url\": \"http://abs.twimg.com/images/themes/theme1/bg.png\", \"profile_background_image_url_https\": \"https://abs.twimg.com/images/themes/theme1/bg.png\", \"profile_image_url\": \"http://pbs.twimg.com/profile_images/600953861629734913/7y_RkdW4_normal.jpg\", \"profile_image_url_https\": \"https://pbs.twimg.com/profile_images/600953861629734913/7y_RkdW4_normal.jpg\", \"profile_link_color\": \"224F82\", \"profile_sidebar_border_color\": \"C0DEED\", \"profile_sidebar_fill_color\": \"DDEEF6\", \"profile_text_color\": \"333333\", \"profile_use_background_image\": true, \"screen_name\": \"_fpeters\", \"status\": {\"created_at\": \"Sat May 26 15:47:34 +0000 2018\", \"id\": 1000403077093085192, \"id_str\": \"1000403077093085192\", \"lang\": \"en\", \"quoted_status_id\": 1000166112615714816, \"quoted_status_id_str\": \"1000166112615714816\", \"retweet_count\": 52, \"retweeted\": true, \"retweeted_status\": {\"created_at\": \"Sat May 26 11:38:56 +0000 2018\", \"favorite_count\": 81, \"id\": 1000340506189139968, \"id_str\": \"1000340506189139968\", \"lang\": \"en\", \"quoted_status_id\": 1000166112615714816, \"quoted_status_id_str\": \"1000166112615714816\", \"retweet_count\": 52, \"retweeted\": true, \"source\": \"<a href=\\\"http://twitter.com/download/iphone\\\" rel=\\\"nofollow\\\">Twitter for iPhone</a>\", \"text\": \"\\u201cThey went from a load time of more than 45 seconds to 3 seconds, from 124 JavaScript files to 0, and from a total\\u2026 https://t.co/PsmSKdMqXt\", \"truncated\": true}, \"source\": \"<a href=\\\"http://twitter.com/download/android\\\" rel=\\\"nofollow\\\">Twitter for Android</a>\", \"text\": \"RT @aallan: \\u201cThey went from a load time of more than 45 seconds to 3 seconds, from 124 JavaScript files to 0, and from a total of more than\\u2026\"}, \"statuses_count\": 424, \"url\": \"https://t.co/KAhh0Hxkzm\"}\n"
     ]
    }
   ],
   "source": [
    "from tep.accountCollector import AccountCollector\n",
    "ac = AccountCollector()"
   ]
  },
  {
   "cell_type": "code",
   "execution_count": 5,
   "metadata": {},
   "outputs": [
    {
     "data": {
      "text/plain": [
       "[12, 418, 586, 648, 989, 1081, 3980, 5699, 6204, 30973]"
      ]
     },
     "execution_count": 5,
     "metadata": {},
     "output_type": "execute_result"
    }
   ],
   "source": [
    "user_ids = ac.load_user_ids(fname=\"data/user_ids.txt\")\n",
    "user_ids[:10]"
   ]
  },
  {
   "cell_type": "code",
   "execution_count": 6,
   "metadata": {},
   "outputs": [
    {
     "data": {
      "text/plain": [
       "1061"
      ]
     },
     "execution_count": 6,
     "metadata": {},
     "output_type": "execute_result"
    }
   ],
   "source": [
    "len(user_ids)"
   ]
  },
  {
   "cell_type": "code",
   "execution_count": null,
   "metadata": {
    "collapsed": true
   },
   "outputs": [],
   "source": []
  }
 ],
 "metadata": {
  "kernelspec": {
   "display_name": "Python 3",
   "language": "python",
   "name": "python3"
  },
  "language_info": {
   "codemirror_mode": {
    "name": "ipython",
    "version": 3
   },
   "file_extension": ".py",
   "mimetype": "text/x-python",
   "name": "python",
   "nbconvert_exporter": "python",
   "pygments_lexer": "ipython3",
   "version": "3.6.3"
  }
 },
 "nbformat": 4,
 "nbformat_minor": 2
}
