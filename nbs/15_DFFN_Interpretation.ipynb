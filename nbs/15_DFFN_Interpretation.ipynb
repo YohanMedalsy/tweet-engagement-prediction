{
 "cells": [
  {
   "cell_type": "markdown",
   "metadata": {},
   "source": [
    "# Step 15: Interpreting feedforward networks\n",
    "\n",
    "In order to better understand where the predictions come from, we want to do the following things:\n",
    "1. Examine feature and label relationships using rank correlation.\n",
    "2. Train comparable random forest\n",
    "3. Calculate feature importance\n",
    "4. Create partial dependence plots\n",
    "5. Use lime package to explain single predicitons\n",
    "\n",
    "## Setup"
   ]
  },
  {
   "cell_type": "code",
   "execution_count": 1,
   "metadata": {
    "collapsed": true
   },
   "outputs": [],
   "source": [
    "%load_ext autoreload\n",
    "%autoreload 2\n",
    "\n",
    "%matplotlib inline"
   ]
  },
  {
   "cell_type": "code",
   "execution_count": 2,
   "metadata": {},
   "outputs": [
    {
     "data": {
      "text/plain": [
       "(1293005, 15)"
      ]
     },
     "execution_count": 2,
     "metadata": {},
     "output_type": "execute_result"
    }
   ],
   "source": [
    "from tep.utils import load_array\n",
    "feats = load_array('data/auxiliary_features.bc')\n",
    "feats.shape"
   ]
  },
  {
   "cell_type": "code",
   "execution_count": 3,
   "metadata": {
    "collapsed": true
   },
   "outputs": [],
   "source": [
    "import numpy as np"
   ]
  },
  {
   "cell_type": "code",
   "execution_count": 4,
   "metadata": {},
   "outputs": [
    {
     "data": {
      "text/plain": [
       "(1293005,)"
      ]
     },
     "execution_count": 4,
     "metadata": {},
     "output_type": "execute_result"
    }
   ],
   "source": [
    "labels = load_array('data/regression_labels.bc')\n",
    "labels = np.log1p(labels)\n",
    "labels.shape"
   ]
  },
  {
   "cell_type": "code",
   "execution_count": 5,
   "metadata": {},
   "outputs": [
    {
     "data": {
      "text/plain": [
       "(1293005, 16)"
      ]
     },
     "execution_count": 5,
     "metadata": {},
     "output_type": "execute_result"
    }
   ],
   "source": [
    "data = np.column_stack(tup=(feats, labels))\n",
    "data.shape"
   ]
  },
  {
   "cell_type": "code",
   "execution_count": 6,
   "metadata": {},
   "outputs": [
    {
     "name": "stderr",
     "output_type": "stream",
     "text": [
      "Using TensorFlow backend.\n"
     ]
    },
    {
     "name": "stdout",
     "output_type": "stream",
     "text": [
      "_________________________________________________________________\n",
      "Layer (type)                 Output Shape              Param #   \n",
      "=================================================================\n",
      "normalized_inputs (BatchNorm (None, 15)                60        \n",
      "_________________________________________________________________\n",
      "fc_1 (Dense)                 (None, 64)                1024      \n",
      "_________________________________________________________________\n",
      "bn_1 (BatchNormalization)    (None, 64)                256       \n",
      "_________________________________________________________________\n",
      "fc_2 (Dense)                 (None, 64)                4160      \n",
      "_________________________________________________________________\n",
      "bn_2 (BatchNormalization)    (None, 64)                256       \n",
      "_________________________________________________________________\n",
      "fc_3 (Dense)                 (None, 64)                4160      \n",
      "_________________________________________________________________\n",
      "bn_3 (BatchNormalization)    (None, 64)                256       \n",
      "_________________________________________________________________\n",
      "fc_4 (Dense)                 (None, 64)                4160      \n",
      "_________________________________________________________________\n",
      "bn_4 (BatchNormalization)    (None, 64)                256       \n",
      "_________________________________________________________________\n",
      "fc_5 (Dense)                 (None, 64)                4160      \n",
      "_________________________________________________________________\n",
      "bn_5 (BatchNormalization)    (None, 64)                256       \n",
      "_________________________________________________________________\n",
      "output (Dense)               (None, 1)                 65        \n",
      "=================================================================\n",
      "Total params: 19,069\n",
      "Trainable params: 18,399\n",
      "Non-trainable params: 670\n",
      "_________________________________________________________________\n"
     ]
    }
   ],
   "source": [
    "from tep.modelUtils import load_architecture\n",
    "model = load_architecture('models/dffn_reg_5h_64n.json')\n",
    "model.summary()"
   ]
  },
  {
   "cell_type": "code",
   "execution_count": 7,
   "metadata": {
    "collapsed": true
   },
   "outputs": [],
   "source": [
    "model.load_weights('models/dffn_reg_5h_64n.hdf5')"
   ]
  },
  {
   "cell_type": "code",
   "execution_count": 8,
   "metadata": {},
   "outputs": [],
   "source": [
    "preds = model.predict(feats[-10000:])\n",
    "acts = labels[-10000:]"
   ]
  },
  {
   "cell_type": "code",
   "execution_count": 9,
   "metadata": {
    "collapsed": true
   },
   "outputs": [],
   "source": [
    "from tep.trainUtils import r2\n",
    "from keras.optimizers import Adam\n",
    "model.compile(optimizer='Adam', loss='mean_squared_error', metrics=[r2])"
   ]
  },
  {
   "cell_type": "code",
   "execution_count": 10,
   "metadata": {},
   "outputs": [
    {
     "name": "stdout",
     "output_type": "stream",
     "text": [
      "10000/10000 [==============================] - 1s 107us/step\n"
     ]
    },
    {
     "data": {
      "text/plain": [
       "[1.0348384994506836, 0.74490957508087163]"
      ]
     },
     "execution_count": 10,
     "metadata": {},
     "output_type": "execute_result"
    }
   ],
   "source": [
    "model.evaluate(x=feats[-10000:], y=labels[-10000:])"
   ]
  },
  {
   "cell_type": "code",
   "execution_count": 11,
   "metadata": {},
   "outputs": [],
   "source": [
    "import pandas as pd\n",
    "columns = ['urls', 'hashtags', 'mentions', 'length', 'followers', 'friends', 'verified', 'listings', 'tweets', 'tweet_freq', 'favorites', 'favorite_freq', 'account_age', 'hour', 'quote', 'retweets']\n",
    "df = pd.DataFrame(data=data, columns=columns)"
   ]
  },
  {
   "cell_type": "code",
   "execution_count": 12,
   "metadata": {},
   "outputs": [
    {
     "data": {
      "text/html": [
       "<div>\n",
       "<style>\n",
       "    .dataframe thead tr:only-child th {\n",
       "        text-align: right;\n",
       "    }\n",
       "\n",
       "    .dataframe thead th {\n",
       "        text-align: left;\n",
       "    }\n",
       "\n",
       "    .dataframe tbody tr th {\n",
       "        vertical-align: top;\n",
       "    }\n",
       "</style>\n",
       "<table border=\"1\" class=\"dataframe\">\n",
       "  <thead>\n",
       "    <tr style=\"text-align: right;\">\n",
       "      <th></th>\n",
       "      <th>urls</th>\n",
       "      <th>hashtags</th>\n",
       "      <th>mentions</th>\n",
       "      <th>length</th>\n",
       "      <th>followers</th>\n",
       "      <th>friends</th>\n",
       "      <th>verified</th>\n",
       "      <th>listings</th>\n",
       "      <th>tweets</th>\n",
       "      <th>tweet_freq</th>\n",
       "      <th>favorites</th>\n",
       "      <th>favorite_freq</th>\n",
       "      <th>account_age</th>\n",
       "      <th>hour</th>\n",
       "      <th>quote</th>\n",
       "      <th>retweets</th>\n",
       "    </tr>\n",
       "  </thead>\n",
       "  <tbody>\n",
       "    <tr>\n",
       "      <th>0</th>\n",
       "      <td>0.0</td>\n",
       "      <td>0.0</td>\n",
       "      <td>0.0</td>\n",
       "      <td>78.0</td>\n",
       "      <td>1282170.0</td>\n",
       "      <td>4029.0</td>\n",
       "      <td>1.0</td>\n",
       "      <td>3132.0</td>\n",
       "      <td>13623.0</td>\n",
       "      <td>4.049643</td>\n",
       "      <td>4134.0</td>\n",
       "      <td>1.228894</td>\n",
       "      <td>3364.0</td>\n",
       "      <td>20.0</td>\n",
       "      <td>0.0</td>\n",
       "      <td>4.795791</td>\n",
       "    </tr>\n",
       "    <tr>\n",
       "      <th>1</th>\n",
       "      <td>1.0</td>\n",
       "      <td>0.0</td>\n",
       "      <td>0.0</td>\n",
       "      <td>139.0</td>\n",
       "      <td>2567.0</td>\n",
       "      <td>2931.0</td>\n",
       "      <td>0.0</td>\n",
       "      <td>46.0</td>\n",
       "      <td>2318.0</td>\n",
       "      <td>1.115496</td>\n",
       "      <td>201.0</td>\n",
       "      <td>0.096728</td>\n",
       "      <td>2078.0</td>\n",
       "      <td>16.0</td>\n",
       "      <td>0.0</td>\n",
       "      <td>0.000000</td>\n",
       "    </tr>\n",
       "    <tr>\n",
       "      <th>2</th>\n",
       "      <td>1.0</td>\n",
       "      <td>2.0</td>\n",
       "      <td>0.0</td>\n",
       "      <td>89.0</td>\n",
       "      <td>14580.0</td>\n",
       "      <td>2447.0</td>\n",
       "      <td>1.0</td>\n",
       "      <td>380.0</td>\n",
       "      <td>7333.0</td>\n",
       "      <td>2.220775</td>\n",
       "      <td>1385.0</td>\n",
       "      <td>0.419443</td>\n",
       "      <td>3302.0</td>\n",
       "      <td>14.0</td>\n",
       "      <td>0.0</td>\n",
       "      <td>1.386294</td>\n",
       "    </tr>\n",
       "    <tr>\n",
       "      <th>3</th>\n",
       "      <td>1.0</td>\n",
       "      <td>0.0</td>\n",
       "      <td>0.0</td>\n",
       "      <td>123.0</td>\n",
       "      <td>415819.0</td>\n",
       "      <td>50.0</td>\n",
       "      <td>1.0</td>\n",
       "      <td>2382.0</td>\n",
       "      <td>5775.0</td>\n",
       "      <td>2.970679</td>\n",
       "      <td>250.0</td>\n",
       "      <td>0.128601</td>\n",
       "      <td>1944.0</td>\n",
       "      <td>19.0</td>\n",
       "      <td>0.0</td>\n",
       "      <td>1.791759</td>\n",
       "    </tr>\n",
       "    <tr>\n",
       "      <th>4</th>\n",
       "      <td>1.0</td>\n",
       "      <td>0.0</td>\n",
       "      <td>2.0</td>\n",
       "      <td>135.0</td>\n",
       "      <td>21285.0</td>\n",
       "      <td>2568.0</td>\n",
       "      <td>1.0</td>\n",
       "      <td>435.0</td>\n",
       "      <td>12513.0</td>\n",
       "      <td>4.457784</td>\n",
       "      <td>9239.0</td>\n",
       "      <td>3.291414</td>\n",
       "      <td>2807.0</td>\n",
       "      <td>19.0</td>\n",
       "      <td>0.0</td>\n",
       "      <td>0.000000</td>\n",
       "    </tr>\n",
       "  </tbody>\n",
       "</table>\n",
       "</div>"
      ],
      "text/plain": [
       "   urls  hashtags  mentions  length  followers  friends  verified  listings  \\\n",
       "0   0.0       0.0       0.0    78.0  1282170.0   4029.0       1.0    3132.0   \n",
       "1   1.0       0.0       0.0   139.0     2567.0   2931.0       0.0      46.0   \n",
       "2   1.0       2.0       0.0    89.0    14580.0   2447.0       1.0     380.0   \n",
       "3   1.0       0.0       0.0   123.0   415819.0     50.0       1.0    2382.0   \n",
       "4   1.0       0.0       2.0   135.0    21285.0   2568.0       1.0     435.0   \n",
       "\n",
       "    tweets  tweet_freq  favorites  favorite_freq  account_age  hour  quote  \\\n",
       "0  13623.0    4.049643     4134.0       1.228894       3364.0  20.0    0.0   \n",
       "1   2318.0    1.115496      201.0       0.096728       2078.0  16.0    0.0   \n",
       "2   7333.0    2.220775     1385.0       0.419443       3302.0  14.0    0.0   \n",
       "3   5775.0    2.970679      250.0       0.128601       1944.0  19.0    0.0   \n",
       "4  12513.0    4.457784     9239.0       3.291414       2807.0  19.0    0.0   \n",
       "\n",
       "   retweets  \n",
       "0  4.795791  \n",
       "1  0.000000  \n",
       "2  1.386294  \n",
       "3  1.791759  \n",
       "4  0.000000  "
      ]
     },
     "execution_count": 12,
     "metadata": {},
     "output_type": "execute_result"
    }
   ],
   "source": [
    "df.head()"
   ]
  },
  {
   "cell_type": "markdown",
   "metadata": {},
   "source": [
    "## Feature and label rank correlation\n",
    "\n",
    "We calculate rank correlation because we don't necessarily expect linear relationships in our data. Also, rank correlation is a nonparametric measure, i.e., we do not assume that the dataset is normally distributed."
   ]
  },
  {
   "cell_type": "code",
   "execution_count": 13,
   "metadata": {
    "collapsed": true
   },
   "outputs": [],
   "source": [
    "from scipy.stats import spearmanr"
   ]
  },
  {
   "cell_type": "code",
   "execution_count": 14,
   "metadata": {
    "collapsed": true
   },
   "outputs": [],
   "source": [
    "corr = np.round(spearmanr(df).correlation, 4)"
   ]
  },
  {
   "cell_type": "code",
   "execution_count": 15,
   "metadata": {},
   "outputs": [
    {
     "data": {
      "text/plain": [
       "(16, 16)"
      ]
     },
     "execution_count": 15,
     "metadata": {},
     "output_type": "execute_result"
    }
   ],
   "source": [
    "corr.shape"
   ]
  },
  {
   "cell_type": "code",
   "execution_count": 16,
   "metadata": {},
   "outputs": [],
   "source": [
    "import matplotlib.pyplot as plt\n",
    "\n",
    "def plot_corr(corr, columns):\n",
    "    fig = plt.figure(figsize=(20,15))\n",
    "    ax = fig.add_subplot(111)\n",
    "    cax = ax.matshow(corr, vmin=-1, vmax=1)\n",
    "    fig.colorbar(cax)\n",
    "    ticks = np.arange(0, len(columns),1)\n",
    "    ax.set_xticks(ticks)\n",
    "    ax.set_yticks(ticks)\n",
    "    ax.set_xticklabels(columns)\n",
    "    ax.set_yticklabels(columns)\n",
    "    plt.show()\n",
    "    return"
   ]
  },
  {
   "cell_type": "code",
   "execution_count": 17,
   "metadata": {},
   "outputs": [
    {
     "data": {
      "image/png": "[encoded data removed]",
      "text/plain": [
       "<matplotlib.figure.Figure at 0x1c320716d8>"
      ]
     },
     "metadata": {},
     "output_type": "display_data"
    }
   ],
   "source": [
    "plot_corr(corr, columns)"
   ]
  },
  {
   "cell_type": "markdown",
   "metadata": {},
   "source": [
    "Unsurprisingly, this suggests that the number of followers and listings are the strongest indicators of a tweet's engagement. We can also see that content features alone are not useful for predicting retweets, as correlation is weak here."
   ]
  },
  {
   "cell_type": "markdown",
   "metadata": {},
   "source": [
    "## Train comparable random forest"
   ]
  },
  {
   "cell_type": "code",
   "execution_count": 20,
   "metadata": {},
   "outputs": [
    {
     "name": "stdout",
     "output_type": "stream",
     "text": [
      "(1283005, 15)\n",
      "(10000,)\n"
     ]
    }
   ],
   "source": [
    "X_train = feats[:-10000]\n",
    "y_train = labels[:-10000]\n",
    "X_valid = feats[-10000:]\n",
    "y_valid = labels[-10000:]\n",
    "print(X_train.shape)\n",
    "print(y_valid.shape)"
   ]
  },
  {
   "cell_type": "code",
   "execution_count": 24,
   "metadata": {
    "collapsed": true
   },
   "outputs": [],
   "source": [
    "import math\n",
    "def rmse(x,y): return math.sqrt(((x-y)**2).mean())\n",
    "\n",
    "def print_score(m):\n",
    "    res = [rmse(m.predict(X_train), y_train), rmse(m.predict(X_valid), y_valid),\n",
    "                m.score(X_train, y_train), m.score(X_valid, y_valid)]\n",
    "    if hasattr(m, 'oob_score_'): res.append(m.oob_score_)\n",
    "    print(res)"
   ]
  },
  {
   "cell_type": "code",
   "execution_count": 25,
   "metadata": {
    "collapsed": true
   },
   "outputs": [],
   "source": [
    "from sklearn.ensemble import RandomForestRegressor"
   ]
  },
  {
   "cell_type": "code",
   "execution_count": 27,
   "metadata": {},
   "outputs": [
    {
     "name": "stdout",
     "output_type": "stream",
     "text": [
      "[0.5357471027770475, 0.9858492788843487, 0.93728668860306796, 0.78961926489285028, 0.78039921990144123]\n"
     ]
    }
   ],
   "source": [
    "m = RandomForestRegressor(n_estimators=40, n_jobs=-1, oob_score=True)\n",
    "m.fit(X_train, y_train)\n",
    "print_score(m)"
   ]
  },
  {
   "cell_type": "code",
   "execution_count": 28,
   "metadata": {},
   "outputs": [
    {
     "name": "stdout",
     "output_type": "stream",
     "text": [
      "[0.5287627085594702, 0.9767416700486157, 0.93891118399397955, 0.79348844622250747, 0.78715162465302457]\n"
     ]
    }
   ],
   "source": [
    "m1 = RandomForestRegressor(n_estimators=160, n_jobs=-1, oob_score=True)\n",
    "m1.fit(X_train, y_train)\n",
    "print_score(m1)"
   ]
  },
  {
   "cell_type": "code",
   "execution_count": 29,
   "metadata": {},
   "outputs": [
    {
     "name": "stdout",
     "output_type": "stream",
     "text": [
      "[0.6471390483845024, 0.9455552132909321, 0.90849701059883392, 0.80646536000335922, 0.79787672875530036]\n"
     ]
    }
   ],
   "source": [
    "m2 = RandomForestRegressor(n_estimators=40, n_jobs=-1, min_samples_leaf=2, oob_score=True)\n",
    "m2.fit(X_train, y_train)\n",
    "print_score(m2)"
   ]
  },
  {
   "cell_type": "code",
   "execution_count": 30,
   "metadata": {},
   "outputs": [
    {
     "name": "stdout",
     "output_type": "stream",
     "text": [
      "[0.7070312805956193, 0.9307941547125923, 0.89077618855452978, 0.81246073194486201, 0.80489101186733802]\n"
     ]
    }
   ],
   "source": [
    "m2 = RandomForestRegressor(n_estimators=40, n_jobs=-1, min_samples_leaf=3, oob_score=True)\n",
    "m2.fit(X_train, y_train)\n",
    "print_score(m2)"
   ]
  },
  {
   "cell_type": "code",
   "execution_count": 31,
   "metadata": {},
   "outputs": [
    {
     "name": "stdout",
     "output_type": "stream",
     "text": [
      "[0.7432824281115998, 0.9196585028326915, 0.87928873465877377, 0.81692118061749042, 0.80861377889065977]\n"
     ]
    }
   ],
   "source": [
    "m3 = RandomForestRegressor(n_estimators=40, n_jobs=-1, min_samples_leaf=4, oob_score=True)\n",
    "m3.fit(X_train, y_train)\n",
    "print_score(m3)"
   ]
  },
  {
   "cell_type": "code",
   "execution_count": 34,
   "metadata": {},
   "outputs": [
    {
     "name": "stdout",
     "output_type": "stream",
     "text": [
      "[0.7678710263496354, 0.9121146043647508, 0.87117011100082931, 0.81991242871544767, 0.81104797079964874]\n"
     ]
    }
   ],
   "source": [
    "m4 = RandomForestRegressor(n_estimators=40, n_jobs=-1, min_samples_leaf=5, oob_score=True)\n",
    "m4.fit(X_train, y_train)\n",
    "print_score(m4)"
   ]
  },
  {
   "cell_type": "code",
   "execution_count": 35,
   "metadata": {},
   "outputs": [
    {
     "name": "stdout",
     "output_type": "stream",
     "text": [
      "[0.7859137096152443, 0.9105620251397684, 0.86504474495562811, 0.8205249882692125, 0.81242391640840428]\n"
     ]
    }
   ],
   "source": [
    "m5 = RandomForestRegressor(n_estimators=40, n_jobs=-1, min_samples_leaf=6, oob_score=True)\n",
    "m5.fit(X_train, y_train)\n",
    "print_score(m5)"
   ]
  },
  {
   "cell_type": "code",
   "execution_count": 36,
   "metadata": {},
   "outputs": [
    {
     "name": "stdout",
     "output_type": "stream",
     "text": [
      "[0.8108174455968912, 0.908279284005237, 0.85635641364249371, 0.82142373308054162, 0.81412450006273462]\n"
     ]
    }
   ],
   "source": [
    "m6 = RandomForestRegressor(n_estimators=40, n_jobs=-1, min_samples_leaf=8, oob_score=True)\n",
    "m6.fit(X_train, y_train)\n",
    "print_score(m6)"
   ]
  },
  {
   "cell_type": "code",
   "execution_count": null,
   "metadata": {
    "collapsed": true
   },
   "outputs": [],
   "source": []
  }
 ],
 "metadata": {
  "kernelspec": {
   "display_name": "Python 3",
   "language": "python",
   "name": "python3"
  },
  "language_info": {
   "codemirror_mode": {
    "name": "ipython",
    "version": 3
   },
   "file_extension": ".py",
   "mimetype": "text/x-python",
   "name": "python",
   "nbconvert_exporter": "python",
   "pygments_lexer": "ipython3",
   "version": "3.6.3"
  }
 },
 "nbformat": 4,
 "nbformat_minor": 2
}
