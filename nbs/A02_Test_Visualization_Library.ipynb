{
 "cells": [
  {
   "cell_type": "markdown",
   "metadata": {},
   "source": [
    "## Setup"
   ]
  },
  {
   "cell_type": "code",
   "execution_count": 33,
   "metadata": {},
   "outputs": [
    {
     "name": "stdout",
     "output_type": "stream",
     "text": [
      "The autoreload extension is already loaded. To reload it, use:\n",
      "  %reload_ext autoreload\n"
     ]
    }
   ],
   "source": [
    "%load_ext autoreload\n",
    "%autoreload 2\n",
    "\n",
    "%matplotlib inline"
   ]
  },
  {
   "cell_type": "code",
   "execution_count": 1,
   "metadata": {},
   "outputs": [
    {
     "name": "stdout",
     "output_type": "stream",
     "text": [
      "_________________________________________________________________\n",
      "Layer (type)                 Output Shape              Param #   \n",
      "=================================================================\n",
      "seq_input (InputLayer)       (None, 32)                0         \n",
      "_________________________________________________________________\n",
      "word_emb (Embedding)         (None, 32, 100)           43224100  \n",
      "_________________________________________________________________\n",
      "input_dropout (Dropout)      (None, 32, 100)           0         \n",
      "_________________________________________________________________\n",
      "padding_1 (ZeroPadding1D)    (None, 34, 100)           0         \n",
      "_________________________________________________________________\n",
      "conv_1 (Conv1D)              (None, 32, 128)           38528     \n",
      "_________________________________________________________________\n",
      "pool_1 (MaxPooling1D)        (None, 16, 128)           0         \n",
      "_________________________________________________________________\n",
      "dropout_1 (Dropout)          (None, 16, 128)           0         \n",
      "_________________________________________________________________\n",
      "padding_2 (ZeroPadding1D)    (None, 18, 128)           0         \n",
      "_________________________________________________________________\n",
      "conv_2 (Conv1D)              (None, 16, 128)           49280     \n",
      "_________________________________________________________________\n",
      "pool_2 (MaxPooling1D)        (None, 8, 128)            0         \n",
      "_________________________________________________________________\n",
      "dropout_2 (Dropout)          (None, 8, 128)            0         \n",
      "_________________________________________________________________\n",
      "padding_3 (ZeroPadding1D)    (None, 10, 128)           0         \n",
      "_________________________________________________________________\n",
      "conv_3 (Conv1D)              (None, 8, 128)            49280     \n",
      "_________________________________________________________________\n",
      "pool_3 (MaxPooling1D)        (None, 4, 128)            0         \n",
      "_________________________________________________________________\n",
      "flatten (Flatten)            (None, 512)               0         \n",
      "_________________________________________________________________\n",
      "fc_1 (Dense)                 (None, 128)               65664     \n",
      "_________________________________________________________________\n",
      "predictions (Dense)          (None, 2)                 258       \n",
      "=================================================================\n",
      "Total params: 43,427,110\n",
      "Trainable params: 43,427,110\n",
      "Non-trainable params: 0\n",
      "_________________________________________________________________\n"
     ]
    }
   ],
   "source": [
    "# load model architecture\n",
    "from tep.modelUtils import load_architecture\n",
    "model = load_architecture('models/tl/baseline.json')\n",
    "model.summary()"
   ]
  },
  {
   "cell_type": "code",
   "execution_count": 2,
   "metadata": {
    "collapsed": true
   },
   "outputs": [],
   "source": [
    "# set model weights\n",
    "model.load_weights('models/tl/baseline.hdf5')"
   ]
  },
  {
   "cell_type": "code",
   "execution_count": 4,
   "metadata": {},
   "outputs": [
    {
     "name": "stdout",
     "output_type": "stream",
     "text": [
      "(1600000, 32)\n",
      "(1600000,)\n"
     ]
    }
   ],
   "source": [
    "# load data and labels\n",
    "from tep.utils import load_array\n",
    "seqs = load_array('data/sentiment_data/seq_32.bc')\n",
    "labels = load_array('data/sentiment_data/labels.bc')\n",
    "print(seqs.shape)\n",
    "print(labels.shape)"
   ]
  },
  {
   "cell_type": "code",
   "execution_count": 8,
   "metadata": {},
   "outputs": [
    {
     "data": {
      "text/plain": [
       "dict"
      ]
     },
     "execution_count": 8,
     "metadata": {},
     "output_type": "execute_result"
    }
   ],
   "source": [
    "# load word index\n",
    "import json\n",
    "word_index_file = open('data/sentiment_data/word_index.json')\n",
    "word_index_str = word_index_file.read()\n",
    "word_index = json.loads(word_index_str)\n",
    "type(word_index)"
   ]
  },
  {
   "cell_type": "code",
   "execution_count": 9,
   "metadata": {
    "collapsed": true
   },
   "outputs": [],
   "source": [
    "# compile the model\n",
    "model.compile(optimizer='Adam', loss='binary_crossentropy', metrics=['acc'])"
   ]
  },
  {
   "cell_type": "code",
   "execution_count": 11,
   "metadata": {},
   "outputs": [
    {
     "name": "stdout",
     "output_type": "stream",
     "text": [
      "10000/10000 [==============================] - 2s 212us/step\n"
     ]
    },
    {
     "data": {
      "text/plain": [
       "[0.34918261456489563, 0.84550000000000003]"
      ]
     },
     "execution_count": 11,
     "metadata": {},
     "output_type": "execute_result"
    }
   ],
   "source": [
    "# test the model\n",
    "from tep.trainUtils import one_hot_encoding\n",
    "oh_labels = one_hot_encoding(labels, 2)\n",
    "model.evaluate(x=seqs[:10000], y=oh_labels[:10000], batch_size=256)"
   ]
  },
  {
   "cell_type": "markdown",
   "metadata": {},
   "source": [
    "## Get hidden layer activations"
   ]
  },
  {
   "cell_type": "code",
   "execution_count": 43,
   "metadata": {
    "collapsed": true
   },
   "outputs": [],
   "source": [
    "from tep.featureVisualization import FeatureVisualizer\n",
    "fv = FeatureVisualizer(model, word_index)"
   ]
  },
  {
   "cell_type": "code",
   "execution_count": 44,
   "metadata": {},
   "outputs": [],
   "source": [
    "activations = fv.get_activations('conv_1', seqs[:1])"
   ]
  },
  {
   "cell_type": "code",
   "execution_count": 45,
   "metadata": {},
   "outputs": [
    {
     "data": {
      "text/plain": [
       "numpy.ndarray"
      ]
     },
     "execution_count": 45,
     "metadata": {},
     "output_type": "execute_result"
    }
   ],
   "source": [
    "type(activations)"
   ]
  },
  {
   "cell_type": "code",
   "execution_count": 46,
   "metadata": {},
   "outputs": [
    {
     "data": {
      "text/plain": [
       "(1, 32, 128)"
      ]
     },
     "execution_count": 46,
     "metadata": {},
     "output_type": "execute_result"
    }
   ],
   "source": [
    "activations.shape"
   ]
  },
  {
   "cell_type": "code",
   "execution_count": 47,
   "metadata": {},
   "outputs": [],
   "source": [
    "seq = seqs[0]"
   ]
  },
  {
   "cell_type": "code",
   "execution_count": 48,
   "metadata": {},
   "outputs": [
    {
     "data": {
      "text/plain": [
       "array([     0,      0,      0,      0,      0,      0,      0,      0,\n",
       "            0,      0,      0,      0,      0,      0,      0,      0,\n",
       "            0,      0,      0,      0,      0,      0,      2, 150999,\n",
       "           12,    148,   4962, 101456,     10,    286,     20,    363], dtype=int32)"
      ]
     },
     "execution_count": 48,
     "metadata": {},
     "output_type": "execute_result"
    }
   ],
   "source": [
    "seq"
   ]
  },
  {
   "cell_type": "code",
   "execution_count": 53,
   "metadata": {},
   "outputs": [
    {
     "data": {
      "text/plain": [
       "['birthday', 'on', 'monday']"
      ]
     },
     "execution_count": 53,
     "metadata": {},
     "output_type": "execute_result"
    }
   ],
   "source": [
    "fv.get_words(seq, 30, 3)"
   ]
  },
  {
   "cell_type": "code",
   "execution_count": null,
   "metadata": {
    "collapsed": true
   },
   "outputs": [],
   "source": []
  }
 ],
 "metadata": {
  "kernelspec": {
   "display_name": "Python 3",
   "language": "python",
   "name": "python3"
  },
  "language_info": {
   "codemirror_mode": {
    "name": "ipython",
    "version": 3
   },
   "file_extension": ".py",
   "mimetype": "text/x-python",
   "name": "python",
   "nbconvert_exporter": "python",
   "pygments_lexer": "ipython3",
   "version": "3.6.3"
  }
 },
 "nbformat": 4,
 "nbformat_minor": 2
}
