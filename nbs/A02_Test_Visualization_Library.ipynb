{
 "cells": [
  {
   "cell_type": "markdown",
   "metadata": {},
   "source": [
    "## Setup"
   ]
  },
  {
   "cell_type": "code",
   "execution_count": 1,
   "metadata": {},
   "outputs": [],
   "source": [
    "%load_ext autoreload\n",
    "%autoreload 2\n",
    "\n",
    "%matplotlib inline"
   ]
  },
  {
   "cell_type": "code",
   "execution_count": 2,
   "metadata": {},
   "outputs": [
    {
     "name": "stderr",
     "output_type": "stream",
     "text": [
      "Using TensorFlow backend.\n"
     ]
    },
    {
     "name": "stdout",
     "output_type": "stream",
     "text": [
      "_________________________________________________________________\n",
      "Layer (type)                 Output Shape              Param #   \n",
      "=================================================================\n",
      "seq_input (InputLayer)       (None, 32)                0         \n",
      "_________________________________________________________________\n",
      "word_emb (Embedding)         (None, 32, 100)           43224100  \n",
      "_________________________________________________________________\n",
      "input_dropout (Dropout)      (None, 32, 100)           0         \n",
      "_________________________________________________________________\n",
      "padding_1 (ZeroPadding1D)    (None, 34, 100)           0         \n",
      "_________________________________________________________________\n",
      "conv_1 (Conv1D)              (None, 32, 128)           38528     \n",
      "_________________________________________________________________\n",
      "pool_1 (MaxPooling1D)        (None, 16, 128)           0         \n",
      "_________________________________________________________________\n",
      "dropout_1 (Dropout)          (None, 16, 128)           0         \n",
      "_________________________________________________________________\n",
      "padding_2 (ZeroPadding1D)    (None, 18, 128)           0         \n",
      "_________________________________________________________________\n",
      "conv_2 (Conv1D)              (None, 16, 128)           49280     \n",
      "_________________________________________________________________\n",
      "pool_2 (MaxPooling1D)        (None, 8, 128)            0         \n",
      "_________________________________________________________________\n",
      "dropout_2 (Dropout)          (None, 8, 128)            0         \n",
      "_________________________________________________________________\n",
      "padding_3 (ZeroPadding1D)    (None, 10, 128)           0         \n",
      "_________________________________________________________________\n",
      "conv_3 (Conv1D)              (None, 8, 128)            49280     \n",
      "_________________________________________________________________\n",
      "pool_3 (MaxPooling1D)        (None, 4, 128)            0         \n",
      "_________________________________________________________________\n",
      "flatten (Flatten)            (None, 512)               0         \n",
      "_________________________________________________________________\n",
      "fc_1 (Dense)                 (None, 128)               65664     \n",
      "_________________________________________________________________\n",
      "predictions (Dense)          (None, 2)                 258       \n",
      "=================================================================\n",
      "Total params: 43,427,110\n",
      "Trainable params: 43,427,110\n",
      "Non-trainable params: 0\n",
      "_________________________________________________________________\n"
     ]
    }
   ],
   "source": [
    "# load model architecture\n",
    "from tep.modelUtils import load_architecture\n",
    "model = load_architecture('models/tl/baseline.json')\n",
    "model.summary()"
   ]
  },
  {
   "cell_type": "code",
   "execution_count": 3,
   "metadata": {
    "collapsed": true
   },
   "outputs": [],
   "source": [
    "# set model weights\n",
    "model.load_weights('models/tl/baseline.hdf5')"
   ]
  },
  {
   "cell_type": "code",
   "execution_count": 4,
   "metadata": {},
   "outputs": [
    {
     "name": "stdout",
     "output_type": "stream",
     "text": [
      "(1600000, 32)\n",
      "(1600000,)\n"
     ]
    }
   ],
   "source": [
    "# load data and labels\n",
    "from tep.utils import load_array\n",
    "seqs = load_array('data/sentiment_data/seq_32.bc')\n",
    "labels = load_array('data/sentiment_data/labels.bc')\n",
    "print(seqs.shape)\n",
    "print(labels.shape)"
   ]
  },
  {
   "cell_type": "code",
   "execution_count": 5,
   "metadata": {},
   "outputs": [
    {
     "data": {
      "text/plain": [
       "dict"
      ]
     },
     "execution_count": 5,
     "metadata": {},
     "output_type": "execute_result"
    }
   ],
   "source": [
    "# load word index\n",
    "import json\n",
    "word_index_file = open('data/sentiment_data/word_index.json')\n",
    "word_index_str = word_index_file.read()\n",
    "word_index = json.loads(word_index_str)\n",
    "type(word_index)"
   ]
  },
  {
   "cell_type": "code",
   "execution_count": 6,
   "metadata": {
    "collapsed": true
   },
   "outputs": [],
   "source": [
    "# compile the model\n",
    "model.compile(optimizer='Adam', loss='binary_crossentropy', metrics=['acc'])"
   ]
  },
  {
   "cell_type": "code",
   "execution_count": 7,
   "metadata": {},
   "outputs": [
    {
     "name": "stdout",
     "output_type": "stream",
     "text": [
      "10000/10000 [==============================] - 2s 216us/step\n"
     ]
    },
    {
     "data": {
      "text/plain": [
       "[0.34918261456489563, 0.84550000000000003]"
      ]
     },
     "execution_count": 7,
     "metadata": {},
     "output_type": "execute_result"
    }
   ],
   "source": [
    "# test the model\n",
    "from tep.trainUtils import one_hot_encoding\n",
    "oh_labels = one_hot_encoding(labels, 2)\n",
    "model.evaluate(x=seqs[:10000], y=oh_labels[:10000], batch_size=256)"
   ]
  },
  {
   "cell_type": "markdown",
   "metadata": {},
   "source": [
    "## Get hidden layer activations"
   ]
  },
  {
   "cell_type": "code",
   "execution_count": 8,
   "metadata": {
    "collapsed": true
   },
   "outputs": [],
   "source": [
    "from tep.featureVisualization import FeatureVisualizer\n",
    "fv = FeatureVisualizer(model, word_index)"
   ]
  },
  {
   "cell_type": "code",
   "execution_count": 9,
   "metadata": {},
   "outputs": [
    {
     "data": {
      "text/plain": [
       "3"
      ]
     },
     "execution_count": 9,
     "metadata": {},
     "output_type": "execute_result"
    }
   ],
   "source": [
    "model.get_layer('conv_1').kernel_size[0]"
   ]
  },
  {
   "cell_type": "code",
   "execution_count": 10,
   "metadata": {},
   "outputs": [
    {
     "data": {
      "text/plain": [
       "[{'activation': 2.154819,\n",
       "  'kernel': 127,\n",
       "  'position': 28,\n",
       "  'words': 'someone talk to'},\n",
       " {'activation': 2.0720279,\n",
       "  'kernel': 101,\n",
       "  'position': 29,\n",
       "  'words': 'talk to me'},\n",
       " {'activation': 1.8903841,\n",
       "  'kernel': 18,\n",
       "  'position': 31,\n",
       "  'words': 'me x <unknown>'},\n",
       " {'activation': 1.8060901, 'kernel': 120, 'position': 30, 'words': 'to me x'},\n",
       " {'activation': 1.7299895,\n",
       "  'kernel': 29,\n",
       "  'position': 28,\n",
       "  'words': 'someone talk to'}]"
      ]
     },
     "execution_count": 10,
     "metadata": {},
     "output_type": "execute_result"
    }
   ],
   "source": [
    "fv.analyze_example(seqs[1], 'conv_1', num_results=5)"
   ]
  },
  {
   "cell_type": "code",
   "execution_count": 18,
   "metadata": {},
   "outputs": [
    {
     "data": {
      "text/plain": [
       "[{'activation': 5.2490921,\n",
       "  'kernel': 0,\n",
       "  'position': 29,\n",
       "  'words': 'sad sad sad'},\n",
       " {'activation': 4.8096027,\n",
       "  'kernel': 0,\n",
       "  'position': 16,\n",
       "  'words': 'friday, but sad'},\n",
       " {'activation': 4.6268544,\n",
       "  'kernel': 0,\n",
       "  'position': 19,\n",
       "  'words': 'sad <allcaps> sad'},\n",
       " {'activation': 4.6268544,\n",
       "  'kernel': 0,\n",
       "  'position': 17,\n",
       "  'words': 'sad <allcaps> sad'},\n",
       " {'activation': 4.5611711,\n",
       "  'kernel': 0,\n",
       "  'position': 30,\n",
       "  'words': 'died soo sad'},\n",
       " {'activation': 4.5597568,\n",
       "  'kernel': 0,\n",
       "  'position': 19,\n",
       "  'words': '. but unfortunately'},\n",
       " {'activation': 4.5227909,\n",
       "  'kernel': 0,\n",
       "  'position': 25,\n",
       "  'words': 'anymore i miss'},\n",
       " {'activation': 4.4558101,\n",
       "  'kernel': 0,\n",
       "  'position': 23,\n",
       "  'words': 'adorable, but unfortunately'},\n",
       " {'activation': 4.3963599,\n",
       "  'kernel': 0,\n",
       "  'position': 29,\n",
       "  'words': 'borked ! sad'},\n",
       " {'activation': 4.3497105, 'kernel': 0, 'position': 20, 'words': '; hw sad'}]"
      ]
     },
     "execution_count": 18,
     "metadata": {},
     "output_type": "execute_result"
    }
   ],
   "source": [
    "fv.analyze_neuron(seqs[:10000], 'conv_1', 0)"
   ]
  },
  {
   "cell_type": "code",
   "execution_count": null,
   "metadata": {
    "collapsed": true
   },
   "outputs": [],
   "source": []
  }
 ],
 "metadata": {
  "kernelspec": {
   "display_name": "Python 3",
   "language": "python",
   "name": "python3"
  },
  "language_info": {
   "codemirror_mode": {
    "name": "ipython",
    "version": 3
   },
   "file_extension": ".py",
   "mimetype": "text/x-python",
   "name": "python",
   "nbconvert_exporter": "python",
   "pygments_lexer": "ipython3",
   "version": "3.6.3"
  }
 },
 "nbformat": 4,
 "nbformat_minor": 2
}
