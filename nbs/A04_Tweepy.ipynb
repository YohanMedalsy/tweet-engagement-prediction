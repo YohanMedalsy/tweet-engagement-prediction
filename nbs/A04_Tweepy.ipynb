{
 "cells": [
  {
   "cell_type": "markdown",
   "metadata": {},
   "source": [
    "# Experimenting with Tweepy library"
   ]
  },
  {
   "cell_type": "markdown",
   "metadata": {},
   "source": [
    "## Authentication"
   ]
  },
  {
   "cell_type": "code",
   "execution_count": 2,
   "metadata": {},
   "outputs": [],
   "source": [
    "import os\n",
    "from dotenv import load_dotenv, find_dotenv\n",
    "load_dotenv(find_dotenv())\n",
    "CONSUMER_KEY = os.getenv(\"TWITTER_CONSUMER_KEY\")\n",
    "CONSUMER_SECRET = os.getenv(\"TWITTER_CONSUMER_SECRET\")\n",
    "ACCESS_TOKEN_KEY = os.getenv(\"TWITTER_ACCESS_TOKEN_KEY\")\n",
    "ACCESS_TOKEN_SECRET = os.getenv(\"TWITTER_ACCESS_TOKEN_SECRET\")"
   ]
  },
  {
   "cell_type": "code",
   "execution_count": 3,
   "metadata": {
    "collapsed": true
   },
   "outputs": [],
   "source": [
    "import tweepy\n",
    "auth = tweepy.OAuthHandler(CONSUMER_KEY, CONSUMER_SECRET)\n",
    "auth.set_access_token(ACCESS_TOKEN_KEY, ACCESS_TOKEN_SECRET)\n",
    "api = tweepy.API(auth)"
   ]
  },
  {
   "cell_type": "markdown",
   "metadata": {},
   "source": [
    "## Batch API"
   ]
  },
  {
   "cell_type": "code",
   "execution_count": 6,
   "metadata": {
    "scrolled": false
   },
   "outputs": [
    {
     "name": "stdout",
     "output_type": "stream",
     "text": [
      "\u001b[34msuperglaze\u001b[0m RT @emilyrauhala: Could also be the state-backed, police-led killing spree. https://t.co/YIW4C004eR\n",
      "\u001b[34mt3n\u001b[0m Dreckschleudern raus! Warum auch LKW-Hersteller sich jetzt neu erfinden müssen. https://t.co/e3AIGFaQkM\n",
      "\u001b[34mHilzFuld\u001b[0m RT @TechCrunch: The current state of crypto is eerily similar to the dot com era circa 1999 https://t.co/vF5OGd8r2R\n",
      "\u001b[34msuperglaze\u001b[0m So yeah, that's where our smartphone batteries come from. Have a nice day.\n",
      "\u001b[34msuperglaze\u001b[0m Here's the now-ex-CEO of Chemaf, the Swiss owner of a Congolese mines \"Of course, people die...This is really shitt… https://t.co/yiHsAK9Y3x\n",
      "\u001b[34mThePracticalDev\u001b[0m RT @ThePracticalDev: - Why Blog?\n",
      "- How to Get Started?\n",
      "- Beating Writers Block\n",
      "- Gaining Readership\n",
      "{ author: @ASpittel }\n",
      "https://t.co/Z2pi…\n",
      "\u001b[34msuperglaze\u001b[0m The attitudes of companies involved in the cobalt industry, as quoted in this WSJ piece, are disgusting.… https://t.co/jM3Q05gIeP\n",
      "\u001b[34mt3n\u001b[0m Themen zur #dmexco18: Es gab doch noch mehr als #KI https://t.co/jLbmMjx1EQ\n",
      "\u001b[34mMartinSFP\u001b[0m This is my new favourite Twitter accoun. https://t.co/7sjhJ7LUAF\n",
      "\u001b[34mmgsiegler\u001b[0m Looks like iPhone XS shipping dates just now starting to slip (pickup still going strong). Apple Watch 4 shipping d… https://t.co/5YPXysIkXc\n",
      "\u001b[34mMartinSFP\u001b[0m TBH, I'll probably go for an iPhone this time. I like to switch between iOS and Android every year or two, but I ju… https://t.co/ENuNdgBLQu\n",
      "\u001b[34mNandoDF\u001b[0m Indaba audience #DLIndaba2018 https://t.co/cjSHwyhzry\n",
      "\u001b[34mDStartups\u001b[0m Fintech-Rundumschlag: Große Pleiten, große Ambitionen #Hintergrund #Fintech https://t.co/PAECvhdEdO\n",
      "\u001b[34mnaval\u001b[0m RT @webdevMason: Important point in this book: if kids are subjected on the daily to heavy guard/police presence in schools, surveillance e…\n",
      "\u001b[34mBillSimmons\u001b[0m https://t.co/ypjhuzJTcj\n",
      "\u001b[34mMartinSFP\u001b[0m Was half tempted to preorder an iPhone Xs Max, but I’ve decided to hold off for a few weeks and see what the Pixel… https://t.co/VWUQ7LhNbe\n",
      "\u001b[34mnaval\u001b[0m RT @MindsFiction: Imagine someone claiming the right to control your hands as you write, your vocal cords as you speak, and the ideas that…\n"
     ]
    }
   ],
   "source": [
    "from termcolor import colored\n",
    "public_tweets = api.home_timeline()\n",
    "for tweet in public_tweets:\n",
    "    print(colored(tweet.user.screen_name, 'blue'), tweet.text)"
   ]
  },
  {
   "cell_type": "markdown",
   "metadata": {},
   "source": [
    "## Tweet attributes\n",
    "\n",
    "For our feature generation process, we should extract the following attributes:\n",
    "* Account creation date\n",
    "* User UTC offset\n",
    "* Tweet creation date\n",
    "* User follower count\n",
    "* User friend count\n",
    "* User listing count\n",
    "* User status count\n",
    "* User favorite count\n",
    "* Number of URLs\n",
    "* Number of hashtags\n",
    "* Number of mentions\n",
    "* Tweet text\n",
    "* Tweet length\n",
    "* Quoted status\n",
    "* Sensitivity status\n",
    "* Quoted tweet retweet count\n",
    "* Quoted tweet creation date\n",
    "* Retweet count\n",
    "* Replied status\n",
    "* User verification status"
   ]
  },
  {
   "cell_type": "code",
   "execution_count": 7,
   "metadata": {
    "collapsed": true
   },
   "outputs": [],
   "source": [
    "retweet = public_tweets[0]\n",
    "tweet = public_tweets[1]"
   ]
  },
  {
   "cell_type": "code",
   "execution_count": 9,
   "metadata": {},
   "outputs": [
    {
     "data": {
      "text/plain": [
       "datetime.datetime"
      ]
     },
     "execution_count": 9,
     "metadata": {},
     "output_type": "execute_result"
    }
   ],
   "source": [
    "type(tweet.user.created_at)"
   ]
  },
  {
   "cell_type": "code",
   "execution_count": 17,
   "metadata": {},
   "outputs": [
    {
     "data": {
      "text/plain": [
       "NoneType"
      ]
     },
     "execution_count": 17,
     "metadata": {},
     "output_type": "execute_result"
    }
   ],
   "source": [
    "type(tweet.user.utc_offset)"
   ]
  },
  {
   "cell_type": "code",
   "execution_count": 75,
   "metadata": {},
   "outputs": [
    {
     "data": {
      "text/plain": [
       "NoneType"
      ]
     },
     "execution_count": 75,
     "metadata": {},
     "output_type": "execute_result"
    }
   ],
   "source": [
    "user = api.get_user(tweet.user.id)\n",
    "type(user.utc_offset)"
   ]
  },
  {
   "cell_type": "markdown",
   "metadata": {},
   "source": [
    "UTC offset is not provided by the Tweepy library. We have to get these attributes elsewhere, e.g., through the *python-twitter* library. Knowing about the UTC offset is necessary to calculate local creation time of tweets."
   ]
  },
  {
   "cell_type": "code",
   "execution_count": 16,
   "metadata": {},
   "outputs": [
    {
     "data": {
      "text/plain": [
       "datetime.datetime"
      ]
     },
     "execution_count": 16,
     "metadata": {},
     "output_type": "execute_result"
    }
   ],
   "source": [
    "type(tweet.created_at)"
   ]
  },
  {
   "cell_type": "code",
   "execution_count": 19,
   "metadata": {},
   "outputs": [
    {
     "data": {
      "text/plain": [
       "148291"
      ]
     },
     "execution_count": 19,
     "metadata": {},
     "output_type": "execute_result"
    }
   ],
   "source": [
    "tweet.user.followers_count"
   ]
  },
  {
   "cell_type": "code",
   "execution_count": 20,
   "metadata": {},
   "outputs": [
    {
     "data": {
      "text/plain": [
       "181"
      ]
     },
     "execution_count": 20,
     "metadata": {},
     "output_type": "execute_result"
    }
   ],
   "source": [
    "tweet.user.friends_count"
   ]
  },
  {
   "cell_type": "code",
   "execution_count": 21,
   "metadata": {},
   "outputs": [
    {
     "data": {
      "text/plain": [
       "4141"
      ]
     },
     "execution_count": 21,
     "metadata": {},
     "output_type": "execute_result"
    }
   ],
   "source": [
    "tweet.user.listed_count"
   ]
  },
  {
   "cell_type": "code",
   "execution_count": 22,
   "metadata": {},
   "outputs": [
    {
     "data": {
      "text/plain": [
       "63806"
      ]
     },
     "execution_count": 22,
     "metadata": {},
     "output_type": "execute_result"
    }
   ],
   "source": [
    "tweet.user.statuses_count"
   ]
  },
  {
   "cell_type": "code",
   "execution_count": 23,
   "metadata": {},
   "outputs": [
    {
     "data": {
      "text/plain": [
       "4200"
      ]
     },
     "execution_count": 23,
     "metadata": {},
     "output_type": "execute_result"
    }
   ],
   "source": [
    "tweet.user.favourites_count"
   ]
  },
  {
   "cell_type": "code",
   "execution_count": 27,
   "metadata": {},
   "outputs": [
    {
     "data": {
      "text/plain": [
       "[{'display_url': 't3n.de/news/?post_typ…',\n",
       "  'expanded_url': 'https://t3n.de/news/?post_type=post&p=1109830',\n",
       "  'indices': [80, 103],\n",
       "  'url': 'https://t.co/e3AIGFaQkM'}]"
      ]
     },
     "execution_count": 27,
     "metadata": {},
     "output_type": "execute_result"
    }
   ],
   "source": [
    "tweet.entities['urls']"
   ]
  },
  {
   "cell_type": "code",
   "execution_count": 28,
   "metadata": {},
   "outputs": [
    {
     "data": {
      "text/plain": [
       "[]"
      ]
     },
     "execution_count": 28,
     "metadata": {},
     "output_type": "execute_result"
    }
   ],
   "source": [
    "tweet.entities['hashtags']"
   ]
  },
  {
   "cell_type": "code",
   "execution_count": 30,
   "metadata": {},
   "outputs": [
    {
     "data": {
      "text/plain": [
       "[]"
      ]
     },
     "execution_count": 30,
     "metadata": {},
     "output_type": "execute_result"
    }
   ],
   "source": [
    "tweet.entities['user_mentions']"
   ]
  },
  {
   "cell_type": "code",
   "execution_count": 32,
   "metadata": {},
   "outputs": [
    {
     "data": {
      "text/plain": [
       "str"
      ]
     },
     "execution_count": 32,
     "metadata": {},
     "output_type": "execute_result"
    }
   ],
   "source": [
    "type(tweet.text)"
   ]
  },
  {
   "cell_type": "code",
   "execution_count": 33,
   "metadata": {},
   "outputs": [
    {
     "data": {
      "text/plain": [
       "103"
      ]
     },
     "execution_count": 33,
     "metadata": {},
     "output_type": "execute_result"
    }
   ],
   "source": [
    "len(tweet.text)"
   ]
  },
  {
   "cell_type": "code",
   "execution_count": 34,
   "metadata": {},
   "outputs": [
    {
     "data": {
      "text/plain": [
       "False"
      ]
     },
     "execution_count": 34,
     "metadata": {},
     "output_type": "execute_result"
    }
   ],
   "source": [
    "tweet.is_quote_status"
   ]
  },
  {
   "cell_type": "code",
   "execution_count": 35,
   "metadata": {},
   "outputs": [
    {
     "data": {
      "text/plain": [
       "False"
      ]
     },
     "execution_count": 35,
     "metadata": {},
     "output_type": "execute_result"
    }
   ],
   "source": [
    "tweet.possibly_sensitive"
   ]
  },
  {
   "cell_type": "code",
   "execution_count": 38,
   "metadata": {},
   "outputs": [
    {
     "data": {
      "text/plain": [
       "0"
      ]
     },
     "execution_count": 38,
     "metadata": {},
     "output_type": "execute_result"
    }
   ],
   "source": [
    "tweet.retweet_count"
   ]
  },
  {
   "cell_type": "code",
   "execution_count": 42,
   "metadata": {},
   "outputs": [
    {
     "data": {
      "text/plain": [
       "True"
      ]
     },
     "execution_count": 42,
     "metadata": {},
     "output_type": "execute_result"
    }
   ],
   "source": [
    "retweet.is_quote_status"
   ]
  },
  {
   "cell_type": "code",
   "execution_count": 73,
   "metadata": {},
   "outputs": [
    {
     "name": "stdout",
     "output_type": "stream",
     "text": [
      "True False True\n",
      "False False False\n",
      "False False True\n",
      "False False False\n",
      "False False False\n",
      "False False True\n",
      "False False False\n",
      "False False False\n",
      "True True False\n",
      "False False False\n",
      "False False False\n",
      "False False False\n",
      "False False False\n",
      "True False True\n",
      "True True False\n",
      "False False False\n",
      "False False True\n"
     ]
    }
   ],
   "source": [
    "for t in public_tweets:\n",
    "    print(t.is_quote_status, hasattr(t, 'quoted_status'), hasattr(t, 'retweeted_status'))"
   ]
  },
  {
   "cell_type": "markdown",
   "metadata": {},
   "source": [
    "Obviously, the distinction between quotes and retweets is not consistent. We have to make multiple checks to determine the exact type of an incoming tweet."
   ]
  },
  {
   "cell_type": "code",
   "execution_count": 60,
   "metadata": {},
   "outputs": [
    {
     "data": {
      "text/plain": [
       "19"
      ]
     },
     "execution_count": 60,
     "metadata": {},
     "output_type": "execute_result"
    }
   ],
   "source": [
    "public_tweets[14].quoted_status.retweet_count"
   ]
  },
  {
   "cell_type": "code",
   "execution_count": 61,
   "metadata": {},
   "outputs": [
    {
     "data": {
      "text/plain": [
       "44074"
      ]
     },
     "execution_count": 61,
     "metadata": {},
     "output_type": "execute_result"
    }
   ],
   "source": [
    "public_tweets[14].quoted_status.user.followers_count"
   ]
  },
  {
   "cell_type": "code",
   "execution_count": 43,
   "metadata": {},
   "outputs": [
    {
     "data": {
      "text/plain": [
       "2"
      ]
     },
     "execution_count": 43,
     "metadata": {},
     "output_type": "execute_result"
    }
   ],
   "source": [
    "retweet.retweet_count"
   ]
  },
  {
   "cell_type": "code",
   "execution_count": 44,
   "metadata": {},
   "outputs": [
    {
     "data": {
      "text/plain": [
       "2"
      ]
     },
     "execution_count": 44,
     "metadata": {},
     "output_type": "execute_result"
    }
   ],
   "source": [
    "retweet.retweeted_status.retweet_count"
   ]
  },
  {
   "cell_type": "code",
   "execution_count": 70,
   "metadata": {},
   "outputs": [
    {
     "data": {
      "text/plain": [
       "True"
      ]
     },
     "execution_count": 70,
     "metadata": {},
     "output_type": "execute_result"
    }
   ],
   "source": [
    "tweet.in_reply_to_status_id == None"
   ]
  },
  {
   "cell_type": "code",
   "execution_count": 71,
   "metadata": {},
   "outputs": [
    {
     "data": {
      "text/plain": [
       "False"
      ]
     },
     "execution_count": 71,
     "metadata": {},
     "output_type": "execute_result"
    }
   ],
   "source": [
    "tweet.user.verified"
   ]
  },
  {
   "cell_type": "code",
   "execution_count": 76,
   "metadata": {},
   "outputs": [
    {
     "data": {
      "text/plain": [
       "{'hashtags': [],\n",
       " 'media': [{'display_url': 'pic.twitter.com/TgTiYBpMMy',\n",
       "   'expanded_url': 'https://twitter.com/drewconway/status/1010137695664951297/photo/1',\n",
       "   'id': 1010137691562770432,\n",
       "   'id_str': '1010137691562770432',\n",
       "   'indices': [44, 67],\n",
       "   'media_url': 'http://pbs.twimg.com/media/DgS64OfVAAAVgOe.jpg',\n",
       "   'media_url_https': 'https://pbs.twimg.com/media/DgS64OfVAAAVgOe.jpg',\n",
       "   'sizes': {'large': {'h': 699, 'resize': 'fit', 'w': 700},\n",
       "    'medium': {'h': 699, 'resize': 'fit', 'w': 700},\n",
       "    'small': {'h': 679, 'resize': 'fit', 'w': 680},\n",
       "    'thumb': {'h': 150, 'resize': 'crop', 'w': 150}},\n",
       "   'source_status_id': 1010137695664951297,\n",
       "   'source_status_id_str': '1010137695664951297',\n",
       "   'source_user_id': 18463930,\n",
       "   'source_user_id_str': '18463930',\n",
       "   'type': 'photo',\n",
       "   'url': 'https://t.co/TgTiYBpMMy'}],\n",
       " 'symbols': [],\n",
       " 'urls': [],\n",
       " 'user_mentions': [{'id': 18463930,\n",
       "   'id_str': '18463930',\n",
       "   'indices': [3, 14],\n",
       "   'name': 'Drew Conway',\n",
       "   'screen_name': 'drewconway'}]}"
      ]
     },
     "execution_count": 76,
     "metadata": {},
     "output_type": "execute_result"
    }
   ],
   "source": [
    "tweet.entities"
   ]
  },
  {
   "cell_type": "code",
   "execution_count": 77,
   "metadata": {},
   "outputs": [
    {
     "name": "stdout",
     "output_type": "stream",
     "text": [
      "\u001b[34m_fpeters\u001b[0m Interesting read about deploying multimodal neural networks\n",
      "https://t.co/1gk7LIm1oT\n",
      "\u001b[34m_fpeters\u001b[0m Testing if retweets appear in the stream https://t.co/ab5mN5xcyi\n",
      "\u001b[34m_fpeters\u001b[0m Testing a new Twitter library called tweepy for my retweet prediction project https://t.co/dkGtS8CLkA\n",
      "\u001b[34m_fpeters\u001b[0m RT @thecheckdown: Catch didn't count but that footwork 😳  @juliojones_11 https://t.co/zpKBZCFH0h\n",
      "\u001b[34m_fpeters\u001b[0m RT @1FSVMainz05: UNSER TRAUM LEBT ... und wir kämpfen weiter! 💪 https://t.co/gMlz0B2pDi\n",
      "\u001b[34m_fpeters\u001b[0m RT @1FSVMainz05: ... denn Toleranz und Weltoffenheit zählen zu unseren Werten – ohne Alternative! https://t.co/a295x9CN2B\n",
      "\u001b[34m_fpeters\u001b[0m RT @StrictlyVC: Very Good Security makes data ‘unhackable’ with $8.5M from Andreessen https://t.co/emN7itjh2t\n",
      "\u001b[34m_fpeters\u001b[0m Under the Hood of Uber’s Experimentation Platform https://t.co/xUVhWEkzQ2 via @ubereng\n",
      "\u001b[34m_fpeters\u001b[0m https://t.co/GRVJ2SKgge\n",
      "\u001b[34m_fpeters\u001b[0m RT @ThePracticalDev: Best Open Source Tools For Developers 🛠\n",
      "\n",
      "1. Screencat 🙀\n",
      "2. Manta 💸\n",
      "3. Brave Browser\n",
      "4. Mark text 📝\n",
      "5. IconGenerator 👾…\n",
      "\u001b[34m_fpeters\u001b[0m RT @fchollet: Most AI problems have long tails -- like giraffes. Natural language question-answering, autonomous driving, fraud detection..…\n",
      "\u001b[34m_fpeters\u001b[0m https://t.co/cpKnxh345i\n",
      "\u001b[34m_fpeters\u001b[0m https://t.co/K4V9JsHcLH\n",
      "\u001b[34m_fpeters\u001b[0m https://t.co/d5AfYUy5RG\n",
      "\u001b[34m_fpeters\u001b[0m Building Automated Feature Rollouts on Robust Regression Analysis https://t.co/DwbWTQTtnD via @ubereng\n",
      "\u001b[34m_fpeters\u001b[0m RT @swish41: Just had off season drug testing. Told the guy: Did you see me move last year?? If I was on something I need to change the pro…\n",
      "\u001b[34m_fpeters\u001b[0m RT @DragonflyJonez: Melo is getting all $28M and has to decide between living in LA, Houston or Miami. What a fucking winner.\n",
      "\u001b[34m_fpeters\u001b[0m RT @FOXSports: TONI KROOS CALLED GAME.\n",
      "\n",
      "What a set piece! What a goal! https://t.co/KA0QkOSWZN\n",
      "\u001b[34m_fpeters\u001b[0m RT @kdnuggets: Cartoon: FIFA World Cup Football and Machine Learning https://t.co/UcCujjuN4t https://t.co/RAjEz3p2m3\n",
      "\u001b[34m_fpeters\u001b[0m RT @drewconway: Who made this? 👏🏻...👏🏻...👏🏻 https://t.co/TgTiYBpMMy\n"
     ]
    }
   ],
   "source": [
    "my_tweets = api.user_timeline()\n",
    "for tweet in my_tweets:\n",
    "    print(colored(tweet.user.screen_name, 'blue'), tweet.text)"
   ]
  },
  {
   "cell_type": "code",
   "execution_count": 78,
   "metadata": {
    "collapsed": true
   },
   "outputs": [],
   "source": [
    "tweet_with_video = my_tweets[3]"
   ]
  },
  {
   "cell_type": "code",
   "execution_count": 80,
   "metadata": {},
   "outputs": [
    {
     "data": {
      "text/plain": [
       "1"
      ]
     },
     "execution_count": 80,
     "metadata": {},
     "output_type": "execute_result"
    }
   ],
   "source": [
    "len(tweet_with_video.retweeted_status.entities['media'])"
   ]
  },
  {
   "cell_type": "code",
   "execution_count": 84,
   "metadata": {},
   "outputs": [
    {
     "ename": "KeyError",
     "evalue": "'media'",
     "output_type": "error",
     "traceback": [
      "\u001b[0;31m-----------------------------\u001b[0m",
      "\u001b[0;31mKeyError\u001b[0mTraceback (most recent call last)",
      "\u001b[0;32m<ipython-input-84-6189c8754b26>\u001b[0m in \u001b[0;36m<module>\u001b[0;34m()\u001b[0m\n\u001b[0;32m----> 1\u001b[0;31m \u001b[0mlen\u001b[0m\u001b[0;34m(\u001b[0m\u001b[0mmy_tweets\u001b[0m\u001b[0;34m[\u001b[0m\u001b[0;36m2\u001b[0m\u001b[0;34m]\u001b[0m\u001b[0;34m.\u001b[0m\u001b[0mentities\u001b[0m\u001b[0;34m[\u001b[0m\u001b[0;34m'media'\u001b[0m\u001b[0;34m]\u001b[0m\u001b[0;34m)\u001b[0m\u001b[0;34m\u001b[0m\u001b[0m\n\u001b[0m",
      "\u001b[0;31mKeyError\u001b[0m: 'media'"
     ]
    }
   ],
   "source": [
    "len(my_tweets[2].entities['media'])"
   ]
  },
  {
   "cell_type": "markdown",
   "metadata": {},
   "source": [
    "We need to check for the existence of the media entities, before determining the exact number."
   ]
  },
  {
   "cell_type": "code",
   "execution_count": 86,
   "metadata": {},
   "outputs": [
    {
     "name": "stdout",
     "output_type": "stream",
     "text": [
      "False\n"
     ]
    }
   ],
   "source": [
    "print('media' in my_tweets[2].entities)"
   ]
  },
  {
   "cell_type": "markdown",
   "metadata": {},
   "source": [
    "## Retweet attributes\n",
    "\n",
    "Since we get full status information for all retweets, we can extract the same attributes for each retweet.\n",
    "\n",
    "Main challenges:\n",
    "* Sort out retweets from our user group\n",
    "* Distinguish between tweets from user group and retweets or their tweets\n",
    "* Identify special cases, e.g., intra-user group retweeting and quotes\n",
    "\n",
    "We have seen that we cannot rely on Tweepy's attributes. Thus, we have to check for all attributes and remove tweets in the worst case."
   ]
  },
  {
   "cell_type": "code",
   "execution_count": null,
   "metadata": {
    "collapsed": true
   },
   "outputs": [],
   "source": []
  }
 ],
 "metadata": {
  "kernelspec": {
   "display_name": "Python 3",
   "language": "python",
   "name": "python3"
  },
  "language_info": {
   "codemirror_mode": {
    "name": "ipython",
    "version": 3
   },
   "file_extension": ".py",
   "mimetype": "text/x-python",
   "name": "python",
   "nbconvert_exporter": "python",
   "pygments_lexer": "ipython3",
   "version": "3.6.3"
  }
 },
 "nbformat": 4,
 "nbformat_minor": 2
}
