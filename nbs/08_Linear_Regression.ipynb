{
 "cells": [
  {
   "cell_type": "markdown",
   "metadata": {},
   "source": [
    "# Step 8: Train linear regression model\n",
    "\n",
    "This model will serve as a baseline for later regression models. We need to complete the following steps:\n",
    "1. Prepare data\n",
    "2. Load and save the model\n",
    "3. Setup logging\n",
    "4. Train model\n",
    "\n",
    "## Setup"
   ]
  },
  {
   "cell_type": "code",
   "execution_count": 1,
   "metadata": {},
   "outputs": [],
   "source": [
    "%load_ext autoreload\n",
    "%autoreload 2\n",
    "\n",
    "%matplotlib inline"
   ]
  },
  {
   "cell_type": "code",
   "execution_count": 2,
   "metadata": {},
   "outputs": [
    {
     "name": "stderr",
     "output_type": "stream",
     "text": [
      "/home/paperspace/anaconda3/lib/python3.6/site-packages/h5py/__init__.py:36: FutureWarning: Conversion of the second argument of issubdtype from `float` to `np.floating` is deprecated. In future, it will be treated as `np.float64 == np.dtype(float).type`.\n",
      "  from ._conv import register_converters as _register_converters\n",
      "Using TensorFlow backend.\n"
     ]
    }
   ],
   "source": [
    "import keras.backend as K\n",
    "K.clear_session()"
   ]
  },
  {
   "cell_type": "code",
   "execution_count": 3,
   "metadata": {},
   "outputs": [],
   "source": [
    "import matplotlib\n",
    "matplotlib.rcParams['figure.figsize'] = (12.0, 6.0)"
   ]
  },
  {
   "cell_type": "markdown",
   "metadata": {},
   "source": [
    "## Prepare data"
   ]
  },
  {
   "cell_type": "code",
   "execution_count": 4,
   "metadata": {},
   "outputs": [
    {
     "name": "stdout",
     "output_type": "stream",
     "text": [
      "(1293005, 15)\n",
      "(1293005,)\n"
     ]
    }
   ],
   "source": [
    "from tep.utils import load_array\n",
    "feats = load_array(\"data/auxiliary_features.bc\")\n",
    "labels = load_array(\"data/regression_labels.bc\")\n",
    "print(feats.shape)\n",
    "print(labels.shape)"
   ]
  },
  {
   "cell_type": "code",
   "execution_count": 5,
   "metadata": {},
   "outputs": [
    {
     "name": "stdout",
     "output_type": "stream",
     "text": [
      "[  0   2 230   0   0  51   6   0   5   1  76   2   4   3   0   0   1   0\n",
      "  52   0]\n",
      "[0.         1.09861229 5.44241771 0.         0.         3.95124372\n",
      " 1.94591015 0.         1.79175947 0.69314718 4.34380542 1.09861229\n",
      " 1.60943791 1.38629436 0.         0.         0.69314718 0.\n",
      " 3.97029191 0.        ]\n"
     ]
    }
   ],
   "source": [
    "# transform labels to log(x+1) in order to account for zero values\n",
    "import numpy as np\n",
    "print(labels[:20])\n",
    "labels = np.log1p(labels)\n",
    "print(labels[:20])"
   ]
  },
  {
   "cell_type": "markdown",
   "metadata": {},
   "source": [
    "## Load and save model"
   ]
  },
  {
   "cell_type": "code",
   "execution_count": 6,
   "metadata": {},
   "outputs": [],
   "source": [
    "from tep.trainUtils import r2"
   ]
  },
  {
   "cell_type": "code",
   "execution_count": 7,
   "metadata": {},
   "outputs": [
    {
     "name": "stdout",
     "output_type": "stream",
     "text": [
      "_________________________________________________________________\n",
      "Layer (type)                 Output Shape              Param #   \n",
      "=================================================================\n",
      "batch_normalization_1 (Batch (None, 15)                60        \n",
      "_________________________________________________________________\n",
      "dense_1 (Dense)              (None, 1)                 16        \n",
      "=================================================================\n",
      "Total params: 76\n",
      "Trainable params: 46\n",
      "Non-trainable params: 30\n",
      "_________________________________________________________________\n"
     ]
    }
   ],
   "source": [
    "from tep.linearModel import regression_model\n",
    "model = regression_model(feats.shape[1], metrics=[r2])\n",
    "model.summary()"
   ]
  },
  {
   "cell_type": "code",
   "execution_count": 8,
   "metadata": {},
   "outputs": [],
   "source": [
    "# save model architecture\n",
    "from tep.modelUtils import save_architecture\n",
    "model_name = \"lin_reg\"\n",
    "model_path = \"models/\" + model_name\n",
    "save_architecture(model, model_path + \".json\")"
   ]
  },
  {
   "cell_type": "markdown",
   "metadata": {},
   "source": [
    "## Setup logging"
   ]
  },
  {
   "cell_type": "code",
   "execution_count": 9,
   "metadata": {},
   "outputs": [
    {
     "name": "stdout",
     "output_type": "stream",
     "text": [
      "mkdir: cannot create directory ‘models/lin_reg’: File exists\r\n"
     ]
    }
   ],
   "source": [
    "!mkdir $model_path"
   ]
  },
  {
   "cell_type": "code",
   "execution_count": 10,
   "metadata": {},
   "outputs": [],
   "source": [
    "!rm $model_path/*"
   ]
  },
  {
   "cell_type": "code",
   "execution_count": 11,
   "metadata": {},
   "outputs": [
    {
     "name": "stdout",
     "output_type": "stream",
     "text": [
      "WARNING:tensorflow:From /home/paperspace/anaconda3/lib/python3.6/site-packages/tensorflow/contrib/learn/python/learn/datasets/base.py:198: retry (from tensorflow.contrib.learn.python.learn.datasets.base) is deprecated and will be removed in a future version.\n",
      "Instructions for updating:\n",
      "Use the retry module or similar alternatives.\n"
     ]
    }
   ],
   "source": [
    "from tep.trainUtils import get_callbacks\n",
    "cbs = get_callbacks(model_name=model_name, log_dir=model_path, verbose=1)"
   ]
  },
  {
   "cell_type": "markdown",
   "metadata": {},
   "source": [
    "## Train the model"
   ]
  },
  {
   "cell_type": "code",
   "execution_count": 12,
   "metadata": {},
   "outputs": [],
   "source": [
    "# use settings for testing on sample\n",
    "#train_size = 10000\n",
    "#val_size = 1000\n",
    "#batch_size = 64\n",
    "\n",
    "# use settings for running on full data\n",
    "val_size = 10000\n",
    "train_size = feats.shape[0] - val_size\n",
    "batch_size = 512"
   ]
  },
  {
   "cell_type": "code",
   "execution_count": 13,
   "metadata": {},
   "outputs": [
    {
     "name": "stdout",
     "output_type": "stream",
     "text": [
      "Train on 1283005 samples, validate on 10000 samples\n",
      "Epoch 1/100\n",
      " - 9s - loss: 3.1493 - r2: 0.3097 - val_loss: 2.9145 - val_r2: 0.3599\n",
      "\n",
      "Epoch 00001: val_loss improved from inf to 2.91453, saving model to models/lin_reg.hdf5\n",
      "Epoch 2/100\n",
      " - 9s - loss: 2.9053 - r2: 0.3629 - val_loss: 2.8660 - val_r2: 0.3707\n",
      "\n",
      "Epoch 00002: val_loss improved from 2.91453 to 2.86605, saving model to models/lin_reg.hdf5\n",
      "Epoch 3/100\n",
      " - 9s - loss: 2.8968 - r2: 0.3646 - val_loss: 2.8683 - val_r2: 0.3702\n",
      "\n",
      "Epoch 00003: val_loss did not improve\n",
      "Epoch 4/100\n",
      " - 9s - loss: 2.8979 - r2: 0.3642 - val_loss: 2.8654 - val_r2: 0.3708\n",
      "\n",
      "Epoch 00004: val_loss improved from 2.86605 to 2.86544, saving model to models/lin_reg.hdf5\n",
      "Epoch 5/100\n",
      " - 9s - loss: 2.8994 - r2: 0.3639 - val_loss: 2.8636 - val_r2: 0.3712\n",
      "\n",
      "Epoch 00005: val_loss improved from 2.86544 to 2.86356, saving model to models/lin_reg.hdf5\n",
      "Epoch 6/100\n",
      " - 9s - loss: 2.8965 - r2: 0.3645 - val_loss: 2.8642 - val_r2: 0.3711\n",
      "\n",
      "Epoch 00006: val_loss did not improve\n",
      "Epoch 7/100\n",
      " - 9s - loss: 2.8969 - r2: 0.3645 - val_loss: 2.8696 - val_r2: 0.3699\n",
      "\n",
      "Epoch 00007: val_loss did not improve\n",
      "Epoch 8/100\n",
      " - 9s - loss: 2.8967 - r2: 0.3647 - val_loss: 2.8622 - val_r2: 0.3715\n",
      "\n",
      "Epoch 00008: val_loss improved from 2.86356 to 2.86216, saving model to models/lin_reg.hdf5\n",
      "Epoch 9/100\n",
      " - 9s - loss: 2.8964 - r2: 0.3645 - val_loss: 2.8642 - val_r2: 0.3711\n",
      "\n",
      "Epoch 00009: val_loss did not improve\n",
      "Epoch 10/100\n",
      " - 9s - loss: 2.8952 - r2: 0.3648 - val_loss: 2.8644 - val_r2: 0.3710\n",
      "\n",
      "Epoch 00010: val_loss did not improve\n",
      "Epoch 11/100\n",
      " - 9s - loss: 2.8948 - r2: 0.3651 - val_loss: 2.8667 - val_r2: 0.3705\n",
      "\n",
      "Epoch 00011: val_loss did not improve\n",
      "Epoch 12/100\n",
      " - 9s - loss: 2.8939 - r2: 0.3652 - val_loss: 2.8635 - val_r2: 0.3712\n",
      "\n",
      "Epoch 00012: val_loss did not improve\n",
      "Epoch 13/100\n",
      " - 9s - loss: 2.8932 - r2: 0.3654 - val_loss: 2.8650 - val_r2: 0.3709\n",
      "\n",
      "Epoch 00013: val_loss did not improve\n",
      "Epoch 14/100\n",
      " - 9s - loss: 2.8940 - r2: 0.3651 - val_loss: 2.8674 - val_r2: 0.3703\n",
      "\n",
      "Epoch 00014: val_loss did not improve\n",
      "\n",
      "Epoch 00014: ReduceLROnPlateau reducing learning rate to 0.00020000000949949026.\n",
      "Epoch 15/100\n",
      " - 9s - loss: 2.8937 - r2: 0.3654 - val_loss: 2.8641 - val_r2: 0.3711\n",
      "\n",
      "Epoch 00015: val_loss did not improve\n",
      "Epoch 16/100\n",
      " - 9s - loss: 2.8939 - r2: 0.3652 - val_loss: 2.8642 - val_r2: 0.3711\n",
      "\n",
      "Epoch 00016: val_loss did not improve\n",
      "Epoch 17/100\n",
      " - 9s - loss: 2.8912 - r2: 0.3660 - val_loss: 2.8656 - val_r2: 0.3707\n",
      "\n",
      "Epoch 00017: val_loss did not improve\n",
      "Epoch 18/100\n",
      " - 9s - loss: 2.8939 - r2: 0.3653 - val_loss: 2.8640 - val_r2: 0.3711\n",
      "\n",
      "Epoch 00018: val_loss did not improve\n",
      "Epoch 00018: early stopping\n"
     ]
    },
    {
     "data": {
      "text/plain": [
       "<keras.callbacks.History at 0x7fbd95b7cac8>"
      ]
     },
     "execution_count": 13,
     "metadata": {},
     "output_type": "execute_result"
    }
   ],
   "source": [
    "# now, we can train the model for the first time\n",
    "model.fit(feats[:train_size], \n",
    "          labels[:train_size], \n",
    "          validation_data=(feats[-val_size:], labels[-val_size:]), \n",
    "          batch_size=batch_size, \n",
    "          epochs=100, \n",
    "          verbose=2,\n",
    "          shuffle=True,\n",
    "          callbacks=cbs)"
   ]
  },
  {
   "cell_type": "code",
   "execution_count": 14,
   "metadata": {},
   "outputs": [
    {
     "data": {
      "image/png": "[encoded data removed]",
      "text/plain": [
       "<Figure size 864x432 with 1 Axes>"
      ]
     },
     "metadata": {},
     "output_type": "display_data"
    }
   ],
   "source": [
    "from tep.trainUtils import plot_loss\n",
    "history = cbs[2]\n",
    "plot_loss(history)"
   ]
  },
  {
   "cell_type": "code",
   "execution_count": 15,
   "metadata": {},
   "outputs": [
    {
     "name": "stdout",
     "output_type": "stream",
     "text": [
      "loss: 2.896712143858864, r2: 0.36471158541065446, val_loss: 2.862160450363159, val_r2: 0.3714916025161743\n"
     ]
    }
   ],
   "source": [
    "from tep.trainUtils import print_regression_metrics\n",
    "print_regression_metrics(history)"
   ]
  }
 ],
 "metadata": {
  "kernelspec": {
   "display_name": "Python 3",
   "language": "python",
   "name": "python3"
  },
  "language_info": {
   "codemirror_mode": {
    "name": "ipython",
    "version": 3
   },
   "file_extension": ".py",
   "mimetype": "text/x-python",
   "name": "python",
   "nbconvert_exporter": "python",
   "pygments_lexer": "ipython3",
   "version": "3.6.3"
  }
 },
 "nbformat": 4,
 "nbformat_minor": 2
}
