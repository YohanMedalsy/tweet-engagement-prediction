{
 "cells": [
  {
   "cell_type": "markdown",
   "metadata": {},
   "source": [
    "# Step 8: Train linear regression model\n",
    "\n",
    "This model will serve as a baseline for later regression models. We need to complete the following steps:\n",
    "1. Prepare data\n",
    "2. Load and save the model\n",
    "3. Setup logging\n",
    "4. Train model\n",
    "\n",
    "## Setup"
   ]
  },
  {
   "cell_type": "code",
   "execution_count": 1,
   "metadata": {
    "collapsed": true
   },
   "outputs": [],
   "source": [
    "%load_ext autoreload\n",
    "%autoreload 2\n",
    "\n",
    "%matplotlib inline"
   ]
  },
  {
   "cell_type": "code",
   "execution_count": 2,
   "metadata": {},
   "outputs": [
    {
     "name": "stderr",
     "output_type": "stream",
     "text": [
      "Using TensorFlow backend.\n"
     ]
    }
   ],
   "source": [
    "import keras.backend as K\n",
    "K.clear_session()"
   ]
  },
  {
   "cell_type": "code",
   "execution_count": 3,
   "metadata": {
    "collapsed": true
   },
   "outputs": [],
   "source": [
    "import matplotlib\n",
    "matplotlib.rcParams['figure.figsize'] = (12.0, 6.0)"
   ]
  },
  {
   "cell_type": "markdown",
   "metadata": {},
   "source": [
    "## Prepare data"
   ]
  },
  {
   "cell_type": "code",
   "execution_count": 4,
   "metadata": {},
   "outputs": [
    {
     "name": "stdout",
     "output_type": "stream",
     "text": [
      "(1293005, 15)\n",
      "(1293005,)\n"
     ]
    }
   ],
   "source": [
    "from tep.utils import load_array\n",
    "feats = load_array(\"data/auxiliary_features.bc\")\n",
    "labels = load_array(\"data/regression_labels.bc\")\n",
    "print(feats.shape)\n",
    "print(labels.shape)"
   ]
  },
  {
   "cell_type": "code",
   "execution_count": 5,
   "metadata": {},
   "outputs": [
    {
     "name": "stdout",
     "output_type": "stream",
     "text": [
      "[ 120    0    3    5    0    3    0   46    2    0    0    1 2666   74    1\n",
      "    3    0    2    0    0]\n",
      "[ 4.79579055  0.          1.38629436  1.79175947  0.          1.38629436\n",
      "  0.          3.8501476   1.09861229  0.          0.          0.69314718\n",
      "  7.88870952  4.31748811  0.69314718  1.38629436  0.          1.09861229\n",
      "  0.          0.        ]\n"
     ]
    }
   ],
   "source": [
    "# transform labels to log(x+1) in order to account for zero values\n",
    "import numpy as np\n",
    "print(labels[:20])\n",
    "labels = np.log1p(labels)\n",
    "print(labels[:20])"
   ]
  },
  {
   "cell_type": "markdown",
   "metadata": {},
   "source": [
    "## Load and save model"
   ]
  },
  {
   "cell_type": "code",
   "execution_count": 6,
   "metadata": {
    "collapsed": true
   },
   "outputs": [],
   "source": [
    "from tep.trainUtils import r2"
   ]
  },
  {
   "cell_type": "code",
   "execution_count": 7,
   "metadata": {},
   "outputs": [
    {
     "name": "stdout",
     "output_type": "stream",
     "text": [
      "_________________________________________________________________\n",
      "Layer (type)                 Output Shape              Param #   \n",
      "=================================================================\n",
      "batch_normalization_1 (Batch (None, 15)                60        \n",
      "_________________________________________________________________\n",
      "dense_1 (Dense)              (None, 1)                 16        \n",
      "=================================================================\n",
      "Total params: 76\n",
      "Trainable params: 46\n",
      "Non-trainable params: 30\n",
      "_________________________________________________________________\n"
     ]
    }
   ],
   "source": [
    "from tep.linearModel import regression_model\n",
    "model = regression_model(feats.shape[1], metrics=[r2])\n",
    "model.summary()"
   ]
  },
  {
   "cell_type": "code",
   "execution_count": 8,
   "metadata": {
    "collapsed": true
   },
   "outputs": [],
   "source": [
    "# save model architecture\n",
    "from tep.modelUtils import save_architecture\n",
    "model_name = \"lin_reg\"\n",
    "model_path = \"models/\" + model_name\n",
    "save_architecture(model, model_path + \".json\")"
   ]
  },
  {
   "cell_type": "markdown",
   "metadata": {},
   "source": [
    "## Setup logging"
   ]
  },
  {
   "cell_type": "code",
   "execution_count": 9,
   "metadata": {},
   "outputs": [
    {
     "name": "stdout",
     "output_type": "stream",
     "text": [
      "mkdir: models/lin_reg: File exists\r\n"
     ]
    }
   ],
   "source": [
    "!mkdir $model_path"
   ]
  },
  {
   "cell_type": "code",
   "execution_count": 10,
   "metadata": {
    "collapsed": true
   },
   "outputs": [],
   "source": [
    "!rm $model_path/*"
   ]
  },
  {
   "cell_type": "code",
   "execution_count": 11,
   "metadata": {
    "collapsed": true
   },
   "outputs": [],
   "source": [
    "from tep.trainUtils import get_callbacks\n",
    "cbs = get_callbacks(model_name=model_name, log_dir=model_path, verbose=1)"
   ]
  },
  {
   "cell_type": "markdown",
   "metadata": {},
   "source": [
    "## Train the model"
   ]
  },
  {
   "cell_type": "code",
   "execution_count": 12,
   "metadata": {
    "collapsed": true
   },
   "outputs": [],
   "source": [
    "# use settings for testing on sample\n",
    "train_size = 10000\n",
    "val_size = 1000\n",
    "batch_size = 64\n",
    "\n",
    "# use settings for running on full data\n",
    "#val_size = 10000\n",
    "#train_size = feats.shape[0] - val_size\n",
    "#batch_size = 512"
   ]
  },
  {
   "cell_type": "code",
   "execution_count": 13,
   "metadata": {},
   "outputs": [
    {
     "name": "stdout",
     "output_type": "stream",
     "text": [
      "Train on 10000 samples, validate on 1000 samples\n",
      "Epoch 1/100\n",
      "Epoch 00001: val_loss improved from inf to 4.79110, saving model to models/lin_reg.hdf5\n",
      " - 1s - loss: 6.3598 - r2: -3.8482e-01 - val_loss: 4.7911 - val_r2: -1.8682e-02\n",
      "Epoch 2/100\n",
      "Epoch 00002: val_loss improved from 4.79110 to 4.07262, saving model to models/lin_reg.hdf5\n",
      " - 1s - loss: 4.7205 - r2: -3.1305e-02 - val_loss: 4.0726 - val_r2: 0.1313\n",
      "Epoch 3/100\n",
      "Epoch 00003: val_loss improved from 4.07262 to 3.67413, saving model to models/lin_reg.hdf5\n",
      " - 1s - loss: 3.8771 - r2: 0.1488 - val_loss: 3.6741 - val_r2: 0.2171\n",
      "Epoch 4/100\n",
      "Epoch 00004: val_loss improved from 3.67413 to 3.46775, saving model to models/lin_reg.hdf5\n",
      " - 1s - loss: 3.6013 - r2: 0.1973 - val_loss: 3.4678 - val_r2: 0.2619\n",
      "Epoch 5/100\n",
      "Epoch 00005: val_loss improved from 3.46775 to 3.34756, saving model to models/lin_reg.hdf5\n",
      " - 1s - loss: 3.3818 - r2: 0.2541 - val_loss: 3.3476 - val_r2: 0.2867\n",
      "Epoch 6/100\n",
      "Epoch 00006: val_loss improved from 3.34756 to 3.25515, saving model to models/lin_reg.hdf5\n",
      " - 1s - loss: 3.3215 - r2: 0.2604 - val_loss: 3.2551 - val_r2: 0.3062\n",
      "Epoch 7/100\n",
      "Epoch 00007: val_loss improved from 3.25515 to 3.17774, saving model to models/lin_reg.hdf5\n",
      " - 1s - loss: 3.2502 - r2: 0.2746 - val_loss: 3.1777 - val_r2: 0.3219\n",
      "Epoch 8/100\n",
      "Epoch 00008: val_loss improved from 3.17774 to 3.11733, saving model to models/lin_reg.hdf5\n",
      " - 1s - loss: 3.1455 - r2: 0.2990 - val_loss: 3.1173 - val_r2: 0.3341\n",
      "Epoch 9/100\n",
      "Epoch 00009: val_loss improved from 3.11733 to 3.05719, saving model to models/lin_reg.hdf5\n",
      " - 0s - loss: 3.0908 - r2: 0.3088 - val_loss: 3.0572 - val_r2: 0.3457\n",
      "Epoch 10/100\n",
      "Epoch 00010: val_loss improved from 3.05719 to 3.03513, saving model to models/lin_reg.hdf5\n",
      " - 1s - loss: 3.0506 - r2: 0.3234 - val_loss: 3.0351 - val_r2: 0.3505\n",
      "Epoch 11/100\n",
      "Epoch 00011: val_loss improved from 3.03513 to 3.00324, saving model to models/lin_reg.hdf5\n",
      " - 1s - loss: 3.0420 - r2: 0.3242 - val_loss: 3.0032 - val_r2: 0.3556\n",
      "Epoch 12/100\n",
      "Epoch 00012: val_loss improved from 3.00324 to 2.99648, saving model to models/lin_reg.hdf5\n",
      " - 1s - loss: 3.0252 - r2: 0.3340 - val_loss: 2.9965 - val_r2: 0.3567\n",
      "Epoch 13/100\n",
      "Epoch 00013: val_loss improved from 2.99648 to 2.98489, saving model to models/lin_reg.hdf5\n",
      " - 0s - loss: 2.9752 - r2: 0.3405 - val_loss: 2.9849 - val_r2: 0.3594\n",
      "Epoch 14/100\n",
      "Epoch 00014: val_loss did not improve\n",
      " - 1s - loss: 2.9291 - r2: 0.3561 - val_loss: 2.9857 - val_r2: 0.3593\n",
      "Epoch 15/100\n",
      "Epoch 00015: val_loss did not improve\n",
      " - 1s - loss: 2.9353 - r2: 0.3426 - val_loss: 2.9965 - val_r2: 0.3586\n",
      "Epoch 16/100\n",
      "Epoch 00016: val_loss did not improve\n",
      " - 1s - loss: 2.9386 - r2: 0.3386 - val_loss: 2.9863 - val_r2: 0.3612\n",
      "Epoch 17/100\n",
      "Epoch 00017: val_loss did not improve\n",
      " - 1s - loss: 2.9160 - r2: 0.3540 - val_loss: 2.9994 - val_r2: 0.3597\n",
      "Epoch 18/100\n",
      "Epoch 00018: val_loss did not improve\n",
      " - 1s - loss: 2.9029 - r2: 0.3553 - val_loss: 3.0164 - val_r2: 0.3580\n",
      "Epoch 00018: early stopping\n"
     ]
    },
    {
     "data": {
      "text/plain": [
       "<keras.callbacks.History at 0x1c26113b38>"
      ]
     },
     "execution_count": 13,
     "metadata": {},
     "output_type": "execute_result"
    }
   ],
   "source": [
    "# now, we can train the model for the first time\n",
    "model.fit(feats[:train_size], \n",
    "          labels[:train_size], \n",
    "          validation_data=(feats[-val_size:], labels[-val_size:]), \n",
    "          batch_size=batch_size, \n",
    "          epochs=100, \n",
    "          verbose=2,\n",
    "          shuffle=True,\n",
    "          callbacks=cbs)"
   ]
  },
  {
   "cell_type": "code",
   "execution_count": 14,
   "metadata": {},
   "outputs": [
    {
     "data": {
      "image/png": "[encoded data removed]",
      "text/plain": [
       "<matplotlib.figure.Figure at 0x1c237adf98>"
      ]
     },
     "metadata": {},
     "output_type": "display_data"
    }
   ],
   "source": [
    "from tep.trainUtils import plot_loss\n",
    "history = cbs[2]\n",
    "plot_loss(history)"
   ]
  },
  {
   "cell_type": "code",
   "execution_count": 15,
   "metadata": {},
   "outputs": [
    {
     "name": "stdout",
     "output_type": "stream",
     "text": [
      "loss: 2.9752469455718993, r2: 0.34046340703964234, val_loss: 2.984891432762146, val_r2: 0.3593912477493286\n"
     ]
    }
   ],
   "source": [
    "from tep.trainUtils import print_regression_metrics\n",
    "print_regression_metrics(history)"
   ]
  }
 ],
 "metadata": {
  "kernelspec": {
   "display_name": "Python 3",
   "language": "python",
   "name": "python3"
  },
  "language_info": {
   "codemirror_mode": {
    "name": "ipython",
    "version": 3
   },
   "file_extension": ".py",
   "mimetype": "text/x-python",
   "name": "python",
   "nbconvert_exporter": "python",
   "pygments_lexer": "ipython3",
   "version": "3.6.3"
  }
 },
 "nbformat": 4,
 "nbformat_minor": 2
}
