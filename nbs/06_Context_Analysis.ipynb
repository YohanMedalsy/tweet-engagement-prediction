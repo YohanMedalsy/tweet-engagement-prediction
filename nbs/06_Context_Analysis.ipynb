{
 "cells": [
  {
   "cell_type": "markdown",
   "metadata": {},
   "source": [
    "# Step 6: Context Analysis\n",
    "\n",
    "In this notebook, we will take a look at the distributions of the following features:\n",
    "1. Number of followers\n",
    "2. Number of friends\n",
    "3. Verified status\n",
    "4. Number of user listings\n",
    "5. Account age\n",
    "6. Tweet frequency\n",
    "7. Favorite frequency\n",
    "\n",
    "## Setup"
   ]
  },
  {
   "cell_type": "code",
   "execution_count": 1,
   "metadata": {
    "collapsed": true
   },
   "outputs": [],
   "source": [
    "%load_ext autoreload\n",
    "%autoreload 2\n",
    "\n",
    "%matplotlib inline"
   ]
  },
  {
   "cell_type": "code",
   "execution_count": 2,
   "metadata": {},
   "outputs": [
    {
     "name": "stdout",
     "output_type": "stream",
     "text": [
      "{\"created_at\": \"Thu May 01 12:37:22 +0000 2014\", \"description\": \"Student of Information Systems @TUDarmstadt. Particularly interested in AI/ML, currently working on tweet engagement prediction using deep learning models.\", \"favourites_count\": 395, \"followers_count\": 58, \"friends_count\": 226, \"id\": 2472450259, \"id_str\": \"2472450259\", \"lang\": \"en\", \"listed_count\": 7, \"location\": \"Darmstadt, Deutschland\", \"name\": \"Felix Peters\", \"profile_background_color\": \"C0DEED\", \"profile_background_image_url\": \"http://abs.twimg.com/images/themes/theme1/bg.png\", \"profile_background_image_url_https\": \"https://abs.twimg.com/images/themes/theme1/bg.png\", \"profile_image_url\": \"http://pbs.twimg.com/profile_images/600953861629734913/7y_RkdW4_normal.jpg\", \"profile_image_url_https\": \"https://pbs.twimg.com/profile_images/600953861629734913/7y_RkdW4_normal.jpg\", \"profile_link_color\": \"224F82\", \"profile_sidebar_border_color\": \"C0DEED\", \"profile_sidebar_fill_color\": \"DDEEF6\", \"profile_text_color\": \"333333\", \"profile_use_background_image\": true, \"screen_name\": \"_fpeters\", \"status\": {\"created_at\": \"Sat May 26 15:47:34 +0000 2018\", \"id\": 1000403077093085192, \"id_str\": \"1000403077093085192\", \"lang\": \"en\", \"quoted_status_id\": 1000166112615714816, \"quoted_status_id_str\": \"1000166112615714816\", \"retweet_count\": 52, \"retweeted\": true, \"retweeted_status\": {\"created_at\": \"Sat May 26 11:38:56 +0000 2018\", \"favorite_count\": 82, \"id\": 1000340506189139968, \"id_str\": \"1000340506189139968\", \"lang\": \"en\", \"quoted_status_id\": 1000166112615714816, \"quoted_status_id_str\": \"1000166112615714816\", \"retweet_count\": 52, \"retweeted\": true, \"source\": \"<a href=\\\"http://twitter.com/download/iphone\\\" rel=\\\"nofollow\\\">Twitter for iPhone</a>\", \"text\": \"\\u201cThey went from a load time of more than 45 seconds to 3 seconds, from 124 JavaScript files to 0, and from a total\\u2026 https://t.co/PsmSKdMqXt\", \"truncated\": true}, \"source\": \"<a href=\\\"http://twitter.com/download/android\\\" rel=\\\"nofollow\\\">Twitter for Android</a>\", \"text\": \"RT @aallan: \\u201cThey went from a load time of more than 45 seconds to 3 seconds, from 124 JavaScript files to 0, and from a total of more than\\u2026\"}, \"statuses_count\": 424, \"url\": \"https://t.co/KAhh0Hxkzm\"}\n"
     ]
    }
   ],
   "source": [
    "from tep.accountCollector import AccountCollector\n",
    "ac = AccountCollector()"
   ]
  },
  {
   "cell_type": "code",
   "execution_count": 4,
   "metadata": {},
   "outputs": [
    {
     "data": {
      "text/plain": [
       "1061"
      ]
     },
     "execution_count": 4,
     "metadata": {},
     "output_type": "execute_result"
    }
   ],
   "source": [
    "# load user IDs from file\n",
    "user_ids = ac.load_user_ids(fname=\"data/user_ids.txt\")\n",
    "len(user_ids)"
   ]
  },
  {
   "cell_type": "code",
   "execution_count": 6,
   "metadata": {},
   "outputs": [
    {
     "name": "stdout",
     "output_type": "stream",
     "text": [
      "{\"created_at\": \"Thu May 01 12:37:22 +0000 2014\", \"description\": \"Student of Information Systems @TUDarmstadt. Particularly interested in AI/ML, currently working on tweet engagement prediction using deep learning models.\", \"favourites_count\": 395, \"followers_count\": 58, \"friends_count\": 226, \"id\": 2472450259, \"id_str\": \"2472450259\", \"lang\": \"en\", \"listed_count\": 7, \"location\": \"Darmstadt, Deutschland\", \"name\": \"Felix Peters\", \"profile_background_color\": \"C0DEED\", \"profile_background_image_url\": \"http://abs.twimg.com/images/themes/theme1/bg.png\", \"profile_background_image_url_https\": \"https://abs.twimg.com/images/themes/theme1/bg.png\", \"profile_image_url\": \"http://pbs.twimg.com/profile_images/600953861629734913/7y_RkdW4_normal.jpg\", \"profile_image_url_https\": \"https://pbs.twimg.com/profile_images/600953861629734913/7y_RkdW4_normal.jpg\", \"profile_link_color\": \"224F82\", \"profile_sidebar_border_color\": \"C0DEED\", \"profile_sidebar_fill_color\": \"DDEEF6\", \"profile_text_color\": \"333333\", \"profile_use_background_image\": true, \"screen_name\": \"_fpeters\", \"status\": {\"created_at\": \"Sat May 26 15:47:34 +0000 2018\", \"id\": 1000403077093085192, \"id_str\": \"1000403077093085192\", \"lang\": \"en\", \"quoted_status_id\": 1000166112615714816, \"quoted_status_id_str\": \"1000166112615714816\", \"retweet_count\": 52, \"retweeted\": true, \"retweeted_status\": {\"created_at\": \"Sat May 26 11:38:56 +0000 2018\", \"favorite_count\": 82, \"id\": 1000340506189139968, \"id_str\": \"1000340506189139968\", \"lang\": \"en\", \"quoted_status_id\": 1000166112615714816, \"quoted_status_id_str\": \"1000166112615714816\", \"retweet_count\": 52, \"retweeted\": true, \"source\": \"<a href=\\\"http://twitter.com/download/iphone\\\" rel=\\\"nofollow\\\">Twitter for iPhone</a>\", \"text\": \"\\u201cThey went from a load time of more than 45 seconds to 3 seconds, from 124 JavaScript files to 0, and from a total\\u2026 https://t.co/PsmSKdMqXt\", \"truncated\": true}, \"source\": \"<a href=\\\"http://twitter.com/download/android\\\" rel=\\\"nofollow\\\">Twitter for Android</a>\", \"text\": \"RT @aallan: \\u201cThey went from a load time of more than 45 seconds to 3 seconds, from 124 JavaScript files to 0, and from a total of more than\\u2026\"}, \"statuses_count\": 424, \"url\": \"https://t.co/KAhh0Hxkzm\"}\n"
     ]
    }
   ],
   "source": [
    "from tep.userAnalyzer import UserAnalyzer\n",
    "ua = UserAnalyzer()"
   ]
  },
  {
   "cell_type": "code",
   "execution_count": 7,
   "metadata": {},
   "outputs": [
    {
     "name": "stdout",
     "output_type": "stream",
     "text": [
      "Error occurred when collecting tweets for user 804879129766141952\n"
     ]
    },
    {
     "data": {
      "text/plain": [
       "1060"
      ]
     },
     "execution_count": 7,
     "metadata": {},
     "output_type": "execute_result"
    }
   ],
   "source": [
    "# get user objects\n",
    "users = ua.get_users(user_ids)\n",
    "len(users)"
   ]
  },
  {
   "cell_type": "code",
   "execution_count": 8,
   "metadata": {},
   "outputs": [
    {
     "data": {
      "text/plain": [
       "[User(ID=12, ScreenName=jack),\n",
       " User(ID=418, ScreenName=dens),\n",
       " User(ID=586, ScreenName=sacca)]"
      ]
     },
     "execution_count": 8,
     "metadata": {},
     "output_type": "execute_result"
    }
   ],
   "source": [
    "users[:3]"
   ]
  },
  {
   "cell_type": "code",
   "execution_count": 10,
   "metadata": {},
   "outputs": [
    {
     "data": {
      "text/plain": [
       "(1060, 7)"
      ]
     },
     "execution_count": 10,
     "metadata": {},
     "output_type": "execute_result"
    }
   ],
   "source": [
    "# extract features\n",
    "features = ua.extract_user_features(users)\n",
    "features.shape"
   ]
  },
  {
   "cell_type": "code",
   "execution_count": 11,
   "metadata": {
    "collapsed": true
   },
   "outputs": [],
   "source": [
    "from tep.utils import save_array\n",
    "save_array(features, \"data/user_features.bc\")"
   ]
  },
  {
   "cell_type": "code",
   "execution_count": 12,
   "metadata": {},
   "outputs": [
    {
     "data": {
      "text/html": [
       "<div>\n",
       "<style>\n",
       "    .dataframe thead tr:only-child th {\n",
       "        text-align: right;\n",
       "    }\n",
       "\n",
       "    .dataframe thead th {\n",
       "        text-align: left;\n",
       "    }\n",
       "\n",
       "    .dataframe tbody tr th {\n",
       "        vertical-align: top;\n",
       "    }\n",
       "</style>\n",
       "<table border=\"1\" class=\"dataframe\">\n",
       "  <thead>\n",
       "    <tr style=\"text-align: right;\">\n",
       "      <th></th>\n",
       "      <th>followers</th>\n",
       "      <th>friends</th>\n",
       "      <th>verified</th>\n",
       "      <th>listings</th>\n",
       "      <th>age</th>\n",
       "      <th>tweet_freq</th>\n",
       "      <th>fav_freq</th>\n",
       "    </tr>\n",
       "  </thead>\n",
       "  <tbody>\n",
       "    <tr>\n",
       "      <th>0</th>\n",
       "      <td>4202709.0</td>\n",
       "      <td>3506.0</td>\n",
       "      <td>1.0</td>\n",
       "      <td>27483.0</td>\n",
       "      <td>4459.0</td>\n",
       "      <td>5.306571</td>\n",
       "      <td>4.763624</td>\n",
       "    </tr>\n",
       "    <tr>\n",
       "      <th>1</th>\n",
       "      <td>87815.0</td>\n",
       "      <td>2478.0</td>\n",
       "      <td>1.0</td>\n",
       "      <td>4540.0</td>\n",
       "      <td>4353.0</td>\n",
       "      <td>15.268091</td>\n",
       "      <td>3.084080</td>\n",
       "    </tr>\n",
       "    <tr>\n",
       "      <th>2</th>\n",
       "      <td>1847988.0</td>\n",
       "      <td>1387.0</td>\n",
       "      <td>1.0</td>\n",
       "      <td>12958.0</td>\n",
       "      <td>4346.0</td>\n",
       "      <td>15.604004</td>\n",
       "      <td>63.376208</td>\n",
       "    </tr>\n",
       "    <tr>\n",
       "      <th>3</th>\n",
       "      <td>23957.0</td>\n",
       "      <td>693.0</td>\n",
       "      <td>1.0</td>\n",
       "      <td>1352.0</td>\n",
       "      <td>4345.0</td>\n",
       "      <td>2.520829</td>\n",
       "      <td>1.194937</td>\n",
       "    </tr>\n",
       "    <tr>\n",
       "      <th>4</th>\n",
       "      <td>1524731.0</td>\n",
       "      <td>1355.0</td>\n",
       "      <td>1.0</td>\n",
       "      <td>14297.0</td>\n",
       "      <td>4344.0</td>\n",
       "      <td>11.466160</td>\n",
       "      <td>9.486648</td>\n",
       "    </tr>\n",
       "  </tbody>\n",
       "</table>\n",
       "</div>"
      ],
      "text/plain": [
       "   followers  friends  verified  listings     age  tweet_freq   fav_freq\n",
       "0  4202709.0   3506.0       1.0   27483.0  4459.0    5.306571   4.763624\n",
       "1    87815.0   2478.0       1.0    4540.0  4353.0   15.268091   3.084080\n",
       "2  1847988.0   1387.0       1.0   12958.0  4346.0   15.604004  63.376208\n",
       "3    23957.0    693.0       1.0    1352.0  4345.0    2.520829   1.194937\n",
       "4  1524731.0   1355.0       1.0   14297.0  4344.0   11.466160   9.486648"
      ]
     },
     "execution_count": 12,
     "metadata": {},
     "output_type": "execute_result"
    }
   ],
   "source": [
    "# create data frame\n",
    "import pandas as pd\n",
    "df = pd.DataFrame(data=features, columns=ua.feature_map)\n",
    "df.head()"
   ]
  },
  {
   "cell_type": "markdown",
   "metadata": {},
   "source": [
    "## Number of followers"
   ]
  },
  {
   "cell_type": "code",
   "execution_count": 15,
   "metadata": {
    "collapsed": true
   },
   "outputs": [],
   "source": [
    "from tep.vizUtils import plot_bars\n",
    "from tep.utils import class_distribution, discretize\n",
    "pd.options.display.float_format = '{:,.2f}'.format"
   ]
  },
  {
   "cell_type": "code",
   "execution_count": 16,
   "metadata": {},
   "outputs": [
    {
     "data": {
      "text/plain": [
       "count         1,060.00\n",
       "mean      2,868,728.15\n",
       "std      10,911,435.54\n",
       "min               0.00\n",
       "25%          16,167.00\n",
       "50%          67,833.00\n",
       "75%         456,674.75\n",
       "max     109,517,347.00\n",
       "Name: followers, dtype: float64"
      ]
     },
     "execution_count": 16,
     "metadata": {},
     "output_type": "execute_result"
    }
   ],
   "source": [
    "df['followers'].describe()"
   ]
  },
  {
   "cell_type": "code",
   "execution_count": 17,
   "metadata": {},
   "outputs": [
    {
     "data": {
      "image/png": "[encoded data removed]",
      "text/plain": [
       "<matplotlib.figure.Figure at 0x3105e90f0>"
      ]
     },
     "metadata": {},
     "output_type": "display_data"
    }
   ],
   "source": [
    "classes = [9999, 99999, 999999, 9999999]\n",
    "labels = ['<10k', '10k-100k', '100k-1M', '1M-10M', '10M+']\n",
    "plot_bars(df['followers'], classes, labels, \"Number of followers\")"
   ]
  },
  {
   "cell_type": "code",
   "execution_count": 18,
   "metadata": {},
   "outputs": [
    {
     "data": {
      "text/plain": [
       "0.00   0.18\n",
       "1.00   0.38\n",
       "2.00   0.25\n",
       "3.00   0.13\n",
       "4.00   0.06\n",
       "Name: Number of followers, dtype: float64"
      ]
     },
     "execution_count": 18,
     "metadata": {},
     "output_type": "execute_result"
    }
   ],
   "source": [
    "classes = discretize(df['followers'], classes)\n",
    "class_distribution(classes, \"Number of followers\", normalize=True)"
   ]
  },
  {
   "cell_type": "markdown",
   "metadata": {},
   "source": [
    "## Number of friends"
   ]
  },
  {
   "cell_type": "code",
   "execution_count": 19,
   "metadata": {},
   "outputs": [
    {
     "data": {
      "text/plain": [
       "count     1,060.00\n",
       "mean      5,523.88\n",
       "std      32,014.18\n",
       "min           0.00\n",
       "25%         286.50\n",
       "50%         886.00\n",
       "75%       2,438.75\n",
       "max     621,788.00\n",
       "Name: friends, dtype: float64"
      ]
     },
     "execution_count": 19,
     "metadata": {},
     "output_type": "execute_result"
    }
   ],
   "source": [
    "df['friends'].describe()"
   ]
  },
  {
   "cell_type": "code",
   "execution_count": 20,
   "metadata": {},
   "outputs": [
    {
     "data": {
      "image/png": "[encoded data removed]",
      "text/plain": [
       "<matplotlib.figure.Figure at 0x3105d30b8>"
      ]
     },
     "metadata": {},
     "output_type": "display_data"
    }
   ],
   "source": [
    "classes = [99, 999, 9999, 99999]\n",
    "labels = ['<100', '100-1k', '1k-10k', '10k-100k', '100k+']\n",
    "plot_bars(df['friends'], classes, labels, \"Number of friends\")"
   ]
  },
  {
   "cell_type": "code",
   "execution_count": 22,
   "metadata": {},
   "outputs": [
    {
     "data": {
      "text/plain": [
       "0.00   0.12\n",
       "1.00   0.41\n",
       "2.00   0.40\n",
       "3.00   0.05\n",
       "4.00   0.01\n",
       "Name: Number of friends, dtype: float64"
      ]
     },
     "execution_count": 22,
     "metadata": {},
     "output_type": "execute_result"
    }
   ],
   "source": [
    "classes = discretize(df['friends'], classes)\n",
    "class_distribution(classes, \"Number of friends\", normalize=True)"
   ]
  },
  {
   "cell_type": "markdown",
   "metadata": {},
   "source": [
    "## Verified status"
   ]
  },
  {
   "cell_type": "code",
   "execution_count": 23,
   "metadata": {},
   "outputs": [
    {
     "data": {
      "text/plain": [
       "count     1060\n",
       "unique       2\n",
       "top       True\n",
       "freq       866\n",
       "Name: verified, dtype: object"
      ]
     },
     "execution_count": 23,
     "metadata": {},
     "output_type": "execute_result"
    }
   ],
   "source": [
    "df['verified'].astype('bool').describe()"
   ]
  },
  {
   "cell_type": "code",
   "execution_count": 25,
   "metadata": {},
   "outputs": [
    {
     "data": {
      "image/png": "[encoded data removed]",
      "text/plain": [
       "<matplotlib.figure.Figure at 0x318a65828>"
      ]
     },
     "metadata": {},
     "output_type": "display_data"
    }
   ],
   "source": [
    "classes = [0]\n",
    "labels = ['regular', 'verified']\n",
    "plot_bars(df['verified'], classes, labels, \"Distribution of verified and regular accounts\")"
   ]
  },
  {
   "cell_type": "code",
   "execution_count": 26,
   "metadata": {},
   "outputs": [
    {
     "data": {
      "text/plain": [
       "0.00   0.18\n",
       "1.00   0.82\n",
       "Name: Regular vs. verified accounts, dtype: float64"
      ]
     },
     "execution_count": 26,
     "metadata": {},
     "output_type": "execute_result"
    }
   ],
   "source": [
    "classes = discretize(df['verified'], classes)\n",
    "class_distribution(classes, \"Regular vs. verified accounts\", normalize=True)"
   ]
  },
  {
   "cell_type": "markdown",
   "metadata": {},
   "source": [
    "## User listings"
   ]
  },
  {
   "cell_type": "code",
   "execution_count": 27,
   "metadata": {},
   "outputs": [
    {
     "data": {
      "text/plain": [
       "count     1,060.00\n",
       "mean      6,918.77\n",
       "std      26,305.46\n",
       "min           0.00\n",
       "25%         401.75\n",
       "50%       1,343.00\n",
       "75%       3,947.00\n",
       "max     609,411.00\n",
       "Name: listings, dtype: float64"
      ]
     },
     "execution_count": 27,
     "metadata": {},
     "output_type": "execute_result"
    }
   ],
   "source": [
    "df['listings'].describe()"
   ]
  },
  {
   "cell_type": "code",
   "execution_count": 28,
   "metadata": {},
   "outputs": [
    {
     "data": {
      "image/png": "[encoded data removed]",
      "text/plain": [
       "<matplotlib.figure.Figure at 0x318a65320>"
      ]
     },
     "metadata": {},
     "output_type": "display_data"
    }
   ],
   "source": [
    "classes = [99, 999, 9999]\n",
    "labels = ['<100', '100-1k', '1k-10k', '10k+']\n",
    "plot_bars(df['listings'], classes, labels, \"Number of user listings\")"
   ]
  },
  {
   "cell_type": "code",
   "execution_count": 29,
   "metadata": {},
   "outputs": [
    {
     "data": {
      "text/plain": [
       "0.00   0.08\n",
       "1.00   0.36\n",
       "2.00   0.43\n",
       "3.00   0.13\n",
       "Name: Number of user listings, dtype: float64"
      ]
     },
     "execution_count": 29,
     "metadata": {},
     "output_type": "execute_result"
    }
   ],
   "source": [
    "classes = discretize(df['listings'], classes)\n",
    "class_distribution(classes, \"Number of user listings\", normalize=True)"
   ]
  },
  {
   "cell_type": "markdown",
   "metadata": {},
   "source": [
    "## Account age"
   ]
  },
  {
   "cell_type": "code",
   "execution_count": 30,
   "metadata": {},
   "outputs": [
    {
     "data": {
      "text/plain": [
       "count   1,060.00\n",
       "mean    3,020.96\n",
       "std       675.36\n",
       "min       292.00\n",
       "25%     2,680.00\n",
       "50%     3,207.00\n",
       "75%     3,410.50\n",
       "max     4,459.00\n",
       "Name: age, dtype: float64"
      ]
     },
     "execution_count": 30,
     "metadata": {},
     "output_type": "execute_result"
    }
   ],
   "source": [
    "df['age'].describe()"
   ]
  },
  {
   "cell_type": "code",
   "execution_count": 32,
   "metadata": {},
   "outputs": [
    {
     "data": {
      "image/png": "[encoded data removed]",
      "text/plain": [
       "<matplotlib.figure.Figure at 0x318a3ee48>"
      ]
     },
     "metadata": {},
     "output_type": "display_data"
    }
   ],
   "source": [
    "classes = [730, 1460, 2190, 2920, 3650]\n",
    "labels = ['<2', '2-4', '4-6', '6-8', '8-10', '10+']\n",
    "plot_bars(df['age'], classes, labels, \"Account age in years\")"
   ]
  },
  {
   "cell_type": "code",
   "execution_count": 33,
   "metadata": {},
   "outputs": [
    {
     "data": {
      "text/plain": [
       "0.00   0.01\n",
       "1.00   0.03\n",
       "2.00   0.07\n",
       "3.00   0.25\n",
       "4.00   0.53\n",
       "5.00   0.11\n",
       "Name: Account age distribution, dtype: float64"
      ]
     },
     "execution_count": 33,
     "metadata": {},
     "output_type": "execute_result"
    }
   ],
   "source": [
    "classes = discretize(df['age'], classes)\n",
    "class_distribution(classes, \"Account age distribution\", normalize=True)"
   ]
  },
  {
   "cell_type": "markdown",
   "metadata": {},
   "source": [
    "## Tweet frequency"
   ]
  },
  {
   "cell_type": "code",
   "execution_count": 34,
   "metadata": {},
   "outputs": [
    {
     "data": {
      "text/plain": [
       "count   1,060.00\n",
       "mean        7.62\n",
       "std        32.44\n",
       "min         0.00\n",
       "25%         1.07\n",
       "50%         2.49\n",
       "75%         5.85\n",
       "max       756.00\n",
       "Name: tweet_freq, dtype: float64"
      ]
     },
     "execution_count": 34,
     "metadata": {},
     "output_type": "execute_result"
    }
   ],
   "source": [
    "df['tweet_freq'].describe()"
   ]
  },
  {
   "cell_type": "code",
   "execution_count": 35,
   "metadata": {},
   "outputs": [
    {
     "data": {
      "image/png": "[encoded data removed]",
      "text/plain": [
       "<matplotlib.figure.Figure at 0x3105c60f0>"
      ]
     },
     "metadata": {},
     "output_type": "display_data"
    }
   ],
   "source": [
    "classes = [0.99, 1.99, 4.99, 9.99]\n",
    "labels = ['<1', '1-2', '2-5', '5-10', '10+']\n",
    "plot_bars(df['tweet_freq'], classes, labels, \"Tweets per day\")"
   ]
  },
  {
   "cell_type": "code",
   "execution_count": 36,
   "metadata": {},
   "outputs": [
    {
     "data": {
      "text/plain": [
       "0.00   0.23\n",
       "1.00   0.19\n",
       "2.00   0.28\n",
       "3.00   0.15\n",
       "4.00   0.14\n",
       "Name: Tweets per day, dtype: float64"
      ]
     },
     "execution_count": 36,
     "metadata": {},
     "output_type": "execute_result"
    }
   ],
   "source": [
    "classes = discretize(df['tweet_freq'], classes)\n",
    "class_distribution(classes, \"Tweets per day\", normalize=True)"
   ]
  },
  {
   "cell_type": "markdown",
   "metadata": {},
   "source": [
    "## Favorite frequency"
   ]
  },
  {
   "cell_type": "code",
   "execution_count": 37,
   "metadata": {},
   "outputs": [
    {
     "data": {
      "text/plain": [
       "count   1,060.00\n",
       "mean        1.76\n",
       "std         5.97\n",
       "min         0.00\n",
       "25%         0.05\n",
       "50%         0.34\n",
       "75%         1.32\n",
       "max       107.19\n",
       "Name: fav_freq, dtype: float64"
      ]
     },
     "execution_count": 37,
     "metadata": {},
     "output_type": "execute_result"
    }
   ],
   "source": [
    "df['fav_freq'].describe()"
   ]
  },
  {
   "cell_type": "code",
   "execution_count": 38,
   "metadata": {},
   "outputs": [
    {
     "data": {
      "image/png": "[encoded data removed]",
      "text/plain": [
       "<matplotlib.figure.Figure at 0x3105fbba8>"
      ]
     },
     "metadata": {},
     "output_type": "display_data"
    }
   ],
   "source": [
    "classes = [0.99, 1.99, 4.99, 9.99]\n",
    "labels = ['<1', '1-2', '2-5', '5-10', '10+']\n",
    "plot_bars(df['fav_freq'], classes, labels, \"Favorites per day\")"
   ]
  },
  {
   "cell_type": "code",
   "execution_count": 39,
   "metadata": {},
   "outputs": [
    {
     "data": {
      "text/plain": [
       "0.00   0.70\n",
       "1.00   0.12\n",
       "2.00   0.10\n",
       "3.00   0.05\n",
       "4.00   0.03\n",
       "Name: Favorites per day, dtype: float64"
      ]
     },
     "execution_count": 39,
     "metadata": {},
     "output_type": "execute_result"
    }
   ],
   "source": [
    "classes = discretize(df['fav_freq'], classes)\n",
    "class_distribution(classes, \"Favorites per day\", normalize=True)"
   ]
  }
 ],
 "metadata": {
  "kernelspec": {
   "display_name": "Python 3",
   "language": "python",
   "name": "python3"
  },
  "language_info": {
   "codemirror_mode": {
    "name": "ipython",
    "version": 3
   },
   "file_extension": ".py",
   "mimetype": "text/x-python",
   "name": "python",
   "nbconvert_exporter": "python",
   "pygments_lexer": "ipython3",
   "version": "3.6.3"
  }
 },
 "nbformat": 4,
 "nbformat_minor": 2
}
